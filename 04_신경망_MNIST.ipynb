{
 "cells": [
  {
   "cell_type": "markdown",
   "metadata": {},
   "source": [
    "## 빅데이터 활용 AI 설계\n",
    "# MNIST 신경망 적용"
   ]
  },
  {
   "cell_type": "code",
   "execution_count": 1,
   "metadata": {},
   "outputs": [],
   "source": [
    "import numpy as np\n",
    "import matplotlib.pyplot as plt"
   ]
  },
  {
   "cell_type": "markdown",
   "metadata": {},
   "source": [
    "### MNIST 불러오기"
   ]
  },
  {
   "cell_type": "code",
   "execution_count": 2,
   "metadata": {},
   "outputs": [
    {
     "name": "stderr",
     "output_type": "stream",
     "text": [
      "C:\\Anaconda3\\envs\\py36\\lib\\site-packages\\h5py\\__init__.py:36: FutureWarning: Conversion of the second argument of issubdtype from `float` to `np.floating` is deprecated. In future, it will be treated as `np.float64 == np.dtype(float).type`.\n",
      "  from ._conv import register_converters as _register_converters\n",
      "Using TensorFlow backend.\n"
     ]
    }
   ],
   "source": [
    "from keras.datasets import mnist"
   ]
  },
  {
   "cell_type": "code",
   "execution_count": 3,
   "metadata": {},
   "outputs": [],
   "source": [
    "(X_train, y_train), (X_test, y_test) = mnist.load_data()"
   ]
  },
  {
   "cell_type": "code",
   "execution_count": 4,
   "metadata": {},
   "outputs": [
    {
     "data": {
      "text/plain": [
       "((60000, 28, 28), (60000,), (10000, 28, 28), (10000,))"
      ]
     },
     "execution_count": 4,
     "metadata": {},
     "output_type": "execute_result"
    }
   ],
   "source": [
    "X_train.shape, y_train.shape, X_test.shape, y_test.shape"
   ]
  },
  {
   "cell_type": "markdown",
   "metadata": {},
   "source": [
    "### 데이터 전처리\n",
    "- 값을 0~1 사이로 변환\n",
    "- 28X28 이미지를 옆으로 펼친다.\n",
    "- y 값은 원핫인코딩으로 바꾼다. (5 => [0,0,0,0,0,1,0,0,0,0])"
   ]
  },
  {
   "cell_type": "code",
   "execution_count": 5,
   "metadata": {},
   "outputs": [],
   "source": [
    "from keras.utils import to_categorical\n",
    "\n",
    "X_train = X_train.reshape(-1, 28*28)/255.\n",
    "X_test = X_test.reshape(-1, 28*28)/255.\n",
    "y_train = to_categorical(y_train)\n",
    "y_test = to_categorical(y_test)"
   ]
  },
  {
   "cell_type": "code",
   "execution_count": 6,
   "metadata": {},
   "outputs": [
    {
     "data": {
      "text/plain": [
       "((60000, 784), (60000, 10), (10000, 784), (10000, 10))"
      ]
     },
     "execution_count": 6,
     "metadata": {},
     "output_type": "execute_result"
    }
   ],
   "source": [
    "X_train.shape, y_train.shape, X_test.shape, y_test.shape"
   ]
  },
  {
   "cell_type": "code",
   "execution_count": 7,
   "metadata": {},
   "outputs": [
    {
     "data": {
      "text/plain": [
       "array([0.        , 0.        , 0.        , 0.        , 0.        ,\n",
       "       0.        , 0.        , 0.        , 0.        , 0.        ,\n",
       "       0.        , 0.        , 0.        , 0.        , 0.        ,\n",
       "       0.        , 0.        , 0.        , 0.        , 0.        ,\n",
       "       0.        , 0.        , 0.        , 0.        , 0.        ,\n",
       "       0.        , 0.        , 0.        , 0.        , 0.        ,\n",
       "       0.        , 0.        , 0.        , 0.        , 0.        ,\n",
       "       0.        , 0.        , 0.        , 0.        , 0.        ,\n",
       "       0.        , 0.        , 0.        , 0.        , 0.        ,\n",
       "       0.        , 0.        , 0.        , 0.        , 0.        ,\n",
       "       0.        , 0.        , 0.        , 0.        , 0.        ,\n",
       "       0.        , 0.        , 0.        , 0.        , 0.        ,\n",
       "       0.        , 0.        , 0.        , 0.        , 0.        ,\n",
       "       0.        , 0.        , 0.        , 0.        , 0.        ,\n",
       "       0.        , 0.        , 0.        , 0.        , 0.        ,\n",
       "       0.        , 0.        , 0.        , 0.        , 0.        ,\n",
       "       0.        , 0.        , 0.        , 0.        , 0.        ,\n",
       "       0.        , 0.        , 0.        , 0.        , 0.        ,\n",
       "       0.        , 0.        , 0.        , 0.        , 0.        ,\n",
       "       0.        , 0.        , 0.        , 0.        , 0.        ,\n",
       "       0.        , 0.        , 0.        , 0.        , 0.        ,\n",
       "       0.        , 0.        , 0.        , 0.        , 0.        ,\n",
       "       0.        , 0.        , 0.        , 0.        , 0.        ,\n",
       "       0.        , 0.        , 0.        , 0.        , 0.        ,\n",
       "       0.        , 0.        , 0.        , 0.        , 0.        ,\n",
       "       0.        , 0.        , 0.        , 0.        , 0.        ,\n",
       "       0.        , 0.        , 0.        , 0.        , 0.        ,\n",
       "       0.        , 0.        , 0.        , 0.        , 0.        ,\n",
       "       0.        , 0.        , 0.        , 0.        , 0.        ,\n",
       "       0.        , 0.        , 0.        , 0.        , 0.        ,\n",
       "       0.        , 0.        , 0.01176471, 0.07058824, 0.07058824,\n",
       "       0.07058824, 0.49411765, 0.53333333, 0.68627451, 0.10196078,\n",
       "       0.65098039, 1.        , 0.96862745, 0.49803922, 0.        ,\n",
       "       0.        , 0.        , 0.        , 0.        , 0.        ,\n",
       "       0.        , 0.        , 0.        , 0.        , 0.        ,\n",
       "       0.        , 0.11764706, 0.14117647, 0.36862745, 0.60392157,\n",
       "       0.66666667, 0.99215686, 0.99215686, 0.99215686, 0.99215686,\n",
       "       0.99215686, 0.88235294, 0.6745098 , 0.99215686, 0.94901961,\n",
       "       0.76470588, 0.25098039, 0.        , 0.        , 0.        ,\n",
       "       0.        , 0.        , 0.        , 0.        , 0.        ,\n",
       "       0.        , 0.        , 0.        , 0.19215686, 0.93333333,\n",
       "       0.99215686, 0.99215686, 0.99215686, 0.99215686, 0.99215686,\n",
       "       0.99215686, 0.99215686, 0.99215686, 0.98431373, 0.36470588,\n",
       "       0.32156863, 0.32156863, 0.21960784, 0.15294118, 0.        ,\n",
       "       0.        , 0.        , 0.        , 0.        , 0.        ,\n",
       "       0.        , 0.        , 0.        , 0.        , 0.        ,\n",
       "       0.        , 0.07058824, 0.85882353, 0.99215686, 0.99215686,\n",
       "       0.99215686, 0.99215686, 0.99215686, 0.77647059, 0.71372549,\n",
       "       0.96862745, 0.94509804, 0.        , 0.        , 0.        ,\n",
       "       0.        , 0.        , 0.        , 0.        , 0.        ,\n",
       "       0.        , 0.        , 0.        , 0.        , 0.        ,\n",
       "       0.        , 0.        , 0.        , 0.        , 0.        ,\n",
       "       0.31372549, 0.61176471, 0.41960784, 0.99215686, 0.99215686,\n",
       "       0.80392157, 0.04313725, 0.        , 0.16862745, 0.60392157,\n",
       "       0.        , 0.        , 0.        , 0.        , 0.        ,\n",
       "       0.        , 0.        , 0.        , 0.        , 0.        ,\n",
       "       0.        , 0.        , 0.        , 0.        , 0.        ,\n",
       "       0.        , 0.        , 0.        , 0.        , 0.05490196,\n",
       "       0.00392157, 0.60392157, 0.99215686, 0.35294118, 0.        ,\n",
       "       0.        , 0.        , 0.        , 0.        , 0.        ,\n",
       "       0.        , 0.        , 0.        , 0.        , 0.        ,\n",
       "       0.        , 0.        , 0.        , 0.        , 0.        ,\n",
       "       0.        , 0.        , 0.        , 0.        , 0.        ,\n",
       "       0.        , 0.        , 0.        , 0.        , 0.54509804,\n",
       "       0.99215686, 0.74509804, 0.00784314, 0.        , 0.        ,\n",
       "       0.        , 0.        , 0.        , 0.        , 0.        ,\n",
       "       0.        , 0.        , 0.        , 0.        , 0.        ,\n",
       "       0.        , 0.        , 0.        , 0.        , 0.        ,\n",
       "       0.        , 0.        , 0.        , 0.        , 0.        ,\n",
       "       0.        , 0.        , 0.04313725, 0.74509804, 0.99215686,\n",
       "       0.2745098 , 0.        , 0.        , 0.        , 0.        ,\n",
       "       0.        , 0.        , 0.        , 0.        , 0.        ,\n",
       "       0.        , 0.        , 0.        , 0.        , 0.        ,\n",
       "       0.        , 0.        , 0.        , 0.        , 0.        ,\n",
       "       0.        , 0.        , 0.        , 0.        , 0.        ,\n",
       "       0.        , 0.1372549 , 0.94509804, 0.88235294, 0.62745098,\n",
       "       0.42352941, 0.00392157, 0.        , 0.        , 0.        ,\n",
       "       0.        , 0.        , 0.        , 0.        , 0.        ,\n",
       "       0.        , 0.        , 0.        , 0.        , 0.        ,\n",
       "       0.        , 0.        , 0.        , 0.        , 0.        ,\n",
       "       0.        , 0.        , 0.        , 0.        , 0.        ,\n",
       "       0.31764706, 0.94117647, 0.99215686, 0.99215686, 0.46666667,\n",
       "       0.09803922, 0.        , 0.        , 0.        , 0.        ,\n",
       "       0.        , 0.        , 0.        , 0.        , 0.        ,\n",
       "       0.        , 0.        , 0.        , 0.        , 0.        ,\n",
       "       0.        , 0.        , 0.        , 0.        , 0.        ,\n",
       "       0.        , 0.        , 0.        , 0.        , 0.17647059,\n",
       "       0.72941176, 0.99215686, 0.99215686, 0.58823529, 0.10588235,\n",
       "       0.        , 0.        , 0.        , 0.        , 0.        ,\n",
       "       0.        , 0.        , 0.        , 0.        , 0.        ,\n",
       "       0.        , 0.        , 0.        , 0.        , 0.        ,\n",
       "       0.        , 0.        , 0.        , 0.        , 0.        ,\n",
       "       0.        , 0.        , 0.        , 0.0627451 , 0.36470588,\n",
       "       0.98823529, 0.99215686, 0.73333333, 0.        , 0.        ,\n",
       "       0.        , 0.        , 0.        , 0.        , 0.        ,\n",
       "       0.        , 0.        , 0.        , 0.        , 0.        ,\n",
       "       0.        , 0.        , 0.        , 0.        , 0.        ,\n",
       "       0.        , 0.        , 0.        , 0.        , 0.        ,\n",
       "       0.        , 0.        , 0.        , 0.97647059, 0.99215686,\n",
       "       0.97647059, 0.25098039, 0.        , 0.        , 0.        ,\n",
       "       0.        , 0.        , 0.        , 0.        , 0.        ,\n",
       "       0.        , 0.        , 0.        , 0.        , 0.        ,\n",
       "       0.        , 0.        , 0.        , 0.        , 0.        ,\n",
       "       0.        , 0.        , 0.        , 0.18039216, 0.50980392,\n",
       "       0.71764706, 0.99215686, 0.99215686, 0.81176471, 0.00784314,\n",
       "       0.        , 0.        , 0.        , 0.        , 0.        ,\n",
       "       0.        , 0.        , 0.        , 0.        , 0.        ,\n",
       "       0.        , 0.        , 0.        , 0.        , 0.        ,\n",
       "       0.        , 0.        , 0.        , 0.        , 0.15294118,\n",
       "       0.58039216, 0.89803922, 0.99215686, 0.99215686, 0.99215686,\n",
       "       0.98039216, 0.71372549, 0.        , 0.        , 0.        ,\n",
       "       0.        , 0.        , 0.        , 0.        , 0.        ,\n",
       "       0.        , 0.        , 0.        , 0.        , 0.        ,\n",
       "       0.        , 0.        , 0.        , 0.        , 0.        ,\n",
       "       0.09411765, 0.44705882, 0.86666667, 0.99215686, 0.99215686,\n",
       "       0.99215686, 0.99215686, 0.78823529, 0.30588235, 0.        ,\n",
       "       0.        , 0.        , 0.        , 0.        , 0.        ,\n",
       "       0.        , 0.        , 0.        , 0.        , 0.        ,\n",
       "       0.        , 0.        , 0.        , 0.        , 0.        ,\n",
       "       0.        , 0.09019608, 0.25882353, 0.83529412, 0.99215686,\n",
       "       0.99215686, 0.99215686, 0.99215686, 0.77647059, 0.31764706,\n",
       "       0.00784314, 0.        , 0.        , 0.        , 0.        ,\n",
       "       0.        , 0.        , 0.        , 0.        , 0.        ,\n",
       "       0.        , 0.        , 0.        , 0.        , 0.        ,\n",
       "       0.        , 0.        , 0.07058824, 0.67058824, 0.85882353,\n",
       "       0.99215686, 0.99215686, 0.99215686, 0.99215686, 0.76470588,\n",
       "       0.31372549, 0.03529412, 0.        , 0.        , 0.        ,\n",
       "       0.        , 0.        , 0.        , 0.        , 0.        ,\n",
       "       0.        , 0.        , 0.        , 0.        , 0.        ,\n",
       "       0.        , 0.        , 0.        , 0.21568627, 0.6745098 ,\n",
       "       0.88627451, 0.99215686, 0.99215686, 0.99215686, 0.99215686,\n",
       "       0.95686275, 0.52156863, 0.04313725, 0.        , 0.        ,\n",
       "       0.        , 0.        , 0.        , 0.        , 0.        ,\n",
       "       0.        , 0.        , 0.        , 0.        , 0.        ,\n",
       "       0.        , 0.        , 0.        , 0.        , 0.        ,\n",
       "       0.        , 0.53333333, 0.99215686, 0.99215686, 0.99215686,\n",
       "       0.83137255, 0.52941176, 0.51764706, 0.0627451 , 0.        ,\n",
       "       0.        , 0.        , 0.        , 0.        , 0.        ,\n",
       "       0.        , 0.        , 0.        , 0.        , 0.        ,\n",
       "       0.        , 0.        , 0.        , 0.        , 0.        ,\n",
       "       0.        , 0.        , 0.        , 0.        , 0.        ,\n",
       "       0.        , 0.        , 0.        , 0.        , 0.        ,\n",
       "       0.        , 0.        , 0.        , 0.        , 0.        ,\n",
       "       0.        , 0.        , 0.        , 0.        , 0.        ,\n",
       "       0.        , 0.        , 0.        , 0.        , 0.        ,\n",
       "       0.        , 0.        , 0.        , 0.        , 0.        ,\n",
       "       0.        , 0.        , 0.        , 0.        , 0.        ,\n",
       "       0.        , 0.        , 0.        , 0.        , 0.        ,\n",
       "       0.        , 0.        , 0.        , 0.        , 0.        ,\n",
       "       0.        , 0.        , 0.        , 0.        , 0.        ,\n",
       "       0.        , 0.        , 0.        , 0.        , 0.        ,\n",
       "       0.        , 0.        , 0.        , 0.        , 0.        ,\n",
       "       0.        , 0.        , 0.        , 0.        , 0.        ,\n",
       "       0.        , 0.        , 0.        , 0.        , 0.        ,\n",
       "       0.        , 0.        , 0.        , 0.        , 0.        ,\n",
       "       0.        , 0.        , 0.        , 0.        , 0.        ,\n",
       "       0.        , 0.        , 0.        , 0.        ])"
      ]
     },
     "execution_count": 7,
     "metadata": {},
     "output_type": "execute_result"
    }
   ],
   "source": [
    "X_train[0]"
   ]
  },
  {
   "cell_type": "code",
   "execution_count": 8,
   "metadata": {},
   "outputs": [
    {
     "data": {
      "text/plain": [
       "array([[0., 0., 0., 0., 0., 1., 0., 0., 0., 0.],\n",
       "       [1., 0., 0., 0., 0., 0., 0., 0., 0., 0.],\n",
       "       [0., 0., 0., 0., 1., 0., 0., 0., 0., 0.]], dtype=float32)"
      ]
     },
     "execution_count": 8,
     "metadata": {},
     "output_type": "execute_result"
    }
   ],
   "source": [
    "y_train[:3]"
   ]
  },
  {
   "cell_type": "markdown",
   "metadata": {},
   "source": [
    "### 가장 간단한 신경망\n",
    "- 입력과 출력만 있다"
   ]
  },
  {
   "cell_type": "markdown",
   "metadata": {},
   "source": [
    "<img src='https://mmlind.github.io/images/1lnn_input.svg' />\n",
    "(출처: https://mmlind.github.io/Simple_1-Layer_Neural_Network_for_MNIST_Handwriting_Recognition/)\n",
    "- 그림에서 픽셀 갯수가 잘못 표기됨 (784가 맞음)"
   ]
  },
  {
   "cell_type": "markdown",
   "metadata": {},
   "source": [
    "<img src='https://mmlind.github.io/images/1lnn_nnlayer.svg' />\n",
    "(출처: https://mmlind.github.io/Simple_1-Layer_Neural_Network_for_MNIST_Handwriting_Recognition/)"
   ]
  },
  {
   "cell_type": "markdown",
   "metadata": {},
   "source": [
    "- 픽셀 수가 784 이므로 속성 갯수가 784인 경우이다.\n",
    "- w1, w2, w3, ..., w784, b\n",
    "- w1\\*x1 + w2\\*x2 + ... + w784\\*x784 + b"
   ]
  },
  {
   "cell_type": "markdown",
   "metadata": {},
   "source": [
    "### 타겟 클래스가 10개\n",
    "- MNIST 에서 타겟 클래스가 0~9 로 총 10개 이다."
   ]
  },
  {
   "cell_type": "markdown",
   "metadata": {},
   "source": [
    "<img src='https://mmlind.github.io/images/1lnn.svg' />\n",
    "(출처: https://mmlind.github.io/Simple_1-Layer_Neural_Network_for_MNIST_Handwriting_Recognition/)"
   ]
  },
  {
   "cell_type": "markdown",
   "metadata": {},
   "source": [
    "- 타겟 클래스가 10개이므로, 가중치와 절편이 그 만큼 늘어난다.\n",
    "- 클래스값 0 => w1_1, w1_2, ..., w1_784, b1\n",
    "- 클래스값 1 -> w2_1, w2_2, ..., w2_784, b2\n",
    "- 총 가중치 = 784\\*10, 총 절편 = 10"
   ]
  },
  {
   "cell_type": "markdown",
   "metadata": {},
   "source": [
    "### 신경망 적용 절차 (<font color='red'>중요</font>)\n",
    "\n",
    "1. 데이터를 준비한다. (입력데이터와 목표데이터)\n",
    "2. 머신을 준비한다. (w 와 b 등의 상태값 구축 및 초기화, 손실값을 조절하는 알고리즘 정의)\n",
    "3. 손실값을 정의한다.\n",
    "4. 머신에 입력데이터를 넣고 손실값을 계산한다. (예측값과 목표데이터의 차이를 계산)\n",
    "5. 손실값을 줄이도록 머신의 상태값을 변경한다. (w 와 b 값을 조정한다.)\n",
    "6. 4로 돌아간다."
   ]
  },
  {
   "cell_type": "markdown",
   "metadata": {},
   "source": [
    "### 손실값 정의"
   ]
  },
  {
   "cell_type": "markdown",
   "metadata": {},
   "source": [
    "<img src='https://mmlind.github.io/images/1lnn_full.svg' />\n",
    "(출처: https://mmlind.github.io/Simple_1-Layer_Neural_Network_for_MNIST_Handwriting_Recognition/)"
   ]
  },
  {
   "cell_type": "markdown",
   "metadata": {},
   "source": [
    "- 위와 같은 결과를 얻었을 때, 손실값을 어떻게 계산할까?\n",
    "- mse = (0.003126 - 0)^2 + ... + (0.682134 - 1)^2 + ...\n",
    "- 위와 같이 mse 를 적용할 수 있다.\n",
    "- 하지만, 이런 멀티 클래스의 경우에는 다른 손실값을 적용하는 것이 일반적이다.\n",
    "- 위 그림은 숫자 6을 판별한 것이다. 그러므로 결과값은 6 위치만 값이 1이다.\n",
    "> cross\\_entropy\\_i = -log(0.682134), 입력 이미지 1개에 대한 손실값\n",
    "- 모든 숫자 이미지에 대한 크로스엔트로피를 평균한 것이 최종 손실값이다.\n",
    "> $ cross\\_entropy = 1/N \\cdot \\sum_i {-log(해당숫자의 예측값)} $"
   ]
  },
  {
   "cell_type": "markdown",
   "metadata": {},
   "source": [
    "### Softmax 함수"
   ]
  },
  {
   "cell_type": "markdown",
   "metadata": {},
   "source": [
    "<img src='https://encrypted-tbn0.gstatic.com/images?q=tbn:ANd9GcQ6QRL4yW5p4j634dzSyjZWMWWCGXaU_MZVnqDq_HErnH5RCCIizQ' />\n",
    "(출처 : https://www.google.com/search?tbm=isch&sa=1&ei=VFNCXfrICcybmAWZw6_ACQ&q=mnist+softmax&oq=mnist+softmax&gs_l=img.3..0i24l3.528.3330..3872...0.0..1.585.3193.0j1j5j2j1j1......0....1..gws-wiz-img.uKr_Bjki0oA&ved=0ahUKEwj6wvvf1ODjAhXMDaYKHZnhC5gQ4dUDCAY&uact=5#imgrc=Bwc55tfbS2SjXM:)"
   ]
  },
  {
   "cell_type": "markdown",
   "metadata": {},
   "source": [
    "- 실제로는 위와 같이 마지막 출력값을 내기 전에 softmax 라는 함수를 적용하여 출력값을 바꾸어 준다."
   ]
  },
  {
   "cell_type": "markdown",
   "metadata": {},
   "source": [
    "<img src='https://i.ytimg.com/vi/lvNdl7yg4Pg/maxresdefault.jpg' />\n",
    "(출처: https://www.youtube.com/watch?v=lvNdl7yg4Pg)"
   ]
  },
  {
   "cell_type": "markdown",
   "metadata": {},
   "source": [
    "- 출력값이 [2,1,0.1] 일때, 각각에 exponential 지수를 적용한 값의 비율을 구한 것이 softmax 이다.\n",
    "- softmax 를 적용하면 최종 출력값을 모두 더하면 1이 된다. (즉 확률 개념이 된다.)"
   ]
  },
  {
   "cell_type": "markdown",
   "metadata": {},
   "source": [
    "### Keras 로 구현"
   ]
  },
  {
   "cell_type": "markdown",
   "metadata": {},
   "source": [
    "<img src='mnist_nn.jpg' />\n",
    "(출처: http://users.jyu.fi/~olkhriye/ties4911/lectures/Lecture03.pdf )<br>\n",
    "<img src='https://image.slidesharecdn.com/tensorflowppt-160408142819/95/tensorflow-5-638.jpg?cb=1460125744' />\n",
    "(출처: https://www.slideshare.net/jirimaterna/tensorflow-60661959 )"
   ]
  },
  {
   "cell_type": "code",
   "execution_count": 9,
   "metadata": {},
   "outputs": [],
   "source": [
    "from keras.models import Sequential\n",
    "from keras.layers import Dense"
   ]
  },
  {
   "cell_type": "code",
   "execution_count": 10,
   "metadata": {},
   "outputs": [],
   "source": [
    "model = Sequential()\n",
    "model.add(Dense(10, activation='softmax', input_shape=(784,)))"
   ]
  },
  {
   "cell_type": "markdown",
   "metadata": {},
   "source": [
    "- 이전에는 손실값을 줄이는 알고리즘으로 SGD 를 사용하였다.\n",
    "- SGD 보다 향상된 알고리즘인 RMSProp 를 적용해 보자."
   ]
  },
  {
   "cell_type": "code",
   "execution_count": 11,
   "metadata": {},
   "outputs": [],
   "source": [
    "model.compile(loss='categorical_crossentropy', optimizer='rmsprop', metrics=['acc'])"
   ]
  },
  {
   "cell_type": "code",
   "execution_count": 12,
   "metadata": {
    "scrolled": false
   },
   "outputs": [
    {
     "name": "stdout",
     "output_type": "stream",
     "text": [
      "Train on 48000 samples, validate on 12000 samples\n",
      "Epoch 1/20\n",
      "48000/48000 [==============================] - 5s 99us/step - loss: 0.6575 - acc: 0.8407 - val_loss: 0.3576 - val_acc: 0.9035\n",
      "Epoch 2/20\n",
      "48000/48000 [==============================] - 4s 79us/step - loss: 0.3507 - acc: 0.9041 - val_loss: 0.3069 - val_acc: 0.9147\n",
      "Epoch 3/20\n",
      "48000/48000 [==============================] - 4s 83us/step - loss: 0.3151 - acc: 0.9118 - val_loss: 0.2917 - val_acc: 0.9175\n",
      "Epoch 4/20\n",
      "48000/48000 [==============================] - 4s 80us/step - loss: 0.2989 - acc: 0.9170 - val_loss: 0.2806 - val_acc: 0.9232\n",
      "Epoch 5/20\n",
      "48000/48000 [==============================] - 4s 79us/step - loss: 0.2892 - acc: 0.9195 - val_loss: 0.2760 - val_acc: 0.9237\n",
      "Epoch 6/20\n",
      "48000/48000 [==============================] - 4s 78us/step - loss: 0.2825 - acc: 0.9208 - val_loss: 0.2718 - val_acc: 0.9253\n",
      "Epoch 7/20\n",
      "48000/48000 [==============================] - 4s 79us/step - loss: 0.2776 - acc: 0.9225 - val_loss: 0.2680 - val_acc: 0.9279\n",
      "Epoch 8/20\n",
      "48000/48000 [==============================] - 4s 79us/step - loss: 0.2740 - acc: 0.9232 - val_loss: 0.2649 - val_acc: 0.9283\n",
      "Epoch 9/20\n",
      "48000/48000 [==============================] - 4s 80us/step - loss: 0.2710 - acc: 0.9248 - val_loss: 0.2649 - val_acc: 0.9267\n",
      "Epoch 10/20\n",
      "48000/48000 [==============================] - 4s 88us/step - loss: 0.2682 - acc: 0.9255 - val_loss: 0.2640 - val_acc: 0.9282\n",
      "Epoch 11/20\n",
      "48000/48000 [==============================] - 4s 79us/step - loss: 0.2664 - acc: 0.9261 - val_loss: 0.2636 - val_acc: 0.9291\n",
      "Epoch 12/20\n",
      "48000/48000 [==============================] - 4s 79us/step - loss: 0.2645 - acc: 0.9265 - val_loss: 0.2633 - val_acc: 0.9293\n",
      "Epoch 13/20\n",
      "48000/48000 [==============================] - 4s 79us/step - loss: 0.2624 - acc: 0.9276 - val_loss: 0.2621 - val_acc: 0.9297\n",
      "Epoch 14/20\n",
      "48000/48000 [==============================] - 4s 81us/step - loss: 0.2612 - acc: 0.9283 - val_loss: 0.2618 - val_acc: 0.9306\n",
      "Epoch 15/20\n",
      "48000/48000 [==============================] - 4s 80us/step - loss: 0.2598 - acc: 0.9283 - val_loss: 0.2608 - val_acc: 0.9317\n",
      "Epoch 16/20\n",
      "48000/48000 [==============================] - 4s 79us/step - loss: 0.2592 - acc: 0.9284 - val_loss: 0.2604 - val_acc: 0.9312\n",
      "Epoch 17/20\n",
      "48000/48000 [==============================] - 4s 79us/step - loss: 0.2577 - acc: 0.9293 - val_loss: 0.2610 - val_acc: 0.9312\n",
      "Epoch 18/20\n",
      "48000/48000 [==============================] - 4s 79us/step - loss: 0.2566 - acc: 0.9295 - val_loss: 0.2599 - val_acc: 0.9322\n",
      "Epoch 19/20\n",
      "48000/48000 [==============================] - 4s 79us/step - loss: 0.2557 - acc: 0.9296 - val_loss: 0.2614 - val_acc: 0.9309\n",
      "Epoch 20/20\n",
      "48000/48000 [==============================] - 4s 79us/step - loss: 0.2551 - acc: 0.9301 - val_loss: 0.2609 - val_acc: 0.9309\n"
     ]
    }
   ],
   "source": [
    "history = model.fit(X_train, y_train, batch_size=128, epochs=20,\n",
    "                    validation_split=0.2)"
   ]
  },
  {
   "cell_type": "code",
   "execution_count": 13,
   "metadata": {},
   "outputs": [
    {
     "data": {
      "text/plain": [
       "<matplotlib.legend.Legend at 0x1c94e3839b0>"
      ]
     },
     "execution_count": 13,
     "metadata": {},
     "output_type": "execute_result"
    },
    {
     "data": {
      "image/png": "[encoded data removed]",
      "text/plain": [
       "<Figure size 432x288 with 1 Axes>"
      ]
     },
     "metadata": {},
     "output_type": "display_data"
    }
   ],
   "source": [
    "plt.plot(history.history['loss'])\n",
    "plt.plot(history.history['val_loss'])\n",
    "plt.title('Loss')\n",
    "plt.xlabel('epoch')\n",
    "plt.legend(['loss','val_loss'])"
   ]
  },
  {
   "cell_type": "code",
   "execution_count": 14,
   "metadata": {},
   "outputs": [
    {
     "data": {
      "text/plain": [
       "<matplotlib.legend.Legend at 0x1c94e422748>"
      ]
     },
     "execution_count": 14,
     "metadata": {},
     "output_type": "execute_result"
    },
    {
     "data": {
      "image/png": "[encoded data removed]",
      "text/plain": [
       "<Figure size 432x288 with 1 Axes>"
      ]
     },
     "metadata": {},
     "output_type": "display_data"
    }
   ],
   "source": [
    "plt.plot(history.history['acc'])\n",
    "plt.plot(history.history['val_acc'])\n",
    "plt.title('Validation Accuracy')\n",
    "plt.xlabel('epoch')\n",
    "plt.legend(['acc','val_acc'])"
   ]
  },
  {
   "cell_type": "markdown",
   "metadata": {},
   "source": [
    "### 가중치 분석\n",
    "- 하나의 타겟 클래스로 향하는 화살표를 보면 모두 784개이다.\n",
    "- 화살표 마다 가중치가 하나씩 있으므로 클래스 마다 28X28 인 이미지로 표시할 수 있다."
   ]
  },
  {
   "cell_type": "code",
   "execution_count": 19,
   "metadata": {},
   "outputs": [],
   "source": [
    "ws = model.get_weights()"
   ]
  },
  {
   "cell_type": "code",
   "execution_count": 20,
   "metadata": {},
   "outputs": [
    {
     "data": {
      "text/plain": [
       "(784, 10)"
      ]
     },
     "execution_count": 20,
     "metadata": {},
     "output_type": "execute_result"
    }
   ],
   "source": [
    "ws[0].shape"
   ]
  },
  {
   "cell_type": "code",
   "execution_count": 21,
   "metadata": {},
   "outputs": [
    {
     "data": {
      "image/png": "[encoded data removed]",
      "text/plain": [
       "<Figure size 864x720 with 20 Axes>"
      ]
     },
     "metadata": {},
     "output_type": "display_data"
    }
   ],
   "source": [
    "plt.figure(figsize=[12,10])\n",
    "\n",
    "for i in range(10):\n",
    "    plt.subplot(3,4,i+1)\n",
    "    plt.imshow(ws[0][:,i].reshape(28,28), cmap='bwr')\n",
    "    plt.axis('off')\n",
    "    plt.title(i)\n",
    "    plt.colorbar()"
   ]
  },
  {
   "cell_type": "markdown",
   "metadata": {},
   "source": [
    "### 중간층 추가 (Hidden Layer)\n",
    "- 아래 그림과 같이 입력과 출력 중간에 단계를 하나 더 넣는다. (여러개를 넣을 수도 있다.)\n",
    "- 중간층의 출력값은 그냥 사용하지 않고 ReLU 함수를 적용한다."
   ]
  },
  {
   "cell_type": "markdown",
   "metadata": {},
   "source": [
    "<img src='https://ml4a.github.io/images/figures/mnist_2layers.png' />\n",
    "(출처: https://ml4a.github.io/ml4a/looking_inside_neural_nets/ )"
   ]
  },
  {
   "cell_type": "markdown",
   "metadata": {},
   "source": [
    "<img src='https://miro.medium.com/max/700/1*v88ySSMr7JLaIBjwr4chTw.jpeg' />\n",
    "(출처: https://ml4a.github.io/ml4a/looking_inside_neural_nets/ )"
   ]
  },
  {
   "cell_type": "markdown",
   "metadata": {},
   "source": [
    "- ReLU 함수"
   ]
  },
  {
   "cell_type": "code",
   "execution_count": 15,
   "metadata": {},
   "outputs": [],
   "source": [
    "def relu(t):\n",
    "    r = t\n",
    "    if r<0: r=0\n",
    "    return r"
   ]
  },
  {
   "cell_type": "code",
   "execution_count": 16,
   "metadata": {},
   "outputs": [
    {
     "data": {
      "text/plain": [
       "Text(0.5,1,'ReLU function')"
      ]
     },
     "execution_count": 16,
     "metadata": {},
     "output_type": "execute_result"
    },
    {
     "data": {
      "image/png": "[encoded data removed]",
      "text/plain": [
       "<Figure size 432x288 with 1 Axes>"
      ]
     },
     "metadata": {},
     "output_type": "display_data"
    }
   ],
   "source": [
    "rng = np.arange(-5,10,0.1)\n",
    "hgt = rng.copy()\n",
    "hgt[hgt<0] = 0\n",
    "\n",
    "plt.plot(rng, hgt)\n",
    "plt.axis('equal')\n",
    "plt.title('ReLU function')"
   ]
  },
  {
   "cell_type": "code",
   "execution_count": 17,
   "metadata": {},
   "outputs": [],
   "source": [
    "model = Sequential()\n",
    "model.add(Dense(128, activation='relu', input_shape=(784,))) # 128 노드, ReLU 적용\n",
    "model.add(Dense(256, activation='relu'))\n",
    "model.add(Dense(256, activation='relu'))\n",
    "model.add(Dense(256, activation='relu'))\n",
    "model.add(Dense(10, activation='softmax'))"
   ]
  },
  {
   "cell_type": "code",
   "execution_count": 18,
   "metadata": {},
   "outputs": [],
   "source": [
    "model.compile(loss='categorical_crossentropy', optimizer='rmsprop', metrics=['acc'])"
   ]
  },
  {
   "cell_type": "code",
   "execution_count": 19,
   "metadata": {
    "scrolled": false
   },
   "outputs": [
    {
     "name": "stdout",
     "output_type": "stream",
     "text": [
      "Train on 48000 samples, validate on 12000 samples\n",
      "Epoch 1/50\n",
      "48000/48000 [==============================] - 15s 323us/step - loss: 0.3260 - acc: 0.8973 - val_loss: 0.1798 - val_acc: 0.9437\n",
      "Epoch 2/50\n",
      "48000/48000 [==============================] - 14s 302us/step - loss: 0.1269 - acc: 0.9612 - val_loss: 0.1182 - val_acc: 0.9640\n",
      "Epoch 3/50\n",
      "48000/48000 [==============================] - 15s 311us/step - loss: 0.0886 - acc: 0.9735 - val_loss: 0.1254 - val_acc: 0.9650\n",
      "Epoch 4/50\n",
      "48000/48000 [==============================] - 15s 315us/step - loss: 0.0660 - acc: 0.9799 - val_loss: 0.1219 - val_acc: 0.9674\n",
      "Epoch 5/50\n",
      "48000/48000 [==============================] - 15s 307us/step - loss: 0.0531 - acc: 0.9829 - val_loss: 0.1529 - val_acc: 0.9617\n",
      "Epoch 6/50\n",
      "48000/48000 [==============================] - 14s 301us/step - loss: 0.0420 - acc: 0.9865 - val_loss: 0.1078 - val_acc: 0.9739\n",
      "Epoch 7/50\n",
      "48000/48000 [==============================] - 14s 300us/step - loss: 0.0356 - acc: 0.9893 - val_loss: 0.1380 - val_acc: 0.9698\n",
      "Epoch 8/50\n",
      "48000/48000 [==============================] - 15s 305us/step - loss: 0.0302 - acc: 0.9907 - val_loss: 0.1477 - val_acc: 0.9720\n",
      "Epoch 9/50\n",
      "48000/48000 [==============================] - 14s 300us/step - loss: 0.0288 - acc: 0.9915 - val_loss: 0.1123 - val_acc: 0.9767\n",
      "Epoch 10/50\n",
      "48000/48000 [==============================] - 15s 304us/step - loss: 0.0251 - acc: 0.9926 - val_loss: 0.1757 - val_acc: 0.9670\n",
      "Epoch 11/50\n",
      "48000/48000 [==============================] - 15s 304us/step - loss: 0.0235 - acc: 0.9937 - val_loss: 0.1270 - val_acc: 0.9782\n",
      "Epoch 12/50\n",
      "48000/48000 [==============================] - 14s 298us/step - loss: 0.0224 - acc: 0.9941 - val_loss: 0.1679 - val_acc: 0.9725\n",
      "Epoch 13/50\n",
      "48000/48000 [==============================] - 14s 301us/step - loss: 0.0189 - acc: 0.9947 - val_loss: 0.1560 - val_acc: 0.9765\n",
      "Epoch 14/50\n",
      "48000/48000 [==============================] - 14s 295us/step - loss: 0.0203 - acc: 0.9949 - val_loss: 0.1546 - val_acc: 0.9762\n",
      "Epoch 15/50\n",
      "48000/48000 [==============================] - 15s 303us/step - loss: 0.0182 - acc: 0.9952 - val_loss: 0.1515 - val_acc: 0.9783\n",
      "Epoch 16/50\n",
      "48000/48000 [==============================] - 14s 302us/step - loss: 0.0180 - acc: 0.9956 - val_loss: 0.1741 - val_acc: 0.9760\n",
      "Epoch 17/50\n",
      "48000/48000 [==============================] - 14s 298us/step - loss: 0.0175 - acc: 0.9959 - val_loss: 0.1558 - val_acc: 0.9774\n",
      "Epoch 18/50\n",
      "48000/48000 [==============================] - 15s 306us/step - loss: 0.0169 - acc: 0.9957 - val_loss: 0.1810 - val_acc: 0.9763\n",
      "Epoch 19/50\n",
      "48000/48000 [==============================] - 15s 305us/step - loss: 0.0177 - acc: 0.9956 - val_loss: 0.1834 - val_acc: 0.9752\n",
      "Epoch 20/50\n",
      "48000/48000 [==============================] - 15s 305us/step - loss: 0.0151 - acc: 0.9964 - val_loss: 0.1826 - val_acc: 0.9767\n",
      "Epoch 21/50\n",
      "48000/48000 [==============================] - 15s 302us/step - loss: 0.0169 - acc: 0.9963 - val_loss: 0.1745 - val_acc: 0.9771\n",
      "Epoch 22/50\n",
      "48000/48000 [==============================] - 15s 322us/step - loss: 0.0168 - acc: 0.9965 - val_loss: 0.1818 - val_acc: 0.9743\n",
      "Epoch 23/50\n",
      "48000/48000 [==============================] - 14s 301us/step - loss: 0.0147 - acc: 0.9968 - val_loss: 0.1895 - val_acc: 0.9774\n",
      "Epoch 24/50\n",
      "48000/48000 [==============================] - 15s 308us/step - loss: 0.0151 - acc: 0.9969 - val_loss: 0.1866 - val_acc: 0.9781\n",
      "Epoch 25/50\n",
      "48000/48000 [==============================] - 14s 300us/step - loss: 0.0141 - acc: 0.9968 - val_loss: 0.2018 - val_acc: 0.9767\n",
      "Epoch 26/50\n",
      "48000/48000 [==============================] - 14s 301us/step - loss: 0.0141 - acc: 0.9970 - val_loss: 0.1865 - val_acc: 0.9766\n",
      "Epoch 27/50\n",
      "48000/48000 [==============================] - 14s 299us/step - loss: 0.0166 - acc: 0.9967 - val_loss: 0.2284 - val_acc: 0.9749\n",
      "Epoch 28/50\n",
      "48000/48000 [==============================] - 14s 298us/step - loss: 0.0138 - acc: 0.9973 - val_loss: 0.2253 - val_acc: 0.9773\n",
      "Epoch 29/50\n",
      "48000/48000 [==============================] - 14s 296us/step - loss: 0.0168 - acc: 0.9965 - val_loss: 0.2105 - val_acc: 0.9760\n",
      "Epoch 30/50\n",
      "48000/48000 [==============================] - 14s 296us/step - loss: 0.0153 - acc: 0.9969 - val_loss: 0.1952 - val_acc: 0.9783\n",
      "Epoch 31/50\n",
      "48000/48000 [==============================] - 14s 293us/step - loss: 0.0152 - acc: 0.9973 - val_loss: 0.1811 - val_acc: 0.9795\n",
      "Epoch 32/50\n",
      "48000/48000 [==============================] - 14s 292us/step - loss: 0.0158 - acc: 0.9972 - val_loss: 0.2100 - val_acc: 0.9761\n",
      "Epoch 33/50\n",
      "48000/48000 [==============================] - 14s 292us/step - loss: 0.0169 - acc: 0.9970 - val_loss: 0.2174 - val_acc: 0.9769\n",
      "Epoch 34/50\n",
      "48000/48000 [==============================] - 14s 291us/step - loss: 0.0149 - acc: 0.9973 - val_loss: 0.2147 - val_acc: 0.9752\n",
      "Epoch 35/50\n",
      "48000/48000 [==============================] - 14s 293us/step - loss: 0.0148 - acc: 0.9972 - val_loss: 0.2293 - val_acc: 0.9751\n",
      "Epoch 36/50\n",
      "48000/48000 [==============================] - 14s 291us/step - loss: 0.0137 - acc: 0.9973 - val_loss: 0.2276 - val_acc: 0.9756\n",
      "Epoch 37/50\n",
      "48000/48000 [==============================] - 14s 285us/step - loss: 0.0135 - acc: 0.9976 - val_loss: 0.2345 - val_acc: 0.9768\n",
      "Epoch 38/50\n",
      "48000/48000 [==============================] - 14s 288us/step - loss: 0.0146 - acc: 0.9976 - val_loss: 0.2314 - val_acc: 0.9746\n",
      "Epoch 39/50\n",
      "48000/48000 [==============================] - 14s 286us/step - loss: 0.0139 - acc: 0.9974 - val_loss: 0.2300 - val_acc: 0.9779\n",
      "Epoch 40/50\n",
      "48000/48000 [==============================] - 14s 286us/step - loss: 0.0151 - acc: 0.9974 - val_loss: 0.2765 - val_acc: 0.9746\n",
      "Epoch 41/50\n",
      "48000/48000 [==============================] - 14s 287us/step - loss: 0.0189 - acc: 0.9970 - val_loss: 0.2285 - val_acc: 0.97643s - loss: 0.0200 -\n",
      "Epoch 42/50\n",
      "48000/48000 [==============================] - 14s 289us/step - loss: 0.0161 - acc: 0.9972 - val_loss: 0.2544 - val_acc: 0.9772\n",
      "Epoch 43/50\n",
      "48000/48000 [==============================] - 14s 289us/step - loss: 0.0172 - acc: 0.9972 - val_loss: 0.2568 - val_acc: 0.9753\n",
      "Epoch 44/50\n",
      "48000/48000 [==============================] - 14s 290us/step - loss: 0.0179 - acc: 0.9972 - val_loss: 0.2045 - val_acc: 0.9784\n",
      "Epoch 45/50\n",
      "48000/48000 [==============================] - 14s 289us/step - loss: 0.0157 - acc: 0.9975 - val_loss: 0.2135 - val_acc: 0.9759\n",
      "Epoch 46/50\n",
      "48000/48000 [==============================] - 14s 295us/step - loss: 0.0160 - acc: 0.9975 - val_loss: 0.2295 - val_acc: 0.9779\n",
      "Epoch 47/50\n",
      "48000/48000 [==============================] - 14s 289us/step - loss: 0.0185 - acc: 0.9975 - val_loss: 0.2140 - val_acc: 0.9787\n",
      "Epoch 48/50\n",
      "48000/48000 [==============================] - 14s 282us/step - loss: 0.0165 - acc: 0.9972 - val_loss: 0.2488 - val_acc: 0.9748\n",
      "Epoch 49/50\n",
      "48000/48000 [==============================] - 14s 296us/step - loss: 0.0171 - acc: 0.9974 - val_loss: 0.2842 - val_acc: 0.9707\n",
      "Epoch 50/50\n",
      "48000/48000 [==============================] - 15s 312us/step - loss: 0.0156 - acc: 0.9978 - val_loss: 0.2382 - val_acc: 0.9775\n"
     ]
    }
   ],
   "source": [
    "history = model.fit(X_train, y_train, batch_size=128, epochs=50, validation_split=0.2)\n",
    "    # default: batch_size=32, epochs=1, shuffle=True"
   ]
  },
  {
   "cell_type": "code",
   "execution_count": 20,
   "metadata": {},
   "outputs": [
    {
     "data": {
      "text/plain": [
       "<matplotlib.legend.Legend at 0x1c9508db278>"
      ]
     },
     "execution_count": 20,
     "metadata": {},
     "output_type": "execute_result"
    },
    {
     "data": {
      "image/png": "[encoded data removed]",
      "text/plain": [
       "<Figure size 432x288 with 1 Axes>"
      ]
     },
     "metadata": {},
     "output_type": "display_data"
    }
   ],
   "source": [
    "plt.plot(history.history['loss'])\n",
    "plt.plot(history.history['val_loss'])\n",
    "plt.title('Loss')\n",
    "plt.xlabel('epoch')\n",
    "plt.legend(['loss','val_loss'])"
   ]
  },
  {
   "cell_type": "code",
   "execution_count": 21,
   "metadata": {},
   "outputs": [
    {
     "data": {
      "text/plain": [
       "<matplotlib.legend.Legend at 0x1c95093eba8>"
      ]
     },
     "execution_count": 21,
     "metadata": {},
     "output_type": "execute_result"
    },
    {
     "data": {
      "image/png": "[encoded data removed]",
      "text/plain": [
       "<Figure size 432x288 with 1 Axes>"
      ]
     },
     "metadata": {},
     "output_type": "display_data"
    }
   ],
   "source": [
    "plt.plot(history.history['acc'])\n",
    "plt.plot(history.history['val_acc'])\n",
    "plt.title('Validation Accuracy')\n",
    "plt.xlabel('epoch')\n",
    "plt.legend(['acc','val_acc'])"
   ]
  },
  {
   "cell_type": "markdown",
   "metadata": {},
   "source": [
    "### 모델 검증"
   ]
  },
  {
   "cell_type": "code",
   "execution_count": 23,
   "metadata": {},
   "outputs": [],
   "source": [
    "pred_y = model.predict(X_test)"
   ]
  },
  {
   "cell_type": "code",
   "execution_count": 25,
   "metadata": {},
   "outputs": [
    {
     "data": {
      "text/plain": [
       "array([[0.0000000e+00, 0.0000000e+00, 0.0000000e+00, 0.0000000e+00,\n",
       "        0.0000000e+00, 0.0000000e+00, 0.0000000e+00, 1.0000000e+00,\n",
       "        0.0000000e+00, 0.0000000e+00],\n",
       "       [0.0000000e+00, 0.0000000e+00, 1.0000000e+00, 0.0000000e+00,\n",
       "        0.0000000e+00, 0.0000000e+00, 0.0000000e+00, 0.0000000e+00,\n",
       "        0.0000000e+00, 0.0000000e+00],\n",
       "       [0.0000000e+00, 1.0000000e+00, 0.0000000e+00, 0.0000000e+00,\n",
       "        0.0000000e+00, 0.0000000e+00, 0.0000000e+00, 0.0000000e+00,\n",
       "        0.0000000e+00, 0.0000000e+00],\n",
       "       [1.0000000e+00, 0.0000000e+00, 0.0000000e+00, 0.0000000e+00,\n",
       "        0.0000000e+00, 0.0000000e+00, 2.4415170e-31, 0.0000000e+00,\n",
       "        0.0000000e+00, 0.0000000e+00],\n",
       "       [0.0000000e+00, 0.0000000e+00, 2.2551790e-36, 0.0000000e+00,\n",
       "        1.0000000e+00, 0.0000000e+00, 0.0000000e+00, 5.1929105e-35,\n",
       "        0.0000000e+00, 0.0000000e+00],\n",
       "       [0.0000000e+00, 1.0000000e+00, 0.0000000e+00, 0.0000000e+00,\n",
       "        5.3324556e-32, 0.0000000e+00, 0.0000000e+00, 2.4384244e-33,\n",
       "        5.0532815e-36, 0.0000000e+00],\n",
       "       [0.0000000e+00, 6.4632027e-34, 1.0847742e-29, 4.5997360e-34,\n",
       "        1.0000000e+00, 1.3109816e-35, 1.9647479e-33, 3.6447033e-28,\n",
       "        6.5698416e-27, 2.8975915e-32],\n",
       "       [7.6740668e-36, 2.6996997e-32, 4.5399820e-18, 3.0166493e-05,\n",
       "        7.2737156e-25, 6.9297267e-18, 0.0000000e+00, 4.2393686e-19,\n",
       "        1.8602859e-33, 9.9996984e-01],\n",
       "       [0.0000000e+00, 0.0000000e+00, 0.0000000e+00, 0.0000000e+00,\n",
       "        6.4793953e-27, 1.0498003e-21, 1.0000000e+00, 0.0000000e+00,\n",
       "        0.0000000e+00, 0.0000000e+00],\n",
       "       [0.0000000e+00, 0.0000000e+00, 8.4904518e-31, 5.6831410e-28,\n",
       "        1.1661184e-19, 6.8964467e-32, 0.0000000e+00, 9.4740933e-24,\n",
       "        1.9242238e-36, 1.0000000e+00]], dtype=float32)"
      ]
     },
     "execution_count": 25,
     "metadata": {},
     "output_type": "execute_result"
    }
   ],
   "source": [
    "pred_y[:10]"
   ]
  },
  {
   "cell_type": "code",
   "execution_count": 27,
   "metadata": {},
   "outputs": [],
   "source": [
    "pred_y = model.predict_classes(X_test)"
   ]
  },
  {
   "cell_type": "code",
   "execution_count": 29,
   "metadata": {},
   "outputs": [
    {
     "data": {
      "text/plain": [
       "0.9799"
      ]
     },
     "execution_count": 29,
     "metadata": {},
     "output_type": "execute_result"
    }
   ],
   "source": [
    "(y_test.argmax(axis=1) == pred_y).mean() # accuracy for test data"
   ]
  },
  {
   "cell_type": "code",
   "execution_count": 31,
   "metadata": {},
   "outputs": [],
   "source": [
    "idx = np.where((y_test.argmax(axis=1) != pred_y))[0]"
   ]
  },
  {
   "cell_type": "code",
   "execution_count": 39,
   "metadata": {},
   "outputs": [
    {
     "data": {
      "text/plain": [
       "Text(0.5,1,'5 / 6')"
      ]
     },
     "execution_count": 39,
     "metadata": {},
     "output_type": "execute_result"
    },
    {
     "data": {
      "image/png": "[encoded data removed]",
      "text/plain": [
       "<Figure size 432x288 with 1 Axes>"
      ]
     },
     "metadata": {},
     "output_type": "display_data"
    }
   ],
   "source": [
    "plt.imshow(X_test[idx[0]].reshape(28,28), cmap='gray')\n",
    "plt.title(str(y_test[idx[0]].argmax())+' / '+str(pred_y[idx[0]]), fontsize=20)"
   ]
  },
  {
   "cell_type": "markdown",
   "metadata": {},
   "source": [
    "### 과대적합 이슈\n",
    "- 교재 4.4절"
   ]
  },
  {
   "cell_type": "markdown",
   "metadata": {},
   "source": [
    "- 네트워크 크기 축소\n",
    "> . 층의 갯수와 각 층의 뉴런 갯수를 줄인다.<br>\n",
    "> . 층의 갯수와 뉴런 갯수를 정하는 공식은 없기 때문에, 경험적으로 최선의 값을 찾아내어야 한다."
   ]
  },
  {
   "cell_type": "markdown",
   "metadata": {},
   "source": [
    "- 가중치 규제 추가\n",
    "> . 최종 손실값에 각 가중치의 제곱(L2규제)나 절대값(L1규제)를 추가한다.<br>\n",
    "> . 추가되는 값이 크면(규제값이 크면) 과대적합이 적어진다.<br>\n",
    "> . 규제가 클수록 w 와 b 값이 0에 가까워진다.<br>\n",
    "> . 각 층의 kernel_regularizer 인자에 keras.regulations 에 있는 l1(), l2() 함수 적용"
   ]
  },
  {
   "cell_type": "markdown",
   "metadata": {},
   "source": [
    "- Dropout 적용\n",
    "> 각 층의 출력값 중 일부를 0 으로 만든다.<br>\n",
    "> 전체 신경망의 예외 대처능력을 키워준다.<br>\n",
    "> keras.layers.Dropout(0.5) 와 같이 적용한다.<br>\n",
    "> 훈련 시간은 늘어나지만 훨씬 유연한 시스템을 구축할 수 있다."
   ]
  },
  {
   "cell_type": "markdown",
   "metadata": {},
   "source": [
    "### 기타 이슈\n",
    "- 모델 변수(예를 들어 w 와 b) 초기화 => 모두 0인 경우 문제가 발생할 수 있다.\n",
    "- 정규화 적용 => 전처리 뿐만 아니라 각 층의 결과를 정규화 해야 하는 경우도 있다.\n",
    "- 학습률 및 기타 설정값 => 입력 데이터의 스케일에 맞게 학습률을 고려하여야 한다."
   ]
  }
 ],
 "metadata": {
  "kernelspec": {
   "display_name": "Python 3",
   "language": "python",
   "name": "python3"
  },
  "language_info": {
   "codemirror_mode": {
    "name": "ipython",
    "version": 3
   },
   "file_extension": ".py",
   "mimetype": "text/x-python",
   "name": "python",
   "nbconvert_exporter": "python",
   "pygments_lexer": "ipython3",
   "version": "3.6.5"
  }
 },
 "nbformat": 4,
 "nbformat_minor": 2
}
