{
 "cells": [
  {
   "cell_type": "markdown",
   "metadata": {},
   "source": [
    "## 빅데이터 활용 AI 설계\n",
    "# 강화학습 : catch 게임"
   ]
  },
  {
   "cell_type": "code",
   "execution_count": 1,
   "metadata": {},
   "outputs": [
    {
     "name": "stdout",
     "output_type": "stream",
     "text": [
      "pygame 1.9.6\n",
      "Hello from the pygame community. https://www.pygame.org/contribute.html\n"
     ]
    }
   ],
   "source": [
    "import numpy as np\n",
    "import matplotlib.pyplot as plt\n",
    "import pygame\n",
    "import collections"
   ]
  },
  {
   "cell_type": "code",
   "execution_count": 2,
   "metadata": {},
   "outputs": [],
   "source": [
    "from scipy.misc import imresize"
   ]
  },
  {
   "cell_type": "code",
   "execution_count": 3,
   "metadata": {},
   "outputs": [],
   "source": [
    "pygame.init()\n",
    "\n",
    "COLOR_WHITE = (255,255,255)\n",
    "COLOR_BALCK = (0,0,0)\n",
    "\n",
    "font = pygame.font.SysFont('Comic Sans MS', 30)"
   ]
  },
  {
   "cell_type": "code",
   "execution_count": 4,
   "metadata": {},
   "outputs": [],
   "source": [
    "def step(action):\n",
    "    game_over = False\n",
    "    reward = 0\n",
    "\n",
    "    global paddle_x, ball_x, ball_y, num_tries, game_score\n",
    "\n",
    "    pygame.event.pump()\n",
    "\n",
    "    paddle_x += (action-1)*paddle_velocity\n",
    "    if paddle_x < 0:\n",
    "        paddle_x = paddle_velocity\n",
    "    if paddle_x > 400-50:\n",
    "        paddle_x = 400-50-paddle_velocity\n",
    "\n",
    "    screen.fill(COLOR_BALCK)\n",
    "\n",
    "    '''score_text = font.render('Score: %d, Ball: %d' % (game_score, num_tries),  True, COLOR_WHITE)\n",
    "    screen.blit(score_text, (200-score_text.get_width()//2, 350+15))'''\n",
    "\n",
    "    ball_y += ball_velocity\n",
    "    ball = pygame.draw.rect(screen, COLOR_WHITE, pygame.Rect(ball_x, ball_y, 20, 20))\n",
    "    paddle = pygame.draw.rect(screen, COLOR_WHITE, pygame.Rect(paddle_x, 350, 50, 10))\n",
    "\n",
    "    if ball_y >= 340:\n",
    "        reward = 1 if ball.colliderect(paddle) else -1\n",
    "        game_score += reward\n",
    "\n",
    "        ball_x = np.random.randint(400-20)\n",
    "        ball_y = 10\n",
    "\n",
    "        num_tries += 1\n",
    "        game_over=True\n",
    "        #print(num_tries, game_score)\n",
    "\n",
    "    pygame.display.flip()\n",
    "\n",
    "    frame = pygame.surfarray.array2d(screen)\n",
    "    clock.tick(30)\n",
    "\n",
    "    return frame, reward, game_over"
   ]
  },
  {
   "cell_type": "code",
   "execution_count": 7,
   "metadata": {},
   "outputs": [
    {
     "name": "stderr",
     "output_type": "stream",
     "text": [
      "C:\\Anaconda3\\envs\\py36\\lib\\site-packages\\ipykernel_launcher.py:31: DeprecationWarning: `imresize` is deprecated!\n",
      "`imresize` is deprecated in SciPy 1.0.0, and will be removed in 1.2.0.\n",
      "Use ``skimage.transform.resize`` instead.\n"
     ]
    }
   ],
   "source": [
    "num_wins = 0\n",
    "experience = collections.deque(maxlen=50000)\n",
    "\n",
    "for epoch in range(5):\n",
    "    # game reset\n",
    "    frames = collections.deque(maxlen=4)\n",
    "    \n",
    "    paddle_x = 200\n",
    "    ball_x = np.random.randint(400-20)\n",
    "    ball_y = 0 # ceiling\n",
    "    paddle_velocity = 20\n",
    "    ball_velocity = 10\n",
    "    \n",
    "    num_tries = 0\n",
    "    game_score = 0\n",
    "    game_over = False\n",
    "    first_frame = True\n",
    "\n",
    "    screen = pygame.display.set_mode((400,400))\n",
    "    clock = pygame.time.Clock()\n",
    "    \n",
    "    # game restart\n",
    "    while not game_over:\n",
    "        if not first_frame:\n",
    "            s_tm1 = s_t\n",
    "        \n",
    "        a_t = np.random.choice([0,1,2]) # 0: left, 1: stay, 2: right\n",
    "        \n",
    "        frame, r_t, game_over = step(a_t)\n",
    "        \n",
    "        img = (imresize(frame, [80,80]).astype('float'))/255.\n",
    "        if len(frames)==0:\n",
    "            for i in range(4): frames.append(img)\n",
    "        else:\n",
    "            frames.append(img)\n",
    "        \n",
    "        s_t = np.moveaxis(np.array(frames), 0, 2) # (4,80,80) -> (80,80,4)\n",
    "        s_t = np.expand_dims(s_t, axis=0) # (1,80,80,4)\n",
    "        \n",
    "        if first_frame==True:\n",
    "            first_frame=False\n",
    "        else:\n",
    "            experience.append([s_tm1, a_t, r_t, s_t, game_over])"
   ]
  },
  {
   "cell_type": "code",
   "execution_count": 8,
   "metadata": {},
   "outputs": [],
   "source": [
    "pygame.quit()"
   ]
  },
  {
   "cell_type": "code",
   "execution_count": 106,
   "metadata": {
    "scrolled": false
   },
   "outputs": [],
   "source": [
    "np.save('catch.npy', list(experience))"
   ]
  },
  {
   "cell_type": "markdown",
   "metadata": {},
   "source": [
    "### 게임 이력 확인"
   ]
  },
  {
   "cell_type": "code",
   "execution_count": 13,
   "metadata": {},
   "outputs": [
    {
     "data": {
      "text/plain": [
       "(165, (1, 80, 80, 4))"
      ]
     },
     "execution_count": 13,
     "metadata": {},
     "output_type": "execute_result"
    }
   ],
   "source": [
    "es = list(experience)\n",
    "len(es), es[0][0].shape"
   ]
  },
  {
   "cell_type": "code",
   "execution_count": 14,
   "metadata": {},
   "outputs": [
    {
     "name": "stdout",
     "output_type": "stream",
     "text": [
      "-1\n",
      "-1\n",
      "1\n",
      "-1\n",
      "-1\n"
     ]
    }
   ],
   "source": [
    "for i in range(32,165,33):\n",
    "    print(es[i][2])"
   ]
  },
  {
   "cell_type": "code",
   "execution_count": 17,
   "metadata": {},
   "outputs": [
    {
     "data": {
      "image/png": "[encoded data removed]",
      "text/plain": [
       "<Figure size 720x216 with 4 Axes>"
      ]
     },
     "metadata": {},
     "output_type": "display_data"
    }
   ],
   "source": [
    "plt.figure(figsize=[10,3])\n",
    "for i in range(4):\n",
    "    plt.subplot(1,4,i+1)\n",
    "    plt.imshow(es[-1][3][0,:,:,i])\n",
    "    plt.axis('off')"
   ]
  }
 ],
 "metadata": {
  "kernelspec": {
   "display_name": "Python 3",
   "language": "python",
   "name": "python3"
  },
  "language_info": {
   "codemirror_mode": {
    "name": "ipython",
    "version": 3
   },
   "file_extension": ".py",
   "mimetype": "text/x-python",
   "name": "python",
   "nbconvert_exporter": "python",
   "pygments_lexer": "ipython3",
   "version": "3.7.4"
  }
 },
 "nbformat": 4,
 "nbformat_minor": 2
}
