{
 "cells": [
  {
   "cell_type": "markdown",
   "metadata": {},
   "source": [
    "## 빅데이터 활용 AI 설계\n",
    "# 강화학습 : catch 게임 keras 학습\n",
    "\n",
    "- Deep Learning with Keras (Gulli), Chapter 8. AI Game Playing\n",
    "- https://github.com/PacktPublishing/Deep-Learning-with-Keras (예제 소스)\n",
    "- https://gist.github.com/EderSantana/c7222daa328f0e885093 (참고 사이트)"
   ]
  },
  {
   "cell_type": "code",
   "execution_count": 1,
   "metadata": {},
   "outputs": [
    {
     "name": "stdout",
     "output_type": "stream",
     "text": [
      "pygame 1.9.6\n",
      "Hello from the pygame community. https://www.pygame.org/contribute.html\n"
     ]
    }
   ],
   "source": [
    "import numpy as np\n",
    "import matplotlib.pyplot as plt\n",
    "import pygame\n",
    "import collections"
   ]
  },
  {
   "cell_type": "code",
   "execution_count": 2,
   "metadata": {},
   "outputs": [],
   "source": [
    "from scipy.misc import imresize"
   ]
  },
  {
   "cell_type": "code",
   "execution_count": 3,
   "metadata": {},
   "outputs": [],
   "source": [
    "pygame.init()\n",
    "\n",
    "COLOR_WHITE = (255,255,255)\n",
    "COLOR_BALCK = (0,0,0)\n",
    "\n",
    "font = pygame.font.SysFont('Comic Sans MS', 30)"
   ]
  },
  {
   "cell_type": "code",
   "execution_count": 4,
   "metadata": {},
   "outputs": [],
   "source": [
    "def step(action):\n",
    "    game_over = False\n",
    "    reward = 0\n",
    "\n",
    "    global paddle_x, ball_x, ball_y, num_tries, game_score\n",
    "\n",
    "    pygame.event.pump()\n",
    "\n",
    "    paddle_x += (action-1)*paddle_velocity\n",
    "    if paddle_x < 0:\n",
    "        paddle_x = paddle_velocity\n",
    "    if paddle_x > 400-50:\n",
    "        paddle_x = 400-50-paddle_velocity\n",
    "\n",
    "    screen.fill(COLOR_BALCK)\n",
    "\n",
    "    ball_y += ball_velocity\n",
    "    ball = pygame.draw.rect(screen, COLOR_WHITE, pygame.Rect(ball_x, ball_y, 20, 20))\n",
    "    paddle = pygame.draw.rect(screen, COLOR_WHITE, pygame.Rect(paddle_x, 350, 50, 10))\n",
    "\n",
    "    if ball_y >= 340:\n",
    "        reward = 1 if ball.colliderect(paddle) else -1\n",
    "        game_score += reward\n",
    "\n",
    "        ball_x = np.random.randint(400-20)\n",
    "        ball_y = 10\n",
    "\n",
    "        num_tries += 1\n",
    "        game_over=True\n",
    "\n",
    "    pygame.display.flip()\n",
    "\n",
    "    frame = pygame.surfarray.array2d(screen)\n",
    "    clock.tick(30) # delay for 30 milliseconds\n",
    "\n",
    "    return frame, reward, game_over"
   ]
  },
  {
   "cell_type": "markdown",
   "metadata": {},
   "source": [
    "### Keras 적용"
   ]
  },
  {
   "cell_type": "code",
   "execution_count": 5,
   "metadata": {},
   "outputs": [
    {
     "name": "stderr",
     "output_type": "stream",
     "text": [
      "C:\\Anaconda3\\envs\\py36\\lib\\site-packages\\h5py\\__init__.py:36: FutureWarning: Conversion of the second argument of issubdtype from `float` to `np.floating` is deprecated. In future, it will be treated as `np.float64 == np.dtype(float).type`.\n",
      "  from ._conv import register_converters as _register_converters\n",
      "Using TensorFlow backend.\n"
     ]
    }
   ],
   "source": [
    "from keras.models import Sequential\n",
    "from keras.layers import Conv2D, Flatten, Dense\n",
    "from keras.optimizers import Adam"
   ]
  },
  {
   "cell_type": "code",
   "execution_count": 6,
   "metadata": {},
   "outputs": [],
   "source": [
    "model = Sequential()\n",
    "model.add(Conv2D(32, kernel_size=8, strides=4, kernel_initializer='normal',\n",
    "                padding='same', input_shape=[80,80,4], activation='relu')) # (80,80,4) -> (20,20,32)\n",
    "model.add(Conv2D(64, kernel_size=4, strides=2, kernel_initializer='normal',\n",
    "                padding='same', activation='relu'))                        # (10,10,64)\n",
    "model.add(Conv2D(64, kernel_size=3, strides=1, kernel_initializer='normal',\n",
    "                padding='same', activation='relu'))                        # (10,10,64)\n",
    "model.add(Flatten())\n",
    "model.add(Dense(512, kernel_initializer='normal', activation='relu'))\n",
    "model.add(Dense(3, kernel_initializer='normal')) # Q values for left(0), stay(1), right(2)"
   ]
  },
  {
   "cell_type": "code",
   "execution_count": 7,
   "metadata": {
    "scrolled": false
   },
   "outputs": [],
   "source": [
    "#model.compile(loss='mse', optimizer=Adam(lr=1e-6))\n",
    "model.compile(loss='mse', optimizer='rmsprop')"
   ]
  },
  {
   "cell_type": "code",
   "execution_count": 8,
   "metadata": {},
   "outputs": [
    {
     "name": "stdout",
     "output_type": "stream",
     "text": [
      "_________________________________________________________________\n",
      "Layer (type)                 Output Shape              Param #   \n",
      "=================================================================\n",
      "conv2d_1 (Conv2D)            (None, 20, 20, 32)        8224      \n",
      "_________________________________________________________________\n",
      "conv2d_2 (Conv2D)            (None, 10, 10, 64)        32832     \n",
      "_________________________________________________________________\n",
      "conv2d_3 (Conv2D)            (None, 10, 10, 64)        36928     \n",
      "_________________________________________________________________\n",
      "flatten_1 (Flatten)          (None, 6400)              0         \n",
      "_________________________________________________________________\n",
      "dense_1 (Dense)              (None, 512)               3277312   \n",
      "_________________________________________________________________\n",
      "dense_2 (Dense)              (None, 3)                 1539      \n",
      "=================================================================\n",
      "Total params: 3,356,835\n",
      "Trainable params: 3,356,835\n",
      "Non-trainable params: 0\n",
      "_________________________________________________________________\n"
     ]
    }
   ],
   "source": [
    "model.summary()"
   ]
  },
  {
   "cell_type": "markdown",
   "metadata": {},
   "source": [
    "- predict() 테스트"
   ]
  },
  {
   "cell_type": "code",
   "execution_count": 9,
   "metadata": {},
   "outputs": [],
   "source": [
    "a = np.random.rand(1,80,80,4)\n",
    "q = model.predict(a)"
   ]
  },
  {
   "cell_type": "code",
   "execution_count": 10,
   "metadata": {},
   "outputs": [
    {
     "data": {
      "text/plain": [
       "array([[ 0.38822764, -0.23014373, -0.33331907]], dtype=float32)"
      ]
     },
     "execution_count": 10,
     "metadata": {},
     "output_type": "execute_result"
    }
   ],
   "source": [
    "q"
   ]
  },
  {
   "cell_type": "markdown",
   "metadata": {},
   "source": [
    "### 학습 실행\n",
    "- 에포크 한번에 45초 정도 걸림"
   ]
  },
  {
   "cell_type": "code",
   "execution_count": 11,
   "metadata": {
    "scrolled": true
   },
   "outputs": [
    {
     "name": "stderr",
     "output_type": "stream",
     "text": [
      "C:\\Anaconda3\\envs\\py36\\lib\\site-packages\\ipykernel_launcher.py:45: DeprecationWarning: `imresize` is deprecated!\n",
      "`imresize` is deprecated in SciPy 1.0.0, and will be removed in 1.2.0.\n",
      "Use ``skimage.transform.resize`` instead.\n"
     ]
    },
    {
     "name": "stdout",
     "output_type": "stream",
     "text": [
      "Epoch: 0001/400 | Loss: 0.00000 | Total Wins: 0\n",
      "Epoch: 0002/400 | Loss: 0.00000 | Total Wins: 0\n",
      "Epoch: 0003/400 | Loss: 0.00000 | Total Wins: 0\n",
      "Epoch: 0004/400 | Loss: 0.00000 | Total Wins: 0\n",
      "Epoch: 0005/400 | Loss: 0.00000 | Total Wins: 0\n",
      "Epoch: 0006/400 | Loss: 0.00000 | Total Wins: 0\n",
      "Epoch: 0007/400 | Loss: 0.00000 | Total Wins: 0\n",
      "Epoch: 0008/400 | Loss: 0.00000 | Total Wins: 0\n",
      "Epoch: 0009/400 | Loss: 0.00000 | Total Wins: 0\n",
      "Epoch: 0010/400 | Loss: 0.00000 | Total Wins: 0\n",
      "Epoch: 0011/400 | Loss: 0.00000 | Total Wins: 1\n",
      "Epoch: 0012/400 | Loss: 0.00000 | Total Wins: 1\n",
      "Epoch: 0013/400 | Loss: 0.00000 | Total Wins: 2\n",
      "Epoch: 0014/400 | Loss: 0.00000 | Total Wins: 2\n",
      "Epoch: 0015/400 | Loss: 0.00000 | Total Wins: 3\n",
      "Epoch: 0016/400 | Loss: 0.00000 | Total Wins: 3\n",
      "Epoch: 0017/400 | Loss: 0.00000 | Total Wins: 3\n",
      "Epoch: 0018/400 | Loss: 0.00000 | Total Wins: 3\n",
      "Epoch: 0019/400 | Loss: 0.00000 | Total Wins: 3\n",
      "Epoch: 0020/400 | Loss: 0.00000 | Total Wins: 4\n",
      "Epoch: 0021/400 | Loss: 0.00000 | Total Wins: 4\n",
      "Epoch: 0022/400 | Loss: 0.00000 | Total Wins: 4\n",
      "Epoch: 0023/400 | Loss: 0.00000 | Total Wins: 4\n",
      "Epoch: 0024/400 | Loss: 0.00000 | Total Wins: 5\n",
      "Epoch: 0025/400 | Loss: 0.00000 | Total Wins: 5\n",
      "Epoch: 0026/400 | Loss: 0.00000 | Total Wins: 6\n",
      "Epoch: 0027/400 | Loss: 0.00000 | Total Wins: 6\n",
      "Epoch: 0028/400 | Loss: 0.00000 | Total Wins: 6\n",
      "Epoch: 0029/400 | Loss: 0.00000 | Total Wins: 6\n",
      "Epoch: 0030/400 | Loss: 0.00000 | Total Wins: 7\n",
      "Epoch: 0031/400 | Loss: 0.00000 | Total Wins: 7\n",
      "Epoch: 0032/400 | Loss: 0.00000 | Total Wins: 7\n",
      "Epoch: 0033/400 | Loss: 0.00000 | Total Wins: 7\n",
      "Epoch: 0034/400 | Loss: 0.00000 | Total Wins: 7\n",
      "Epoch: 0035/400 | Loss: 0.00000 | Total Wins: 7\n",
      "Epoch: 0036/400 | Loss: 0.00000 | Total Wins: 7\n",
      "Epoch: 0037/400 | Loss: 0.00000 | Total Wins: 7\n",
      "Epoch: 0038/400 | Loss: 0.00000 | Total Wins: 7\n",
      "Epoch: 0039/400 | Loss: 0.00000 | Total Wins: 7\n",
      "Epoch: 0040/400 | Loss: 0.00000 | Total Wins: 7\n",
      "Epoch: 0041/400 | Loss: 0.00000 | Total Wins: 8\n",
      "Epoch: 0042/400 | Loss: 0.00000 | Total Wins: 8\n",
      "Epoch: 0043/400 | Loss: 0.00000 | Total Wins: 8\n",
      "Epoch: 0044/400 | Loss: 0.00000 | Total Wins: 8\n",
      "Epoch: 0045/400 | Loss: 0.00000 | Total Wins: 9\n",
      "Epoch: 0046/400 | Loss: 0.00000 | Total Wins: 9\n",
      "Epoch: 0047/400 | Loss: 0.00000 | Total Wins: 9\n",
      "Epoch: 0048/400 | Loss: 0.00000 | Total Wins: 10\n",
      "Epoch: 0049/400 | Loss: 0.00000 | Total Wins: 10\n",
      "Epoch: 0050/400 | Loss: 0.00000 | Total Wins: 10\n",
      "Epoch: 0051/400 | Loss: 0.00000 | Total Wins: 10\n",
      "Epoch: 0052/400 | Loss: 0.00000 | Total Wins: 11\n",
      "Epoch: 0053/400 | Loss: 0.00000 | Total Wins: 11\n",
      "Epoch: 0054/400 | Loss: 0.00000 | Total Wins: 11\n",
      "Epoch: 0055/400 | Loss: 0.00000 | Total Wins: 11\n",
      "Epoch: 0056/400 | Loss: 0.00000 | Total Wins: 11\n",
      "Epoch: 0057/400 | Loss: 0.00000 | Total Wins: 11\n",
      "Epoch: 0058/400 | Loss: 0.00000 | Total Wins: 11\n",
      "Epoch: 0059/400 | Loss: 0.00000 | Total Wins: 11\n",
      "Epoch: 0060/400 | Loss: 0.00000 | Total Wins: 11\n",
      "Epoch: 0061/400 | Loss: 0.00000 | Total Wins: 11\n",
      "Epoch: 0062/400 | Loss: 0.00000 | Total Wins: 11\n",
      "Epoch: 0063/400 | Loss: 0.00000 | Total Wins: 11\n",
      "Epoch: 0064/400 | Loss: 0.00000 | Total Wins: 11\n",
      "Epoch: 0065/400 | Loss: 0.00000 | Total Wins: 11\n",
      "Epoch: 0066/400 | Loss: 0.00000 | Total Wins: 11\n",
      "Epoch: 0067/400 | Loss: 0.00000 | Total Wins: 11\n",
      "Epoch: 0068/400 | Loss: 0.00000 | Total Wins: 11\n",
      "Epoch: 0069/400 | Loss: 0.00000 | Total Wins: 11\n",
      "Epoch: 0070/400 | Loss: 0.00000 | Total Wins: 12\n",
      "Epoch: 0071/400 | Loss: 0.00000 | Total Wins: 12\n",
      "Epoch: 0072/400 | Loss: 0.00000 | Total Wins: 12\n",
      "Epoch: 0073/400 | Loss: 0.00000 | Total Wins: 12\n",
      "Epoch: 0074/400 | Loss: 0.00000 | Total Wins: 12\n",
      "Epoch: 0075/400 | Loss: 0.00000 | Total Wins: 12\n",
      "Epoch: 0076/400 | Loss: 0.00000 | Total Wins: 12\n",
      "Epoch: 0077/400 | Loss: 0.00000 | Total Wins: 12\n",
      "Epoch: 0078/400 | Loss: 0.00000 | Total Wins: 12\n",
      "Epoch: 0079/400 | Loss: 0.00000 | Total Wins: 12\n",
      "Epoch: 0080/400 | Loss: 0.00000 | Total Wins: 13\n",
      "Epoch: 0081/400 | Loss: 0.00000 | Total Wins: 14\n",
      "Epoch: 0082/400 | Loss: 0.00000 | Total Wins: 14\n",
      "Epoch: 0083/400 | Loss: 0.00000 | Total Wins: 15\n",
      "Epoch: 0084/400 | Loss: 0.00000 | Total Wins: 15\n",
      "Epoch: 0085/400 | Loss: 0.00000 | Total Wins: 15\n",
      "Epoch: 0086/400 | Loss: 0.00000 | Total Wins: 15\n",
      "Epoch: 0087/400 | Loss: 0.00000 | Total Wins: 16\n",
      "Epoch: 0088/400 | Loss: 0.00000 | Total Wins: 16\n",
      "Epoch: 0089/400 | Loss: 0.00000 | Total Wins: 16\n",
      "Epoch: 0090/400 | Loss: 0.00000 | Total Wins: 17\n",
      "Epoch: 0091/400 | Loss: 0.00000 | Total Wins: 17\n",
      "Epoch: 0092/400 | Loss: 0.00000 | Total Wins: 17\n",
      "Epoch: 0093/400 | Loss: 0.00000 | Total Wins: 18\n",
      "Epoch: 0094/400 | Loss: 0.00000 | Total Wins: 18\n",
      "Epoch: 0095/400 | Loss: 0.00000 | Total Wins: 19\n",
      "Epoch: 0096/400 | Loss: 0.00000 | Total Wins: 19\n",
      "Epoch: 0097/400 | Loss: 0.00000 | Total Wins: 19\n",
      "Epoch: 0098/400 | Loss: 0.00000 | Total Wins: 19\n",
      "Epoch: 0099/400 | Loss: 0.00000 | Total Wins: 20\n",
      "Epoch: 0100/400 | Loss: 0.00000 | Total Wins: 20\n",
      "Epoch: 0101/400 | Loss: 124704655.93425 | Total Wins: 20\n",
      "Epoch: 0102/400 | Loss: 94505664.45898 | Total Wins: 20\n",
      "Epoch: 0103/400 | Loss: 8170648.37207 | Total Wins: 20\n",
      "Epoch: 0104/400 | Loss: 532404.36566 | Total Wins: 20\n",
      "Epoch: 0105/400 | Loss: 20114.57260 | Total Wins: 20\n",
      "Epoch: 0106/400 | Loss: 6499.36539 | Total Wins: 20\n",
      "Epoch: 0107/400 | Loss: 3760473.97420 | Total Wins: 20\n",
      "Epoch: 0108/400 | Loss: 93100.84039 | Total Wins: 20\n",
      "Epoch: 0109/400 | Loss: 19520.63391 | Total Wins: 20\n",
      "Epoch: 0110/400 | Loss: 2212.28280 | Total Wins: 20\n",
      "Epoch: 0111/400 | Loss: 40135021.43506 | Total Wins: 21\n",
      "Epoch: 0112/400 | Loss: 1114622.38721 | Total Wins: 21\n",
      "Epoch: 0113/400 | Loss: 242730.59668 | Total Wins: 21\n",
      "Epoch: 0114/400 | Loss: 263018.27475 | Total Wins: 21\n",
      "Epoch: 0115/400 | Loss: 1194555.26074 | Total Wins: 21\n",
      "Epoch: 0116/400 | Loss: 52357.59331 | Total Wins: 21\n",
      "Epoch: 0117/400 | Loss: 388761.69242 | Total Wins: 21\n",
      "Epoch: 0118/400 | Loss: 15575.30424 | Total Wins: 21\n",
      "Epoch: 0119/400 | Loss: 6512.08826 | Total Wins: 21\n",
      "Epoch: 0120/400 | Loss: 35352.25456 | Total Wins: 22\n",
      "Epoch: 0121/400 | Loss: 1645496.19351 | Total Wins: 22\n",
      "Epoch: 0122/400 | Loss: 8348.23571 | Total Wins: 22\n",
      "Epoch: 0123/400 | Loss: 913908.91025 | Total Wins: 22\n",
      "Epoch: 0124/400 | Loss: 9776.85667 | Total Wins: 23\n",
      "Epoch: 0125/400 | Loss: 175259.40284 | Total Wins: 23\n",
      "Epoch: 0126/400 | Loss: 123248.80415 | Total Wins: 23\n",
      "Epoch: 0127/400 | Loss: 5948.43132 | Total Wins: 23\n",
      "Epoch: 0128/400 | Loss: 241417.84447 | Total Wins: 23\n",
      "Epoch: 0129/400 | Loss: 4774.64673 | Total Wins: 23\n",
      "Epoch: 0130/400 | Loss: 2325491.56735 | Total Wins: 23\n",
      "Epoch: 0131/400 | Loss: 34462.13522 | Total Wins: 24\n",
      "Epoch: 0132/400 | Loss: 354530.14474 | Total Wins: 24\n",
      "Epoch: 0133/400 | Loss: 14608.73427 | Total Wins: 24\n",
      "Epoch: 0134/400 | Loss: 306781.89376 | Total Wins: 24\n",
      "Epoch: 0135/400 | Loss: 16575.74493 | Total Wins: 24\n",
      "Epoch: 0136/400 | Loss: 9882.74315 | Total Wins: 24\n",
      "Epoch: 0137/400 | Loss: 55289.50402 | Total Wins: 24\n",
      "Epoch: 0138/400 | Loss: 8119.00853 | Total Wins: 24\n",
      "Epoch: 0139/400 | Loss: 1149.77474 | Total Wins: 24\n",
      "Epoch: 0140/400 | Loss: 65270.15711 | Total Wins: 24\n",
      "Epoch: 0141/400 | Loss: 5042.70136 | Total Wins: 24\n",
      "Epoch: 0142/400 | Loss: 2147.82744 | Total Wins: 25\n",
      "Epoch: 0143/400 | Loss: 249.40011 | Total Wins: 25\n",
      "Epoch: 0144/400 | Loss: 188.25283 | Total Wins: 25\n",
      "Epoch: 0145/400 | Loss: 21.92465 | Total Wins: 25\n",
      "Epoch: 0146/400 | Loss: 504302.87695 | Total Wins: 25\n",
      "Epoch: 0147/400 | Loss: 20975.69746 | Total Wins: 25\n",
      "Epoch: 0148/400 | Loss: 1494.25296 | Total Wins: 26\n",
      "Epoch: 0149/400 | Loss: 1523.22293 | Total Wins: 26\n",
      "Epoch: 0150/400 | Loss: 334.65266 | Total Wins: 26\n",
      "Epoch: 0151/400 | Loss: 1171.92976 | Total Wins: 26\n",
      "Epoch: 0152/400 | Loss: 93.03426 | Total Wins: 26\n",
      "Epoch: 0153/400 | Loss: 219.56121 | Total Wins: 27\n",
      "Epoch: 0154/400 | Loss: 73.93878 | Total Wins: 27\n",
      "Epoch: 0155/400 | Loss: 15.37086 | Total Wins: 27\n",
      "Epoch: 0156/400 | Loss: 3.84235 | Total Wins: 27\n",
      "Epoch: 0157/400 | Loss: 0.73986 | Total Wins: 27\n",
      "Epoch: 0158/400 | Loss: 257.83835 | Total Wins: 27\n",
      "Epoch: 0159/400 | Loss: 12.59957 | Total Wins: 28\n",
      "Epoch: 0160/400 | Loss: 2.18494 | Total Wins: 29\n",
      "Epoch: 0161/400 | Loss: 0.72253 | Total Wins: 29\n",
      "Epoch: 0162/400 | Loss: 6.82265 | Total Wins: 30\n",
      "Epoch: 0163/400 | Loss: 0.50258 | Total Wins: 30\n",
      "Epoch: 0164/400 | Loss: 0.38544 | Total Wins: 30\n"
     ]
    },
    {
     "name": "stdout",
     "output_type": "stream",
     "text": [
      "Epoch: 0165/400 | Loss: 0.27807 | Total Wins: 30\n",
      "Epoch: 0166/400 | Loss: 0.31129 | Total Wins: 30\n",
      "Epoch: 0167/400 | Loss: 0.18475 | Total Wins: 30\n",
      "Epoch: 0168/400 | Loss: 2.42979 | Total Wins: 31\n",
      "Epoch: 0169/400 | Loss: 0.90435 | Total Wins: 32\n",
      "Epoch: 0170/400 | Loss: 0.24474 | Total Wins: 32\n",
      "Epoch: 0171/400 | Loss: 0.17936 | Total Wins: 32\n",
      "Epoch: 0172/400 | Loss: 0.18117 | Total Wins: 33\n",
      "Epoch: 0173/400 | Loss: 3.04681 | Total Wins: 33\n",
      "Epoch: 0174/400 | Loss: 0.23091 | Total Wins: 33\n",
      "Epoch: 0175/400 | Loss: 0.23696 | Total Wins: 34\n",
      "Epoch: 0176/400 | Loss: 0.19957 | Total Wins: 35\n",
      "Epoch: 0177/400 | Loss: 0.21154 | Total Wins: 35\n",
      "Epoch: 0178/400 | Loss: 0.13237 | Total Wins: 35\n",
      "Epoch: 0179/400 | Loss: 0.17262 | Total Wins: 35\n",
      "Epoch: 0180/400 | Loss: 0.20515 | Total Wins: 35\n",
      "Epoch: 0181/400 | Loss: 0.08500 | Total Wins: 35\n",
      "Epoch: 0182/400 | Loss: 0.19197 | Total Wins: 36\n",
      "Epoch: 0183/400 | Loss: 0.12477 | Total Wins: 36\n",
      "Epoch: 0184/400 | Loss: 0.15211 | Total Wins: 37\n",
      "Epoch: 0185/400 | Loss: 0.16994 | Total Wins: 37\n",
      "Epoch: 0186/400 | Loss: 0.14309 | Total Wins: 38\n",
      "Epoch: 0187/400 | Loss: 0.15544 | Total Wins: 38\n",
      "Epoch: 0188/400 | Loss: 0.17242 | Total Wins: 38\n",
      "Epoch: 0189/400 | Loss: 0.20107 | Total Wins: 39\n",
      "Epoch: 0190/400 | Loss: 0.10443 | Total Wins: 40\n",
      "Epoch: 0191/400 | Loss: 0.14532 | Total Wins: 41\n",
      "Epoch: 0192/400 | Loss: 0.12535 | Total Wins: 41\n",
      "Epoch: 0193/400 | Loss: 0.11694 | Total Wins: 41\n",
      "Epoch: 0194/400 | Loss: 0.13534 | Total Wins: 42\n",
      "Epoch: 0195/400 | Loss: 0.19802 | Total Wins: 42\n",
      "Epoch: 0196/400 | Loss: 0.16748 | Total Wins: 42\n",
      "Epoch: 0197/400 | Loss: 0.18696 | Total Wins: 42\n",
      "Epoch: 0198/400 | Loss: 0.17900 | Total Wins: 43\n",
      "Epoch: 0199/400 | Loss: 0.23886 | Total Wins: 44\n",
      "Epoch: 0200/400 | Loss: 0.22808 | Total Wins: 45\n",
      "Epoch: 0201/400 | Loss: 0.18911 | Total Wins: 46\n",
      "Epoch: 0202/400 | Loss: 0.10251 | Total Wins: 47\n",
      "Epoch: 0203/400 | Loss: 0.11966 | Total Wins: 48\n",
      "Epoch: 0204/400 | Loss: 0.14895 | Total Wins: 49\n",
      "Epoch: 0205/400 | Loss: 0.20451 | Total Wins: 50\n",
      "Epoch: 0206/400 | Loss: 0.11093 | Total Wins: 51\n",
      "Epoch: 0207/400 | Loss: 0.16450 | Total Wins: 52\n",
      "Epoch: 0208/400 | Loss: 0.16649 | Total Wins: 53\n",
      "Epoch: 0209/400 | Loss: 0.23464 | Total Wins: 54\n",
      "Epoch: 0210/400 | Loss: 0.16197 | Total Wins: 55\n",
      "Epoch: 0211/400 | Loss: 0.17509 | Total Wins: 56\n",
      "Epoch: 0212/400 | Loss: 0.18103 | Total Wins: 57\n",
      "Epoch: 0213/400 | Loss: 0.21119 | Total Wins: 58\n",
      "Epoch: 0214/400 | Loss: 0.16707 | Total Wins: 59\n",
      "Epoch: 0215/400 | Loss: 0.16232 | Total Wins: 60\n",
      "Epoch: 0216/400 | Loss: 0.12222 | Total Wins: 61\n",
      "Epoch: 0217/400 | Loss: 0.17466 | Total Wins: 62\n",
      "Epoch: 0218/400 | Loss: 0.14374 | Total Wins: 63\n",
      "Epoch: 0219/400 | Loss: 0.14851 | Total Wins: 63\n",
      "Epoch: 0220/400 | Loss: 0.11620 | Total Wins: 64\n",
      "Epoch: 0221/400 | Loss: 0.15402 | Total Wins: 65\n",
      "Epoch: 0222/400 | Loss: 0.11477 | Total Wins: 65\n",
      "Epoch: 0223/400 | Loss: 0.18365 | Total Wins: 66\n",
      "Epoch: 0224/400 | Loss: 0.12593 | Total Wins: 66\n",
      "Epoch: 0225/400 | Loss: 0.16901 | Total Wins: 67\n",
      "Epoch: 0226/400 | Loss: 0.12863 | Total Wins: 68\n",
      "Epoch: 0227/400 | Loss: 0.10744 | Total Wins: 69\n",
      "Epoch: 0228/400 | Loss: 0.23340 | Total Wins: 70\n",
      "Epoch: 0229/400 | Loss: 0.14889 | Total Wins: 71\n",
      "Epoch: 0230/400 | Loss: 0.27362 | Total Wins: 72\n",
      "Epoch: 0231/400 | Loss: 0.15647 | Total Wins: 73\n",
      "Epoch: 0232/400 | Loss: 0.47546 | Total Wins: 74\n",
      "Epoch: 0233/400 | Loss: 0.16428 | Total Wins: 75\n",
      "Epoch: 0234/400 | Loss: 0.14137 | Total Wins: 76\n",
      "Epoch: 0235/400 | Loss: 0.20527 | Total Wins: 77\n",
      "Epoch: 0236/400 | Loss: 0.23954 | Total Wins: 78\n",
      "Epoch: 0237/400 | Loss: 0.16098 | Total Wins: 79\n",
      "Epoch: 0238/400 | Loss: 0.23452 | Total Wins: 80\n",
      "Epoch: 0239/400 | Loss: 0.14835 | Total Wins: 81\n",
      "Epoch: 0240/400 | Loss: 0.13577 | Total Wins: 82\n",
      "Epoch: 0241/400 | Loss: 0.16150 | Total Wins: 83\n",
      "Epoch: 0242/400 | Loss: 0.10765 | Total Wins: 84\n",
      "Epoch: 0243/400 | Loss: 0.12263 | Total Wins: 85\n",
      "Epoch: 0244/400 | Loss: 0.12227 | Total Wins: 86\n",
      "Epoch: 0245/400 | Loss: 0.12928 | Total Wins: 87\n",
      "Epoch: 0246/400 | Loss: 0.26951 | Total Wins: 88\n",
      "Epoch: 0247/400 | Loss: 0.15043 | Total Wins: 89\n",
      "Epoch: 0248/400 | Loss: 0.12405 | Total Wins: 90\n",
      "Epoch: 0249/400 | Loss: 0.17752 | Total Wins: 91\n",
      "Epoch: 0250/400 | Loss: 0.10735 | Total Wins: 92\n",
      "Epoch: 0251/400 | Loss: 0.14119 | Total Wins: 93\n",
      "Epoch: 0252/400 | Loss: 0.32081 | Total Wins: 94\n",
      "Epoch: 0253/400 | Loss: 0.12425 | Total Wins: 94\n",
      "Epoch: 0254/400 | Loss: 0.12418 | Total Wins: 95\n",
      "Epoch: 0255/400 | Loss: 0.27674 | Total Wins: 96\n",
      "Epoch: 0256/400 | Loss: 0.19854 | Total Wins: 97\n",
      "Epoch: 0257/400 | Loss: 0.11791 | Total Wins: 98\n",
      "Epoch: 0258/400 | Loss: 0.12229 | Total Wins: 99\n",
      "Epoch: 0259/400 | Loss: 0.10749 | Total Wins: 100\n",
      "Epoch: 0260/400 | Loss: 0.19654 | Total Wins: 101\n",
      "Epoch: 0261/400 | Loss: 0.07615 | Total Wins: 102\n",
      "Epoch: 0262/400 | Loss: 0.18744 | Total Wins: 103\n",
      "Epoch: 0263/400 | Loss: 0.09302 | Total Wins: 103\n",
      "Epoch: 0264/400 | Loss: 0.19551 | Total Wins: 104\n",
      "Epoch: 0265/400 | Loss: 0.09196 | Total Wins: 105\n",
      "Epoch: 0266/400 | Loss: 0.13453 | Total Wins: 106\n",
      "Epoch: 0267/400 | Loss: 0.13206 | Total Wins: 107\n",
      "Epoch: 0268/400 | Loss: 0.12263 | Total Wins: 108\n",
      "Epoch: 0269/400 | Loss: 0.21866 | Total Wins: 109\n",
      "Epoch: 0270/400 | Loss: 0.09902 | Total Wins: 110\n",
      "Epoch: 0271/400 | Loss: 0.08465 | Total Wins: 111\n",
      "Epoch: 0272/400 | Loss: 0.09402 | Total Wins: 112\n",
      "Epoch: 0273/400 | Loss: 0.09951 | Total Wins: 113\n",
      "Epoch: 0274/400 | Loss: 0.09241 | Total Wins: 114\n",
      "Epoch: 0275/400 | Loss: 0.14378 | Total Wins: 115\n",
      "Epoch: 0276/400 | Loss: 0.14073 | Total Wins: 116\n",
      "Epoch: 0277/400 | Loss: 0.15791 | Total Wins: 117\n",
      "Epoch: 0278/400 | Loss: 0.19297 | Total Wins: 118\n",
      "Epoch: 0279/400 | Loss: 0.09674 | Total Wins: 119\n",
      "Epoch: 0280/400 | Loss: 0.10382 | Total Wins: 120\n",
      "Epoch: 0281/400 | Loss: 0.25803 | Total Wins: 121\n",
      "Epoch: 0282/400 | Loss: 0.11486 | Total Wins: 122\n",
      "Epoch: 0283/400 | Loss: 0.21945 | Total Wins: 123\n",
      "Epoch: 0284/400 | Loss: 0.09734 | Total Wins: 124\n",
      "Epoch: 0285/400 | Loss: 0.10483 | Total Wins: 125\n",
      "Epoch: 0286/400 | Loss: 0.15820 | Total Wins: 126\n",
      "Epoch: 0287/400 | Loss: 0.09295 | Total Wins: 127\n",
      "Epoch: 0288/400 | Loss: 0.15548 | Total Wins: 128\n",
      "Epoch: 0289/400 | Loss: 0.08733 | Total Wins: 129\n",
      "Epoch: 0290/400 | Loss: 0.07300 | Total Wins: 130\n",
      "Epoch: 0291/400 | Loss: 0.14195 | Total Wins: 131\n",
      "Epoch: 0292/400 | Loss: 0.11566 | Total Wins: 132\n",
      "Epoch: 0293/400 | Loss: 0.06956 | Total Wins: 133\n",
      "Epoch: 0294/400 | Loss: 0.08883 | Total Wins: 134\n",
      "Epoch: 0295/400 | Loss: 0.08025 | Total Wins: 135\n",
      "Epoch: 0296/400 | Loss: 0.11475 | Total Wins: 136\n",
      "Epoch: 0297/400 | Loss: 0.14982 | Total Wins: 137\n",
      "Epoch: 0298/400 | Loss: 0.08007 | Total Wins: 138\n",
      "Epoch: 0299/400 | Loss: 0.11047 | Total Wins: 139\n",
      "Epoch: 0300/400 | Loss: 0.22645 | Total Wins: 140\n",
      "Epoch: 0301/400 | Loss: 0.11881 | Total Wins: 141\n",
      "Epoch: 0302/400 | Loss: 0.09051 | Total Wins: 142\n",
      "Epoch: 0303/400 | Loss: 0.11417 | Total Wins: 143\n",
      "Epoch: 0304/400 | Loss: 0.09734 | Total Wins: 144\n",
      "Epoch: 0305/400 | Loss: 0.06725 | Total Wins: 145\n",
      "Epoch: 0306/400 | Loss: 0.06649 | Total Wins: 146\n",
      "Epoch: 0307/400 | Loss: 0.06393 | Total Wins: 147\n",
      "Epoch: 0308/400 | Loss: 0.07041 | Total Wins: 148\n",
      "Epoch: 0309/400 | Loss: 0.08874 | Total Wins: 149\n",
      "Epoch: 0310/400 | Loss: 0.08503 | Total Wins: 150\n",
      "Epoch: 0311/400 | Loss: 0.07370 | Total Wins: 151\n",
      "Epoch: 0312/400 | Loss: 0.08259 | Total Wins: 152\n",
      "Epoch: 0313/400 | Loss: 0.06025 | Total Wins: 153\n",
      "Epoch: 0314/400 | Loss: 0.08252 | Total Wins: 154\n",
      "Epoch: 0315/400 | Loss: 0.09482 | Total Wins: 155\n",
      "Epoch: 0316/400 | Loss: 0.05952 | Total Wins: 156\n",
      "Epoch: 0317/400 | Loss: 0.12205 | Total Wins: 157\n",
      "Epoch: 0318/400 | Loss: 0.06546 | Total Wins: 158\n",
      "Epoch: 0319/400 | Loss: 0.10667 | Total Wins: 159\n",
      "Epoch: 0320/400 | Loss: 0.05105 | Total Wins: 160\n",
      "Epoch: 0321/400 | Loss: 0.08219 | Total Wins: 161\n",
      "Epoch: 0322/400 | Loss: 0.05387 | Total Wins: 162\n",
      "Epoch: 0323/400 | Loss: 0.08024 | Total Wins: 163\n",
      "Epoch: 0324/400 | Loss: 0.12299 | Total Wins: 164\n",
      "Epoch: 0325/400 | Loss: 0.07003 | Total Wins: 165\n",
      "Epoch: 0326/400 | Loss: 0.07679 | Total Wins: 166\n",
      "Epoch: 0327/400 | Loss: 0.06777 | Total Wins: 167\n",
      "Epoch: 0328/400 | Loss: 0.04746 | Total Wins: 168\n",
      "Epoch: 0329/400 | Loss: 0.04977 | Total Wins: 169\n",
      "Epoch: 0330/400 | Loss: 0.06769 | Total Wins: 170\n"
     ]
    },
    {
     "name": "stdout",
     "output_type": "stream",
     "text": [
      "Epoch: 0331/400 | Loss: 0.07094 | Total Wins: 171\n",
      "Epoch: 0332/400 | Loss: 0.08962 | Total Wins: 172\n",
      "Epoch: 0333/400 | Loss: 0.10128 | Total Wins: 173\n",
      "Epoch: 0334/400 | Loss: 0.07521 | Total Wins: 174\n",
      "Epoch: 0335/400 | Loss: 0.08981 | Total Wins: 175\n",
      "Epoch: 0336/400 | Loss: 0.06786 | Total Wins: 176\n",
      "Epoch: 0337/400 | Loss: 0.10185 | Total Wins: 177\n",
      "Epoch: 0338/400 | Loss: 0.10372 | Total Wins: 178\n",
      "Epoch: 0339/400 | Loss: 0.04430 | Total Wins: 179\n",
      "Epoch: 0340/400 | Loss: 0.05934 | Total Wins: 180\n",
      "Epoch: 0341/400 | Loss: 0.05126 | Total Wins: 181\n",
      "Epoch: 0342/400 | Loss: 0.09110 | Total Wins: 182\n",
      "Epoch: 0343/400 | Loss: 0.04790 | Total Wins: 183\n",
      "Epoch: 0344/400 | Loss: 0.07224 | Total Wins: 184\n",
      "Epoch: 0345/400 | Loss: 0.05431 | Total Wins: 185\n",
      "Epoch: 0346/400 | Loss: 0.06039 | Total Wins: 186\n",
      "Epoch: 0347/400 | Loss: 0.05092 | Total Wins: 187\n",
      "Epoch: 0348/400 | Loss: 0.03789 | Total Wins: 188\n",
      "Epoch: 0349/400 | Loss: 0.07112 | Total Wins: 189\n",
      "Epoch: 0350/400 | Loss: 0.10984 | Total Wins: 190\n",
      "Epoch: 0351/400 | Loss: 0.06663 | Total Wins: 191\n",
      "Epoch: 0352/400 | Loss: 0.05401 | Total Wins: 192\n",
      "Epoch: 0353/400 | Loss: 0.06177 | Total Wins: 193\n",
      "Epoch: 0354/400 | Loss: 0.04496 | Total Wins: 194\n",
      "Epoch: 0355/400 | Loss: 0.04637 | Total Wins: 195\n",
      "Epoch: 0356/400 | Loss: 0.04377 | Total Wins: 196\n",
      "Epoch: 0357/400 | Loss: 0.05323 | Total Wins: 197\n",
      "Epoch: 0358/400 | Loss: 0.05705 | Total Wins: 198\n",
      "Epoch: 0359/400 | Loss: 0.05230 | Total Wins: 199\n",
      "Epoch: 0360/400 | Loss: 0.07110 | Total Wins: 200\n",
      "Epoch: 0361/400 | Loss: 0.04616 | Total Wins: 201\n",
      "Epoch: 0362/400 | Loss: 0.07572 | Total Wins: 202\n",
      "Epoch: 0363/400 | Loss: 0.05593 | Total Wins: 203\n",
      "Epoch: 0364/400 | Loss: 0.05857 | Total Wins: 204\n",
      "Epoch: 0365/400 | Loss: 0.07237 | Total Wins: 205\n",
      "Epoch: 0366/400 | Loss: 0.06304 | Total Wins: 206\n",
      "Epoch: 0367/400 | Loss: 0.08101 | Total Wins: 207\n",
      "Epoch: 0368/400 | Loss: 0.06833 | Total Wins: 208\n",
      "Epoch: 0369/400 | Loss: 0.04463 | Total Wins: 209\n",
      "Epoch: 0370/400 | Loss: 0.07513 | Total Wins: 210\n",
      "Epoch: 0371/400 | Loss: 0.05750 | Total Wins: 211\n",
      "Epoch: 0372/400 | Loss: 0.08662 | Total Wins: 212\n",
      "Epoch: 0373/400 | Loss: 0.07095 | Total Wins: 213\n",
      "Epoch: 0374/400 | Loss: 0.12409 | Total Wins: 214\n",
      "Epoch: 0375/400 | Loss: 0.04504 | Total Wins: 215\n",
      "Epoch: 0376/400 | Loss: 0.08401 | Total Wins: 216\n",
      "Epoch: 0377/400 | Loss: 0.07488 | Total Wins: 217\n",
      "Epoch: 0378/400 | Loss: 0.05167 | Total Wins: 218\n",
      "Epoch: 0379/400 | Loss: 0.08100 | Total Wins: 219\n",
      "Epoch: 0380/400 | Loss: 0.04680 | Total Wins: 220\n",
      "Epoch: 0381/400 | Loss: 0.04268 | Total Wins: 221\n",
      "Epoch: 0382/400 | Loss: 0.07262 | Total Wins: 222\n",
      "Epoch: 0383/400 | Loss: 0.07539 | Total Wins: 223\n",
      "Epoch: 0384/400 | Loss: 0.07604 | Total Wins: 224\n",
      "Epoch: 0385/400 | Loss: 0.06538 | Total Wins: 225\n",
      "Epoch: 0386/400 | Loss: 0.04723 | Total Wins: 226\n",
      "Epoch: 0387/400 | Loss: 0.05212 | Total Wins: 227\n",
      "Epoch: 0388/400 | Loss: 0.04308 | Total Wins: 228\n",
      "Epoch: 0389/400 | Loss: 0.05113 | Total Wins: 229\n",
      "Epoch: 0390/400 | Loss: 0.06723 | Total Wins: 230\n",
      "Epoch: 0391/400 | Loss: 0.12941 | Total Wins: 231\n",
      "Epoch: 0392/400 | Loss: 0.12592 | Total Wins: 231\n",
      "Epoch: 0393/400 | Loss: 0.05017 | Total Wins: 232\n",
      "Epoch: 0394/400 | Loss: 0.06176 | Total Wins: 233\n",
      "Epoch: 0395/400 | Loss: 0.06978 | Total Wins: 234\n",
      "Epoch: 0396/400 | Loss: 0.06608 | Total Wins: 235\n",
      "Epoch: 0397/400 | Loss: 0.08132 | Total Wins: 236\n",
      "Epoch: 0398/400 | Loss: 0.07049 | Total Wins: 237\n",
      "Epoch: 0399/400 | Loss: 0.05819 | Total Wins: 238\n",
      "Epoch: 0400/400 | Loss: 0.04506 | Total Wins: 239\n"
     ]
    }
   ],
   "source": [
    "num_wins = 0\n",
    "epsilon = 0.1 # 랜덤 행동 선택 확률\n",
    "gamma = 0.99  # discount factor (미래 보상 비율)\n",
    "experience = collections.deque(maxlen=50000)\n",
    "losses = []\n",
    "epochs = 400\n",
    "\n",
    "for epoch in range(epochs): # ~100: observe, 100~ : train\n",
    "    # game reset\n",
    "    frames = collections.deque(maxlen=4)\n",
    "    \n",
    "    paddle_x = 200\n",
    "    ball_x = np.random.randint(400-20)\n",
    "    ball_y = 10 # ceiling\n",
    "    paddle_velocity = 20\n",
    "    ball_velocity = 10\n",
    "    \n",
    "    num_tries = 0\n",
    "    game_score = 0\n",
    "    game_over = False\n",
    "    first_frame = True\n",
    "    loss = 0.0\n",
    "\n",
    "    screen = pygame.display.set_mode((400,400))\n",
    "    clock = pygame.time.Clock()\n",
    "    \n",
    "    # game restart\n",
    "    while not game_over:\n",
    "        if not first_frame: s_tm1 = s_t\n",
    "        \n",
    "        if epoch<100:\n",
    "            a_t = np.random.randint(3)\n",
    "        else:\n",
    "            if np.random.rand()<=epsilon or first_frame:\n",
    "                a_t = np.random.randint(3)\n",
    "            else:\n",
    "                q = model.predict(s_t)[0]\n",
    "                a_t = np.argmax(q)  # 0: left, 1: stay, 2: right\n",
    "        \n",
    "        # DO ACTION!!\n",
    "        frame, r_t, game_over = step(a_t) # r_t -> 1: win, -1: lose, 0: playing\n",
    "        \n",
    "        if r_t == 1: num_wins += 1\n",
    "        \n",
    "        img = (imresize(frame, [80,80]).astype('float'))/255.\n",
    "        if len(frames)==0:\n",
    "            for i in range(4): frames.append(img) # 게임 시작시 4 프레임을 모두 첫화면으로 채운다 \n",
    "        else:\n",
    "            frames.append(img)\n",
    "        \n",
    "        s_t = np.moveaxis(np.array(frames), 0, 2) # (4,80,80) -> (80,80,4)\n",
    "        s_t = np.expand_dims(s_t, axis=0) # (1,80,80,4)\n",
    "        \n",
    "        if first_frame:\n",
    "            first_frame=False\n",
    "            continue\n",
    "            \n",
    "        ### 첫화면이 아닐 때 실행\n",
    "        experience.append([s_tm1, a_t, r_t, s_t, game_over])\n",
    "            \n",
    "        if epoch >= 100:\n",
    "            ### batch size is 32\n",
    "            indices = np.random.randint(len(experience), size=32)\n",
    "            batch = [experience[i] for i in indices]\n",
    "            \n",
    "            X = np.zeros([32,80,80,4])\n",
    "            Y = np.zeros([32,3])\n",
    "            \n",
    "            for i in range(32):\n",
    "                b_s_t, b_a_t, b_r_t, b_s_tp1, b_game_over = batch[i]\n",
    "                X[i] = b_s_t\n",
    "                Y[i] = model.predict(b_s_t)[0]\n",
    "                if b_game_over:\n",
    "                    Y[i,b_a_t] = b_r_t\n",
    "                else:\n",
    "                    Y[i,b_a_t] = b_r_t + gamma*np.max(model.predict(b_s_tp1)[0])\n",
    "                    \n",
    "            loss += model.train_on_batch(X, Y)\n",
    "        \n",
    "    if epsilon > 0.0001:\n",
    "        epsilon -= (0.1 - 0.0001)/epochs\n",
    "        \n",
    "    print('Epoch: %04d/%d | Loss: %.5f | Total Wins: %d' % (epoch+1,epochs, loss, num_wins))\n",
    "    losses.append(loss)"
   ]
  },
  {
   "cell_type": "code",
   "execution_count": 12,
   "metadata": {},
   "outputs": [],
   "source": [
    "pygame.quit()"
   ]
  },
  {
   "cell_type": "markdown",
   "metadata": {},
   "source": [
    "### 평가"
   ]
  },
  {
   "cell_type": "code",
   "execution_count": 13,
   "metadata": {},
   "outputs": [],
   "source": [
    "rewards = np.array([experience[i][2] for i in range(len(experience)) if i%32==31])"
   ]
  },
  {
   "cell_type": "code",
   "execution_count": 14,
   "metadata": {},
   "outputs": [
    {
     "data": {
      "text/plain": [
       "(-19.950000000000003, 418.95, -11.950000000000001, 250.95)"
      ]
     },
     "execution_count": 14,
     "metadata": {},
     "output_type": "execute_result"
    },
    {
     "data": {
      "image/png": "[encoded data removed]",
      "text/plain": [
       "<Figure size 432x288 with 1 Axes>"
      ]
     },
     "metadata": {},
     "output_type": "display_data"
    }
   ],
   "source": [
    "plt.plot([0,epochs-1], [0,num_wins], 'k:')\n",
    "plt.plot(np.cumsum(rewards==1))\n",
    "plt.axis('scaled')"
   ]
  },
  {
   "cell_type": "code",
   "execution_count": 15,
   "metadata": {},
   "outputs": [
    {
     "data": {
      "text/plain": [
       "12800"
      ]
     },
     "execution_count": 15,
     "metadata": {},
     "output_type": "execute_result"
    }
   ],
   "source": [
    "len(experience)"
   ]
  },
  {
   "cell_type": "code",
   "execution_count": null,
   "metadata": {},
   "outputs": [],
   "source": []
  },
  {
   "cell_type": "markdown",
   "metadata": {},
   "source": [
    "### 모델 저장 및 로딩"
   ]
  },
  {
   "cell_type": "code",
   "execution_count": 16,
   "metadata": {},
   "outputs": [
    {
     "data": {
      "text/plain": [
       "12800"
      ]
     },
     "execution_count": 16,
     "metadata": {},
     "output_type": "execute_result"
    }
   ],
   "source": [
    "rs = [experience[2] for i in range(len(experience))]\n",
    "len(rs)"
   ]
  },
  {
   "cell_type": "code",
   "execution_count": 17,
   "metadata": {},
   "outputs": [],
   "source": [
    "np.save('rewards.npy', rs)"
   ]
  },
  {
   "cell_type": "code",
   "execution_count": 18,
   "metadata": {
    "scrolled": false
   },
   "outputs": [],
   "source": [
    "model.save('catch.h5')"
   ]
  },
  {
   "cell_type": "code",
   "execution_count": 19,
   "metadata": {},
   "outputs": [],
   "source": [
    "from keras.models import load_model\n",
    "\n",
    "model2 = load_model('catch.h5')\n",
    "model2.compile(loss='mse', optimizer='rmsprop')"
   ]
  },
  {
   "cell_type": "markdown",
   "metadata": {},
   "source": [
    "### 개선 방안\n",
    "- [카카오AI리포트]알파고를 만든 강화학습 비밀 (https://brunch.co.kr/@kakao-it/102)\n",
    "- Double DQN : 목표값에 적용할 Q 값을 구할 때는 느린 모델을 적용하고, 최적의 행동을 선택할 때는 매번 훈련에 의해 갱신되는 Q 값을 적용한다. (비슷한 두개의 모델을 적용하는 것으로, 주기적으로 목표값용 모델을 업데이트 해준다.)<br>\n",
    "> $ Q(s,a) = r + \\gamma \\cdot max_a' Q(s',a') $ => 최적 행동 결정 (빠른 모델)<br>\n",
    "> $ Q'(s,a) \\leftarrow Q(s,a) $ when some time elapsed => 미래 총보상값 계산 (느린 모델)<br><br>\n",
    "- Dueling DQN : 현재 상태의 value-function 과 Q 값 보정치를 신경망 결과로 따로 얻는다.<br>\n",
    "> $$ Q(s,a) = V(s) + A(s,a) $$<br>\n",
    "- Monte Carlo Algorism : 랜덤하게 시행해 봐서 어떤 상황의 예측치를 추정하는 방식 (주사위 던지기)\n",
    "- MCTS (Monte Carlo Tree Search) : 행동을 선택할 때 그냥 현재까지의 최적의 행동을 선택하는 것이 아니라, 제일 괜찮은 행동 몇가지를 뽑아내고 이 행동들에 대해 트리 서치를 이용하여 충분히 시뮬레이션을 시행한 후 그 중 시뮬레이션 결과가 가장 좋은 행동으로 최종 결정한다."
   ]
  },
  {
   "cell_type": "code",
   "execution_count": null,
   "metadata": {},
   "outputs": [],
   "source": []
  }
 ],
 "metadata": {
  "kernelspec": {
   "display_name": "Python 3",
   "language": "python",
   "name": "python3"
  },
  "language_info": {
   "codemirror_mode": {
    "name": "ipython",
    "version": 3
   },
   "file_extension": ".py",
   "mimetype": "text/x-python",
   "name": "python",
   "nbconvert_exporter": "python",
   "pygments_lexer": "ipython3",
   "version": "3.7.4"
  }
 },
 "nbformat": 4,
 "nbformat_minor": 2
}
