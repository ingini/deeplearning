{
 "cells": [
  {
   "cell_type": "markdown",
   "metadata": {},
   "source": [
    "## 빅데이터 활용 AI 설계\n",
    "# LSTM 문자 예측기"
   ]
  },
  {
   "cell_type": "code",
   "execution_count": 1,
   "metadata": {},
   "outputs": [],
   "source": [
    "import numpy as np\n",
    "import pandas as pd\n",
    "import matplotlib.pyplot as plt"
   ]
  },
  {
   "cell_type": "markdown",
   "metadata": {},
   "source": [
    "### 데이터 전처리"
   ]
  },
  {
   "cell_type": "code",
   "execution_count": 3,
   "metadata": {
    "collapsed": true
   },
   "outputs": [
    {
     "data": {
      "text/plain": [
       "\"아침저녁 선선하지만 낮엔 여전히 덥다. 오전 최저 17~23도, 낮 최고 26~30도. 전북은 오전, 영동지방과 제주도, 남해안은 오후에 곳곳 비 내리겠다. \\n\\n☞공기와 자외선=공기 맑은 일요일. 미세먼지 지수 '좋음,' 오존 '보통.' 오후에 대부분의 지역 자외선 '나쁨.' \\n\\n☞오늘은?=등산 가기 딱 좋은 날씨. 곧이 태백, 소백산맥의 깊은 산이 아니더라도 도시 부근의 명산에 요산인(樂山人)들이 몰릴 듯. 아직은 낮에 30도 오르내리므로 무리하지 않아야 한다. 산행에 욕심을 내거나 산을 무시하면 대가를 치른다는 것 명심해야 한다. \\n\\n산행 전에 자외선 차단제를 바르고 모자와 선글라스를 쓴다. 자외선 차단제는 2시간 마다 다시 바르도록 한다. 또 수건을 충분히 준비하고 땀을 흘려 저체온이 될 때를 대비해서 얇은 겉옷을 챙기는 것이 좋다. 물을 충분히 준비하고 30분마다 마시는 것도 잊지 말 것. \\n\\n여름에는 해충과 뱀이 활동하기 때문에 가급적 긴 바지를 입고, 뱀에게 물리거나 벌레에 쏘여 통증과 마비 증세가 나타나면 곧바로 119로 구조요청을 한다. \\n\\n과유불급, 어떤 식으로든 통증이 생겨 심해지면 곧바로 산행을 중단하고 천천히 내려와야 한다. 산행 전에도 관절을 충분히 풀고, 산행 뒤에도 관절 마사지와 스트레칭을 하는 것 잊지 말 것.\""
      ]
     },
     "execution_count": 3,
     "metadata": {},
     "output_type": "execute_result"
    }
   ],
   "source": [
    "f = open('날씨.txt', encoding='utf-8') # 'cp949'\n",
    "text = f.read()\n",
    "f.close()\n",
    "\n",
    "text"
   ]
  },
  {
   "cell_type": "code",
   "execution_count": 3,
   "metadata": {},
   "outputs": [
    {
     "name": "stdout",
     "output_type": "stream",
     "text": [
      "사용되고 있는 문자의 수: 190\n",
      "['\\n', ' ', \"'\", '(', ')', ',', '.', '0', '1', '2', '3', '6', '7', '9', '=', '?', '~', '☞', '人', '山', '가', '간', '거', '건', '것', '겉', '게', '겠', '겨', '고', '곧', '곳', '공', '과', '관', '구', '근', '글', '급', '기', '긴', '깊', '나', '날', '남', '낮', '내', '녁', '는', '늘', '니', '다', '단', '대', '더', '덥', '도', '동', '될', '뒤', '든', '들', '듯', '등', '딱', '땀', '때', '떤', '또', '라', '레', '려', '로', '록', '르', '른', '를', '름', '리', '릴', '마', '만', '말', '맑', '맥', '먼', '면', '명', '모', '몰', '무', '문', '물', '므', '미', '바', '방', '백', '뱀', '벌', '보', '부', '북', '분', '불', '비', '쁨', '사', '산', '생', '서', '선', '세', '소', '수', '스', '시', '식', '심', '쏘', '쓴', '씨', '아', '안', '않', '야', '얇', '어', '에', '엔', '여', '역', '영', '오', '온', '옷', '와', '외', '요', '욕', '유', '으', '은', '을', '음', '의', '이', '인', '일', '입', '잊', '자', '저', '적', '전', '절', '제', '조', '존', '좋', '주', '준', '중', '증', '지', '직', '차', '챙', '천', '청', '체', '최', '충', '치', '침', '칭', '타', '태', '통', '트', '풀', '하', '한', '해', '행', '활', '후', '흘', '히', '樂']\n"
     ]
    }
   ],
   "source": [
    "chars = sorted(list(set(text)))\n",
    "print('사용되고 있는 문자의 수:', len(chars))\n",
    "print(chars)"
   ]
  },
  {
   "cell_type": "code",
   "execution_count": 4,
   "metadata": {},
   "outputs": [],
   "source": [
    "char_indices = dict((c, i) for i, c in enumerate(chars)) # 문자 → ID\n",
    "indices_char = dict((i, c) for i, c in enumerate(chars)) # ID → 문자"
   ]
  },
  {
   "cell_type": "code",
   "execution_count": 5,
   "metadata": {},
   "outputs": [
    {
     "name": "stdout",
     "output_type": "stream",
     "text": [
      "{'\\n': 0, ' ': 1, \"'\": 2, '(': 3, ')': 4, ',': 5, '.': 6, '0': 7, '1': 8, '2': 9, '3': 10, '6': 11, '7': 12, '9': 13, '=': 14, '?': 15, '~': 16, '☞': 17, '人': 18, '山': 19, '가': 20, '간': 21, '거': 22, '건': 23, '것': 24, '겉': 25, '게': 26, '겠': 27, '겨': 28, '고': 29, '곧': 30, '곳': 31, '공': 32, '과': 33, '관': 34, '구': 35, '근': 36, '글': 37, '급': 38, '기': 39, '긴': 40, '깊': 41, '나': 42, '날': 43, '남': 44, '낮': 45, '내': 46, '녁': 47, '는': 48, '늘': 49, '니': 50, '다': 51, '단': 52, '대': 53, '더': 54, '덥': 55, '도': 56, '동': 57, '될': 58, '뒤': 59, '든': 60, '들': 61, '듯': 62, '등': 63, '딱': 64, '땀': 65, '때': 66, '떤': 67, '또': 68, '라': 69, '레': 70, '려': 71, '로': 72, '록': 73, '르': 74, '른': 75, '를': 76, '름': 77, '리': 78, '릴': 79, '마': 80, '만': 81, '말': 82, '맑': 83, '맥': 84, '먼': 85, '면': 86, '명': 87, '모': 88, '몰': 89, '무': 90, '문': 91, '물': 92, '므': 93, '미': 94, '바': 95, '방': 96, '백': 97, '뱀': 98, '벌': 99, '보': 100, '부': 101, '북': 102, '분': 103, '불': 104, '비': 105, '쁨': 106, '사': 107, '산': 108, '생': 109, '서': 110, '선': 111, '세': 112, '소': 113, '수': 114, '스': 115, '시': 116, '식': 117, '심': 118, '쏘': 119, '쓴': 120, '씨': 121, '아': 122, '안': 123, '않': 124, '야': 125, '얇': 126, '어': 127, '에': 128, '엔': 129, '여': 130, '역': 131, '영': 132, '오': 133, '온': 134, '옷': 135, '와': 136, '외': 137, '요': 138, '욕': 139, '유': 140, '으': 141, '은': 142, '을': 143, '음': 144, '의': 145, '이': 146, '인': 147, '일': 148, '입': 149, '잊': 150, '자': 151, '저': 152, '적': 153, '전': 154, '절': 155, '제': 156, '조': 157, '존': 158, '좋': 159, '주': 160, '준': 161, '중': 162, '증': 163, '지': 164, '직': 165, '차': 166, '챙': 167, '천': 168, '청': 169, '체': 170, '최': 171, '충': 172, '치': 173, '침': 174, '칭': 175, '타': 176, '태': 177, '통': 178, '트': 179, '풀': 180, '하': 181, '한': 182, '해': 183, '행': 184, '활': 185, '후': 186, '흘': 187, '히': 188, '樂': 189}\n",
      "{0: '\\n', 1: ' ', 2: \"'\", 3: '(', 4: ')', 5: ',', 6: '.', 7: '0', 8: '1', 9: '2', 10: '3', 11: '6', 12: '7', 13: '9', 14: '=', 15: '?', 16: '~', 17: '☞', 18: '人', 19: '山', 20: '가', 21: '간', 22: '거', 23: '건', 24: '것', 25: '겉', 26: '게', 27: '겠', 28: '겨', 29: '고', 30: '곧', 31: '곳', 32: '공', 33: '과', 34: '관', 35: '구', 36: '근', 37: '글', 38: '급', 39: '기', 40: '긴', 41: '깊', 42: '나', 43: '날', 44: '남', 45: '낮', 46: '내', 47: '녁', 48: '는', 49: '늘', 50: '니', 51: '다', 52: '단', 53: '대', 54: '더', 55: '덥', 56: '도', 57: '동', 58: '될', 59: '뒤', 60: '든', 61: '들', 62: '듯', 63: '등', 64: '딱', 65: '땀', 66: '때', 67: '떤', 68: '또', 69: '라', 70: '레', 71: '려', 72: '로', 73: '록', 74: '르', 75: '른', 76: '를', 77: '름', 78: '리', 79: '릴', 80: '마', 81: '만', 82: '말', 83: '맑', 84: '맥', 85: '먼', 86: '면', 87: '명', 88: '모', 89: '몰', 90: '무', 91: '문', 92: '물', 93: '므', 94: '미', 95: '바', 96: '방', 97: '백', 98: '뱀', 99: '벌', 100: '보', 101: '부', 102: '북', 103: '분', 104: '불', 105: '비', 106: '쁨', 107: '사', 108: '산', 109: '생', 110: '서', 111: '선', 112: '세', 113: '소', 114: '수', 115: '스', 116: '시', 117: '식', 118: '심', 119: '쏘', 120: '쓴', 121: '씨', 122: '아', 123: '안', 124: '않', 125: '야', 126: '얇', 127: '어', 128: '에', 129: '엔', 130: '여', 131: '역', 132: '영', 133: '오', 134: '온', 135: '옷', 136: '와', 137: '외', 138: '요', 139: '욕', 140: '유', 141: '으', 142: '은', 143: '을', 144: '음', 145: '의', 146: '이', 147: '인', 148: '일', 149: '입', 150: '잊', 151: '자', 152: '저', 153: '적', 154: '전', 155: '절', 156: '제', 157: '조', 158: '존', 159: '좋', 160: '주', 161: '준', 162: '중', 163: '증', 164: '지', 165: '직', 166: '차', 167: '챙', 168: '천', 169: '청', 170: '체', 171: '최', 172: '충', 173: '치', 174: '침', 175: '칭', 176: '타', 177: '태', 178: '통', 179: '트', 180: '풀', 181: '하', 182: '한', 183: '해', 184: '행', 185: '활', 186: '후', 187: '흘', 188: '히', 189: '樂'}\n"
     ]
    }
   ],
   "source": [
    "print(char_indices)\n",
    "print(indices_char)"
   ]
  },
  {
   "cell_type": "code",
   "execution_count": 6,
   "metadata": {},
   "outputs": [],
   "source": [
    "maxlen = 20\n",
    "step = 3\n",
    "sentences = []\n",
    "next_chars = []\n",
    "\n",
    "for i in range(0, len(text) - maxlen, step):\n",
    "    sentences.append(text[i: i + maxlen])\n",
    "    next_chars.append(text[i + maxlen])"
   ]
  },
  {
   "cell_type": "code",
   "execution_count": 7,
   "metadata": {},
   "outputs": [
    {
     "name": "stdout",
     "output_type": "stream",
     "text": [
      "('아침저녁 선선하지만 낮엔 여전히 덥다', '.')\n",
      "('녁 선선하지만 낮엔 여전히 덥다. 오', '전')\n",
      "('선하지만 낮엔 여전히 덥다. 오전 최', '저')\n",
      "('만 낮엔 여전히 덥다. 오전 최저 1', '7')\n",
      "('엔 여전히 덥다. 오전 최저 17~2', '3')\n",
      "('전히 덥다. 오전 최저 17~23도,', ' ')\n",
      "('덥다. 오전 최저 17~23도, 낮 ', '최')\n",
      "(' 오전 최저 17~23도, 낮 최고 ', '2')\n",
      "(' 최저 17~23도, 낮 최고 26~', '3')\n",
      "(' 17~23도, 낮 최고 26~30도', '.')\n",
      "('~23도, 낮 최고 26~30도. 전', '북')\n",
      "('도, 낮 최고 26~30도. 전북은 ', '오')\n",
      "('낮 최고 26~30도. 전북은 오전,', ' ')\n",
      "('고 26~30도. 전북은 오전, 영동', '지')\n",
      "('6~30도. 전북은 오전, 영동지방과', ' ')\n",
      "('0도. 전북은 오전, 영동지방과 제주', '도')\n",
      "(' 전북은 오전, 영동지방과 제주도, ', '남')\n",
      "('은 오전, 영동지방과 제주도, 남해안', '은')\n",
      "('전, 영동지방과 제주도, 남해안은 오', '후')\n",
      "('영동지방과 제주도, 남해안은 오후에 ', '곳')\n",
      "('방과 제주도, 남해안은 오후에 곳곳 ', '비')\n",
      "('제주도, 남해안은 오후에 곳곳 비 내', '리')\n",
      "(', 남해안은 오후에 곳곳 비 내리겠다', '.')\n",
      "('해안은 오후에 곳곳 비 내리겠다. \\n', '\\n')\n",
      "(' 오후에 곳곳 비 내리겠다. \\n\\n☞공', '기')\n",
      "('에 곳곳 비 내리겠다. \\n\\n☞공기와 ', '자')\n",
      "('곳 비 내리겠다. \\n\\n☞공기와 자외선', '=')\n",
      "(' 내리겠다. \\n\\n☞공기와 자외선=공기', ' ')\n",
      "('겠다. \\n\\n☞공기와 자외선=공기 맑은', ' ')\n",
      "(' \\n\\n☞공기와 자외선=공기 맑은 일요', '일')\n",
      "('☞공기와 자외선=공기 맑은 일요일. ', '미')\n",
      "('와 자외선=공기 맑은 일요일. 미세먼', '지')\n",
      "('외선=공기 맑은 일요일. 미세먼지 지', '수')\n",
      "(\"공기 맑은 일요일. 미세먼지 지수 '\", '좋')\n",
      "(\"맑은 일요일. 미세먼지 지수 '좋음,\", \"'\")\n",
      "(\"일요일. 미세먼지 지수 '좋음,' 오\", '존')\n",
      "(\". 미세먼지 지수 '좋음,' 오존 '\", '보')\n",
      "(\"세먼지 지수 '좋음,' 오존 '보통.\", \"'\")\n",
      "(\" 지수 '좋음,' 오존 '보통.' 오\", '후')\n",
      "(\" '좋음,' 오존 '보통.' 오후에 \", '대')\n",
      "(\"음,' 오존 '보통.' 오후에 대부분\", '의')\n",
      "(\" 오존 '보통.' 오후에 대부분의 지\", '역')\n",
      "(\" '보통.' 오후에 대부분의 지역 자\", '외')\n",
      "(\"통.' 오후에 대부분의 지역 자외선 \", \"'\")\n",
      "(\" 오후에 대부분의 지역 자외선 '나쁨\", '.')\n",
      "(\"에 대부분의 지역 자외선 '나쁨.' \", '\\n')\n",
      "(\"부분의 지역 자외선 '나쁨.' \\n\\n☞\", '오')\n",
      "(\" 지역 자외선 '나쁨.' \\n\\n☞오늘은\", '?')\n",
      "(\" 자외선 '나쁨.' \\n\\n☞오늘은?=등\", '산')\n",
      "(\"선 '나쁨.' \\n\\n☞오늘은?=등산 가\", '기')\n",
      "(\"나쁨.' \\n\\n☞오늘은?=등산 가기 딱\", ' ')\n",
      "(\"' \\n\\n☞오늘은?=등산 가기 딱 좋은\", ' ')\n",
      "('\\n☞오늘은?=등산 가기 딱 좋은 날씨', '.')\n",
      "('늘은?=등산 가기 딱 좋은 날씨. 곧', '이')\n",
      "('=등산 가기 딱 좋은 날씨. 곧이 태', '백')\n",
      "(' 가기 딱 좋은 날씨. 곧이 태백, ', '소')\n",
      "(' 딱 좋은 날씨. 곧이 태백, 소백산', '맥')\n",
      "('좋은 날씨. 곧이 태백, 소백산맥의 ', '깊')\n",
      "('날씨. 곧이 태백, 소백산맥의 깊은 ', '산')\n",
      "(' 곧이 태백, 소백산맥의 깊은 산이 ', '아')\n",
      "(' 태백, 소백산맥의 깊은 산이 아니더', '라')\n",
      "(', 소백산맥의 깊은 산이 아니더라도 ', '도')\n",
      "('백산맥의 깊은 산이 아니더라도 도시 ', '부')\n",
      "('의 깊은 산이 아니더라도 도시 부근의', ' ')\n",
      "('은 산이 아니더라도 도시 부근의 명산', '에')\n",
      "('이 아니더라도 도시 부근의 명산에 요', '산')\n",
      "('니더라도 도시 부근의 명산에 요산인(', '樂')\n",
      "('도 도시 부근의 명산에 요산인(樂山人', ')')\n",
      "('시 부근의 명산에 요산인(樂山人)들이', ' ')\n",
      "('근의 명산에 요산인(樂山人)들이 몰릴', ' ')\n",
      "('명산에 요산인(樂山人)들이 몰릴 듯.', ' ')\n",
      "(' 요산인(樂山人)들이 몰릴 듯. 아직', '은')\n",
      "('인(樂山人)들이 몰릴 듯. 아직은 낮', '에')\n",
      "('山人)들이 몰릴 듯. 아직은 낮에 3', '0')\n",
      "('들이 몰릴 듯. 아직은 낮에 30도 ', '오')\n",
      "('몰릴 듯. 아직은 낮에 30도 오르내', '리')\n",
      "('듯. 아직은 낮에 30도 오르내리므로', ' ')\n",
      "('아직은 낮에 30도 오르내리므로 무리', '하')\n",
      "(' 낮에 30도 오르내리므로 무리하지 ', '않')\n",
      "(' 30도 오르내리므로 무리하지 않아야', ' ')\n",
      "('도 오르내리므로 무리하지 않아야 한다', '.')\n",
      "('르내리므로 무리하지 않아야 한다. 산', '행')\n",
      "('므로 무리하지 않아야 한다. 산행에 ', '욕')\n",
      "('무리하지 않아야 한다. 산행에 욕심을', ' ')\n",
      "('지 않아야 한다. 산행에 욕심을 내거', '나')\n",
      "('아야 한다. 산행에 욕심을 내거나 산', '을')\n",
      "('한다. 산행에 욕심을 내거나 산을 무', '시')\n",
      "(' 산행에 욕심을 내거나 산을 무시하면', ' ')\n",
      "('에 욕심을 내거나 산을 무시하면 대가', '를')\n",
      "('심을 내거나 산을 무시하면 대가를 치', '른')\n",
      "('내거나 산을 무시하면 대가를 치른다는', ' ')\n",
      "(' 산을 무시하면 대가를 치른다는 것 ', '명')\n",
      "(' 무시하면 대가를 치른다는 것 명심해', '야')\n",
      "('하면 대가를 치른다는 것 명심해야 한', '다')\n",
      "('대가를 치른다는 것 명심해야 한다. ', '\\n')\n",
      "(' 치른다는 것 명심해야 한다. \\n\\n산', '행')\n",
      "('다는 것 명심해야 한다. \\n\\n산행 전', '에')\n",
      "('것 명심해야 한다. \\n\\n산행 전에 자', '외')\n",
      "('심해야 한다. \\n\\n산행 전에 자외선 ', '차')\n",
      "(' 한다. \\n\\n산행 전에 자외선 차단제', '를')\n",
      "('. \\n\\n산행 전에 자외선 차단제를 바', '르')\n",
      "('\\n산행 전에 자외선 차단제를 바르고 ', '모')\n",
      "(' 전에 자외선 차단제를 바르고 모자와', ' ')\n",
      "(' 자외선 차단제를 바르고 모자와 선글', '라')\n",
      "('선 차단제를 바르고 모자와 선글라스를', ' ')\n",
      "('단제를 바르고 모자와 선글라스를 쓴다', '.')\n",
      "(' 바르고 모자와 선글라스를 쓴다. 자', '외')\n",
      "('고 모자와 선글라스를 쓴다. 자외선 ', '차')\n",
      "('자와 선글라스를 쓴다. 자외선 차단제', '는')\n",
      "('선글라스를 쓴다. 자외선 차단제는 2', '시')\n",
      "('스를 쓴다. 자외선 차단제는 2시간 ', '마')\n",
      "('쓴다. 자외선 차단제는 2시간 마다 ', '다')\n",
      "(' 자외선 차단제는 2시간 마다 다시 ', '바')\n",
      "('선 차단제는 2시간 마다 다시 바르도', '록')\n",
      "('단제는 2시간 마다 다시 바르도록 한', '다')\n",
      "(' 2시간 마다 다시 바르도록 한다. ', '또')\n",
      "('간 마다 다시 바르도록 한다. 또 수', '건')\n",
      "('다 다시 바르도록 한다. 또 수건을 ', '충')\n",
      "('시 바르도록 한다. 또 수건을 충분히', ' ')\n",
      "('르도록 한다. 또 수건을 충분히 준비', '하')\n",
      "(' 한다. 또 수건을 충분히 준비하고 ', '땀')\n",
      "('. 또 수건을 충분히 준비하고 땀을 ', '흘')\n",
      "(' 수건을 충분히 준비하고 땀을 흘려 ', '저')\n",
      "('을 충분히 준비하고 땀을 흘려 저체온', '이')\n",
      "('분히 준비하고 땀을 흘려 저체온이 될', ' ')\n",
      "('준비하고 땀을 흘려 저체온이 될 때를', ' ')\n",
      "('고 땀을 흘려 저체온이 될 때를 대비', '해')\n",
      "('을 흘려 저체온이 될 때를 대비해서 ', '얇')\n",
      "('려 저체온이 될 때를 대비해서 얇은 ', '겉')\n",
      "('체온이 될 때를 대비해서 얇은 겉옷을', ' ')\n",
      "(' 될 때를 대비해서 얇은 겉옷을 챙기', '는')\n",
      "('때를 대비해서 얇은 겉옷을 챙기는 것', '이')\n",
      "('대비해서 얇은 겉옷을 챙기는 것이 좋', '다')\n",
      "('서 얇은 겉옷을 챙기는 것이 좋다. ', '물')\n",
      "('은 겉옷을 챙기는 것이 좋다. 물을 ', '충')\n",
      "('옷을 챙기는 것이 좋다. 물을 충분히', ' ')\n",
      "('챙기는 것이 좋다. 물을 충분히 준비', '하')\n",
      "(' 것이 좋다. 물을 충분히 준비하고 ', '3')\n",
      "(' 좋다. 물을 충분히 준비하고 30분', '마')\n",
      "('. 물을 충분히 준비하고 30분마다 ', '마')\n",
      "('을 충분히 준비하고 30분마다 마시는', ' ')\n",
      "('분히 준비하고 30분마다 마시는 것도', ' ')\n",
      "('준비하고 30분마다 마시는 것도 잊지', ' ')\n",
      "('고 30분마다 마시는 것도 잊지 말 ', '것')\n",
      "('0분마다 마시는 것도 잊지 말 것. ', '\\n')\n",
      "('다 마시는 것도 잊지 말 것. \\n\\n여', '름')\n",
      "('시는 것도 잊지 말 것. \\n\\n여름에는', ' ')\n",
      "('것도 잊지 말 것. \\n\\n여름에는 해충', '과')\n",
      "('잊지 말 것. \\n\\n여름에는 해충과 뱀', '이')\n",
      "('말 것. \\n\\n여름에는 해충과 뱀이 활', '동')\n",
      "('. \\n\\n여름에는 해충과 뱀이 활동하기', ' ')\n",
      "('\\n여름에는 해충과 뱀이 활동하기 때문', '에')\n",
      "('에는 해충과 뱀이 활동하기 때문에 가', '급')\n",
      "('해충과 뱀이 활동하기 때문에 가급적 ', '긴')\n",
      "(' 뱀이 활동하기 때문에 가급적 긴 바', '지')\n",
      "(' 활동하기 때문에 가급적 긴 바지를 ', '입')\n",
      "('하기 때문에 가급적 긴 바지를 입고,', ' ')\n",
      "('때문에 가급적 긴 바지를 입고, 뱀에', '게')\n",
      "(' 가급적 긴 바지를 입고, 뱀에게 물', '리')\n",
      "('적 긴 바지를 입고, 뱀에게 물리거나', ' ')\n",
      "(' 바지를 입고, 뱀에게 물리거나 벌레', '에')\n",
      "('를 입고, 뱀에게 물리거나 벌레에 쏘', '여')\n",
      "('고, 뱀에게 물리거나 벌레에 쏘여 통', '증')\n",
      "('뱀에게 물리거나 벌레에 쏘여 통증과 ', '마')\n",
      "(' 물리거나 벌레에 쏘여 통증과 마비 ', '증')\n",
      "('거나 벌레에 쏘여 통증과 마비 증세가', ' ')\n",
      "('벌레에 쏘여 통증과 마비 증세가 나타', '나')\n",
      "(' 쏘여 통증과 마비 증세가 나타나면 ', '곧')\n",
      "(' 통증과 마비 증세가 나타나면 곧바로', ' ')\n",
      "('과 마비 증세가 나타나면 곧바로 11', '9')\n",
      "('비 증세가 나타나면 곧바로 119로 ', '구')\n",
      "('세가 나타나면 곧바로 119로 구조요', '청')\n",
      "('나타나면 곧바로 119로 구조요청을 ', '한')\n",
      "('면 곧바로 119로 구조요청을 한다.', ' ')\n",
      "('바로 119로 구조요청을 한다. \\n\\n', '과')\n",
      "('119로 구조요청을 한다. \\n\\n과유불', '급')\n",
      "('로 구조요청을 한다. \\n\\n과유불급, ', '어')\n",
      "('조요청을 한다. \\n\\n과유불급, 어떤 ', '식')\n",
      "('을 한다. \\n\\n과유불급, 어떤 식으로', '든')\n",
      "('다. \\n\\n과유불급, 어떤 식으로든 통', '증')\n",
      "('\\n\\n과유불급, 어떤 식으로든 통증이 ', '생')\n",
      "('유불급, 어떤 식으로든 통증이 생겨 ', '심')\n",
      "(', 어떤 식으로든 통증이 생겨 심해지', '면')\n",
      "('떤 식으로든 통증이 생겨 심해지면 곧', '바')\n",
      "('으로든 통증이 생겨 심해지면 곧바로 ', '산')\n",
      "(' 통증이 생겨 심해지면 곧바로 산행을', ' ')\n",
      "('이 생겨 심해지면 곧바로 산행을 중단', '하')\n",
      "('겨 심해지면 곧바로 산행을 중단하고 ', '천')\n",
      "('해지면 곧바로 산행을 중단하고 천천히', ' ')\n",
      "(' 곧바로 산행을 중단하고 천천히 내려', '와')\n",
      "('로 산행을 중단하고 천천히 내려와야 ', '한')\n",
      "('행을 중단하고 천천히 내려와야 한다.', ' ')\n",
      "('중단하고 천천히 내려와야 한다. 산행', ' ')\n",
      "('고 천천히 내려와야 한다. 산행 전에', '도')\n",
      "('천히 내려와야 한다. 산행 전에도 관', '절')\n",
      "('내려와야 한다. 산행 전에도 관절을 ', '충')\n",
      "('야 한다. 산행 전에도 관절을 충분히', ' ')\n",
      "('다. 산행 전에도 관절을 충분히 풀고', ',')\n",
      "('산행 전에도 관절을 충분히 풀고, 산', '행')\n",
      "('전에도 관절을 충분히 풀고, 산행 뒤', '에')\n",
      "(' 관절을 충분히 풀고, 산행 뒤에도 ', '관')\n",
      "('을 충분히 풀고, 산행 뒤에도 관절 ', '마')\n",
      "('분히 풀고, 산행 뒤에도 관절 마사지', '와')\n",
      "('풀고, 산행 뒤에도 관절 마사지와 스', '트')\n",
      "(' 산행 뒤에도 관절 마사지와 스트레칭', '을')\n",
      "(' 뒤에도 관절 마사지와 스트레칭을 하', '는')\n",
      "('도 관절 마사지와 스트레칭을 하는 것', ' ')\n",
      "('절 마사지와 스트레칭을 하는 것 잊지', ' ')\n",
      "('사지와 스트레칭을 하는 것 잊지 말 ', '것')\n"
     ]
    }
   ],
   "source": [
    "for i in zip(sentences, next_chars):\n",
    "    print(i)"
   ]
  },
  {
   "cell_type": "code",
   "execution_count": 8,
   "metadata": {},
   "outputs": [],
   "source": [
    "X = np.zeros((len(sentences), maxlen, len(chars)), dtype=np.bool)\n",
    "y = np.zeros((len(sentences), len(chars)), dtype=np.bool)\n",
    "for i, sentence in enumerate(sentences):\n",
    "    for t, char in enumerate(sentence):\n",
    "        X[i, t, char_indices[char]] = 1\n",
    "    y[i, char_indices[next_chars[i]]] = 1"
   ]
  },
  {
   "cell_type": "code",
   "execution_count": 9,
   "metadata": {},
   "outputs": [
    {
     "data": {
      "text/plain": [
       "((209, 20, 190), (209, 190))"
      ]
     },
     "execution_count": 9,
     "metadata": {},
     "output_type": "execute_result"
    }
   ],
   "source": [
    "X.shape, y.shape"
   ]
  },
  {
   "cell_type": "code",
   "execution_count": 10,
   "metadata": {},
   "outputs": [
    {
     "name": "stderr",
     "output_type": "stream",
     "text": [
      "C:\\Anaconda3\\envs\\py36\\lib\\site-packages\\h5py\\__init__.py:36: FutureWarning: Conversion of the second argument of issubdtype from `float` to `np.floating` is deprecated. In future, it will be treated as `np.float64 == np.dtype(float).type`.\n",
      "  from ._conv import register_converters as _register_converters\n",
      "Using TensorFlow backend.\n"
     ]
    }
   ],
   "source": [
    "from keras.models import Sequential\n",
    "from keras.layers import LSTM, Dense\n",
    "from keras.optimizers import RMSprop\n",
    "\n",
    "model = Sequential()\n",
    "model.add(LSTM(128, input_shape=(maxlen, len(chars))))\n",
    "model.add(Dense(len(chars), activation='softmax'))\n",
    "\n",
    "model.compile(loss='categorical_crossentropy', optimizer=RMSprop(lr=0.01),\n",
    "              metrics=['acc'])"
   ]
  },
  {
   "cell_type": "code",
   "execution_count": 12,
   "metadata": {},
   "outputs": [
    {
     "name": "stdout",
     "output_type": "stream",
     "text": [
      "Epoch 1/100\n",
      "209/209 [==============================] - 1s 3ms/step - loss: 3.9240 - acc: 0.0957\n",
      "Epoch 2/100\n",
      "209/209 [==============================] - 1s 3ms/step - loss: 3.5220 - acc: 0.1914\n",
      "Epoch 3/100\n",
      "209/209 [==============================] - 1s 4ms/step - loss: 3.3916 - acc: 0.2392\n",
      "Epoch 4/100\n",
      "209/209 [==============================] - 1s 4ms/step - loss: 3.4519 - acc: 0.2105\n",
      "Epoch 5/100\n",
      "209/209 [==============================] - 1s 4ms/step - loss: 3.1678 - acc: 0.2775\n",
      "Epoch 6/100\n",
      "209/209 [==============================] - 1s 3ms/step - loss: 2.8160 - acc: 0.3397\n",
      "Epoch 7/100\n",
      "209/209 [==============================] - 1s 3ms/step - loss: 2.6562 - acc: 0.3254\n",
      "Epoch 8/100\n",
      "209/209 [==============================] - 1s 3ms/step - loss: 2.5403 - acc: 0.4019\n",
      "Epoch 9/100\n",
      "209/209 [==============================] - 1s 4ms/step - loss: 2.3486 - acc: 0.4785\n",
      "Epoch 10/100\n",
      "209/209 [==============================] - 1s 4ms/step - loss: 2.1159 - acc: 0.5502\n",
      "Epoch 11/100\n",
      "209/209 [==============================] - 1s 3ms/step - loss: 2.8330 - acc: 0.3541\n",
      "Epoch 12/100\n",
      "209/209 [==============================] - 1s 3ms/step - loss: 1.8142 - acc: 0.6555\n",
      "Epoch 13/100\n",
      "209/209 [==============================] - 1s 3ms/step - loss: 1.4841 - acc: 0.7416\n",
      "Epoch 14/100\n",
      "209/209 [==============================] - 1s 3ms/step - loss: 1.4345 - acc: 0.6890\n",
      "Epoch 15/100\n",
      "209/209 [==============================] - 1s 3ms/step - loss: 1.4074 - acc: 0.7033\n",
      "Epoch 16/100\n",
      "209/209 [==============================] - 1s 3ms/step - loss: 1.1115 - acc: 0.8134\n",
      "Epoch 17/100\n",
      "209/209 [==============================] - 1s 4ms/step - loss: 0.9550 - acc: 0.8612\n",
      "Epoch 18/100\n",
      "209/209 [==============================] - 1s 3ms/step - loss: 0.8939 - acc: 0.8373\n",
      "Epoch 19/100\n",
      "209/209 [==============================] - 1s 3ms/step - loss: 0.7051 - acc: 0.9187\n",
      "Epoch 20/100\n",
      "209/209 [==============================] - 1s 3ms/step - loss: 0.5439 - acc: 0.9330\n",
      "Epoch 21/100\n",
      "209/209 [==============================] - 1s 3ms/step - loss: 0.4694 - acc: 0.9617\n",
      "Epoch 22/100\n",
      "209/209 [==============================] - 1s 3ms/step - loss: 0.3437 - acc: 0.9665\n",
      "Epoch 23/100\n",
      "209/209 [==============================] - 1s 4ms/step - loss: 0.3908 - acc: 0.9569\n",
      "Epoch 24/100\n",
      "209/209 [==============================] - 1s 3ms/step - loss: 0.3384 - acc: 0.9809\n",
      "Epoch 25/100\n",
      "209/209 [==============================] - 1s 4ms/step - loss: 0.1900 - acc: 0.9856\n",
      "Epoch 26/100\n",
      "209/209 [==============================] - 1s 3ms/step - loss: 0.1531 - acc: 0.9856\n",
      "Epoch 27/100\n",
      "209/209 [==============================] - 1s 3ms/step - loss: 0.2255 - acc: 0.9809\n",
      "Epoch 28/100\n",
      "209/209 [==============================] - 1s 3ms/step - loss: 0.1535 - acc: 0.9856\n",
      "Epoch 29/100\n",
      "209/209 [==============================] - 1s 3ms/step - loss: 0.1219 - acc: 0.9904\n",
      "Epoch 30/100\n",
      "209/209 [==============================] - 1s 4ms/step - loss: 0.0707 - acc: 1.0000\n",
      "Epoch 31/100\n",
      "209/209 [==============================] - 1s 3ms/step - loss: 0.0484 - acc: 1.0000\n",
      "Epoch 32/100\n",
      "209/209 [==============================] - 1s 3ms/step - loss: 0.0400 - acc: 0.9952\n",
      "Epoch 33/100\n",
      "209/209 [==============================] - 1s 3ms/step - loss: 0.0542 - acc: 0.9904\n",
      "Epoch 34/100\n",
      "209/209 [==============================] - 1s 4ms/step - loss: 0.1083 - acc: 0.9952\n",
      "Epoch 35/100\n",
      "209/209 [==============================] - 1s 5ms/step - loss: 0.0498 - acc: 0.9904\n",
      "Epoch 36/100\n",
      "209/209 [==============================] - 1s 6ms/step - loss: 0.0342 - acc: 0.9952\n",
      "Epoch 37/100\n",
      "209/209 [==============================] - 1s 4ms/step - loss: 0.0186 - acc: 1.0000\n",
      "Epoch 38/100\n",
      "209/209 [==============================] - 1s 5ms/step - loss: 0.0147 - acc: 1.0000\n",
      "Epoch 39/100\n",
      "209/209 [==============================] - 1s 4ms/step - loss: 0.0124 - acc: 1.0000\n",
      "Epoch 40/100\n",
      "209/209 [==============================] - 1s 4ms/step - loss: 0.0107 - acc: 1.0000\n",
      "Epoch 41/100\n",
      "209/209 [==============================] - 1s 4ms/step - loss: 0.0096 - acc: 1.0000\n",
      "Epoch 42/100\n",
      "209/209 [==============================] - 1s 4ms/step - loss: 0.0085 - acc: 1.0000\n",
      "Epoch 43/100\n",
      "209/209 [==============================] - 1s 4ms/step - loss: 0.0074 - acc: 1.0000\n",
      "Epoch 44/100\n",
      "209/209 [==============================] - 1s 3ms/step - loss: 0.0066 - acc: 1.0000\n",
      "Epoch 45/100\n",
      "209/209 [==============================] - 1s 4ms/step - loss: 0.0058 - acc: 1.0000\n",
      "Epoch 46/100\n",
      "209/209 [==============================] - 1s 5ms/step - loss: 0.0052 - acc: 1.0000\n",
      "Epoch 47/100\n",
      "209/209 [==============================] - 1s 5ms/step - loss: 0.0047 - acc: 1.0000\n",
      "Epoch 48/100\n",
      "209/209 [==============================] - 1s 5ms/step - loss: 0.0042 - acc: 1.0000\n",
      "Epoch 49/100\n",
      "209/209 [==============================] - 1s 4ms/step - loss: 0.0037 - acc: 1.0000\n",
      "Epoch 50/100\n",
      "209/209 [==============================] - 1s 4ms/step - loss: 0.0032 - acc: 1.0000\n",
      "Epoch 51/100\n",
      "209/209 [==============================] - 1s 4ms/step - loss: 0.0028 - acc: 1.0000\n",
      "Epoch 52/100\n",
      "209/209 [==============================] - 1s 4ms/step - loss: 0.0026 - acc: 1.0000\n",
      "Epoch 53/100\n",
      "209/209 [==============================] - 1s 4ms/step - loss: 0.0023 - acc: 1.0000\n",
      "Epoch 54/100\n",
      "209/209 [==============================] - 1s 4ms/step - loss: 0.0021 - acc: 1.0000\n",
      "Epoch 55/100\n",
      "209/209 [==============================] - 1s 4ms/step - loss: 0.0019 - acc: 1.0000\n",
      "Epoch 56/100\n",
      "209/209 [==============================] - 1s 4ms/step - loss: 0.0018 - acc: 1.0000\n",
      "Epoch 57/100\n",
      "209/209 [==============================] - 1s 4ms/step - loss: 0.0021 - acc: 1.0000\n",
      "Epoch 58/100\n",
      "209/209 [==============================] - 1s 3ms/step - loss: 0.3247 - acc: 0.9234\n",
      "Epoch 59/100\n",
      "209/209 [==============================] - 1s 4ms/step - loss: 0.5718 - acc: 0.8947\n",
      "Epoch 60/100\n",
      "209/209 [==============================] - 1s 3ms/step - loss: 0.1545 - acc: 0.9617\n",
      "Epoch 61/100\n",
      "209/209 [==============================] - 1s 3ms/step - loss: 0.0448 - acc: 0.9952\n",
      "Epoch 62/100\n",
      "209/209 [==============================] - 1s 3ms/step - loss: 0.0155 - acc: 1.0000\n",
      "Epoch 63/100\n",
      "209/209 [==============================] - 1s 3ms/step - loss: 0.0093 - acc: 1.0000\n",
      "Epoch 64/100\n",
      "209/209 [==============================] - 1s 3ms/step - loss: 0.0077 - acc: 1.0000\n",
      "Epoch 65/100\n",
      "209/209 [==============================] - 1s 3ms/step - loss: 0.0066 - acc: 1.0000\n",
      "Epoch 66/100\n",
      "209/209 [==============================] - 1s 3ms/step - loss: 0.0058 - acc: 1.0000\n",
      "Epoch 67/100\n",
      "209/209 [==============================] - 1s 3ms/step - loss: 0.0051 - acc: 1.0000\n",
      "Epoch 68/100\n",
      "209/209 [==============================] - 1s 4ms/step - loss: 0.0045 - acc: 1.0000\n",
      "Epoch 69/100\n",
      "209/209 [==============================] - 1s 3ms/step - loss: 0.0040 - acc: 1.0000\n",
      "Epoch 70/100\n",
      "209/209 [==============================] - 1s 3ms/step - loss: 0.0036 - acc: 1.0000\n",
      "Epoch 71/100\n",
      "209/209 [==============================] - 1s 3ms/step - loss: 0.0033 - acc: 1.0000\n",
      "Epoch 72/100\n",
      "209/209 [==============================] - 1s 3ms/step - loss: 0.0030 - acc: 1.0000\n",
      "Epoch 73/100\n",
      "209/209 [==============================] - 1s 3ms/step - loss: 0.0027 - acc: 1.0000\n",
      "Epoch 74/100\n",
      "209/209 [==============================] - 1s 3ms/step - loss: 0.0024 - acc: 1.0000\n",
      "Epoch 75/100\n",
      "209/209 [==============================] - 1s 3ms/step - loss: 0.0022 - acc: 1.0000\n",
      "Epoch 76/100\n",
      "209/209 [==============================] - 1s 3ms/step - loss: 0.0020 - acc: 1.0000\n",
      "Epoch 77/100\n",
      "209/209 [==============================] - 1s 3ms/step - loss: 0.0018 - acc: 1.0000\n",
      "Epoch 78/100\n",
      "209/209 [==============================] - 1s 3ms/step - loss: 0.0017 - acc: 1.0000\n",
      "Epoch 79/100\n",
      "209/209 [==============================] - 1s 3ms/step - loss: 0.0015 - acc: 1.0000\n",
      "Epoch 80/100\n",
      "209/209 [==============================] - 1s 3ms/step - loss: 0.0014 - acc: 1.0000\n",
      "Epoch 81/100\n",
      "209/209 [==============================] - 1s 3ms/step - loss: 0.0013 - acc: 1.0000\n",
      "Epoch 82/100\n",
      "209/209 [==============================] - 1s 3ms/step - loss: 0.0011 - acc: 1.0000\n",
      "Epoch 83/100\n",
      "209/209 [==============================] - 1s 5ms/step - loss: 0.0010 - acc: 1.0000\n",
      "Epoch 84/100\n",
      "209/209 [==============================] - 1s 3ms/step - loss: 9.5662e-04 - acc: 1.0000\n",
      "Epoch 85/100\n",
      "209/209 [==============================] - 1s 3ms/step - loss: 8.7060e-04 - acc: 1.0000\n",
      "Epoch 86/100\n",
      "209/209 [==============================] - 1s 3ms/step - loss: 7.9693e-04 - acc: 1.0000\n",
      "Epoch 87/100\n",
      "209/209 [==============================] - 1s 3ms/step - loss: 7.2401e-04 - acc: 1.0000\n",
      "Epoch 88/100\n",
      "209/209 [==============================] - 1s 3ms/step - loss: 6.5999e-04 - acc: 1.0000\n",
      "Epoch 89/100\n",
      "209/209 [==============================] - 1s 4ms/step - loss: 6.0365e-04 - acc: 1.0000\n",
      "Epoch 90/100\n",
      "209/209 [==============================] - 1s 4ms/step - loss: 5.4907e-04 - acc: 1.0000\n",
      "Epoch 91/100\n",
      "209/209 [==============================] - 1s 4ms/step - loss: 5.0020e-04 - acc: 1.0000\n",
      "Epoch 92/100\n",
      "209/209 [==============================] - 1s 4ms/step - loss: 4.5523e-04 - acc: 1.0000\n",
      "Epoch 93/100\n",
      "209/209 [==============================] - 1s 4ms/step - loss: 4.1437e-04 - acc: 1.0000\n",
      "Epoch 94/100\n",
      "209/209 [==============================] - 1s 4ms/step - loss: 3.7832e-04 - acc: 1.0000\n",
      "Epoch 95/100\n",
      "209/209 [==============================] - 1s 4ms/step - loss: 3.4436e-04 - acc: 1.0000\n",
      "Epoch 96/100\n",
      "209/209 [==============================] - 1s 4ms/step - loss: 3.1283e-04 - acc: 1.0000\n",
      "Epoch 97/100\n",
      "209/209 [==============================] - 1s 3ms/step - loss: 2.8459e-04 - acc: 1.0000\n",
      "Epoch 98/100\n",
      "209/209 [==============================] - 1s 4ms/step - loss: 2.5949e-04 - acc: 1.0000\n",
      "Epoch 99/100\n",
      "209/209 [==============================] - 1s 3ms/step - loss: 2.3709e-04 - acc: 1.0000\n",
      "Epoch 100/100\n",
      "209/209 [==============================] - 1s 3ms/step - loss: 2.1508e-04 - acc: 1.0000\n"
     ]
    }
   ],
   "source": [
    "history = model.fit(X, y, batch_size=128, epochs=100)"
   ]
  },
  {
   "cell_type": "code",
   "execution_count": 13,
   "metadata": {},
   "outputs": [
    {
     "data": {
      "text/plain": [
       "<matplotlib.legend.Legend at 0x21f72e9b4a8>"
      ]
     },
     "execution_count": 13,
     "metadata": {},
     "output_type": "execute_result"
    },
    {
     "data": {
      "image/png": "[encoded data removed]",
      "text/plain": [
       "<Figure size 432x288 with 1 Axes>"
      ]
     },
     "metadata": {},
     "output_type": "display_data"
    }
   ],
   "source": [
    "h = history.history\n",
    "\n",
    "plt.plot(h['loss'], 'r-', label='loss')\n",
    "plt.plot(h['acc'], 'g-', label='acc')\n",
    "plt.legend()"
   ]
  },
  {
   "cell_type": "code",
   "execution_count": 14,
   "metadata": {},
   "outputs": [],
   "source": [
    "y_pred = model.predict_classes(X)"
   ]
  },
  {
   "cell_type": "code",
   "execution_count": 15,
   "metadata": {},
   "outputs": [
    {
     "data": {
      "text/plain": [
       "array(['.', '전', '저', '7', '3', ' ', '최', '2', '3', '.', '북', '오', ' ',\n",
       "       '지', ' ', '도', '남', '은', '후', '곳', '비', '리', '.', '\\n', '기', '자',\n",
       "       '=', ' ', ' ', '일', '미', '지', '수', '좋', \"'\", '존', '보', \"'\", '후',\n",
       "       '대', '의', '역', '외', \"'\", '.', '\\n', '오', '?', '산', '기', ' ', ' ',\n",
       "       '.', '이', '백', '소', '맥', '깊', '산', '아', '라', '도', '부', ' ', '에',\n",
       "       '산', '樂', ')', ' ', ' ', ' ', '은', '에', '0', '오', '리', ' ', '하',\n",
       "       '않', ' ', '.', '행', '욕', ' ', '나', '을', '시', ' ', '를', '른', ' ',\n",
       "       '명', '야', '다', '\\n', '행', '에', '외', '차', '를', '르', '모', ' ', '라',\n",
       "       ' ', '.', '외', '차', '는', '시', '마', '다', '바', '록', '다', '또', '건',\n",
       "       '충', ' ', '하', '땀', '흘', '저', '이', ' ', ' ', '해', '얇', '겉', ' ',\n",
       "       '는', '이', '다', '물', '충', ' ', '하', '3', '마', '마', ' ', ' ', ' ',\n",
       "       '것', '\\n', '름', ' ', '과', '이', '동', ' ', '에', '급', '긴', '지', '입',\n",
       "       ' ', '게', '리', ' ', '에', '여', '증', '마', '증', ' ', '나', '곧', ' ',\n",
       "       '9', '구', '청', '한', ' ', '과', '급', '어', '식', '든', '증', '생', '심',\n",
       "       '면', '바', '산', ' ', '하', '천', ' ', '와', '한', ' ', ' ', '도', '절',\n",
       "       '충', ' ', ',', '행', '에', '관', '마', '와', '트', '을', '는', ' ', ' ',\n",
       "       '것'], dtype='<U1')"
      ]
     },
     "execution_count": 15,
     "metadata": {},
     "output_type": "execute_result"
    }
   ],
   "source": [
    "np.array(chars)[y_pred]"
   ]
  },
  {
   "cell_type": "markdown",
   "metadata": {},
   "source": [
    "### 문장 생성"
   ]
  },
  {
   "cell_type": "code",
   "execution_count": 23,
   "metadata": {},
   "outputs": [],
   "source": [
    "input = '물을 충분히 좋음 준비 깊은산이 아니'\n",
    "output = input"
   ]
  },
  {
   "cell_type": "code",
   "execution_count": 24,
   "metadata": {},
   "outputs": [
    {
     "name": "stdout",
     "output_type": "stream",
     "text": [
      "물을 충분히 좋음 준비 깊은산이 아니\n",
      "> 물을 충분히 좋음 준비 깊은산이 아니라\n",
      "\n",
      "을 충분히 좋음 준비 깊은산이 아니라\n",
      "> 물을 충분히 좋음 준비 깊은산이 아니라라\n",
      "\n",
      " 충분히 좋음 준비 깊은산이 아니라라\n",
      "> 물을 충분히 좋음 준비 깊은산이 아니라라저\n",
      "\n",
      "충분히 좋음 준비 깊은산이 아니라라저\n",
      "> 물을 충분히 좋음 준비 깊은산이 아니라라저도\n",
      "\n",
      "분히 좋음 준비 깊은산이 아니라라저도\n",
      "> 물을 충분히 좋음 준비 깊은산이 아니라라저도도\n",
      "\n",
      "히 좋음 준비 깊은산이 아니라라저도도\n",
      "> 물을 충분히 좋음 준비 깊은산이 아니라라저도도.\n",
      "\n",
      " 좋음 준비 깊은산이 아니라라저도도.\n",
      "> 물을 충분히 좋음 준비 깊은산이 아니라라저도도. \n",
      "\n",
      "좋음 준비 깊은산이 아니라라저도도. \n",
      "> 물을 충분히 좋음 준비 깊은산이 아니라라저도도. 남\n",
      "\n",
      "음 준비 깊은산이 아니라라저도도. 남\n",
      "> 물을 충분히 좋음 준비 깊은산이 아니라라저도도. 남$\n",
      "\n",
      " 준비 깊은산이 아니라라저도도. 남$\n",
      "> 물을 충분히 좋음 준비 깊은산이 아니라라저도도. 남$과\n",
      "\n",
      "준비 깊은산이 아니라라저도도. 남$과\n",
      "> 물을 충분히 좋음 준비 깊은산이 아니라라저도도. 남$과지\n",
      "\n",
      "비 깊은산이 아니라라저도도. 남$과지\n",
      "> 물을 충분히 좋음 준비 깊은산이 아니라라저도도. 남$과지와\n",
      "\n",
      " 깊은산이 아니라라저도도. 남$과지와\n",
      "> 물을 충분히 좋음 준비 깊은산이 아니라라저도도. 남$과지와기\n",
      "\n",
      "깊은산이 아니라라저도도. 남$과지와기\n",
      "> 물을 충분히 좋음 준비 깊은산이 아니라라저도도. 남$과지와기 \n",
      "\n",
      "은산이 아니라라저도도. 남$과지와기 \n",
      "> 물을 충분히 좋음 준비 깊은산이 아니라라저도도. 남$과지와기 자\n",
      "\n",
      "산이 아니라라저도도. 남$과지와기 자\n",
      "> 물을 충분히 좋음 준비 깊은산이 아니라라저도도. 남$과지와기 자외\n",
      "\n",
      "이 아니라라저도도. 남$과지와기 자외\n",
      "> 물을 충분히 좋음 준비 깊은산이 아니라라저도도. 남$과지와기 자외 \n",
      "\n",
      " 아니라라저도도. 남$과지와기 자외 \n",
      "> 물을 충분히 좋음 준비 깊은산이 아니라라저도도. 남$과지와기 자외 =\n",
      "\n",
      "아니라라저도도. 남$과지와기 자외 =\n",
      "> 물을 충분히 좋음 준비 깊은산이 아니라라저도도. 남$과지와기 자외 ='\n",
      "\n",
      "니라라저도도. 남$과지와기 자외 ='\n",
      "> 물을 충분히 좋음 준비 깊은산이 아니라라저도도. 남$과지와기 자외 =' \n",
      "\n"
     ]
    }
   ],
   "source": [
    "for epoch in range(20):\n",
    "    print(input.replace('\\n','$'))\n",
    "    x = np.zeros([20,len(chars)])\n",
    "    for i,c in enumerate(input):\n",
    "        x[i,char_indices[c]]=1\n",
    "        \n",
    "    i = model.predict_classes(x[np.newaxis,:,:])\n",
    "    c = indices_char[i[0]]\n",
    "    \n",
    "    input = input[1:]+c\n",
    "    output += c\n",
    "    print('>',output.replace('\\n','$'))\n",
    "    print()"
   ]
  },
  {
   "cell_type": "code",
   "execution_count": null,
   "metadata": {},
   "outputs": [],
   "source": []
  }
 ],
 "metadata": {
  "kernelspec": {
   "display_name": "Python 3",
   "language": "python",
   "name": "python3"
  },
  "language_info": {
   "codemirror_mode": {
    "name": "ipython",
    "version": 3
   },
   "file_extension": ".py",
   "mimetype": "text/x-python",
   "name": "python",
   "nbconvert_exporter": "python",
   "pygments_lexer": "ipython3",
   "version": "3.6.5"
  }
 },
 "nbformat": 4,
 "nbformat_minor": 2
}
