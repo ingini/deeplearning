{
 "cells": [
  {
   "cell_type": "markdown",
   "metadata": {},
   "source": [
    "### 빅데이터 활용 AI 설계\n",
    "# 신경망 구조"
   ]
  },
  {
   "cell_type": "code",
   "execution_count": 1,
   "metadata": {},
   "outputs": [],
   "source": [
    "import numpy as np\n",
    "import matplotlib.pyplot as plt"
   ]
  },
  {
   "cell_type": "markdown",
   "metadata": {},
   "source": [
    "### 사례 1\n",
    "- 입력층 : 뉴런 2개\n",
    "- 출력층 : 뉴런 1개\n",
    "- 중간층 1개 : 뉴런 16개\n",
    "- 중간층 활성화함수 : ReLU\n",
    "- 손실값 : MSE"
   ]
  },
  {
   "cell_type": "code",
   "execution_count": 2,
   "metadata": {},
   "outputs": [],
   "source": [
    "X = np.arange(10).reshape(5,2)\n",
    "y = np.array([1,2,3,4,5])"
   ]
  },
  {
   "cell_type": "code",
   "execution_count": 5,
   "metadata": {},
   "outputs": [
    {
     "data": {
      "text/plain": [
       "array([[-0.22340921, -0.0494195 , -0.01219548, -0.01406233, -0.01670224,\n",
       "         0.10556695, -0.20967331, -0.02389921,  0.0170729 ,  0.27497324,\n",
       "        -0.0860843 , -0.1000081 ,  0.01727834, -0.13994928,  0.16243088,\n",
       "         0.06380968],\n",
       "       [ 0.01496708, -0.12783827, -0.03437618, -0.04147759,  0.12077003,\n",
       "        -0.09992122,  0.04346617,  0.07703184,  0.02098992, -0.12177554,\n",
       "        -0.02073986,  0.07935159,  0.03321312, -0.07734484, -0.03768014,\n",
       "         0.04751735]])"
      ]
     },
     "execution_count": 5,
     "metadata": {},
     "output_type": "execute_result"
    }
   ],
   "source": [
    "W1 = np.random.normal(0,0.1,size=[2,16])\n",
    "W1"
   ]
  },
  {
   "cell_type": "code",
   "execution_count": 6,
   "metadata": {},
   "outputs": [
    {
     "data": {
      "text/plain": [
       "array([[-0.02125226],\n",
       "       [ 0.06353152],\n",
       "       [-0.25604302],\n",
       "       [-0.14153991],\n",
       "       [ 0.1866319 ],\n",
       "       [ 0.00287981],\n",
       "       [-0.0858135 ],\n",
       "       [ 0.04149463],\n",
       "       [ 0.08219676],\n",
       "       [ 0.0679731 ],\n",
       "       [ 0.06420429],\n",
       "       [ 0.04989921],\n",
       "       [ 0.17673965],\n",
       "       [ 0.03772194],\n",
       "       [-0.09922862],\n",
       "       [-0.00347503]])"
      ]
     },
     "execution_count": 6,
     "metadata": {},
     "output_type": "execute_result"
    }
   ],
   "source": [
    "W2 = np.random.normal(0,0.1,size=[16,1])\n",
    "W2"
   ]
  },
  {
   "cell_type": "code",
   "execution_count": 7,
   "metadata": {},
   "outputs": [
    {
     "data": {
      "text/plain": [
       "array([[ 0.01496708, -0.12783827, -0.03437618, -0.04147759,  0.12077003,\n",
       "        -0.09992122,  0.04346617,  0.07703184,  0.02098992, -0.12177554,\n",
       "        -0.02073986,  0.07935159,  0.03321312, -0.07734484, -0.03768014,\n",
       "         0.04751735],\n",
       "       [-0.40191716, -0.48235381, -0.12751949, -0.15255742,  0.3289056 ,\n",
       "        -0.08862975, -0.28894812,  0.18329711,  0.09711557,  0.18461988,\n",
       "        -0.23438819,  0.03803858,  0.13419605, -0.51193308,  0.21182134,\n",
       "         0.27017141],\n",
       "       [-0.81880141, -0.83686935, -0.22066279, -0.26363724,  0.53704118,\n",
       "        -0.07733828, -0.62136241,  0.28956237,  0.17324121,  0.4910153 ,\n",
       "        -0.44803652, -0.00327443,  0.23517897, -0.94652132,  0.46132283,\n",
       "         0.49282547],\n",
       "       [-1.23568566, -1.19138488, -0.3138061 , -0.37471707,  0.74517675,\n",
       "        -0.06604681, -0.95377669,  0.39582763,  0.24936686,  0.79741071,\n",
       "        -0.66168484, -0.04458745,  0.33616189, -1.38110956,  0.71082431,\n",
       "         0.71547953],\n",
       "       [-1.65256991, -1.54590042, -0.40694941, -0.4857969 ,  0.95331233,\n",
       "        -0.05475534, -1.28619098,  0.50209289,  0.32549251,  1.10380613,\n",
       "        -0.87533317, -0.08590046,  0.43714481, -1.8156978 ,  0.96032579,\n",
       "         0.93813359]])"
      ]
     },
     "execution_count": 7,
     "metadata": {},
     "output_type": "execute_result"
    }
   ],
   "source": [
    "h = X @ W1\n",
    "h"
   ]
  },
  {
   "cell_type": "code",
   "execution_count": 8,
   "metadata": {},
   "outputs": [
    {
     "data": {
      "text/plain": [
       "array([[0.01496708, 0.        , 0.        , 0.        , 0.12077003,\n",
       "        0.        , 0.04346617, 0.07703184, 0.02098992, 0.        ,\n",
       "        0.        , 0.07935159, 0.03321312, 0.        , 0.        ,\n",
       "        0.04751735],\n",
       "       [0.        , 0.        , 0.        , 0.        , 0.3289056 ,\n",
       "        0.        , 0.        , 0.18329711, 0.09711557, 0.18461988,\n",
       "        0.        , 0.03803858, 0.13419605, 0.        , 0.21182134,\n",
       "        0.27017141],\n",
       "       [0.        , 0.        , 0.        , 0.        , 0.53704118,\n",
       "        0.        , 0.        , 0.28956237, 0.17324121, 0.4910153 ,\n",
       "        0.        , 0.        , 0.23517897, 0.        , 0.46132283,\n",
       "        0.49282547],\n",
       "       [0.        , 0.        , 0.        , 0.        , 0.74517675,\n",
       "        0.        , 0.        , 0.39582763, 0.24936686, 0.79741071,\n",
       "        0.        , 0.        , 0.33616189, 0.        , 0.71082431,\n",
       "        0.71547953],\n",
       "       [0.        , 0.        , 0.        , 0.        , 0.95331233,\n",
       "        0.        , 0.        , 0.50209289, 0.32549251, 1.10380613,\n",
       "        0.        , 0.        , 0.43714481, 0.        , 0.96032579,\n",
       "        0.93813359]])"
      ]
     },
     "execution_count": 8,
     "metadata": {},
     "output_type": "execute_result"
    }
   ],
   "source": [
    "z = np.maximum(h, 0)\n",
    "z"
   ]
  },
  {
   "cell_type": "code",
   "execution_count": 9,
   "metadata": {},
   "outputs": [
    {
     "data": {
      "text/plain": [
       "array([[0.03307772],\n",
       "       [0.09318015],\n",
       "       [0.15393643],\n",
       "       [0.2165908 ],\n",
       "       [0.27924516]])"
      ]
     },
     "execution_count": 9,
     "metadata": {},
     "output_type": "execute_result"
    }
   ],
   "source": [
    "pred_y = z @ W2\n",
    "pred_y"
   ]
  },
  {
   "cell_type": "code",
   "execution_count": 11,
   "metadata": {},
   "outputs": [
    {
     "data": {
      "text/plain": [
       "9.85413798437367"
      ]
     },
     "execution_count": 11,
     "metadata": {},
     "output_type": "execute_result"
    }
   ],
   "source": [
    "Loss = np.mean((y - pred_y.ravel())**2)\n",
    "Loss"
   ]
  },
  {
   "cell_type": "markdown",
   "metadata": {},
   "source": [
    "### 사례 2\n",
    "- 입력층 : 뉴런 4개\n",
    "- 출력층 : 뉴런 1개\n",
    "- 출력층 활성화함수 : sigmoid\n",
    "- 중간층 1개 : 뉴런 256개\n",
    "- 중간층 활성화함수 : ReLU\n",
    "- Loss : Binary CrossEntropy"
   ]
  },
  {
   "cell_type": "code",
   "execution_count": 12,
   "metadata": {},
   "outputs": [],
   "source": [
    "X = np.arange(20).reshape(5,4)\n",
    "y = np.array([1,0,0,1,0])"
   ]
  },
  {
   "cell_type": "code",
   "execution_count": 13,
   "metadata": {},
   "outputs": [],
   "source": [
    "W1 = np.random.normal(0,0.1,size=[4,256])"
   ]
  },
  {
   "cell_type": "code",
   "execution_count": 14,
   "metadata": {},
   "outputs": [],
   "source": [
    "W2 = np.random.normal(0,0.1,size=[256,1])"
   ]
  },
  {
   "cell_type": "code",
   "execution_count": 16,
   "metadata": {},
   "outputs": [
    {
     "data": {
      "text/plain": [
       "(5, 256)"
      ]
     },
     "execution_count": 16,
     "metadata": {},
     "output_type": "execute_result"
    }
   ],
   "source": [
    "z = np.maximum(X @ W1, 0)\n",
    "z.shape"
   ]
  },
  {
   "cell_type": "code",
   "execution_count": 17,
   "metadata": {},
   "outputs": [],
   "source": [
    "def sigmoid(t):\n",
    "    return 1/(1+np.exp(-t))"
   ]
  },
  {
   "cell_type": "code",
   "execution_count": 18,
   "metadata": {},
   "outputs": [
    {
     "data": {
      "text/plain": [
       "array([[0.51478113],\n",
       "       [0.55847061],\n",
       "       [0.5709369 ],\n",
       "       [0.59112685],\n",
       "       [0.61576702]])"
      ]
     },
     "execution_count": 18,
     "metadata": {},
     "output_type": "execute_result"
    }
   ],
   "source": [
    "pred_y = np.vectorize(sigmoid)(z @ W2)\n",
    "pred_y"
   ]
  },
  {
   "cell_type": "code",
   "execution_count": 22,
   "metadata": {},
   "outputs": [
    {
     "data": {
      "text/plain": [
       "0.7619812577959468"
      ]
     },
     "execution_count": 22,
     "metadata": {},
     "output_type": "execute_result"
    }
   ],
   "source": [
    "Loss = -np.mean(y*np.log(pred_y.ravel()) + (1-y)*np.log(1-pred_y.ravel()))\n",
    "Loss"
   ]
  },
  {
   "cell_type": "markdown",
   "metadata": {},
   "source": [
    "### 사례 3\n",
    "- 입력층 : 뉴런 4개\n",
    "- 출력층 : 뉴런 3개\n",
    "- 출력층 활성화함수 : softmax\n",
    "- 중간층 1개 : 뉴런 256개\n",
    "- 중간층 활성화함수 : ReLU\n",
    "- Loss : Categorical CrossEntropy"
   ]
  },
  {
   "cell_type": "code",
   "execution_count": 27,
   "metadata": {},
   "outputs": [],
   "source": [
    "X = np.arange(20).reshape(5,4)\n",
    "y = np.array([1,0,2,1,2])"
   ]
  },
  {
   "cell_type": "code",
   "execution_count": 28,
   "metadata": {},
   "outputs": [],
   "source": [
    "W1 = np.random.normal(0,0.1,size=[4,256])"
   ]
  },
  {
   "cell_type": "code",
   "execution_count": 29,
   "metadata": {},
   "outputs": [],
   "source": [
    "W2 = np.random.normal(0,0.1,size=[256,3])"
   ]
  },
  {
   "cell_type": "code",
   "execution_count": 30,
   "metadata": {},
   "outputs": [
    {
     "data": {
      "text/plain": [
       "(5, 256)"
      ]
     },
     "execution_count": 30,
     "metadata": {},
     "output_type": "execute_result"
    }
   ],
   "source": [
    "z = np.maximum(X @ W1, 0)\n",
    "z.shape"
   ]
  },
  {
   "cell_type": "code",
   "execution_count": 35,
   "metadata": {},
   "outputs": [],
   "source": [
    "def softmax(z):\n",
    "    t = np.sum(np.exp(z), axis=1)\n",
    "    return np.exp(z)/t.reshape(-1,1)"
   ]
  },
  {
   "cell_type": "code",
   "execution_count": 40,
   "metadata": {},
   "outputs": [
    {
     "data": {
      "text/plain": [
       "array([[2.65199167e-01, 2.19263324e-01, 5.15537509e-01],\n",
       "       [8.06664148e-02, 5.61050739e-02, 8.63228511e-01],\n",
       "       [1.70035387e-02, 9.61559184e-03, 9.73380869e-01],\n",
       "       [3.21552063e-03, 1.51861795e-03, 9.95265861e-01],\n",
       "       [5.91867510e-04, 2.34255961e-04, 9.99173877e-01]])"
      ]
     },
     "execution_count": 40,
     "metadata": {},
     "output_type": "execute_result"
    }
   ],
   "source": [
    "pred_y = softmax(z @ W2)\n",
    "pred_y"
   ]
  },
  {
   "cell_type": "code",
   "execution_count": 44,
   "metadata": {},
   "outputs": [
    {
     "data": {
      "text/plain": [
       "array([[0., 1., 0.],\n",
       "       [1., 0., 0.],\n",
       "       [0., 0., 1.],\n",
       "       [0., 1., 0.],\n",
       "       [0., 0., 1.]])"
      ]
     },
     "execution_count": 44,
     "metadata": {},
     "output_type": "execute_result"
    }
   ],
   "source": [
    "onehot_y = np.eye(3)[y]\n",
    "onehot_y"
   ]
  },
  {
   "cell_type": "code",
   "execution_count": 45,
   "metadata": {},
   "outputs": [
    {
     "data": {
      "text/plain": [
       "2.110535149650337"
      ]
     },
     "execution_count": 45,
     "metadata": {},
     "output_type": "execute_result"
    }
   ],
   "source": [
    "Loss = -np.mean(np.sum(onehot_y * np.log(pred_y), axis=1))\n",
    "Loss"
   ]
  },
  {
   "cell_type": "markdown",
   "metadata": {},
   "source": [
    "### 사례 4\n",
    "- 입력층 : 뉴런 4개\n",
    "- 출력층 : 뉴런 3개\n",
    "- 출력층 활성화함수 : softmax\n",
    "- 중간층1 : 뉴런 128개\n",
    "- 중간층2 : 뉴런 64개\n",
    "- 중간층 활성화함수 : ReLU\n",
    "- Loss : Categorical CrossEntropy"
   ]
  },
  {
   "cell_type": "code",
   "execution_count": 47,
   "metadata": {},
   "outputs": [],
   "source": [
    "X = np.arange(20).reshape(5,4)\n",
    "y = np.array([1,0,2,1,2])"
   ]
  },
  {
   "cell_type": "code",
   "execution_count": 48,
   "metadata": {},
   "outputs": [],
   "source": [
    "W1 = np.random.normal(0,0.1,size=[4,128])"
   ]
  },
  {
   "cell_type": "code",
   "execution_count": 49,
   "metadata": {},
   "outputs": [],
   "source": [
    "W2 = np.random.normal(0,0.1,size=[128,64])"
   ]
  },
  {
   "cell_type": "code",
   "execution_count": 50,
   "metadata": {},
   "outputs": [],
   "source": [
    "W3 = np.random.normal(0,0.1,size=[64,3])"
   ]
  },
  {
   "cell_type": "code",
   "execution_count": 52,
   "metadata": {},
   "outputs": [
    {
     "data": {
      "text/plain": [
       "(5, 128)"
      ]
     },
     "execution_count": 52,
     "metadata": {},
     "output_type": "execute_result"
    }
   ],
   "source": [
    "z1 = np.maximum(X @ W1, 0)\n",
    "z1.shape"
   ]
  },
  {
   "cell_type": "code",
   "execution_count": 53,
   "metadata": {},
   "outputs": [
    {
     "data": {
      "text/plain": [
       "(5, 64)"
      ]
     },
     "execution_count": 53,
     "metadata": {},
     "output_type": "execute_result"
    }
   ],
   "source": [
    "z2 = np.maximum(z1 @ W2, 0)\n",
    "z2.shape"
   ]
  },
  {
   "cell_type": "code",
   "execution_count": 54,
   "metadata": {},
   "outputs": [],
   "source": [
    "def softmax(z):\n",
    "    t = np.sum(np.exp(z), axis=1)\n",
    "    return np.exp(z)/t.reshape(-1,1)"
   ]
  },
  {
   "cell_type": "code",
   "execution_count": 55,
   "metadata": {},
   "outputs": [
    {
     "data": {
      "text/plain": [
       "array([[0.31357041, 0.35122194, 0.33520766],\n",
       "       [0.30834938, 0.33747524, 0.35417538],\n",
       "       [0.30202891, 0.32714673, 0.37082436],\n",
       "       [0.29190953, 0.31962893, 0.38846155],\n",
       "       [0.28024489, 0.31044291, 0.40931219]])"
      ]
     },
     "execution_count": 55,
     "metadata": {},
     "output_type": "execute_result"
    }
   ],
   "source": [
    "pred_y = softmax(z2 @ W3)\n",
    "pred_y"
   ]
  },
  {
   "cell_type": "code",
   "execution_count": 56,
   "metadata": {},
   "outputs": [
    {
     "data": {
      "text/plain": [
       "array([[0., 1., 0.],\n",
       "       [1., 0., 0.],\n",
       "       [0., 0., 1.],\n",
       "       [0., 1., 0.],\n",
       "       [0., 0., 1.]])"
      ]
     },
     "execution_count": 56,
     "metadata": {},
     "output_type": "execute_result"
    }
   ],
   "source": [
    "onehot_y = np.eye(3)[y]\n",
    "onehot_y"
   ]
  },
  {
   "cell_type": "code",
   "execution_count": 57,
   "metadata": {},
   "outputs": [
    {
     "data": {
      "text/plain": [
       "1.0497514355404436"
      ]
     },
     "execution_count": 57,
     "metadata": {},
     "output_type": "execute_result"
    }
   ],
   "source": [
    "Loss = -np.mean(np.sum(onehot_y * np.log(pred_y), axis=1))\n",
    "Loss"
   ]
  }
 ],
 "metadata": {
  "kernelspec": {
   "display_name": "Python 3",
   "language": "python",
   "name": "python3"
  },
  "language_info": {
   "codemirror_mode": {
    "name": "ipython",
    "version": 3
   },
   "file_extension": ".py",
   "mimetype": "text/x-python",
   "name": "python",
   "nbconvert_exporter": "python",
   "pygments_lexer": "ipython3",
   "version": "3.7.4"
  }
 },
 "nbformat": 4,
 "nbformat_minor": 2
}
