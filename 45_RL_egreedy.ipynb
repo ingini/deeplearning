{
 "cells": [
  {
   "cell_type": "markdown",
   "metadata": {},
   "source": [
    "## 빅데이터 활용 AI 설계\n",
    "# 강화학습 : 시뮬레이션\n",
    "- e-greedy 적용"
   ]
  },
  {
   "cell_type": "code",
   "execution_count": 1,
   "metadata": {},
   "outputs": [],
   "source": [
    "import numpy as np\n",
    "import matplotlib.pyplot as plt"
   ]
  },
  {
   "cell_type": "markdown",
   "metadata": {},
   "source": [
    "### 환경\n",
    "- 5X5 의 격자가 있다.\n",
    "- 마지막 Cell 에 도착하면 1 의 보상을 얻는다.\n",
    "- 상태 : 25개 (Cell 수)\n",
    "- 행동 : 4개 (상/하/좌/우)"
   ]
  },
  {
   "cell_type": "code",
   "execution_count": 126,
   "metadata": {},
   "outputs": [],
   "source": [
    "Q = np.random.normal(0,0.1,size=[25,4])\n",
    "Q[24] = 1\n",
    "\n",
    "Qs = []\n",
    "gamma = 0.99\n",
    "ds = [-5,5,-1,1]"
   ]
  },
  {
   "cell_type": "code",
   "execution_count": 127,
   "metadata": {},
   "outputs": [
    {
     "data": {
      "text/plain": [
       "(0.16461139793306104, -0.24048042679778076)"
      ]
     },
     "execution_count": 127,
     "metadata": {},
     "output_type": "execute_result"
    }
   ],
   "source": [
    "Q[:24].max(), Q.min()"
   ]
  },
  {
   "cell_type": "markdown",
   "metadata": {},
   "source": [
    "### 적용식\n",
    "\n",
    "$$ (s,a) \\Rightarrow r, s' $$\n",
    "$$ Q_{new}(s,a) = r + \\gamma \\cdot max_{a'}[Q(s',a')] $$\n",
    "\n",
    "- s: state\n",
    "- a: action\n",
    "- r: reward\n",
    "- s': new state\n",
    "- $\\gamma$: discount rate\n",
    "- s,a -> r,s -> a : sarsa"
   ]
  },
  {
   "cell_type": "code",
   "execution_count": 13,
   "metadata": {},
   "outputs": [],
   "source": [
    "def valid_action(s, a):\n",
    "    if s//5==0 and a==0: return False\n",
    "    if s//5==4 and a==1: return False\n",
    "    if s%5==0 and a==2: return False\n",
    "    if s%5==4 and a==3: return False\n",
    "    return True"
   ]
  },
  {
   "cell_type": "code",
   "execution_count": 125,
   "metadata": {},
   "outputs": [],
   "source": [
    "def get_action(s, epsilon):\n",
    "    actions = []\n",
    "    for a in range(4):\n",
    "        if valid_action(s,a): actions.append(a)\n",
    "    \n",
    "    if np.random.rand()<epsilon:\n",
    "        the_a = np.random.choice(actions)\n",
    "    else:\n",
    "        max_q = -np.inf\n",
    "        the_a = 0\n",
    "        for a in actions:\n",
    "            if Q[s,a]>max_q:\n",
    "                max_q = Q[s,a]\n",
    "                the_a = a\n",
    "            elif Q[s,a]==max_q and np.random.randint(2)==0:\n",
    "                max_q = Q[s,a]\n",
    "                the_a = a\n",
    "            \n",
    "    return the_a"
   ]
  },
  {
   "cell_type": "code",
   "execution_count": 70,
   "metadata": {
    "collapsed": true
   },
   "outputs": [
    {
     "data": {
      "text/plain": [
       "190"
      ]
     },
     "metadata": {},
     "output_type": "display_data"
    },
    {
     "data": {
      "text/plain": [
       "[[0, 3, 1],\n",
       " [1, 2, 0],\n",
       " [0, 1, 5],\n",
       " [5, 0, 0],\n",
       " [0, 1, 5],\n",
       " [5, 0, 0],\n",
       " [0, 3, 1],\n",
       " [1, 3, 2],\n",
       " [2, 2, 1],\n",
       " [1, 3, 2],\n",
       " [2, 1, 7],\n",
       " [7, 1, 12],\n",
       " [12, 0, 7],\n",
       " [7, 1, 12],\n",
       " [12, 3, 13],\n",
       " [13, 2, 12],\n",
       " [12, 0, 7],\n",
       " [7, 3, 8],\n",
       " [8, 1, 13],\n",
       " [13, 2, 12],\n",
       " [12, 0, 7],\n",
       " [7, 1, 12],\n",
       " [12, 0, 7],\n",
       " [7, 1, 12],\n",
       " [12, 0, 7],\n",
       " [7, 2, 6],\n",
       " [6, 0, 1],\n",
       " [1, 3, 2],\n",
       " [2, 1, 7],\n",
       " [7, 1, 12],\n",
       " [12, 0, 7],\n",
       " [7, 2, 6],\n",
       " [6, 0, 1],\n",
       " [1, 3, 2],\n",
       " [2, 1, 7],\n",
       " [7, 0, 2],\n",
       " [2, 3, 3],\n",
       " [3, 2, 2],\n",
       " [2, 1, 7],\n",
       " [7, 1, 12],\n",
       " [12, 1, 17],\n",
       " [17, 0, 12],\n",
       " [12, 1, 17],\n",
       " [17, 1, 22],\n",
       " [22, 2, 21],\n",
       " [21, 2, 20],\n",
       " [20, 0, 15],\n",
       " [15, 3, 16],\n",
       " [16, 0, 11],\n",
       " [11, 2, 10],\n",
       " [10, 1, 15],\n",
       " [15, 3, 16],\n",
       " [16, 3, 17],\n",
       " [17, 1, 22],\n",
       " [22, 0, 17],\n",
       " [17, 1, 22],\n",
       " [22, 0, 17],\n",
       " [17, 1, 22],\n",
       " [22, 0, 17],\n",
       " [17, 3, 18],\n",
       " [18, 0, 13],\n",
       " [13, 1, 18],\n",
       " [18, 2, 17],\n",
       " [17, 2, 16],\n",
       " [16, 0, 11],\n",
       " [11, 1, 16],\n",
       " [16, 0, 11],\n",
       " [11, 3, 12],\n",
       " [12, 1, 17],\n",
       " [17, 1, 22],\n",
       " [22, 0, 17],\n",
       " [17, 1, 22],\n",
       " [22, 2, 21],\n",
       " [21, 0, 16],\n",
       " [16, 0, 11],\n",
       " [11, 0, 6],\n",
       " [6, 2, 5],\n",
       " [5, 0, 0],\n",
       " [0, 1, 5],\n",
       " [5, 1, 10],\n",
       " [10, 3, 11],\n",
       " [11, 2, 10],\n",
       " [10, 3, 11],\n",
       " [11, 2, 10],\n",
       " [10, 1, 15],\n",
       " [15, 0, 10],\n",
       " [10, 0, 5],\n",
       " [5, 0, 0],\n",
       " [0, 3, 1],\n",
       " [1, 3, 2],\n",
       " [2, 3, 3],\n",
       " [3, 2, 2],\n",
       " [2, 1, 7],\n",
       " [7, 2, 6],\n",
       " [6, 0, 1],\n",
       " [1, 2, 0],\n",
       " [0, 3, 1],\n",
       " [1, 3, 2],\n",
       " [2, 1, 7],\n",
       " [7, 1, 12],\n",
       " [12, 3, 13],\n",
       " [13, 1, 18],\n",
       " [18, 0, 13],\n",
       " [13, 1, 18],\n",
       " [18, 0, 13],\n",
       " [13, 0, 8],\n",
       " [8, 2, 7],\n",
       " [7, 0, 2],\n",
       " [2, 2, 1],\n",
       " [1, 2, 0],\n",
       " [0, 1, 5],\n",
       " [5, 3, 6],\n",
       " [6, 0, 1],\n",
       " [1, 3, 2],\n",
       " [2, 3, 3],\n",
       " [3, 2, 2],\n",
       " [2, 1, 7],\n",
       " [7, 3, 8],\n",
       " [8, 2, 7],\n",
       " [7, 1, 12],\n",
       " [12, 2, 11],\n",
       " [11, 2, 10],\n",
       " [10, 3, 11],\n",
       " [11, 2, 10],\n",
       " [10, 3, 11],\n",
       " [11, 2, 10],\n",
       " [10, 0, 5],\n",
       " [5, 0, 0],\n",
       " [0, 1, 5],\n",
       " [5, 3, 6],\n",
       " [6, 0, 1],\n",
       " [1, 3, 2],\n",
       " [2, 1, 7],\n",
       " [7, 1, 12],\n",
       " [12, 0, 7],\n",
       " [7, 1, 12],\n",
       " [12, 2, 11],\n",
       " [11, 2, 10],\n",
       " [10, 0, 5],\n",
       " [5, 0, 0],\n",
       " [0, 1, 5],\n",
       " [5, 0, 0],\n",
       " [0, 3, 1],\n",
       " [1, 3, 2],\n",
       " [2, 1, 7],\n",
       " [7, 1, 12],\n",
       " [12, 0, 7],\n",
       " [7, 3, 8],\n",
       " [8, 3, 9],\n",
       " [9, 0, 4],\n",
       " [4, 1, 9],\n",
       " [9, 1, 14],\n",
       " [14, 2, 13],\n",
       " [13, 2, 12],\n",
       " [12, 0, 7],\n",
       " [7, 1, 12],\n",
       " [12, 2, 11],\n",
       " [11, 2, 10],\n",
       " [10, 1, 15],\n",
       " [15, 0, 10],\n",
       " [10, 1, 15],\n",
       " [15, 0, 10],\n",
       " [10, 3, 11],\n",
       " [11, 2, 10],\n",
       " [10, 0, 5],\n",
       " [5, 0, 0],\n",
       " [0, 1, 5],\n",
       " [5, 0, 0],\n",
       " [0, 1, 5],\n",
       " [5, 0, 0],\n",
       " [0, 1, 5],\n",
       " [5, 0, 0],\n",
       " [0, 3, 1],\n",
       " [1, 3, 2],\n",
       " [2, 1, 7],\n",
       " [7, 1, 12],\n",
       " [12, 0, 7],\n",
       " [7, 1, 12],\n",
       " [12, 0, 7],\n",
       " [7, 1, 12],\n",
       " [12, 0, 7],\n",
       " [7, 1, 12],\n",
       " [12, 0, 7],\n",
       " [7, 1, 12],\n",
       " [12, 1, 17],\n",
       " [17, 1, 22],\n",
       " [22, 0, 17],\n",
       " [17, 1, 22],\n",
       " [22, 3, 23],\n",
       " [23, 3, 24]]"
      ]
     },
     "metadata": {},
     "output_type": "display_data"
    }
   ],
   "source": [
    "# 시뮬레이션 테스트\n",
    "\n",
    "history = []\n",
    "s = 0\n",
    "\n",
    "while True:\n",
    "    a = get_action(s,0.5)\n",
    "    s2 = s + ds[a]\n",
    "    history.append([s,a,s2])\n",
    "    s = s2\n",
    "    \n",
    "    if s2==24: break\n",
    "        \n",
    "display(len(history), history)"
   ]
  },
  {
   "cell_type": "code",
   "execution_count": 128,
   "metadata": {},
   "outputs": [],
   "source": [
    "histories = []\n",
    "epsilon = 1.\n",
    "\n",
    "for epoch in range(100):\n",
    "    history = []\n",
    "    s = 0\n",
    "    epsilon = epsilon - epoch*0.01\n",
    "    if epsilon<0.2: epsilon=0.2\n",
    "    \n",
    "    while True:\n",
    "        a = get_action(s, epsilon)\n",
    "        s2 = s + ds[a]\n",
    "        history.append([s,a,s2])\n",
    "        s = s2\n",
    "\n",
    "        if s2==24: break\n",
    "            \n",
    "    #print(epoch, len(history))\n",
    "            \n",
    "    for h in history:\n",
    "        Q[h[0],h[1]] = 0 + gamma*np.max(Q[h[2]])\n",
    "    \n",
    "    Qs.append(Q.copy())\n",
    "    histories.append(history)"
   ]
  },
  {
   "cell_type": "code",
   "execution_count": 129,
   "metadata": {},
   "outputs": [
    {
     "data": {
      "text/plain": [
       "array([[-7.81888330e-02,  9.22744694e-01, -2.39173522e-01,\n",
       "         9.22744694e-01],\n",
       "       [-6.53198726e-02,  9.32065348e-01,  9.13517247e-01,\n",
       "         9.32065348e-01],\n",
       "       [-1.84159383e-01,  9.41480149e-01,  9.22744694e-01,\n",
       "         9.22744694e-01],\n",
       "       [-4.61800847e-02,  9.32065348e-01,  9.32065348e-01,\n",
       "         1.58125052e-01],\n",
       "       [-1.81418593e-01,  1.59722275e-01,  9.22744694e-01,\n",
       "         3.36536326e-02],\n",
       "       [ 9.13517247e-01,  9.32065348e-01, -1.88018876e-03,\n",
       "         9.32065348e-01],\n",
       "       [ 9.22744694e-01,  9.41480149e-01,  9.22744694e-01,\n",
       "         9.41480149e-01],\n",
       "       [ 9.32065348e-01,  9.50990050e-01,  9.32065348e-01,\n",
       "         9.32065348e-01],\n",
       "       [ 9.22744694e-01,  9.41480149e-01,  9.41480149e-01,\n",
       "         9.22744694e-01],\n",
       "       [ 1.61335631e-01,  9.13517247e-01,  9.32065348e-01,\n",
       "        -9.01623789e-02],\n",
       "       [ 9.22744694e-01,  9.41480149e-01, -1.40347114e-01,\n",
       "         9.41480149e-01],\n",
       "       [ 9.32065348e-01,  9.50990050e-01,  9.32065348e-01,\n",
       "         9.50990050e-01],\n",
       "       [ 9.41480149e-01,  9.60596010e-01,  9.41480149e-01,\n",
       "         9.41480149e-01],\n",
       "       [ 9.32065348e-01,  1.58125052e-01,  9.50990050e-01,\n",
       "         1.58125052e-01],\n",
       "       [ 1.59722275e-01,  5.32717181e-02,  9.41480149e-01,\n",
       "         1.33751951e-01],\n",
       "       [ 9.32065348e-01,  9.50990050e-01, -1.07221382e-04,\n",
       "         9.50990050e-01],\n",
       "       [ 9.41480149e-01,  9.60596010e-01,  9.41480149e-01,\n",
       "         9.60596010e-01],\n",
       "       [ 9.50990050e-01,  9.70299000e-01,  9.50990050e-01,\n",
       "         9.70299000e-01],\n",
       "       [ 9.41480149e-01,  9.80100000e-01,  9.60596010e-01,\n",
       "         9.80100000e-01],\n",
       "       [ 9.32065348e-01,  9.90000000e-01,  9.70299000e-01,\n",
       "         8.21934820e-02],\n",
       "       [ 9.41480149e-01,  8.43838486e-02, -1.53900602e-01,\n",
       "         9.60596010e-01],\n",
       "       [ 9.50990050e-01,  7.13840828e-02,  9.50990050e-01,\n",
       "         9.70299000e-01],\n",
       "       [ 9.60596010e-01, -5.52486481e-02,  9.60596010e-01,\n",
       "         9.80100000e-01],\n",
       "       [ 9.70299000e-01, -2.15045728e-02,  9.70299000e-01,\n",
       "         9.90000000e-01],\n",
       "       [ 1.00000000e+00,  1.00000000e+00,  1.00000000e+00,\n",
       "         1.00000000e+00]])"
      ]
     },
     "execution_count": 129,
     "metadata": {},
     "output_type": "execute_result"
    }
   ],
   "source": [
    "Q"
   ]
  },
  {
   "cell_type": "code",
   "execution_count": 130,
   "metadata": {},
   "outputs": [
    {
     "data": {
      "text/plain": [
       "array([[0.92274469, 0.93206535, 0.94148015, 0.93206535, 0.92274469],\n",
       "       [0.93206535, 0.94148015, 0.95099005, 0.94148015, 0.93206535],\n",
       "       [0.94148015, 0.95099005, 0.96059601, 0.95099005, 0.94148015],\n",
       "       [0.95099005, 0.96059601, 0.970299  , 0.9801    , 0.99      ],\n",
       "       [0.96059601, 0.970299  , 0.9801    , 0.99      , 1.        ]])"
      ]
     },
     "execution_count": 130,
     "metadata": {},
     "output_type": "execute_result"
    }
   ],
   "source": [
    "Q.max(axis=1).reshape(5,5)"
   ]
  },
  {
   "cell_type": "code",
   "execution_count": 131,
   "metadata": {},
   "outputs": [
    {
     "data": {
      "text/plain": [
       "<matplotlib.colorbar.Colorbar at 0x19f1afbf828>"
      ]
     },
     "execution_count": 131,
     "metadata": {},
     "output_type": "execute_result"
    },
    {
     "data": {
      "image/png": "[encoded data removed]",
      "text/plain": [
       "<Figure size 432x288 with 2 Axes>"
      ]
     },
     "metadata": {},
     "output_type": "display_data"
    }
   ],
   "source": [
    "plt.imshow(Q.max(axis=1).reshape(5,5))\n",
    "plt.colorbar()"
   ]
  },
  {
   "cell_type": "code",
   "execution_count": 132,
   "metadata": {},
   "outputs": [
    {
     "data": {
      "text/plain": [
       "(100, 25, 4)"
      ]
     },
     "execution_count": 132,
     "metadata": {},
     "output_type": "execute_result"
    }
   ],
   "source": [
    "Qs = np.array(Qs).reshape(-1,25,4)\n",
    "Qs.shape"
   ]
  },
  {
   "cell_type": "code",
   "execution_count": 133,
   "metadata": {},
   "outputs": [
    {
     "data": {
      "text/plain": [
       "[<matplotlib.lines.Line2D at 0x19f1b231208>]"
      ]
     },
     "execution_count": 133,
     "metadata": {},
     "output_type": "execute_result"
    },
    {
     "data": {
      "image/png": "[encoded data removed]",
      "text/plain": [
       "<Figure size 432x288 with 1 Axes>"
      ]
     },
     "metadata": {},
     "output_type": "display_data"
    }
   ],
   "source": [
    "plt.plot(Qs.max(axis=2)[:,20])"
   ]
  }
 ],
 "metadata": {
  "kernelspec": {
   "display_name": "Python 3",
   "language": "python",
   "name": "python3"
  },
  "language_info": {
   "codemirror_mode": {
    "name": "ipython",
    "version": 3
   },
   "file_extension": ".py",
   "mimetype": "text/x-python",
   "name": "python",
   "nbconvert_exporter": "python",
   "pygments_lexer": "ipython3",
   "version": "3.6.5"
  }
 },
 "nbformat": 4,
 "nbformat_minor": 2
}
