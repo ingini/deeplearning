{
 "cells": [
  {
   "cell_type": "markdown",
   "metadata": {},
   "source": [
    "## 빅데이터 활용 AI 설계\n",
    "# 강화학습 맛보기"
   ]
  },
  {
   "cell_type": "markdown",
   "metadata": {},
   "source": [
    "- 상태 변이도\n",
    "<img src='https://upload.wikimedia.org/wikipedia/commons/thumb/9/95/Finance_Markov_chain_example_state_space.svg/400px-Finance_Markov_chain_example_state_space.svg.png' />\n",
    "\n",
    "> - Markov Chain, Markov Process, Markov Property\n",
    "> - 상태변이확률 (State Transition Probability)\n",
    "> - 상태 -> 다음상태\n",
    "\n",
    "- 행동에 따른 상태 변이도\n",
    "<img src='https://upload.wikimedia.org/wikipedia/commons/thumb/a/ad/Markov_Decision_Process.svg/400px-Markov_Decision_Process.svg.png' />\n",
    "\n",
    "> - Markov Decision Process(MDP)\n",
    "> - 상태-행동 변이확률 (State-Action Transition Probability)\n",
    "> - 상태 -> 행동 -> 보상 -> 다음상태"
   ]
  },
  {
   "cell_type": "code",
   "execution_count": 1,
   "metadata": {},
   "outputs": [],
   "source": [
    "import numpy as np\n",
    "import matplotlib.pyplot as plt"
   ]
  },
  {
   "cell_type": "markdown",
   "metadata": {},
   "source": [
    "### 환경\n",
    "- 5X5 의 격자가 있다.\n",
    "- 마지막 Cell 에 도착하면 1 의 보상을 얻는다.\n",
    "- 상태 : 25개 (Cell 수)\n",
    "- 행동 : 4개 (상/하/좌/우)"
   ]
  },
  {
   "cell_type": "code",
   "execution_count": 51,
   "metadata": {},
   "outputs": [],
   "source": [
    "Q = np.zeros([25,4])\n",
    "Qs = []\n",
    "gamma = 0.99"
   ]
  },
  {
   "cell_type": "markdown",
   "metadata": {},
   "source": [
    "### 적용식\n",
    "\n",
    "$$ (s,a) \\Rightarrow r, s' $$\n",
    "$$ Q_{new}(s,a) = r + \\gamma \\cdot max_{a'}[Q(s',a')] $$\n",
    "\n",
    "- s: state\n",
    "- a: action\n",
    "- r: reward\n",
    "- s': new state\n",
    "- $\\gamma$: discount rate\n",
    "- s,a -> r,s -> a : sarsa"
   ]
  },
  {
   "cell_type": "code",
   "execution_count": 52,
   "metadata": {},
   "outputs": [],
   "source": [
    "def valid_action(s, a):\n",
    "    if s//5==0 and a==0: return False\n",
    "    if s//5==4 and a==1: return False\n",
    "    if s%5==0 and a==2: return False\n",
    "    if s%5==4 and a==3: return False\n",
    "    return True"
   ]
  },
  {
   "cell_type": "code",
   "execution_count": 53,
   "metadata": {},
   "outputs": [],
   "source": [
    "Q = np.zeros([25,4]) # 상태 25개, 행동 4개에 대한 Q-table\n",
    "Qs = []\n",
    "gamma = 0.99\n",
    "\n",
    "s = 0\n",
    "ds = [-5,5,-1,1] # 상/하/좌/우 이동 변이값\n",
    "\n",
    "for epoch in range(100):\n",
    "    for s in range(25):\n",
    "        if s==24: # the last(goal) cell\n",
    "            Q[s] = 1 # 마지막 cell 에서는 행동 4개 값을 모두 1(보상값)으로 준다.\n",
    "            continue\n",
    "            \n",
    "        for a in range(4):\n",
    "            if not valid_action(s,a): continue\n",
    "            s_new = s + ds[a] # s' 즉, 다음번 상태값\n",
    "            Q[s,a] = 0 + gamma*np.max(Q[s_new])\n",
    "         \n",
    "    Qs.append(Q.copy())"
   ]
  },
  {
   "cell_type": "code",
   "execution_count": 54,
   "metadata": {},
   "outputs": [
    {
     "data": {
      "text/plain": [
       "array([[0.        , 0.92274469, 0.        , 0.92274469],\n",
       "       [0.        , 0.93206535, 0.91351725, 0.93206535],\n",
       "       [0.        , 0.94148015, 0.92274469, 0.94148015],\n",
       "       [0.        , 0.95099005, 0.93206535, 0.95099005],\n",
       "       [0.        , 0.96059601, 0.94148015, 0.        ],\n",
       "       [0.91351725, 0.93206535, 0.        , 0.93206535],\n",
       "       [0.92274469, 0.94148015, 0.92274469, 0.94148015],\n",
       "       [0.93206535, 0.95099005, 0.93206535, 0.95099005],\n",
       "       [0.94148015, 0.96059601, 0.94148015, 0.96059601],\n",
       "       [0.95099005, 0.970299  , 0.95099005, 0.        ],\n",
       "       [0.92274469, 0.94148015, 0.        , 0.94148015],\n",
       "       [0.93206535, 0.95099005, 0.93206535, 0.95099005],\n",
       "       [0.94148015, 0.96059601, 0.94148015, 0.96059601],\n",
       "       [0.95099005, 0.970299  , 0.95099005, 0.970299  ],\n",
       "       [0.96059601, 0.9801    , 0.96059601, 0.        ],\n",
       "       [0.93206535, 0.95099005, 0.        , 0.95099005],\n",
       "       [0.94148015, 0.96059601, 0.94148015, 0.96059601],\n",
       "       [0.95099005, 0.970299  , 0.95099005, 0.970299  ],\n",
       "       [0.96059601, 0.9801    , 0.96059601, 0.9801    ],\n",
       "       [0.970299  , 0.99      , 0.970299  , 0.        ],\n",
       "       [0.94148015, 0.        , 0.        , 0.96059601],\n",
       "       [0.95099005, 0.        , 0.95099005, 0.970299  ],\n",
       "       [0.96059601, 0.        , 0.96059601, 0.9801    ],\n",
       "       [0.970299  , 0.        , 0.970299  , 0.99      ],\n",
       "       [1.        , 1.        , 1.        , 1.        ]])"
      ]
     },
     "execution_count": 54,
     "metadata": {},
     "output_type": "execute_result"
    }
   ],
   "source": [
    "Q"
   ]
  },
  {
   "cell_type": "code",
   "execution_count": 55,
   "metadata": {},
   "outputs": [
    {
     "data": {
      "text/plain": [
       "array([[0.92274469, 0.93206535, 0.94148015, 0.95099005, 0.96059601],\n",
       "       [0.93206535, 0.94148015, 0.95099005, 0.96059601, 0.970299  ],\n",
       "       [0.94148015, 0.95099005, 0.96059601, 0.970299  , 0.9801    ],\n",
       "       [0.95099005, 0.96059601, 0.970299  , 0.9801    , 0.99      ],\n",
       "       [0.96059601, 0.970299  , 0.9801    , 0.99      , 1.        ]])"
      ]
     },
     "execution_count": 55,
     "metadata": {},
     "output_type": "execute_result"
    }
   ],
   "source": [
    "Q.max(axis=1).reshape(5,5)"
   ]
  },
  {
   "cell_type": "code",
   "execution_count": 56,
   "metadata": {},
   "outputs": [
    {
     "data": {
      "text/plain": [
       "<matplotlib.colorbar.Colorbar at 0x221a9794908>"
      ]
     },
     "execution_count": 56,
     "metadata": {},
     "output_type": "execute_result"
    },
    {
     "data": {
      "image/png": "[encoded data removed]",
      "text/plain": [
       "<Figure size 432x288 with 2 Axes>"
      ]
     },
     "metadata": {},
     "output_type": "display_data"
    }
   ],
   "source": [
    "plt.imshow(Q.max(axis=1).reshape(5,5))\n",
    "plt.colorbar()"
   ]
  },
  {
   "cell_type": "code",
   "execution_count": 59,
   "metadata": {},
   "outputs": [
    {
     "data": {
      "text/plain": [
       "(100, 25, 4)"
      ]
     },
     "execution_count": 59,
     "metadata": {},
     "output_type": "execute_result"
    }
   ],
   "source": [
    "Qs = np.array(Qs).reshape(-1,25,4)\n",
    "Qs.shape"
   ]
  },
  {
   "cell_type": "code",
   "execution_count": 61,
   "metadata": {},
   "outputs": [
    {
     "data": {
      "text/plain": [
       "[<matplotlib.lines.Line2D at 0x221a9856b00>]"
      ]
     },
     "execution_count": 61,
     "metadata": {},
     "output_type": "execute_result"
    },
    {
     "data": {
      "image/png": "[encoded data removed]",
      "text/plain": [
       "<Figure size 432x288 with 1 Axes>"
      ]
     },
     "metadata": {},
     "output_type": "display_data"
    }
   ],
   "source": [
    "plt.plot(Qs.max(axis=2)[:,0])"
   ]
  },
  {
   "cell_type": "code",
   "execution_count": 1,
   "metadata": {},
   "outputs": [
    {
     "data": {
      "text/plain": [
       "1267650600228229401496703205376"
      ]
     },
     "execution_count": 1,
     "metadata": {},
     "output_type": "execute_result"
    }
   ],
   "source": [
    "2**100"
   ]
  },
  {
   "cell_type": "code",
   "execution_count": null,
   "metadata": {},
   "outputs": [],
   "source": []
  }
 ],
 "metadata": {
  "kernelspec": {
   "display_name": "Python 3",
   "language": "python",
   "name": "python3"
  },
  "language_info": {
   "codemirror_mode": {
    "name": "ipython",
    "version": 3
   },
   "file_extension": ".py",
   "mimetype": "text/x-python",
   "name": "python",
   "nbconvert_exporter": "python",
   "pygments_lexer": "ipython3",
   "version": "3.6.5"
  }
 },
 "nbformat": 4,
 "nbformat_minor": 2
}
