{
 "cells": [
  {
   "cell_type": "markdown",
   "metadata": {},
   "source": [
    "## 빅데이터 활용 AI 설계\n",
    "# CartPole-v0 with Keras\n",
    "- https://gist.github.com/tsu-nera/edd306ddeefebe4afb1efceefbc3f953 소스 참고\n",
    "- dqn_cartpole_keras.py 로 다운받음"
   ]
  },
  {
   "cell_type": "markdown",
   "metadata": {},
   "source": [
    "### OpenAI gym\n",
    "- 설치 : pip install gym\n",
    "- 홈페이지 : http://gym.openai.com/\n",
    "- 공식블로그 : https://github.com/openai/gym"
   ]
  },
  {
   "cell_type": "markdown",
   "metadata": {},
   "source": [
    "### gym 기본 사용법\n",
    "\n",
    "```\n",
    "import gym\n",
    "\n",
    "env = gym.make(\"CartPole-v1\")\n",
    "observation = env.reset()\n",
    "\n",
    "for _ in range(1000):\n",
    "  env.render()\n",
    "  action = env.action_space.sample() # your agent here (this takes random actions)\n",
    "  observation, reward, done, info = env.step(action)\n",
    "\n",
    "  if done:\n",
    "    observation = env.reset()\n",
    "\n",
    "env.close()\n",
    "```"
   ]
  },
  {
   "attachments": {
    "image.png": {
     "image/png": "[encoded data removed]"
    }
   },
   "cell_type": "markdown",
   "metadata": {},
   "source": [
    "### CartPole-v0 게임 정보\n",
    "\n",
    "![image.png](attachment:image.png)\n",
    "\n",
    "#### 사이트\n",
    "- https://github.com/openai/gym/wiki/CartPole-v0\n",
    "- https://gym.openai.com/envs/CartPole-v0/\n",
    "\n",
    "#### States\n",
    "- x 좌표 (-2.4 ~ 2.4)\n",
    "- 이동 속도 (-inf ~ inf)\n",
    "- 각도 (-41.8도 ~ 41.8도)\n",
    "- 각속도 (-inf ~ inf)\n",
    "\n",
    "#### Actions\n",
    "- 0 : push cart to the left\n",
    "- 1 : push cart to the right\n",
    "\n",
    "#### Rewards\n",
    "- Reward is 1 for every step taken, including the termination step\n",
    "\n",
    "#### 종료 조건\n",
    "- 12도를 넘어가는 경우 (실제로는 20도로 적용되는 걸로 보임. 20.01도 등은 종료안함.)\n",
    "- 중심에서 2.4 만큼 멀어지는 경우 (화면 경계임)\n",
    "\n",
    "#### 해결 판정\n",
    "- 100번 실행했을 때, 총보상의 평균값이 195점 이상 나올때\n",
    "\n",
    "#### v0 과 v1 의 차이\n",
    "- 최대 시행횟수가 200 과 500 임\n",
    "- https://stackoverflow.com/questions/56904270/difference-between-openai-gym-environments-cartpole-v0-and-cartpole-v1"
   ]
  },
  {
   "cell_type": "markdown",
   "metadata": {},
   "source": [
    "### 실행 테스트"
   ]
  },
  {
   "cell_type": "code",
   "execution_count": 1,
   "metadata": {},
   "outputs": [
    {
     "name": "stdout",
     "output_type": "stream",
     "text": [
      "100 [-0.02472801 -0.17071355 -0.01194266  0.07578487] 1.0 False {}\n",
      "200 [-0.01421324 -0.40699421  0.06788924  0.70478131] 1.0 False {}\n",
      "300 [ 0.01489082  0.34626522  0.04116833 -0.41059991] 1.0 False {}\n",
      "400 [-0.55361861 -2.04745845  0.1317383   1.69319071] 1.0 False {}\n",
      "500 [ 0.04579382  0.83471443 -0.1467374  -1.30675145] 1.0 False {}\n",
      "600 [ 0.12727478  0.0219257  -0.21573662 -0.44572809] 1.0 True {}\n",
      "700 [0.02203348 0.16100207 0.0655939  0.10997561] 1.0 False {}\n",
      "800 [-0.00238942 -0.36771149  0.03402101  0.54982032] 1.0 False {}\n",
      "900 [ 0.01960767 -0.21095165 -0.00804773  0.256092  ] 1.0 False {}\n",
      "1000 [ 0.13872671  0.54824038 -0.13238346 -0.93157997] 1.0 False {}\n"
     ]
    }
   ],
   "source": [
    "import gym\n",
    "\n",
    "env = gym.make(\"CartPole-v0\")\n",
    "observation = env.reset()\n",
    "\n",
    "for i in range(1000):\n",
    "    env.render()\n",
    "    action = env.action_space.sample() # your agent here (this takes random actions)\n",
    "    observation, reward, done, info = env.step(action)\n",
    "\n",
    "    if (i+1)%100 == 0:\n",
    "        print(i+1, observation, reward, done, info)\n",
    "        \n",
    "    if done:\n",
    "        observation = env.reset()\n",
    "\n",
    "env.close()"
   ]
  },
  {
   "cell_type": "code",
   "execution_count": null,
   "metadata": {},
   "outputs": [],
   "source": []
  },
  {
   "cell_type": "markdown",
   "metadata": {},
   "source": [
    "### 초기 설정"
   ]
  },
  {
   "cell_type": "code",
   "execution_count": 2,
   "metadata": {},
   "outputs": [],
   "source": [
    "import numpy as np\n",
    "import matplotlib.pyplot as plt\n",
    "import gym"
   ]
  },
  {
   "cell_type": "code",
   "execution_count": 3,
   "metadata": {},
   "outputs": [],
   "source": [
    "env = gym.make('CartPole-v0')"
   ]
  },
  {
   "cell_type": "markdown",
   "metadata": {},
   "source": [
    "### 케라스 모델 생성"
   ]
  },
  {
   "cell_type": "code",
   "execution_count": 4,
   "metadata": {},
   "outputs": [
    {
     "name": "stderr",
     "output_type": "stream",
     "text": [
      "Using TensorFlow backend.\n"
     ]
    }
   ],
   "source": [
    "from keras.models import Sequential\n",
    "from keras.layers import Dense\n",
    "from keras.optimizers import RMSprop"
   ]
  },
  {
   "cell_type": "markdown",
   "metadata": {},
   "source": [
    "- 입력 : 상태값 4개 (x좌표, 이동속도, 각도, 각속도)\n",
    "- 출력 : 행동 2개에 대한 Q값"
   ]
  },
  {
   "cell_type": "code",
   "execution_count": 5,
   "metadata": {},
   "outputs": [
    {
     "name": "stdout",
     "output_type": "stream",
     "text": [
      "WARNING:tensorflow:From C:\\Users\\multicampus\\Anaconda3\\lib\\site-packages\\keras\\backend\\tensorflow_backend.py:66: The name tf.get_default_graph is deprecated. Please use tf.compat.v1.get_default_graph instead.\n",
      "\n",
      "WARNING:tensorflow:From C:\\Users\\multicampus\\Anaconda3\\lib\\site-packages\\keras\\backend\\tensorflow_backend.py:541: The name tf.placeholder is deprecated. Please use tf.compat.v1.placeholder instead.\n",
      "\n",
      "WARNING:tensorflow:From C:\\Users\\multicampus\\Anaconda3\\lib\\site-packages\\keras\\backend\\tensorflow_backend.py:4432: The name tf.random_uniform is deprecated. Please use tf.random.uniform instead.\n",
      "\n",
      "WARNING:tensorflow:From C:\\Users\\multicampus\\Anaconda3\\lib\\site-packages\\keras\\optimizers.py:793: The name tf.train.Optimizer is deprecated. Please use tf.compat.v1.train.Optimizer instead.\n",
      "\n"
     ]
    }
   ],
   "source": [
    "model = Sequential()\n",
    "model.add(Dense(16, activation='relu', input_shape=(4,)))\n",
    "model.add(Dense(16, activation='relu'))\n",
    "model.add(Dense(2, activation='linear')) # 0 or 1\n",
    "\n",
    "model.compile(loss='mse', optimizer=RMSprop(lr=0.001)) # lr=0.001 (default)"
   ]
  },
  {
   "cell_type": "code",
   "execution_count": 6,
   "metadata": {},
   "outputs": [
    {
     "name": "stdout",
     "output_type": "stream",
     "text": [
      "Model: \"sequential_1\"\n",
      "_________________________________________________________________\n",
      "Layer (type)                 Output Shape              Param #   \n",
      "=================================================================\n",
      "dense_1 (Dense)              (None, 16)                80        \n",
      "_________________________________________________________________\n",
      "dense_2 (Dense)              (None, 16)                272       \n",
      "_________________________________________________________________\n",
      "dense_3 (Dense)              (None, 2)                 34        \n",
      "=================================================================\n",
      "Total params: 386\n",
      "Trainable params: 386\n",
      "Non-trainable params: 0\n",
      "_________________________________________________________________\n"
     ]
    }
   ],
   "source": [
    "model.summary()"
   ]
  },
  {
   "cell_type": "markdown",
   "metadata": {},
   "source": [
    "- Q값 얻어내기"
   ]
  },
  {
   "cell_type": "code",
   "execution_count": 7,
   "metadata": {},
   "outputs": [
    {
     "name": "stdout",
     "output_type": "stream",
     "text": [
      "WARNING:tensorflow:From C:\\Users\\multicampus\\Anaconda3\\lib\\site-packages\\keras\\backend\\tensorflow_backend.py:3005: The name tf.Session is deprecated. Please use tf.compat.v1.Session instead.\n",
      "\n",
      "WARNING:tensorflow:From C:\\Users\\multicampus\\Anaconda3\\lib\\site-packages\\keras\\backend\\tensorflow_backend.py:190: The name tf.get_default_session is deprecated. Please use tf.compat.v1.get_default_session instead.\n",
      "\n"
     ]
    },
    {
     "data": {
      "text/plain": [
       "array([[0.16643557, 0.29958427]], dtype=float32)"
      ]
     },
     "execution_count": 7,
     "metadata": {},
     "output_type": "execute_result"
    }
   ],
   "source": [
    "s = np.array([1,0,1,0])\n",
    "\n",
    "model.predict(s.reshape(1,4))"
   ]
  },
  {
   "cell_type": "markdown",
   "metadata": {},
   "source": [
    "- 가중치 확인 (초기 셋팅값)\n",
    "- 초기값 설정 : https://keras.io/initializers/"
   ]
  },
  {
   "cell_type": "code",
   "execution_count": 8,
   "metadata": {},
   "outputs": [],
   "source": [
    "ws = model.get_weights()"
   ]
  },
  {
   "cell_type": "code",
   "execution_count": 9,
   "metadata": {},
   "outputs": [
    {
     "data": {
      "text/plain": [
       "array([[ 0.386325  , -0.49097928, -0.26991573, -0.14417836,  0.5262145 ,\n",
       "         0.16781074,  0.0074628 , -0.28612253, -0.28964263,  0.03798467,\n",
       "        -0.2561935 ,  0.23259026, -0.29525748, -0.3506577 , -0.51867384,\n",
       "        -0.16937229],\n",
       "       [ 0.21194649, -0.16402698, -0.29457882, -0.18525264,  0.14743638,\n",
       "        -0.42693213, -0.22972947,  0.3396274 ,  0.41182542, -0.28060848,\n",
       "         0.2967075 , -0.34620845, -0.19947487, -0.4014002 , -0.38973475,\n",
       "         0.36908472],\n",
       "       [ 0.44060946, -0.40960073,  0.2913105 ,  0.46852148,  0.09516752,\n",
       "        -0.35026684, -0.20644236,  0.22861475,  0.03071374,  0.41715062,\n",
       "         0.32557958, -0.13822305,  0.08763486, -0.44521147,  0.3655637 ,\n",
       "        -0.36807096],\n",
       "       [ 0.34233236, -0.32733232,  0.23517716, -0.35342824,  0.15881968,\n",
       "        -0.5359714 ,  0.50247943,  0.4109395 ,  0.1642375 ,  0.24854213,\n",
       "         0.4811517 , -0.49664846, -0.15443024, -0.36678234, -0.2678518 ,\n",
       "         0.42252547]], dtype=float32)"
      ]
     },
     "execution_count": 9,
     "metadata": {},
     "output_type": "execute_result"
    }
   ],
   "source": [
    "ws[0]"
   ]
  },
  {
   "cell_type": "code",
   "execution_count": 10,
   "metadata": {},
   "outputs": [
    {
     "data": {
      "text/plain": [
       "array([0., 0., 0., 0., 0., 0., 0., 0., 0., 0., 0., 0., 0., 0., 0., 0.],\n",
       "      dtype=float32)"
      ]
     },
     "execution_count": 10,
     "metadata": {},
     "output_type": "execute_result"
    }
   ],
   "source": [
    "ws[1]"
   ]
  },
  {
   "cell_type": "markdown",
   "metadata": {},
   "source": [
    "### 버퍼 지정\n",
    "- 시뮬레이션 이력을 저장해 놓는다\n",
    "- 총 10000개의 이력 저장\n",
    "- collections.deque 는 버퍼가 꽉 차면 오래된 데이터 부터 버린다"
   ]
  },
  {
   "cell_type": "code",
   "execution_count": 11,
   "metadata": {},
   "outputs": [],
   "source": [
    "import collections\n",
    "\n",
    "memory = collections.deque(maxlen = 10000)"
   ]
  },
  {
   "cell_type": "markdown",
   "metadata": {},
   "source": [
    "### 사전 학습\n",
    "- 한 번에 학습할 배치 크기를 32 로 할 예정이므로, 미리 32개의 이력을 만들어 놓는다\n",
    "- 랜덤 행동을 하여 memory 에 저장한다"
   ]
  },
  {
   "cell_type": "code",
   "execution_count": 12,
   "metadata": {},
   "outputs": [],
   "source": [
    "s = env.reset()"
   ]
  },
  {
   "cell_type": "code",
   "execution_count": 13,
   "metadata": {},
   "outputs": [],
   "source": [
    "for i in range(32):\n",
    "    action = env.action_space.sample() # np.random.randint(2)\n",
    "    s2, r, done, _ = env.step(action)\n",
    "    \n",
    "    memory.append([s, action, r, done, s2])\n",
    "    \n",
    "    s = env.reset() if done else s2 # done 이면 리셋"
   ]
  },
  {
   "cell_type": "code",
   "execution_count": 14,
   "metadata": {},
   "outputs": [
    {
     "data": {
      "text/plain": [
       "32"
      ]
     },
     "execution_count": 14,
     "metadata": {},
     "output_type": "execute_result"
    }
   ],
   "source": [
    "len(memory)"
   ]
  },
  {
   "cell_type": "code",
   "execution_count": 15,
   "metadata": {},
   "outputs": [
    {
     "data": {
      "text/plain": [
       "[array([-0.00394049, -0.04439316, -0.04912837,  0.02777038]),\n",
       " 0,\n",
       " 1.0,\n",
       " False,\n",
       " array([-0.00482835, -0.2387774 , -0.04857296,  0.30455701])]"
      ]
     },
     "metadata": {},
     "output_type": "display_data"
    },
    {
     "data": {
      "text/plain": [
       "[array([-0.0530723 , -0.38406051, -0.01610989,  0.52525225]),\n",
       " 1,\n",
       " 1.0,\n",
       " False,\n",
       " array([-0.06075351, -0.1887156 , -0.00560484,  0.22753681])]"
      ]
     },
     "metadata": {},
     "output_type": "display_data"
    }
   ],
   "source": [
    "display(memory[0], memory[-1])"
   ]
  },
  {
   "cell_type": "markdown",
   "metadata": {},
   "source": [
    "### Q-learning & SARSA\n",
    "\n",
    "- Temporal difference learning\n",
    "<img src='https://wikimedia.org/api/rest_v1/media/math/render/svg/9c2c752364a919d563253cdab2ab846e59d5cb8d' /><br>\n",
    "\n",
    "- Q-learning\n",
    "<img src='https://wikimedia.org/api/rest_v1/media/math/render/svg/47fa1e5cf8cf75996a777c11c7b9445dc96d4637' /><br>\n",
    "\n",
    "- SARSA (State–action–reward–state–action)\n",
    "<img src='https://wikimedia.org/api/rest_v1/media/math/render/svg/4ea76ebe74645baff9d5a67c83eac1daff812d79' /><br>\n",
    "\n",
    "(출처 : wikipedia)"
   ]
  },
  {
   "cell_type": "markdown",
   "metadata": {},
   "source": [
    "### Exploitation vs Exploration (관례 대 탐험)\n",
    "- Exploitation : 기존 경험에 비추어 결과가 가장 좋았던 행동을 수행하는 행동 결정 방식\n",
    "- Exploration : 가장 좋았던 행동이 아니라 새로운 행동을 수행하는 방식 (흔하게는 랜덤 행동 수행)\n",
    "- 일반적으로, 처음에는 탐험을 하다가 경험이 쌓일 수록 점점 관례를 많이 따르도록 한다.\n",
    "- epsilon($\\epsilon$) : 탐험을 수행할 확률을 지정"
   ]
  },
  {
   "cell_type": "markdown",
   "metadata": {},
   "source": [
    "### 학습 실행"
   ]
  },
  {
   "cell_type": "code",
   "execution_count": 16,
   "metadata": {},
   "outputs": [],
   "source": [
    "epsilon = 1.0 # 처음에는 탐험만 수행한다. (랜덤 행동)\n",
    "gamma = 0.99 # 감쇠율 (discount factor, 미래 보상을 얼마나 중요시할 지를 결정)\n",
    "returns = [] # 에피소드 당 총보상값을 저장한다\n",
    "count = 0"
   ]
  },
  {
   "cell_type": "code",
   "execution_count": 17,
   "metadata": {
    "scrolled": true
   },
   "outputs": [
    {
     "name": "stdout",
     "output_type": "stream",
     "text": [
      "Episode: 1, Reward: 18, Epsilon: 0.99832\n",
      "Episode: 2, Reward: 38, Epsilon: 0.99457\n",
      "Episode: 3, Reward: 16, Epsilon: 0.99300\n",
      "Episode: 4, Reward: 42, Epsilon: 0.98888\n",
      "Episode: 5, Reward: 74, Epsilon: 0.98166\n",
      "Episode: 6, Reward: 11, Epsilon: 0.98059\n",
      "Episode: 7, Reward: 23, Epsilon: 0.97836\n",
      "Episode: 8, Reward: 28, Epsilon: 0.97565\n",
      "Episode: 9, Reward: 15, Epsilon: 0.97421\n",
      "Episode: 10, Reward: 10, Epsilon: 0.97324\n",
      "Episode: 11, Reward: 21, Epsilon: 0.97122\n",
      "Episode: 12, Reward: 15, Epsilon: 0.96978\n",
      "Episode: 13, Reward: 10, Epsilon: 0.96882\n",
      "Episode: 14, Reward: 23, Epsilon: 0.96662\n",
      "Episode: 15, Reward: 10, Epsilon: 0.96566\n",
      "Episode: 16, Reward: 13, Epsilon: 0.96442\n",
      "Episode: 17, Reward: 17, Epsilon: 0.96280\n",
      "Episode: 18, Reward: 23, Epsilon: 0.96061\n",
      "Episode: 19, Reward: 17, Epsilon: 0.95900\n",
      "Episode: 20, Reward: 22, Epsilon: 0.95691\n",
      "Episode: 21, Reward: 26, Epsilon: 0.95445\n",
      "Episode: 22, Reward: 14, Epsilon: 0.95313\n",
      "Episode: 23, Reward: 10, Epsilon: 0.95219\n",
      "Episode: 24, Reward: 27, Epsilon: 0.94965\n",
      "Episode: 25, Reward: 13, Epsilon: 0.94843\n",
      "Episode: 26, Reward: 40, Epsilon: 0.94468\n",
      "Episode: 27, Reward: 12, Epsilon: 0.94356\n",
      "Episode: 28, Reward: 13, Epsilon: 0.94235\n",
      "Episode: 29, Reward: 15, Epsilon: 0.94095\n",
      "Episode: 30, Reward: 14, Epsilon: 0.93965\n",
      "Episode: 31, Reward: 22, Epsilon: 0.93760\n",
      "Episode: 32, Reward: 18, Epsilon: 0.93594\n",
      "Episode: 33, Reward: 12, Epsilon: 0.93483\n",
      "Episode: 34, Reward: 21, Epsilon: 0.93289\n",
      "Episode: 35, Reward: 25, Epsilon: 0.93058\n",
      "Episode: 36, Reward: 9, Epsilon: 0.92975\n",
      "Episode: 37, Reward: 15, Epsilon: 0.92837\n",
      "Episode: 38, Reward: 13, Epsilon: 0.92718\n",
      "Episode: 39, Reward: 12, Epsilon: 0.92608\n",
      "Episode: 40, Reward: 48, Epsilon: 0.92169\n",
      "Episode: 41, Reward: 28, Epsilon: 0.91915\n",
      "Episode: 42, Reward: 11, Epsilon: 0.91815\n",
      "Episode: 43, Reward: 15, Epsilon: 0.91678\n",
      "Episode: 44, Reward: 15, Epsilon: 0.91543\n",
      "Episode: 45, Reward: 22, Epsilon: 0.91344\n",
      "Episode: 46, Reward: 18, Epsilon: 0.91181\n",
      "Episode: 47, Reward: 23, Epsilon: 0.90974\n",
      "Episode: 48, Reward: 11, Epsilon: 0.90875\n",
      "Episode: 49, Reward: 15, Epsilon: 0.90740\n",
      "Episode: 50, Reward: 9, Epsilon: 0.90660\n",
      "Episode: 51, Reward: 31, Epsilon: 0.90382\n",
      "Episode: 52, Reward: 14, Epsilon: 0.90257\n",
      "Episode: 53, Reward: 13, Epsilon: 0.90141\n",
      "Episode: 54, Reward: 21, Epsilon: 0.89954\n",
      "Episode: 55, Reward: 17, Epsilon: 0.89803\n",
      "Episode: 56, Reward: 19, Epsilon: 0.89634\n",
      "Episode: 57, Reward: 23, Epsilon: 0.89431\n",
      "Episode: 58, Reward: 25, Epsilon: 0.89210\n",
      "Episode: 59, Reward: 9, Epsilon: 0.89131\n",
      "Episode: 60, Reward: 35, Epsilon: 0.88823\n",
      "Episode: 61, Reward: 18, Epsilon: 0.88665\n",
      "Episode: 62, Reward: 35, Epsilon: 0.88358\n",
      "Episode: 63, Reward: 22, Epsilon: 0.88166\n",
      "Episode: 64, Reward: 41, Epsilon: 0.87810\n",
      "Episode: 65, Reward: 29, Epsilon: 0.87558\n",
      "Episode: 66, Reward: 54, Epsilon: 0.87092\n",
      "Episode: 67, Reward: 15, Epsilon: 0.86963\n",
      "Episode: 68, Reward: 19, Epsilon: 0.86800\n",
      "Episode: 69, Reward: 10, Epsilon: 0.86714\n",
      "Episode: 70, Reward: 17, Epsilon: 0.86569\n",
      "Episode: 71, Reward: 24, Epsilon: 0.86364\n",
      "Episode: 72, Reward: 25, Epsilon: 0.86150\n",
      "Episode: 73, Reward: 12, Epsilon: 0.86048\n",
      "Episode: 74, Reward: 41, Epsilon: 0.85700\n",
      "Episode: 75, Reward: 20, Epsilon: 0.85531\n",
      "Episode: 76, Reward: 18, Epsilon: 0.85379\n",
      "Episode: 77, Reward: 14, Epsilon: 0.85261\n",
      "Episode: 78, Reward: 16, Epsilon: 0.85126\n",
      "Episode: 79, Reward: 25, Epsilon: 0.84916\n",
      "Episode: 80, Reward: 18, Epsilon: 0.84765\n",
      "Episode: 81, Reward: 20, Epsilon: 0.84598\n",
      "Episode: 82, Reward: 34, Epsilon: 0.84314\n",
      "Episode: 83, Reward: 26, Epsilon: 0.84098\n",
      "Episode: 84, Reward: 45, Epsilon: 0.83725\n",
      "Episode: 85, Reward: 25, Epsilon: 0.83518\n",
      "Episode: 86, Reward: 27, Epsilon: 0.83296\n",
      "Episode: 87, Reward: 24, Epsilon: 0.83099\n",
      "Episode: 88, Reward: 16, Epsilon: 0.82967\n",
      "Episode: 89, Reward: 43, Epsilon: 0.82616\n",
      "Episode: 90, Reward: 25, Epsilon: 0.82412\n",
      "Episode: 91, Reward: 35, Epsilon: 0.82127\n",
      "Episode: 92, Reward: 38, Epsilon: 0.81820\n",
      "Episode: 93, Reward: 23, Epsilon: 0.81634\n",
      "Episode: 94, Reward: 46, Epsilon: 0.81264\n",
      "Episode: 95, Reward: 20, Epsilon: 0.81104\n",
      "Episode: 96, Reward: 32, Epsilon: 0.80848\n",
      "Episode: 97, Reward: 15, Epsilon: 0.80728\n",
      "Episode: 98, Reward: 22, Epsilon: 0.80553\n",
      "Episode: 99, Reward: 23, Epsilon: 0.80370\n",
      "Episode: 100, Reward: 11, Epsilon: 0.80283\n",
      "Episode: 101, Reward: 25, Epsilon: 0.80085\n",
      "Episode: 102, Reward: 30, Epsilon: 0.79848\n",
      "Episode: 103, Reward: 32, Epsilon: 0.79596\n",
      "Episode: 104, Reward: 19, Epsilon: 0.79447\n",
      "Episode: 105, Reward: 13, Epsilon: 0.79345\n",
      "Episode: 106, Reward: 16, Epsilon: 0.79220\n",
      "Episode: 107, Reward: 22, Epsilon: 0.79048\n",
      "Episode: 108, Reward: 42, Epsilon: 0.78721\n",
      "Episode: 109, Reward: 40, Epsilon: 0.78410\n",
      "Episode: 110, Reward: 29, Epsilon: 0.78186\n",
      "Episode: 111, Reward: 15, Epsilon: 0.78070\n",
      "Episode: 112, Reward: 14, Epsilon: 0.77963\n",
      "Episode: 113, Reward: 22, Epsilon: 0.77793\n",
      "Episode: 114, Reward: 35, Epsilon: 0.77525\n",
      "Episode: 115, Reward: 18, Epsilon: 0.77388\n",
      "Episode: 116, Reward: 34, Epsilon: 0.77128\n",
      "Episode: 117, Reward: 45, Epsilon: 0.76786\n",
      "Episode: 118, Reward: 25, Epsilon: 0.76597\n",
      "Episode: 119, Reward: 16, Epsilon: 0.76476\n",
      "Episode: 120, Reward: 50, Epsilon: 0.76100\n",
      "Episode: 121, Reward: 26, Epsilon: 0.75905\n",
      "Episode: 122, Reward: 36, Epsilon: 0.75636\n",
      "Episode: 123, Reward: 63, Epsilon: 0.75167\n",
      "Episode: 124, Reward: 28, Epsilon: 0.74960\n",
      "Episode: 125, Reward: 34, Epsilon: 0.74709\n",
      "Episode: 126, Reward: 10, Epsilon: 0.74635\n",
      "Episode: 127, Reward: 30, Epsilon: 0.74414\n",
      "Episode: 128, Reward: 35, Epsilon: 0.74158\n",
      "Episode: 129, Reward: 37, Epsilon: 0.73888\n",
      "Episode: 130, Reward: 150, Epsilon: 0.72803\n",
      "Episode: 131, Reward: 18, Epsilon: 0.72673\n",
      "Episode: 132, Reward: 48, Epsilon: 0.72330\n",
      "Episode: 133, Reward: 39, Epsilon: 0.72053\n",
      "Episode: 134, Reward: 33, Epsilon: 0.71818\n",
      "Episode: 135, Reward: 46, Epsilon: 0.71493\n",
      "Episode: 136, Reward: 31, Epsilon: 0.71275\n",
      "Episode: 137, Reward: 15, Epsilon: 0.71170\n",
      "Episode: 138, Reward: 23, Epsilon: 0.71009\n",
      "Episode: 139, Reward: 33, Epsilon: 0.70778\n",
      "Episode: 140, Reward: 49, Epsilon: 0.70437\n",
      "Episode: 141, Reward: 15, Epsilon: 0.70333\n",
      "Episode: 142, Reward: 35, Epsilon: 0.70091\n",
      "Episode: 143, Reward: 21, Epsilon: 0.69946\n",
      "Episode: 144, Reward: 51, Epsilon: 0.69595\n",
      "Episode: 145, Reward: 36, Epsilon: 0.69349\n",
      "Episode: 146, Reward: 38, Epsilon: 0.69089\n",
      "Episode: 147, Reward: 47, Epsilon: 0.68770\n",
      "Episode: 148, Reward: 19, Epsilon: 0.68641\n",
      "Episode: 149, Reward: 16, Epsilon: 0.68533\n",
      "Episode: 150, Reward: 53, Epsilon: 0.68176\n",
      "Episode: 151, Reward: 33, Epsilon: 0.67955\n",
      "Episode: 152, Reward: 59, Epsilon: 0.67561\n",
      "Episode: 153, Reward: 34, Epsilon: 0.67335\n",
      "Episode: 154, Reward: 34, Epsilon: 0.67110\n",
      "Episode: 155, Reward: 54, Epsilon: 0.66754\n",
      "Episode: 156, Reward: 73, Epsilon: 0.66276\n",
      "Episode: 157, Reward: 22, Epsilon: 0.66132\n",
      "Episode: 158, Reward: 100, Epsilon: 0.65484\n",
      "Episode: 159, Reward: 75, Epsilon: 0.65002\n",
      "Episode: 160, Reward: 33, Epsilon: 0.64791\n",
      "Episode: 161, Reward: 28, Epsilon: 0.64613\n",
      "Episode: 162, Reward: 41, Epsilon: 0.64353\n",
      "Episode: 163, Reward: 106, Epsilon: 0.63685\n",
      "Episode: 164, Reward: 28, Epsilon: 0.63510\n",
      "Episode: 165, Reward: 20, Epsilon: 0.63385\n",
      "Episode: 166, Reward: 59, Epsilon: 0.63018\n",
      "Episode: 167, Reward: 76, Epsilon: 0.62548\n",
      "Episode: 168, Reward: 42, Epsilon: 0.62290\n",
      "Episode: 169, Reward: 75, Epsilon: 0.61832\n",
      "Episode: 170, Reward: 76, Epsilon: 0.61372\n",
      "Episode: 171, Reward: 81, Epsilon: 0.60885\n",
      "Episode: 172, Reward: 122, Epsilon: 0.60158\n",
      "Episode: 173, Reward: 29, Epsilon: 0.59987\n",
      "Episode: 174, Reward: 18, Epsilon: 0.59881\n",
      "Episode: 175, Reward: 73, Epsilon: 0.59453\n",
      "Episode: 176, Reward: 68, Epsilon: 0.59057\n",
      "Episode: 177, Reward: 33, Epsilon: 0.58865\n",
      "Episode: 178, Reward: 50, Epsilon: 0.58577\n",
      "Episode: 179, Reward: 65, Epsilon: 0.58204\n",
      "Episode: 180, Reward: 24, Epsilon: 0.58067\n",
      "Episode: 181, Reward: 51, Epsilon: 0.57776\n",
      "Episode: 182, Reward: 36, Epsilon: 0.57572\n",
      "Episode: 183, Reward: 102, Epsilon: 0.56998\n",
      "Episode: 184, Reward: 85, Epsilon: 0.56524\n",
      "Episode: 185, Reward: 94, Epsilon: 0.56005\n",
      "Episode: 186, Reward: 114, Epsilon: 0.55381\n",
      "Episode: 187, Reward: 53, Epsilon: 0.55094\n",
      "Episode: 188, Reward: 117, Epsilon: 0.54465\n",
      "Episode: 189, Reward: 96, Epsilon: 0.53954\n",
      "Episode: 190, Reward: 142, Epsilon: 0.53207\n",
      "Episode: 191, Reward: 96, Epsilon: 0.52708\n",
      "Episode: 192, Reward: 92, Epsilon: 0.52235\n",
      "Episode: 193, Reward: 46, Epsilon: 0.52000\n"
     ]
    },
    {
     "name": "stdout",
     "output_type": "stream",
     "text": [
      "Episode: 194, Reward: 127, Epsilon: 0.51356\n",
      "Episode: 195, Reward: 54, Epsilon: 0.51085\n",
      "Episode: 196, Reward: 175, Epsilon: 0.50216\n",
      "Episode: 197, Reward: 56, Epsilon: 0.49941\n",
      "Episode: 198, Reward: 200, Epsilon: 0.48972\n",
      "Episode: 199, Reward: 65, Epsilon: 0.48661\n",
      "Episode: 200, Reward: 95, Epsilon: 0.48211\n",
      "Episode: 201, Reward: 84, Epsilon: 0.47816\n",
      "Episode: 202, Reward: 100, Epsilon: 0.47350\n",
      "Episode: 203, Reward: 200, Epsilon: 0.46432\n",
      "Episode: 204, Reward: 140, Epsilon: 0.45801\n",
      "Episode: 205, Reward: 35, Epsilon: 0.45644\n",
      "Episode: 206, Reward: 131, Epsilon: 0.45063\n",
      "Episode: 207, Reward: 100, Epsilon: 0.44625\n",
      "Episode: 208, Reward: 45, Epsilon: 0.44429\n",
      "Episode: 209, Reward: 106, Epsilon: 0.43971\n",
      "Episode: 210, Reward: 112, Epsilon: 0.43492\n",
      "Episode: 211, Reward: 94, Epsilon: 0.43095\n",
      "Episode: 212, Reward: 90, Epsilon: 0.42717\n",
      "Episode: 213, Reward: 174, Epsilon: 0.41998\n",
      "Episode: 214, Reward: 69, Epsilon: 0.41716\n",
      "Episode: 215, Reward: 126, Epsilon: 0.41206\n",
      "Episode: 216, Reward: 199, Epsilon: 0.40414\n",
      "Episode: 217, Reward: 121, Epsilon: 0.39940\n",
      "Episode: 218, Reward: 127, Epsilon: 0.39449\n",
      "Episode: 219, Reward: 104, Epsilon: 0.39051\n",
      "Episode: 220, Reward: 185, Epsilon: 0.38353\n",
      "Episode: 221, Reward: 172, Epsilon: 0.37716\n",
      "Episode: 222, Reward: 191, Epsilon: 0.37022\n",
      "Episode: 223, Reward: 135, Epsilon: 0.36539\n",
      "Episode: 224, Reward: 128, Epsilon: 0.36087\n",
      "Episode: 225, Reward: 161, Epsilon: 0.35526\n",
      "Episode: 226, Reward: 156, Epsilon: 0.34992\n",
      "Episode: 227, Reward: 116, Epsilon: 0.34600\n",
      "Episode: 228, Reward: 152, Epsilon: 0.34093\n",
      "Episode: 229, Reward: 135, Epsilon: 0.33649\n",
      "Episode: 230, Reward: 135, Epsilon: 0.33211\n",
      "Episode: 231, Reward: 133, Epsilon: 0.32786\n",
      "Episode: 232, Reward: 158, Epsilon: 0.32288\n",
      "Episode: 233, Reward: 195, Epsilon: 0.31683\n",
      "Episode: 234, Reward: 162, Epsilon: 0.31190\n",
      "Episode: 235, Reward: 138, Epsilon: 0.30777\n",
      "Episode: 236, Reward: 144, Epsilon: 0.30351\n",
      "Episode: 237, Reward: 108, Epsilon: 0.30036\n",
      "Episode: 238, Reward: 178, Epsilon: 0.29523\n",
      "Episode: 239, Reward: 138, Epsilon: 0.29132\n",
      "Episode: 240, Reward: 169, Epsilon: 0.28661\n",
      "Episode: 241, Reward: 160, Epsilon: 0.28222\n",
      "Episode: 242, Reward: 145, Epsilon: 0.27830\n",
      "Episode: 243, Reward: 158, Epsilon: 0.27409\n",
      "Episode: 244, Reward: 139, Epsilon: 0.27045\n",
      "Episode: 245, Reward: 176, Epsilon: 0.26590\n",
      "Episode: 246, Reward: 177, Epsilon: 0.26141\n",
      "Episode: 247, Reward: 190, Epsilon: 0.25668\n",
      "Episode: 248, Reward: 200, Epsilon: 0.25180\n",
      "Episode: 249, Reward: 180, Epsilon: 0.24749\n",
      "Episode: 250, Reward: 179, Epsilon: 0.24327\n",
      "Episode: 251, Reward: 166, Epsilon: 0.23943\n",
      "Episode: 252, Reward: 200, Epsilon: 0.23489\n",
      "Episode: 253, Reward: 151, Epsilon: 0.23152\n",
      "Episode: 254, Reward: 151, Epsilon: 0.22820\n",
      "Episode: 255, Reward: 171, Epsilon: 0.22450\n",
      "Episode: 256, Reward: 200, Epsilon: 0.22025\n",
      "Episode: 257, Reward: 200, Epsilon: 0.21609\n",
      "Episode: 258, Reward: 139, Epsilon: 0.21324\n",
      "Episode: 259, Reward: 200, Epsilon: 0.20922\n",
      "Episode: 260, Reward: 200, Epsilon: 0.20527\n",
      "Episode: 261, Reward: 189, Epsilon: 0.20162\n",
      "Episode: 262, Reward: 200, Epsilon: 0.19782\n",
      "Episode: 263, Reward: 196, Epsilon: 0.19418\n",
      "Episode: 264, Reward: 200, Epsilon: 0.19053\n",
      "Episode: 265, Reward: 181, Epsilon: 0.18729\n",
      "Episode: 266, Reward: 200, Epsilon: 0.18378\n",
      "Episode: 267, Reward: 169, Epsilon: 0.18087\n",
      "Episode: 268, Reward: 199, Epsilon: 0.17750\n",
      "Episode: 269, Reward: 170, Epsilon: 0.17468\n",
      "Episode: 270, Reward: 148, Epsilon: 0.17226\n",
      "Episode: 271, Reward: 152, Epsilon: 0.16981\n",
      "Episode: 272, Reward: 178, Epsilon: 0.16699\n",
      "Episode: 273, Reward: 155, Epsilon: 0.16458\n",
      "Episode: 274, Reward: 166, Epsilon: 0.16203\n",
      "Episode: 275, Reward: 132, Epsilon: 0.16004\n",
      "Episode: 276, Reward: 172, Epsilon: 0.15748\n",
      "Episode: 277, Reward: 173, Epsilon: 0.15495\n",
      "Episode: 278, Reward: 200, Epsilon: 0.15208\n",
      "Episode: 279, Reward: 161, Epsilon: 0.14981\n",
      "Episode: 280, Reward: 158, Epsilon: 0.14762\n",
      "Episode: 281, Reward: 134, Epsilon: 0.14579\n",
      "Episode: 282, Reward: 174, Epsilon: 0.14345\n",
      "Episode: 283, Reward: 160, Epsilon: 0.14133\n",
      "Episode: 284, Reward: 142, Epsilon: 0.13948\n",
      "Episode: 285, Reward: 200, Epsilon: 0.13691\n",
      "Episode: 286, Reward: 150, Epsilon: 0.13502\n",
      "Episode: 287, Reward: 147, Epsilon: 0.13320\n",
      "Episode: 288, Reward: 164, Epsilon: 0.13120\n",
      "Episode: 289, Reward: 130, Epsilon: 0.12963\n",
      "Episode: 290, Reward: 151, Epsilon: 0.12784\n",
      "Episode: 291, Reward: 178, Epsilon: 0.12576\n",
      "Episode: 292, Reward: 187, Epsilon: 0.12361\n",
      "Episode: 293, Reward: 166, Epsilon: 0.12174\n",
      "Episode: 294, Reward: 172, Epsilon: 0.11984\n",
      "Episode: 295, Reward: 158, Epsilon: 0.11812\n",
      "Episode: 296, Reward: 180, Epsilon: 0.11619\n",
      "Episode: 297, Reward: 10, Epsilon: 0.11608\n",
      "Episode: 298, Reward: 14, Epsilon: 0.11593\n",
      "Episode: 299, Reward: 15, Epsilon: 0.11577\n",
      "Episode: 300, Reward: 194, Epsilon: 0.11374\n"
     ]
    }
   ],
   "source": [
    "### 총 10000번의 에피소드를 진행한다.\n",
    "for episode in range(300):\n",
    "    \n",
    "    total_reward = 0 # 에피소스당 총보상값\n",
    "    \n",
    "    s = env.reset()\n",
    "    \n",
    "    for i in range(200): # 한 에피소드당 최대 200번만 행동한다\n",
    "        \n",
    "        ### 탐험 확률 지정 (1 부터 시작해서 점점 낮아지다 최소값은 1%)\n",
    "        epsilon = 0.01 + (1-0.01)*np.exp(-0.0001*count)\n",
    "        count += 1\n",
    "        \n",
    "        if np.random.rand() < epsilon:\n",
    "            action = env.action_space.sample() # 랜덤 행동\n",
    "        else:\n",
    "            action = np.argmax(model.predict(s.reshape(1,4))[0]) # Q값이 높은 행동 선택\n",
    "            \n",
    "        s2, r, done, _ = env.step(action)\n",
    "        \n",
    "        total_reward += r\n",
    "        \n",
    "        memory.append([s, action, r, done, s2])\n",
    "        \n",
    "        ### 학습 (배치크기는 32)\n",
    "        indices = np.random.choice(len(memory), 32, replace=False)\n",
    "        samples = [memory[i] for i in indices]\n",
    "        \n",
    "        X = np.zeros([32,4]) # 입력 상태값\n",
    "        y = np.zeros([32,2]) # 목표 Q값\n",
    "        \n",
    "        for i, sample in enumerate(samples): # sample -> [s,a,r,done,s2]\n",
    "            X[i] = sample[0]\n",
    "            y[i] = model.predict(sample[0].reshape(1,4))[0]\n",
    "            \n",
    "            if sample[3] == True: # done\n",
    "                y[i][sample[1]] = sample[2]\n",
    "            else:\n",
    "                y[i][sample[1]] = sample[2] + gamma*np.max(model.predict(sample[-1].reshape(1,4))[0])\n",
    "                \n",
    "        model.fit(X, y, epochs=1, verbose=False)\n",
    "        \n",
    "        if done:\n",
    "            break\n",
    "        else:\n",
    "            s = s2\n",
    "            \n",
    "    print('Episode: %d, Reward: %d, Epsilon: %.5f' % (episode+1, total_reward, epsilon))\n",
    "    returns.append(total_reward)"
   ]
  },
  {
   "cell_type": "code",
   "execution_count": 18,
   "metadata": {},
   "outputs": [
    {
     "data": {
      "text/plain": [
       "(300, 10000)"
      ]
     },
     "execution_count": 18,
     "metadata": {},
     "output_type": "execute_result"
    }
   ],
   "source": [
    "len(returns), len(memory)"
   ]
  },
  {
   "cell_type": "code",
   "execution_count": 19,
   "metadata": {},
   "outputs": [
    {
     "data": {
      "text/plain": [
       "[<matplotlib.lines.Line2D at 0x2ac10d15648>]"
      ]
     },
     "execution_count": 19,
     "metadata": {},
     "output_type": "execute_result"
    },
    {
     "data": {
      "image/png": "[encoded data removed]",
      "text/plain": [
       "<Figure size 432x288 with 1 Axes>"
      ]
     },
     "metadata": {
      "needs_background": "light"
     },
     "output_type": "display_data"
    }
   ],
   "source": [
    "plt.plot(returns)"
   ]
  },
  {
   "cell_type": "markdown",
   "metadata": {},
   "source": [
    "### 게임 테스트"
   ]
  },
  {
   "cell_type": "code",
   "execution_count": 22,
   "metadata": {},
   "outputs": [
    {
     "name": "stdout",
     "output_type": "stream",
     "text": [
      "Epoch: 1, Count: 12\n",
      "[ 0.12064586  0.82404479 -0.21331093 -1.42999035] 1.0 True {}\n",
      "Epoch: 2, Count: 10\n",
      "[ 0.13608644  1.20797478 -0.21991899 -2.06079556] 1.0 True {}\n",
      "Epoch: 3, Count: 33\n",
      "[ 0.1920564   0.97289791 -0.22978971 -1.89255773] 1.0 True {}\n"
     ]
    }
   ],
   "source": [
    "for epoch in range(3):\n",
    "    env.reset()\n",
    "    \n",
    "    done = False\n",
    "    n = 0\n",
    "    while not done:\n",
    "        #a = np.random.randint(2)\n",
    "        a = np.argmax(model.predict(s.reshape(1,4))[0])\n",
    "        s, r, done, info = env.step(a)\n",
    "        n += 1\n",
    "        env.render()\n",
    "        #print(s, r, done, info)\n",
    "        \n",
    "    print('Epoch: %d, Count: %d' % (epoch+1, n))\n",
    "    print(s, r, done, info)\n",
    "    #input()"
   ]
  },
  {
   "cell_type": "code",
   "execution_count": 23,
   "metadata": {},
   "outputs": [],
   "source": [
    "env.close()"
   ]
  },
  {
   "cell_type": "code",
   "execution_count": null,
   "metadata": {},
   "outputs": [],
   "source": []
  }
 ],
 "metadata": {
  "kernelspec": {
   "display_name": "Python 3",
   "language": "python",
   "name": "python3"
  },
  "language_info": {
   "codemirror_mode": {
    "name": "ipython",
    "version": 3
   },
   "file_extension": ".py",
   "mimetype": "text/x-python",
   "name": "python",
   "nbconvert_exporter": "python",
   "pygments_lexer": "ipython3",
   "version": "3.7.4"
  }
 },
 "nbformat": 4,
 "nbformat_minor": 2
}
