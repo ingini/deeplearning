{
 "cells": [
  {
   "cell_type": "markdown",
   "metadata": {},
   "source": [
    "## 빅데이터 활용 AI 설계\n",
    "# 강화학습 맛보기2\n",
    "- 매번 움직일 때 마다 보상값을 -1 로 준다.\n",
    "- 목표 Cell 에서의 보상값은 0 이다.\n",
    "- gamma 를 1 로 준다."
   ]
  },
  {
   "cell_type": "code",
   "execution_count": 1,
   "metadata": {},
   "outputs": [],
   "source": [
    "import numpy as np\n",
    "import matplotlib.pyplot as plt"
   ]
  },
  {
   "cell_type": "code",
   "execution_count": 16,
   "metadata": {},
   "outputs": [],
   "source": [
    "Q = np.zeros([25,4])-10\n",
    "Qs = []\n",
    "gamma = 1."
   ]
  },
  {
   "cell_type": "markdown",
   "metadata": {},
   "source": [
    "### 적용식\n",
    "\n",
    "$$ (s,a) \\Rightarrow r, s' $$\n",
    "$$ Q_{new}(s,a) = r + \\gamma \\cdot max_{a'}[Q(s',a')] $$\n",
    "\n",
    "- s: state\n",
    "- a: action\n",
    "- r: reward\n",
    "- s': new state\n",
    "- $\\gamma$: discount rate\n",
    "- s,a -> r,s -> a : sarsa"
   ]
  },
  {
   "cell_type": "code",
   "execution_count": 17,
   "metadata": {},
   "outputs": [],
   "source": [
    "def valid_action(s, a):\n",
    "    if s//5==0 and a==0: return False\n",
    "    if s//5==4 and a==1: return False\n",
    "    if s%5==0 and a==2: return False\n",
    "    if s%5==4 and a==3: return False\n",
    "    return True"
   ]
  },
  {
   "cell_type": "code",
   "execution_count": 18,
   "metadata": {},
   "outputs": [],
   "source": [
    "s = 0\n",
    "ds = [-5,5,-1,1]\n",
    "\n",
    "for epoch in range(100):\n",
    "    for s in range(25):\n",
    "        if s==24: # the last(goal) cell\n",
    "            Q[s] = 0\n",
    "            continue\n",
    "            \n",
    "        for a in range(4):\n",
    "            if not valid_action(s,a): continue\n",
    "            s_new = s + ds[a]\n",
    "            Q[s,a] = -1 + gamma*np.max(Q[s_new])\n",
    "         \n",
    "    Qs.append(Q.copy())"
   ]
  },
  {
   "cell_type": "code",
   "execution_count": 19,
   "metadata": {},
   "outputs": [
    {
     "data": {
      "text/plain": [
       "array([[-10.,  -8., -10.,  -8.],\n",
       "       [-10.,  -7.,  -9.,  -7.],\n",
       "       [-10.,  -6.,  -8.,  -6.],\n",
       "       [-10.,  -5.,  -7.,  -5.],\n",
       "       [-10.,  -4.,  -6., -10.],\n",
       "       [ -9.,  -7., -10.,  -7.],\n",
       "       [ -8.,  -6.,  -8.,  -6.],\n",
       "       [ -7.,  -5.,  -7.,  -5.],\n",
       "       [ -6.,  -4.,  -6.,  -4.],\n",
       "       [ -5.,  -3.,  -5., -10.],\n",
       "       [ -8.,  -6., -10.,  -6.],\n",
       "       [ -7.,  -5.,  -7.,  -5.],\n",
       "       [ -6.,  -4.,  -6.,  -4.],\n",
       "       [ -5.,  -3.,  -5.,  -3.],\n",
       "       [ -4.,  -2.,  -4., -10.],\n",
       "       [ -7.,  -5., -10.,  -5.],\n",
       "       [ -6.,  -4.,  -6.,  -4.],\n",
       "       [ -5.,  -3.,  -5.,  -3.],\n",
       "       [ -4.,  -2.,  -4.,  -2.],\n",
       "       [ -3.,  -1.,  -3., -10.],\n",
       "       [ -6., -10., -10.,  -4.],\n",
       "       [ -5., -10.,  -5.,  -3.],\n",
       "       [ -4., -10.,  -4.,  -2.],\n",
       "       [ -3., -10.,  -3.,  -1.],\n",
       "       [  0.,   0.,   0.,   0.]])"
      ]
     },
     "execution_count": 19,
     "metadata": {},
     "output_type": "execute_result"
    }
   ],
   "source": [
    "Q"
   ]
  },
  {
   "cell_type": "code",
   "execution_count": 20,
   "metadata": {},
   "outputs": [
    {
     "data": {
      "text/plain": [
       "array([[-8., -7., -6., -5., -4.],\n",
       "       [-7., -6., -5., -4., -3.],\n",
       "       [-6., -5., -4., -3., -2.],\n",
       "       [-5., -4., -3., -2., -1.],\n",
       "       [-4., -3., -2., -1.,  0.]])"
      ]
     },
     "execution_count": 20,
     "metadata": {},
     "output_type": "execute_result"
    }
   ],
   "source": [
    "Q.max(axis=1).reshape(5,5)"
   ]
  },
  {
   "cell_type": "code",
   "execution_count": 21,
   "metadata": {},
   "outputs": [
    {
     "data": {
      "text/plain": [
       "<matplotlib.colorbar.Colorbar at 0x1f75bde7c18>"
      ]
     },
     "execution_count": 21,
     "metadata": {},
     "output_type": "execute_result"
    },
    {
     "data": {
      "image/png": "[encoded data removed]",
      "text/plain": [
       "<Figure size 432x288 with 2 Axes>"
      ]
     },
     "metadata": {},
     "output_type": "display_data"
    }
   ],
   "source": [
    "plt.imshow(Q.max(axis=1).reshape(5,5))\n",
    "plt.colorbar()"
   ]
  },
  {
   "cell_type": "code",
   "execution_count": 22,
   "metadata": {},
   "outputs": [
    {
     "data": {
      "text/plain": [
       "(100, 25, 4)"
      ]
     },
     "execution_count": 22,
     "metadata": {},
     "output_type": "execute_result"
    }
   ],
   "source": [
    "Qs = np.array(Qs).reshape(-1,25,4)\n",
    "Qs.shape"
   ]
  },
  {
   "cell_type": "code",
   "execution_count": 23,
   "metadata": {},
   "outputs": [
    {
     "data": {
      "text/plain": [
       "[<matplotlib.lines.Line2D at 0x1f75be5a470>]"
      ]
     },
     "execution_count": 23,
     "metadata": {},
     "output_type": "execute_result"
    },
    {
     "data": {
      "image/png": "[encoded data removed]",
      "text/plain": [
       "<Figure size 432x288 with 1 Axes>"
      ]
     },
     "metadata": {},
     "output_type": "display_data"
    }
   ],
   "source": [
    "plt.plot(Qs.max(axis=2)[:,0])"
   ]
  },
  {
   "cell_type": "code",
   "execution_count": null,
   "metadata": {},
   "outputs": [],
   "source": []
  }
 ],
 "metadata": {
  "kernelspec": {
   "display_name": "Python 3",
   "language": "python",
   "name": "python3"
  },
  "language_info": {
   "codemirror_mode": {
    "name": "ipython",
    "version": 3
   },
   "file_extension": ".py",
   "mimetype": "text/x-python",
   "name": "python",
   "nbconvert_exporter": "python",
   "pygments_lexer": "ipython3",
   "version": "3.6.5"
  }
 },
 "nbformat": 4,
 "nbformat_minor": 2
}
