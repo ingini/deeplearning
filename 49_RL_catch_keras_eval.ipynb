{
 "cells": [
  {
   "cell_type": "markdown",
   "metadata": {},
   "source": [
    "## 빅데이터 활용 AI 설계\n",
    "# 강화학습 : catch 학습결과 평가\n",
    "- 학습 소스 : 49_RL_catch_keras.ipynb\n",
    "- 'catch.h5' 파일에서 모델 로딩"
   ]
  },
  {
   "cell_type": "code",
   "execution_count": 1,
   "metadata": {},
   "outputs": [
    {
     "name": "stdout",
     "output_type": "stream",
     "text": [
      "pygame 1.9.6\n",
      "Hello from the pygame community. https://www.pygame.org/contribute.html\n"
     ]
    }
   ],
   "source": [
    "import numpy as np\n",
    "import matplotlib.pyplot as plt\n",
    "import pygame\n",
    "import collections"
   ]
  },
  {
   "cell_type": "code",
   "execution_count": 2,
   "metadata": {},
   "outputs": [],
   "source": [
    "from scipy.misc import imresize"
   ]
  },
  {
   "cell_type": "code",
   "execution_count": 3,
   "metadata": {},
   "outputs": [],
   "source": [
    "pygame.init()\n",
    "\n",
    "COLOR_WHITE = (255,255,255)\n",
    "COLOR_BLACK = (0,0,0)\n",
    "\n",
    "font = pygame.font.SysFont('Comic Sans MS', 30)"
   ]
  },
  {
   "cell_type": "code",
   "execution_count": 4,
   "metadata": {},
   "outputs": [],
   "source": [
    "def step(action):\n",
    "    game_over = False\n",
    "    reward = 0\n",
    "\n",
    "    global paddle_x, ball_x, ball_y, num_tries, game_score\n",
    "    \n",
    "    pygame.event.pump()\n",
    "\n",
    "    paddle_x += (action-1)*paddle_velocity\n",
    "    if paddle_x < 0:\n",
    "        paddle_x = paddle_velocity\n",
    "    if paddle_x > 400-50:\n",
    "        paddle_x = 400-50-paddle_velocity\n",
    "\n",
    "    screen.fill(COLOR_BLACK)\n",
    "    \n",
    "    pygame.draw.rect(screen, COLOR_BLACK, pygame.Rect(0, 360, 400, 40))\n",
    "    score_text = font.render('Games: %d, Score: %d' % (epoch, num_wins), True, COLOR_WHITE)\n",
    "    screen.blit(score_text, (200-score_text.get_width()//2, 350+15))\n",
    "\n",
    "    ball_y += ball_velocity\n",
    "    ball = pygame.draw.rect(screen, COLOR_WHITE, pygame.Rect(ball_x, ball_y, 20, 20))\n",
    "    paddle = pygame.draw.rect(screen, COLOR_WHITE, pygame.Rect(paddle_x, 350, 50, 10))\n",
    "\n",
    "    if ball_y >= 340:\n",
    "        reward = 1 if ball.colliderect(paddle) else -1\n",
    "        game_score += reward\n",
    "\n",
    "        ball_x = np.random.randint(400-20)\n",
    "        ball_y = 10\n",
    "\n",
    "        num_tries += 1\n",
    "        game_over=True\n",
    "        #print(num_tries, game_score)\n",
    "\n",
    "    pygame.display.flip()\n",
    "\n",
    "    frame = pygame.surfarray.array2d(screen)\n",
    "    clock.tick(30)\n",
    "\n",
    "    return frame, reward, game_over"
   ]
  },
  {
   "cell_type": "markdown",
   "metadata": {},
   "source": [
    "### Keras 적용"
   ]
  },
  {
   "cell_type": "code",
   "execution_count": 5,
   "metadata": {},
   "outputs": [
    {
     "name": "stderr",
     "output_type": "stream",
     "text": [
      "C:\\Anaconda3\\envs\\py36\\lib\\site-packages\\h5py\\__init__.py:36: FutureWarning: Conversion of the second argument of issubdtype from `float` to `np.floating` is deprecated. In future, it will be treated as `np.float64 == np.dtype(float).type`.\n",
      "  from ._conv import register_converters as _register_converters\n",
      "Using TensorFlow backend.\n"
     ]
    }
   ],
   "source": [
    "from keras.models import load_model\n",
    "\n",
    "model = load_model('catch.h5')\n",
    "#model.compile(loss='mse', optimizer='rmsprop')"
   ]
  },
  {
   "cell_type": "code",
   "execution_count": 6,
   "metadata": {
    "scrolled": false
   },
   "outputs": [
    {
     "name": "stdout",
     "output_type": "stream",
     "text": [
      "_________________________________________________________________\n",
      "Layer (type)                 Output Shape              Param #   \n",
      "=================================================================\n",
      "conv2d_1 (Conv2D)            (None, 20, 20, 32)        8224      \n",
      "_________________________________________________________________\n",
      "conv2d_2 (Conv2D)            (None, 10, 10, 64)        32832     \n",
      "_________________________________________________________________\n",
      "conv2d_3 (Conv2D)            (None, 10, 10, 64)        36928     \n",
      "_________________________________________________________________\n",
      "flatten_1 (Flatten)          (None, 6400)              0         \n",
      "_________________________________________________________________\n",
      "dense_1 (Dense)              (None, 512)               3277312   \n",
      "_________________________________________________________________\n",
      "dense_2 (Dense)              (None, 3)                 1539      \n",
      "=================================================================\n",
      "Total params: 3,356,835\n",
      "Trainable params: 3,356,835\n",
      "Non-trainable params: 0\n",
      "_________________________________________________________________\n"
     ]
    }
   ],
   "source": [
    "model.summary()"
   ]
  },
  {
   "cell_type": "markdown",
   "metadata": {},
   "source": [
    "- predict() 테스트"
   ]
  },
  {
   "cell_type": "code",
   "execution_count": 7,
   "metadata": {},
   "outputs": [],
   "source": [
    "a = np.random.rand(1,80,80,4)\n",
    "q = model.predict(a)"
   ]
  },
  {
   "cell_type": "code",
   "execution_count": 8,
   "metadata": {},
   "outputs": [
    {
     "data": {
      "text/plain": [
       "array([[-1.7161096, -2.864286 , -1.9324287]], dtype=float32)"
      ]
     },
     "execution_count": 8,
     "metadata": {},
     "output_type": "execute_result"
    }
   ],
   "source": [
    "q"
   ]
  },
  {
   "cell_type": "markdown",
   "metadata": {},
   "source": [
    "### 학습 결과 시연"
   ]
  },
  {
   "cell_type": "code",
   "execution_count": 9,
   "metadata": {
    "scrolled": true
   },
   "outputs": [
    {
     "name": "stderr",
     "output_type": "stream",
     "text": [
      "C:\\Anaconda3\\envs\\py36\\lib\\site-packages\\ipykernel_launcher.py:36: DeprecationWarning: `imresize` is deprecated!\n",
      "`imresize` is deprecated in SciPy 1.0.0, and will be removed in 1.2.0.\n",
      "Use ``skimage.transform.resize`` instead.\n"
     ]
    },
    {
     "name": "stdout",
     "output_type": "stream",
     "text": [
      "Epoch: 0001/10 | Win Count: 1\n",
      "Epoch: 0002/10 | Win Count: 1\n",
      "Epoch: 0003/10 | Win Count: 1\n",
      "Epoch: 0004/10 | Win Count: 1\n",
      "Epoch: 0005/10 | Win Count: 1\n",
      "Epoch: 0006/10 | Win Count: 2\n",
      "Epoch: 0007/10 | Win Count: 3\n",
      "Epoch: 0008/10 | Win Count: 4\n",
      "Epoch: 0009/10 | Win Count: 4\n",
      "Epoch: 0010/10 | Win Count: 4\n"
     ]
    }
   ],
   "source": [
    "num_wins = 0\n",
    "experience = collections.deque(maxlen=50000)\n",
    "\n",
    "for epoch in range(10):\n",
    "    # game reset\n",
    "    frames = collections.deque(maxlen=4)\n",
    "    paddle_x = 200\n",
    "    ball_x = np.random.randint(400-20)\n",
    "    ball_y = 10 # ceiling\n",
    "    paddle_velocity = 20\n",
    "    ball_velocity = 10\n",
    "    num_tries = 0\n",
    "    game_score = 0\n",
    "    game_over = False\n",
    "    first_frame = True\n",
    "    loss = 0.0\n",
    "\n",
    "    screen = pygame.display.set_mode((400,400))\n",
    "    clock = pygame.time.Clock()\n",
    "    \n",
    "    # game restart\n",
    "    while not game_over:\n",
    "        if not first_frame: s_tm1 = s_t\n",
    "        \n",
    "        if first_frame:\n",
    "            a_t = np.random.randint(3)\n",
    "        else:\n",
    "            q = model.predict(s_t)[0]\n",
    "            a_t = np.argmax(q)\n",
    "        \n",
    "        # DO ACTION!!\n",
    "        frame, r_t, game_over = step(a_t)\n",
    "        \n",
    "        if r_t == 1: num_wins += 1\n",
    "        \n",
    "        img = (imresize(frame, [80,80]).astype('float'))/255.\n",
    "        if len(frames)==0:\n",
    "            for i in range(4): frames.append(img)\n",
    "        else:\n",
    "            frames.append(img)\n",
    "        \n",
    "        s_t = np.moveaxis(np.array(frames), 0, 2)\n",
    "        s_t = np.expand_dims(s_t, axis=0) # (1,80,80,4)\n",
    "        \n",
    "        if first_frame:\n",
    "            first_frame=False\n",
    "            continue\n",
    "            \n",
    "        experience.append([s_tm1, a_t, r_t, s_t, game_over])\n",
    "        \n",
    "    print('Epoch: %04d/10 | Win Count: %d' % (epoch+1, num_wins))\n",
    "    \n",
    "    pygame.draw.rect(screen, COLOR_BLACK, pygame.Rect(0, 360, 400, 40))\n",
    "    score_text = font.render('Games: %d, Score: %d' % (epoch+1, num_wins), True, COLOR_WHITE)\n",
    "    screen.blit(score_text, (200-score_text.get_width()//2, 350+15))\n",
    "    pygame.display.flip()"
   ]
  },
  {
   "cell_type": "code",
   "execution_count": 10,
   "metadata": {},
   "outputs": [],
   "source": [
    "pygame.quit()"
   ]
  }
 ],
 "metadata": {
  "kernelspec": {
   "display_name": "Python 3",
   "language": "python",
   "name": "python3"
  },
  "language_info": {
   "codemirror_mode": {
    "name": "ipython",
    "version": 3
   },
   "file_extension": ".py",
   "mimetype": "text/x-python",
   "name": "python",
   "nbconvert_exporter": "python",
   "pygments_lexer": "ipython3",
   "version": "3.6.5"
  }
 },
 "nbformat": 4,
 "nbformat_minor": 2
}
