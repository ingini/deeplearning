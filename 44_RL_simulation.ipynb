{
 "cells": [
  {
   "cell_type": "markdown",
   "metadata": {},
   "source": [
    "## 빅데이터 활용 AI 설계\n",
    "# 강화학습 : 시뮬레이션"
   ]
  },
  {
   "cell_type": "code",
   "execution_count": 2,
   "metadata": {},
   "outputs": [],
   "source": [
    "import numpy as np\n",
    "import matplotlib.pyplot as plt"
   ]
  },
  {
   "cell_type": "markdown",
   "metadata": {},
   "source": [
    "### 환경\n",
    "- 5X5 의 격자가 있다.\n",
    "- 마지막 Cell 에 도착하면 1 의 보상을 얻는다.\n",
    "- 상태 : 25개 (Cell 수)\n",
    "- 행동 : 4개 (상/하/좌/우)"
   ]
  },
  {
   "cell_type": "code",
   "execution_count": 19,
   "metadata": {},
   "outputs": [],
   "source": [
    "Q = np.zeros([25,4])\n",
    "Q[24] = 1\n",
    "Qs = []\n",
    "gamma = 0.99\n",
    "ds = [-5,5,-1,1]"
   ]
  },
  {
   "cell_type": "markdown",
   "metadata": {},
   "source": [
    "### 적용식\n",
    "\n",
    "$$ (s,a) \\Rightarrow r, s' $$\n",
    "$$ Q_{new}(s,a) = r + \\gamma \\cdot max_{a'}[Q(s',a')] $$\n",
    "\n",
    "- s: state\n",
    "- a: action\n",
    "- r: reward\n",
    "- s': new state\n",
    "- $\\gamma$: discount rate\n",
    "- s,a -> r,s -> a : sarsa"
   ]
  },
  {
   "cell_type": "code",
   "execution_count": 4,
   "metadata": {},
   "outputs": [],
   "source": [
    "def valid_action(s, a):\n",
    "    if s//5==0 and a==0: return False\n",
    "    if s//5==4 and a==1: return False\n",
    "    if s%5==0 and a==2: return False\n",
    "    if s%5==4 and a==3: return False\n",
    "    return True"
   ]
  },
  {
   "cell_type": "code",
   "execution_count": 5,
   "metadata": {},
   "outputs": [],
   "source": [
    "def get_action(s):\n",
    "    while True:\n",
    "        a = np.random.randint(4)\n",
    "        if valid_action(s,a): break\n",
    "            \n",
    "    return a"
   ]
  },
  {
   "cell_type": "code",
   "execution_count": 26,
   "metadata": {
    "collapsed": true
   },
   "outputs": [
    {
     "data": {
      "text/plain": [
       "118"
      ]
     },
     "metadata": {},
     "output_type": "display_data"
    },
    {
     "data": {
      "text/plain": [
       "[[0, 1, 5],\n",
       " [5, 3, 6],\n",
       " [6, 3, 7],\n",
       " [7, 3, 8],\n",
       " [8, 1, 13],\n",
       " [13, 0, 8],\n",
       " [8, 3, 9],\n",
       " [9, 1, 14],\n",
       " [14, 0, 9],\n",
       " [9, 1, 14],\n",
       " [14, 2, 13],\n",
       " [13, 0, 8],\n",
       " [8, 1, 13],\n",
       " [13, 3, 14],\n",
       " [14, 0, 9],\n",
       " [9, 2, 8],\n",
       " [8, 3, 9],\n",
       " [9, 2, 8],\n",
       " [8, 0, 3],\n",
       " [3, 3, 4],\n",
       " [4, 1, 9],\n",
       " [9, 1, 14],\n",
       " [14, 2, 13],\n",
       " [13, 1, 18],\n",
       " [18, 1, 23],\n",
       " [23, 0, 18],\n",
       " [18, 3, 19],\n",
       " [19, 0, 14],\n",
       " [14, 2, 13],\n",
       " [13, 3, 14],\n",
       " [14, 1, 19],\n",
       " [19, 2, 18],\n",
       " [18, 3, 19],\n",
       " [19, 2, 18],\n",
       " [18, 2, 17],\n",
       " [17, 3, 18],\n",
       " [18, 0, 13],\n",
       " [13, 1, 18],\n",
       " [18, 2, 17],\n",
       " [17, 2, 16],\n",
       " [16, 2, 15],\n",
       " [15, 3, 16],\n",
       " [16, 0, 11],\n",
       " [11, 0, 6],\n",
       " [6, 1, 11],\n",
       " [11, 0, 6],\n",
       " [6, 0, 1],\n",
       " [1, 1, 6],\n",
       " [6, 3, 7],\n",
       " [7, 0, 2],\n",
       " [2, 2, 1],\n",
       " [1, 2, 0],\n",
       " [0, 1, 5],\n",
       " [5, 3, 6],\n",
       " [6, 1, 11],\n",
       " [11, 0, 6],\n",
       " [6, 2, 5],\n",
       " [5, 0, 0],\n",
       " [0, 3, 1],\n",
       " [1, 3, 2],\n",
       " [2, 2, 1],\n",
       " [1, 3, 2],\n",
       " [2, 3, 3],\n",
       " [3, 2, 2],\n",
       " [2, 2, 1],\n",
       " [1, 3, 2],\n",
       " [2, 3, 3],\n",
       " [3, 2, 2],\n",
       " [2, 2, 1],\n",
       " [1, 1, 6],\n",
       " [6, 0, 1],\n",
       " [1, 3, 2],\n",
       " [2, 2, 1],\n",
       " [1, 1, 6],\n",
       " [6, 3, 7],\n",
       " [7, 3, 8],\n",
       " [8, 3, 9],\n",
       " [9, 1, 14],\n",
       " [14, 1, 19],\n",
       " [19, 0, 14],\n",
       " [14, 2, 13],\n",
       " [13, 0, 8],\n",
       " [8, 0, 3],\n",
       " [3, 2, 2],\n",
       " [2, 1, 7],\n",
       " [7, 3, 8],\n",
       " [8, 1, 13],\n",
       " [13, 0, 8],\n",
       " [8, 2, 7],\n",
       " [7, 3, 8],\n",
       " [8, 3, 9],\n",
       " [9, 0, 4],\n",
       " [4, 2, 3],\n",
       " [3, 1, 8],\n",
       " [8, 0, 3],\n",
       " [3, 1, 8],\n",
       " [8, 2, 7],\n",
       " [7, 2, 6],\n",
       " [6, 3, 7],\n",
       " [7, 3, 8],\n",
       " [8, 3, 9],\n",
       " [9, 1, 14],\n",
       " [14, 0, 9],\n",
       " [9, 1, 14],\n",
       " [14, 0, 9],\n",
       " [9, 1, 14],\n",
       " [14, 2, 13],\n",
       " [13, 3, 14],\n",
       " [14, 2, 13],\n",
       " [13, 0, 8],\n",
       " [8, 2, 7],\n",
       " [7, 3, 8],\n",
       " [8, 3, 9],\n",
       " [9, 0, 4],\n",
       " [4, 1, 9],\n",
       " [9, 1, 14],\n",
       " [14, 1, 19],\n",
       " [19, 1, 24]]"
      ]
     },
     "metadata": {},
     "output_type": "display_data"
    }
   ],
   "source": [
    "# 시뮬레이션 테스트\n",
    "\n",
    "history = []\n",
    "s = 0\n",
    "\n",
    "while True:\n",
    "    a = get_action(s)\n",
    "    s2 = s + ds[a]\n",
    "    history.append([s,a,s2])\n",
    "    s = s2\n",
    "    \n",
    "    if s2==24: break\n",
    "        \n",
    "display(len(history), history)"
   ]
  },
  {
   "cell_type": "code",
   "execution_count": 5,
   "metadata": {},
   "outputs": [],
   "source": [
    "def get_action(s):\n",
    "    while True:\n",
    "        a = np.random.randint(4)\n",
    "        if valid_action(s,a): break\n",
    "            \n",
    "    return a"
   ]
  },
  {
   "cell_type": "code",
   "execution_count": 20,
   "metadata": {},
   "outputs": [],
   "source": [
    "histories = []\n",
    "\n",
    "for epoch in range(10):\n",
    "    history = []\n",
    "    s = 0\n",
    "    \n",
    "    while True:\n",
    "        a = get_action(s)\n",
    "        s2 = s + ds[a]\n",
    "        history.append([s,a,s2])\n",
    "        s = s2\n",
    "\n",
    "        if s2==24: break\n",
    "            \n",
    "    for h in history:\n",
    "        Q[h[0],h[1]] = 0 + gamma*np.max(Q[h[2]])\n",
    "    \n",
    "    Qs.append(Q.copy())\n",
    "    histories.append(history)"
   ]
  },
  {
   "cell_type": "code",
   "execution_count": 21,
   "metadata": {},
   "outputs": [
    {
     "data": {
      "text/plain": [
       "array([[0.        , 0.92274469, 0.        , 0.92274469],\n",
       "       [0.        , 0.93206535, 0.91351725, 0.93206535],\n",
       "       [0.        , 0.94148015, 0.92274469, 0.94148015],\n",
       "       [0.        , 0.95099005, 0.93206535, 0.95099005],\n",
       "       [0.        , 0.96059601, 0.94148015, 0.        ],\n",
       "       [0.91351725, 0.93206535, 0.        , 0.93206535],\n",
       "       [0.92274469, 0.94148015, 0.92274469, 0.94148015],\n",
       "       [0.93206535, 0.95099005, 0.93206535, 0.95099005],\n",
       "       [0.94148015, 0.96059601, 0.94148015, 0.96059601],\n",
       "       [0.95099005, 0.970299  , 0.95099005, 0.        ],\n",
       "       [0.92274469, 0.94148015, 0.        , 0.94148015],\n",
       "       [0.93206535, 0.95099005, 0.93206535, 0.95099005],\n",
       "       [0.94148015, 0.96059601, 0.94148015, 0.96059601],\n",
       "       [0.95099005, 0.970299  , 0.95099005, 0.970299  ],\n",
       "       [0.96059601, 0.9801    , 0.96059601, 0.        ],\n",
       "       [0.93206535, 0.95099005, 0.        , 0.95099005],\n",
       "       [0.94148015, 0.96059601, 0.94148015, 0.96059601],\n",
       "       [0.95099005, 0.970299  , 0.95099005, 0.970299  ],\n",
       "       [0.96059601, 0.9801    , 0.96059601, 0.9801    ],\n",
       "       [0.970299  , 0.99      , 0.970299  , 0.        ],\n",
       "       [0.94148015, 0.        , 0.        , 0.96059601],\n",
       "       [0.95099005, 0.        , 0.95099005, 0.970299  ],\n",
       "       [0.96059601, 0.        , 0.96059601, 0.9801    ],\n",
       "       [0.970299  , 0.        , 0.970299  , 0.99      ],\n",
       "       [1.        , 1.        , 1.        , 1.        ]])"
      ]
     },
     "execution_count": 21,
     "metadata": {},
     "output_type": "execute_result"
    }
   ],
   "source": [
    "Q"
   ]
  },
  {
   "cell_type": "code",
   "execution_count": 22,
   "metadata": {},
   "outputs": [
    {
     "data": {
      "text/plain": [
       "array([[0.92274469, 0.93206535, 0.94148015, 0.95099005, 0.96059601],\n",
       "       [0.93206535, 0.94148015, 0.95099005, 0.96059601, 0.970299  ],\n",
       "       [0.94148015, 0.95099005, 0.96059601, 0.970299  , 0.9801    ],\n",
       "       [0.95099005, 0.96059601, 0.970299  , 0.9801    , 0.99      ],\n",
       "       [0.96059601, 0.970299  , 0.9801    , 0.99      , 1.        ]])"
      ]
     },
     "execution_count": 22,
     "metadata": {},
     "output_type": "execute_result"
    }
   ],
   "source": [
    "Q.max(axis=1).reshape(5,5)"
   ]
  },
  {
   "cell_type": "code",
   "execution_count": 23,
   "metadata": {},
   "outputs": [
    {
     "data": {
      "text/plain": [
       "<matplotlib.colorbar.Colorbar at 0x1f56837e470>"
      ]
     },
     "execution_count": 23,
     "metadata": {},
     "output_type": "execute_result"
    },
    {
     "data": {
      "image/png": "[encoded data removed]",
      "text/plain": [
       "<Figure size 432x288 with 2 Axes>"
      ]
     },
     "metadata": {},
     "output_type": "display_data"
    }
   ],
   "source": [
    "plt.imshow(Q.max(axis=1).reshape(5,5))\n",
    "plt.colorbar()"
   ]
  },
  {
   "cell_type": "code",
   "execution_count": 24,
   "metadata": {},
   "outputs": [
    {
     "data": {
      "text/plain": [
       "(10, 25, 4)"
      ]
     },
     "execution_count": 24,
     "metadata": {},
     "output_type": "execute_result"
    }
   ],
   "source": [
    "Qs = np.array(Qs).reshape(-1,25,4)\n",
    "Qs.shape"
   ]
  },
  {
   "cell_type": "code",
   "execution_count": 25,
   "metadata": {},
   "outputs": [
    {
     "data": {
      "text/plain": [
       "[<matplotlib.lines.Line2D at 0x1f568461940>]"
      ]
     },
     "execution_count": 25,
     "metadata": {},
     "output_type": "execute_result"
    },
    {
     "data": {
      "image/png": "[encoded data removed]",
      "text/plain": [
       "<Figure size 432x288 with 1 Axes>"
      ]
     },
     "metadata": {},
     "output_type": "display_data"
    }
   ],
   "source": [
    "plt.plot(Qs.max(axis=2)[:,0])"
   ]
  }
 ],
 "metadata": {
  "kernelspec": {
   "display_name": "Python 3",
   "language": "python",
   "name": "python3"
  },
  "language_info": {
   "codemirror_mode": {
    "name": "ipython",
    "version": 3
   },
   "file_extension": ".py",
   "mimetype": "text/x-python",
   "name": "python",
   "nbconvert_exporter": "python",
   "pygments_lexer": "ipython3",
   "version": "3.6.5"
  }
 },
 "nbformat": 4,
 "nbformat_minor": 2
}
