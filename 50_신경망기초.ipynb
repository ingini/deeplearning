{
 "cells": [
  {
   "cell_type": "markdown",
   "metadata": {},
   "source": [
    "## 빅데이터 활용 AI 설계\n",
    "# 신경망 기초"
   ]
  },
  {
   "cell_type": "code",
   "execution_count": 1,
   "metadata": {},
   "outputs": [],
   "source": [
    "import numpy as np\n",
    "import matplotlib.pyplot as plt"
   ]
  },
  {
   "cell_type": "markdown",
   "metadata": {},
   "source": [
    "### 선형회귀 (1차원 입력값, 절편=0)"
   ]
  },
  {
   "cell_type": "markdown",
   "metadata": {},
   "source": [
    "```\n",
    "x = [1,2]\n",
    "y = [2,4]\n",
    "\n",
    "pred_y = [1*w, 2*w]\n",
    "Loss = (w-2)^2 + (2w-4)^2\n",
    "     = 5(w-2)^2\n",
    "w = 2\n",
    "```"
   ]
  },
  {
   "cell_type": "markdown",
   "metadata": {},
   "source": [
    "```\n",
    "x = [1,2]\n",
    "y = [2,5]\n",
    "\n",
    "pred_y = [1*w, 2*w]\n",
    "Loss = (w-2)^2 + (2w-5)^2\n",
    "     = 5w^ - 24w + 29\n",
    "     = 5(w -2.4)^2 + ...\n",
    "w = 2.4\n",
    "```"
   ]
  },
  {
   "cell_type": "code",
   "execution_count": 35,
   "metadata": {},
   "outputs": [
    {
     "data": {
      "text/plain": [
       "(-0.15000000000000002, 3.15, -0.36, 7.56)"
      ]
     },
     "execution_count": 35,
     "metadata": {},
     "output_type": "execute_result"
    },
    {
     "data": {
      "image/png": "[encoded data removed]",
      "text/plain": [
       "<Figure size 432x288 with 1 Axes>"
      ]
     },
     "metadata": {},
     "output_type": "display_data"
    }
   ],
   "source": [
    "plt.plot([1,2], [2,5], 'ro')\n",
    "plt.plot([0,3], [0,3*2.4], 'b:')\n",
    "plt.axis('equal')"
   ]
  },
  {
   "cell_type": "markdown",
   "metadata": {},
   "source": [
    "### 선형회귀 (1차원 입력값, 절편 있음)"
   ]
  },
  {
   "cell_type": "markdown",
   "metadata": {},
   "source": [
    "```\n",
    "x = [1,2]\n",
    "y = [2,3]\n",
    "\n",
    "pred_y = [1*w + b, 2*w+b]\n",
    "       = [w+b, 2w+b]\n",
    "Loss = (pred_y - y)^2\n",
    "```"
   ]
  },
  {
   "cell_type": "markdown",
   "metadata": {},
   "source": [
    "$$ \\hat{y} = \\begin{bmatrix} (1,1) {w \\choose b} , (2,1) {w \\choose b} \\end{bmatrix} \\\\\n",
    " = \\begin{pmatrix} 1 & 1 \\\\ 2 & 1 \\end{pmatrix}\n",
    "   \\begin{pmatrix} w \\\\ b \\end{pmatrix} $$"
   ]
  },
  {
   "cell_type": "markdown",
   "metadata": {},
   "source": [
    "$$ Loss = (\\hat{y} -y)^2 \\\\\n",
    " = (\\begin{pmatrix} 1 & 1 \\\\ 2 & 1 \\end{pmatrix}\n",
    "   \\begin{pmatrix} w \\\\ b \\end{pmatrix} - y)^2 \\\\\n",
    "\\begin{pmatrix} 1 & 1 \\\\ 2 & 1 \\end{pmatrix}\n",
    "\\begin{pmatrix} w \\\\ b \\end{pmatrix} - y = 0 \\\\\n",
    "\\begin{pmatrix} w \\\\ b \\end{pmatrix} = {\\begin{pmatrix} 1 & 1 \\\\ 2 & 1 \\end{pmatrix}}^{-1} \n",
    "\\begin{pmatrix} 2 \\\\ 3 \\end{pmatrix} $$"
   ]
  },
  {
   "cell_type": "markdown",
   "metadata": {},
   "source": [
    "### 선형회귀 일반해"
   ]
  },
  {
   "cell_type": "markdown",
   "metadata": {},
   "source": [
    "$$ Loss = (X \\cdot W - y)^2 \\\\\n",
    "X \\cdot W - y = 0 \\\\\n",
    "X^T \\cdot X \\cdot W = X^T \\cdot y $$\n",
    "<br>\n",
    "$$ W = (X^T \\cdot X)^{-1} X^T \\cdot y $$\n",
    "\n",
    "$$ X = \\begin{pmatrix} 1 && x_{11} && x_{12} && \\cdots && x_{1m} \\\\\n",
    " 1 && x_{21} && x_{22} && \\cdots && x_{2m} \\\\ \n",
    " \\cdots \\\\\n",
    " 1 && x_{n1} && x_{n2} && \\cdots && x_{nm} \\end{pmatrix} $$\n",
    " \n",
    "$$ W = \\begin{pmatrix} b \\\\ w_1 \\\\ w_2 \\\\ \\cdots \\\\ w_m \\end{pmatrix} $$"
   ]
  },
  {
   "cell_type": "markdown",
   "metadata": {},
   "source": [
    "### Iris 데이터에 적용"
   ]
  },
  {
   "cell_type": "code",
   "execution_count": 5,
   "metadata": {},
   "outputs": [],
   "source": [
    "import numpy.linalg as lin\n",
    "\n",
    "from sklearn.datasets import load_iris"
   ]
  },
  {
   "cell_type": "code",
   "execution_count": 15,
   "metadata": {},
   "outputs": [],
   "source": [
    "iris = load_iris()"
   ]
  },
  {
   "cell_type": "code",
   "execution_count": 18,
   "metadata": {},
   "outputs": [
    {
     "data": {
      "text/plain": [
       "((150, 3), (150,))"
      ]
     },
     "execution_count": 18,
     "metadata": {},
     "output_type": "execute_result"
    }
   ],
   "source": [
    "X = iris.data[:,:3]\n",
    "y = iris.data[:,3] # Petal Width 예측\n",
    "\n",
    "X.shape, y.shape"
   ]
  },
  {
   "cell_type": "code",
   "execution_count": 19,
   "metadata": {},
   "outputs": [
    {
     "data": {
      "text/plain": [
       "(150, 4)"
      ]
     },
     "execution_count": 19,
     "metadata": {},
     "output_type": "execute_result"
    }
   ],
   "source": [
    "X = np.c_[np.ones([150,1]), X]\n",
    "X.shape"
   ]
  },
  {
   "cell_type": "code",
   "execution_count": 22,
   "metadata": {},
   "outputs": [
    {
     "data": {
      "text/plain": [
       "(150, 1)"
      ]
     },
     "execution_count": 22,
     "metadata": {},
     "output_type": "execute_result"
    }
   ],
   "source": [
    "y = y.reshape(150,1)\n",
    "y.shape"
   ]
  },
  {
   "cell_type": "code",
   "execution_count": 24,
   "metadata": {},
   "outputs": [
    {
     "data": {
      "text/plain": [
       "array([[-0.24872359],\n",
       "       [-0.21027133],\n",
       "       [ 0.22877721],\n",
       "       [ 0.52608818]])"
      ]
     },
     "execution_count": 24,
     "metadata": {},
     "output_type": "execute_result"
    }
   ],
   "source": [
    "lin.inv(X.T @ X) @ X.T @ y"
   ]
  },
  {
   "cell_type": "markdown",
   "metadata": {},
   "source": [
    "- LinearRegression 결과와 비교"
   ]
  },
  {
   "cell_type": "code",
   "execution_count": 25,
   "metadata": {},
   "outputs": [
    {
     "data": {
      "text/plain": [
       "LinearRegression(copy_X=True, fit_intercept=True, n_jobs=1, normalize=False)"
      ]
     },
     "execution_count": 25,
     "metadata": {},
     "output_type": "execute_result"
    }
   ],
   "source": [
    "from sklearn.linear_model import LinearRegression\n",
    "\n",
    "model = LinearRegression()\n",
    "model.fit(iris.data[:,:3], iris.data[:,3])"
   ]
  },
  {
   "cell_type": "code",
   "execution_count": 27,
   "metadata": {},
   "outputs": [
    {
     "data": {
      "text/plain": [
       "(-0.2487235860244572, array([-0.21027133,  0.22877721,  0.52608818]))"
      ]
     },
     "execution_count": 27,
     "metadata": {},
     "output_type": "execute_result"
    }
   ],
   "source": [
    "model.intercept_, model.coef_"
   ]
  }
 ],
 "metadata": {
  "kernelspec": {
   "display_name": "Python 3",
   "language": "python",
   "name": "python3"
  },
  "language_info": {
   "codemirror_mode": {
    "name": "ipython",
    "version": 3
   },
   "file_extension": ".py",
   "mimetype": "text/x-python",
   "name": "python",
   "nbconvert_exporter": "python",
   "pygments_lexer": "ipython3",
   "version": "3.7.4"
  }
 },
 "nbformat": 4,
 "nbformat_minor": 2
}
