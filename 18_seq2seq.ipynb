{
 "cells": [
  {
   "cell_type": "markdown",
   "metadata": {},
   "source": [
    "## 빅데이터 활용 AI 설계\n",
    "# Seq2seq : 영어-불어 번역기"
   ]
  },
  {
   "cell_type": "markdown",
   "metadata": {},
   "source": [
    "- http://keras.io/examples/lstm_seq2seq/\n",
    "- 데이타 : http://www.manythings.org/anki/fra-eng.zip"
   ]
  },
  {
   "cell_type": "markdown",
   "metadata": {},
   "source": [
    "<img src='https://www.d2l.ai/_images/seq2seq.svg' />\n",
    "(출처: https://www.d2l.ai/chapter_recurrent-neural-networks/seq2seq.html)"
   ]
  },
  {
   "cell_type": "markdown",
   "metadata": {},
   "source": [
    "- Encoder 와 Decoder 두 개의 모델을 만든고 연결한다.\n",
    "- Encoder 는 최종 상태값을 Decoder 에게 넘긴다. (Decoder 의 초기 상태입력값이 된다.)\n",
    "- Decoder 의 목표값은 불어 문장에서 한 단어씩 밀린 문장이다. (최종 출력 문장과 비교하여 손실값 계산)\n",
    "- Seq2seq 는 번역과 같이 쌍으로 된 문장들에 적용한다. => 문장 생성용으로 챗봇 또는 Q/A 등에 사용된다."
   ]
  },
  {
   "cell_type": "code",
   "execution_count": 1,
   "metadata": {},
   "outputs": [],
   "source": [
    "import numpy as np\n",
    "import matplotlib.pyplot as plt\n",
    "import pandas as pd"
   ]
  },
  {
   "cell_type": "code",
   "execution_count": 2,
   "metadata": {},
   "outputs": [],
   "source": [
    "with open('C:/khh/프로그래밍/텍스트마이닝/fra-eng/fra.txt', encoding='utf-8') as f:\n",
    "    lines = f.read().split('\\n')"
   ]
  },
  {
   "cell_type": "code",
   "execution_count": 3,
   "metadata": {},
   "outputs": [
    {
     "data": {
      "text/plain": [
       "170191"
      ]
     },
     "metadata": {},
     "output_type": "display_data"
    },
    {
     "data": {
      "text/plain": [
       "['Go.\\tVa !',\n",
       " 'Hi.\\tSalut !',\n",
       " 'Hi.\\tSalut.',\n",
       " 'Run!\\tCours\\u202f!',\n",
       " 'Run!\\tCourez\\u202f!']"
      ]
     },
     "metadata": {},
     "output_type": "display_data"
    },
    {
     "data": {
      "text/plain": [
       "[\"If someone who doesn't know your background says that you sound like a native speaker, it means they probably noticed something about your speaking that made them realize you weren't a native speaker. In other words, you don't really sound like a native speaker.\\tSi quelqu'un qui ne connaît pas vos antécédents dit que vous parlez comme un locuteur natif, cela veut dire qu'il a probablement remarqué quelque chose à propos de votre élocution qui lui a fait prendre conscience que vous n'êtes pas un locuteur natif. En d'autres termes, vous ne parlez pas vraiment comme un locuteur natif.\",\n",
       " \"It may be impossible to get a completely error-free corpus due to the nature of this kind of collaborative effort. However, if we encourage members to contribute sentences in their own languages rather than experiment in languages they are learning, we might be able to minimize errors.\\tIl est peut-être impossible d'obtenir un Corpus complètement dénué de fautes, étant donnée la nature de ce type d'entreprise collaborative. Cependant, si nous encourageons les membres à produire des phrases dans leurs propres langues plutôt que d'expérimenter dans les langues qu'ils apprennent, nous pourrions être en mesure de réduire les erreurs.\",\n",
       " '']"
      ]
     },
     "metadata": {},
     "output_type": "display_data"
    }
   ],
   "source": [
    "display(len(lines), lines[:5], lines[-3:])"
   ]
  },
  {
   "cell_type": "markdown",
   "metadata": {},
   "source": [
    "- 총 라인수는 170,191개 임\n",
    "- 탭으로 구분됨 => '영어문장\\t불어문장'\n",
    "- 마지막 라인은 공백임\n",
    "- 이 중 10,000 라인만 사용할 것임"
   ]
  },
  {
   "cell_type": "code",
   "execution_count": 4,
   "metadata": {},
   "outputs": [],
   "source": [
    "input_texts = []\n",
    "output_texts = []\n",
    "\n",
    "input_chars = set()\n",
    "output_chars = set()\n",
    "\n",
    "for line in lines[:10000]:\n",
    "    s1, s2 = line.split('\\t')\n",
    "    s2 = '\\t' + s2 + '\\n' # 앞에는 탭, 뒤에는 개행문자를 붙인다\n",
    "    input_texts.append(s1)\n",
    "    output_texts.append(s2) \n",
    "    \n",
    "    for c1 in s1:\n",
    "        if c1 not in input_chars: input_chars.add(c1)\n",
    "            \n",
    "    for c2 in s2:\n",
    "        if c2 not in output_chars: output_chars.add(c2)\n",
    "            \n",
    "input_chars = sorted(list(input_chars))\n",
    "output_chars = sorted(list(output_chars))"
   ]
  },
  {
   "cell_type": "markdown",
   "metadata": {},
   "source": [
    "### 단어 사전 (토큰)"
   ]
  },
  {
   "cell_type": "code",
   "execution_count": 5,
   "metadata": {},
   "outputs": [
    {
     "data": {
      "text/plain": [
       "(70, 93)"
      ]
     },
     "execution_count": 5,
     "metadata": {},
     "output_type": "execute_result"
    }
   ],
   "source": [
    "len(input_chars), len(output_chars) # 70, 93"
   ]
  },
  {
   "cell_type": "code",
   "execution_count": 6,
   "metadata": {},
   "outputs": [
    {
     "name": "stdout",
     "output_type": "stream",
     "text": [
      "[' ', '!', '$', '%', '&', \"'\", ',', '-', '.', '0', '1', '2', '3', '5', '6', '7', '8', '9', ':', '?', 'A', 'B', 'C', 'D', 'E', 'F', 'G', 'H', 'I', 'J', 'K', 'L', 'M', 'N', 'O', 'P', 'Q', 'R', 'S', 'T', 'U', 'V', 'W', 'Y', 'a', 'b', 'c', 'd', 'e', 'f', 'g', 'h', 'i', 'j', 'k', 'l', 'm', 'n', 'o', 'p', 'q', 'r', 's', 't', 'u', 'v', 'w', 'x', 'y', 'z']\n",
      "['\\t', '\\n', ' ', '!', '$', '%', '&', \"'\", '(', ')', ',', '-', '.', '0', '1', '2', '3', '5', '8', '9', ':', '?', 'A', 'B', 'C', 'D', 'E', 'F', 'G', 'H', 'I', 'J', 'K', 'L', 'M', 'N', 'O', 'P', 'Q', 'R', 'S', 'T', 'U', 'V', 'Y', 'a', 'b', 'c', 'd', 'e', 'f', 'g', 'h', 'i', 'j', 'k', 'l', 'm', 'n', 'o', 'p', 'q', 'r', 's', 't', 'u', 'v', 'x', 'y', 'z', '\\xa0', '«', '»', 'À', 'Ç', 'É', 'Ê', 'à', 'â', 'ç', 'è', 'é', 'ê', 'ë', 'î', 'ï', 'ô', 'ù', 'û', 'œ', '\\u2009', '’', '\\u202f']\n"
     ]
    }
   ],
   "source": [
    "print(input_chars)\n",
    "print(output_chars)"
   ]
  },
  {
   "cell_type": "markdown",
   "metadata": {},
   "source": [
    "### 시퀀스 만들기"
   ]
  },
  {
   "cell_type": "code",
   "execution_count": 7,
   "metadata": {},
   "outputs": [],
   "source": [
    "max_input_len = max([len(s) for s in input_texts])   # 16\n",
    "max_output_len = max([len(s) for s in output_texts]) # 59"
   ]
  },
  {
   "cell_type": "code",
   "execution_count": 8,
   "metadata": {},
   "outputs": [
    {
     "data": {
      "text/plain": [
       "(16, 59)"
      ]
     },
     "execution_count": 8,
     "metadata": {},
     "output_type": "execute_result"
    }
   ],
   "source": [
    "max_input_len, max_output_len"
   ]
  },
  {
   "cell_type": "code",
   "execution_count": 9,
   "metadata": {},
   "outputs": [],
   "source": [
    "enc_in_data = np.zeros([10000, max_input_len, len(input_chars)])    # (10000,16,70)\n",
    "dec_in_data = np.zeros([10000, max_output_len, len(output_chars)])  # (10000,59,93)\n",
    "dec_out_data = np.zeros([10000, max_output_len, len(output_chars)]) # (10000,59,93)"
   ]
  },
  {
   "cell_type": "code",
   "execution_count": 10,
   "metadata": {},
   "outputs": [],
   "source": [
    "for i, (s1, s2) in enumerate(zip(input_texts, output_texts)):\n",
    "    for j, c1 in enumerate(s1):\n",
    "        enc_in_data[i, j, input_chars.index(c1)] = 1\n",
    "        \n",
    "    for j, c2 in enumerate(s2):\n",
    "        dec_in_data[i, j, output_chars.index(c2)] = 1\n",
    "        if j>0:\n",
    "            dec_out_data[i, j-1, output_chars.index(c2)] = 1"
   ]
  },
  {
   "cell_type": "code",
   "execution_count": 11,
   "metadata": {},
   "outputs": [
    {
     "data": {
      "text/plain": [
       "((10000, 16, 70), (10000, 59, 93), (10000, 59, 93))"
      ]
     },
     "execution_count": 11,
     "metadata": {},
     "output_type": "execute_result"
    }
   ],
   "source": [
    "enc_in_data.shape, dec_in_data.shape, dec_out_data.shape"
   ]
  },
  {
   "cell_type": "markdown",
   "metadata": {},
   "source": [
    "### 데이터 설명\n",
    "- enc_in_data (10000,16,70)\n",
    "    - 인코더에 들어가는 영어 시퀀스들\n",
    "    - 시퀀스는 16개의 토큰으로 되어 있고, 한 토큰은 영어 70개 문자 원핫인코딩\n",
    "- dec_in_data (10000,59,93)\n",
    "    - 디코더에 들어가는 불어 시퀀스들\n",
    "    - 시퀀스는 59개의 토큰으로 되어 있고, 한 토큰은 불어 93개 문자 원핫인코딩\n",
    "    - 첫번째 문자는 '\\t', 마지막 문자는 '\\n'\n",
    "- dec_out_data (10000,59,93)\n",
    "    - 디코더에서 출력되는 불어 시퀀스들\n",
    "    - dec_in_data 에서 한 토큰씩 밀린 데이터\n",
    "    - 마지막 문자는 '\\n'"
   ]
  },
  {
   "cell_type": "markdown",
   "metadata": {},
   "source": [
    "### Encoder/Decoder 정의"
   ]
  },
  {
   "cell_type": "code",
   "execution_count": 12,
   "metadata": {},
   "outputs": [
    {
     "name": "stderr",
     "output_type": "stream",
     "text": [
      "C:\\Anaconda3\\envs\\py36\\lib\\site-packages\\h5py\\__init__.py:36: FutureWarning: Conversion of the second argument of issubdtype from `float` to `np.floating` is deprecated. In future, it will be treated as `np.float64 == np.dtype(float).type`.\n",
      "  from ._conv import register_converters as _register_converters\n",
      "Using TensorFlow backend.\n"
     ]
    }
   ],
   "source": [
    "from keras.models import Model\n",
    "from keras.layers import Input, LSTM, Dense"
   ]
  },
  {
   "cell_type": "code",
   "execution_count": 13,
   "metadata": {},
   "outputs": [],
   "source": [
    "enc_input = Input(shape=(None,70)) # (16,70)\n",
    "\n",
    "enc_lstm = LSTM(256, return_state=True)\n",
    "enc_output, enc_h, enc_c = enc_lstm(enc_input)\n",
    "\n",
    "enc_states = [enc_h, enc_c]"
   ]
  },
  {
   "cell_type": "code",
   "execution_count": 14,
   "metadata": {},
   "outputs": [],
   "source": [
    "dec_input = Input(shape=(None,93)) # (59,93)\n",
    "\n",
    "dec_lstm = LSTM(256, return_sequences=True, return_state=True)\n",
    "dec_outputs, _, _ = dec_lstm(dec_input, initial_state=enc_states) # (59,256)\n",
    "\n",
    "dec_dense = Dense(93, activation='softmax')\n",
    "dec_outputs = dec_dense(dec_outputs) # 각 LSTM 쉘의 출력을 256 => 93 으로 변환 => (59,93)"
   ]
  },
  {
   "cell_type": "code",
   "execution_count": 15,
   "metadata": {},
   "outputs": [],
   "source": [
    "model = Model([enc_input, dec_input], dec_outputs)"
   ]
  },
  {
   "cell_type": "code",
   "execution_count": 16,
   "metadata": {},
   "outputs": [
    {
     "name": "stdout",
     "output_type": "stream",
     "text": [
      "__________________________________________________________________________________________________\n",
      "Layer (type)                    Output Shape         Param #     Connected to                     \n",
      "==================================================================================================\n",
      "input_1 (InputLayer)            (None, None, 70)     0                                            \n",
      "__________________________________________________________________________________________________\n",
      "input_2 (InputLayer)            (None, None, 93)     0                                            \n",
      "__________________________________________________________________________________________________\n",
      "lstm_1 (LSTM)                   [(None, 256), (None, 334848      input_1[0][0]                    \n",
      "__________________________________________________________________________________________________\n",
      "lstm_2 (LSTM)                   [(None, None, 256),  358400      input_2[0][0]                    \n",
      "                                                                 lstm_1[0][1]                     \n",
      "                                                                 lstm_1[0][2]                     \n",
      "__________________________________________________________________________________________________\n",
      "dense_1 (Dense)                 (None, None, 93)     23901       lstm_2[0][0]                     \n",
      "==================================================================================================\n",
      "Total params: 717,149\n",
      "Trainable params: 717,149\n",
      "Non-trainable params: 0\n",
      "__________________________________________________________________________________________________\n"
     ]
    }
   ],
   "source": [
    "model.summary()"
   ]
  },
  {
   "cell_type": "code",
   "execution_count": 17,
   "metadata": {},
   "outputs": [],
   "source": [
    "model.compile(loss='categorical_crossentropy', optimizer='rmsprop')"
   ]
  },
  {
   "cell_type": "code",
   "execution_count": 18,
   "metadata": {
    "scrolled": true
   },
   "outputs": [
    {
     "name": "stdout",
     "output_type": "stream",
     "text": [
      "Train on 8000 samples, validate on 2000 samples\n",
      "Epoch 1/30\n",
      "8000/8000 [==============================] - 219s 27ms/step - loss: 0.9182 - val_loss: 0.9355\n",
      "Epoch 2/30\n",
      "8000/8000 [==============================] - 195s 24ms/step - loss: 0.7269 - val_loss: 0.7543\n",
      "Epoch 3/30\n",
      "8000/8000 [==============================] - 201s 25ms/step - loss: 0.6159 - val_loss: 0.6864\n",
      "Epoch 4/30\n",
      "8000/8000 [==============================] - 243s 30ms/step - loss: 0.5606 - val_loss: 0.6267\n",
      "Epoch 5/30\n",
      "8000/8000 [==============================] - 336s 42ms/step - loss: 0.5210 - val_loss: 0.5964\n",
      "Epoch 6/30\n",
      "8000/8000 [==============================] - 273s 34ms/step - loss: 0.4883 - val_loss: 0.5719\n",
      "Epoch 7/30\n",
      "8000/8000 [==============================] - 232s 29ms/step - loss: 0.4625 - val_loss: 0.5403\n",
      "Epoch 8/30\n",
      "8000/8000 [==============================] - 243s 30ms/step - loss: 0.4407 - val_loss: 0.5260\n",
      "Epoch 9/30\n",
      "8000/8000 [==============================] - 347s 43ms/step - loss: 0.4214 - val_loss: 0.5106\n",
      "Epoch 10/30\n",
      "8000/8000 [==============================] - 318s 40ms/step - loss: 0.4040 - val_loss: 0.4947\n",
      "Epoch 11/30\n",
      "8000/8000 [==============================] - 178s 22ms/step - loss: 0.3880 - val_loss: 0.4874\n",
      "Epoch 12/30\n",
      "8000/8000 [==============================] - 192s 24ms/step - loss: 0.3733 - val_loss: 0.4787\n",
      "Epoch 13/30\n",
      "8000/8000 [==============================] - 189s 24ms/step - loss: 0.3599 - val_loss: 0.4736\n",
      "Epoch 14/30\n",
      "8000/8000 [==============================] - 190s 24ms/step - loss: 0.3470 - val_loss: 0.4656\n",
      "Epoch 15/30\n",
      "8000/8000 [==============================] - 192s 24ms/step - loss: 0.3351 - val_loss: 0.4635\n",
      "Epoch 16/30\n",
      "8000/8000 [==============================] - 206s 26ms/step - loss: 0.3238 - val_loss: 0.4568\n",
      "Epoch 17/30\n",
      "8000/8000 [==============================] - 192s 24ms/step - loss: 0.3133 - val_loss: 0.4513\n",
      "Epoch 18/30\n",
      "8000/8000 [==============================] - 184s 23ms/step - loss: 0.3028 - val_loss: 0.4482\n",
      "Epoch 19/30\n",
      "8000/8000 [==============================] - 182s 23ms/step - loss: 0.2933 - val_loss: 0.4484\n",
      "Epoch 20/30\n",
      "8000/8000 [==============================] - 190s 24ms/step - loss: 0.2836 - val_loss: 0.4496\n",
      "Epoch 21/30\n",
      "8000/8000 [==============================] - 179s 22ms/step - loss: 0.2748 - val_loss: 0.4484\n",
      "Epoch 22/30\n",
      "8000/8000 [==============================] - 183s 23ms/step - loss: 0.2663 - val_loss: 0.4505\n",
      "Epoch 23/30\n",
      "8000/8000 [==============================] - 202s 25ms/step - loss: 0.2583 - val_loss: 0.4474\n",
      "Epoch 24/30\n",
      "8000/8000 [==============================] - 197s 25ms/step - loss: 0.2506 - val_loss: 0.4494\n",
      "Epoch 25/30\n",
      "8000/8000 [==============================] - 192s 24ms/step - loss: 0.2428 - val_loss: 0.4508\n",
      "Epoch 26/30\n",
      "8000/8000 [==============================] - 199s 25ms/step - loss: 0.2357 - val_loss: 0.4529\n",
      "Epoch 27/30\n",
      "8000/8000 [==============================] - 185s 23ms/step - loss: 0.2283 - val_loss: 0.4539\n",
      "Epoch 28/30\n",
      "8000/8000 [==============================] - 189s 24ms/step - loss: 0.2221 - val_loss: 0.4616\n",
      "Epoch 29/30\n",
      "8000/8000 [==============================] - 189s 24ms/step - loss: 0.2157 - val_loss: 0.4567\n",
      "Epoch 30/30\n",
      "8000/8000 [==============================] - 212s 27ms/step - loss: 0.2096 - val_loss: 0.4630\n"
     ]
    },
    {
     "data": {
      "text/plain": [
       "<keras.callbacks.History at 0x20b5faf3240>"
      ]
     },
     "execution_count": 18,
     "metadata": {},
     "output_type": "execute_result"
    }
   ],
   "source": [
    "model.fit([enc_in_data, dec_in_data], dec_out_data,\n",
    "          batch_size=64, epochs=30, validation_split=0.2)"
   ]
  },
  {
   "cell_type": "code",
   "execution_count": 21,
   "metadata": {},
   "outputs": [
    {
     "name": "stderr",
     "output_type": "stream",
     "text": [
      "C:\\Anaconda3\\envs\\py36\\lib\\site-packages\\keras\\engine\\network.py:877: UserWarning: Layer lstm_2 was passed non-serializable keyword arguments: {'initial_state': [<tf.Tensor 'lstm_1/while/Exit_2:0' shape=(?, 256) dtype=float32>, <tf.Tensor 'lstm_1/while/Exit_3:0' shape=(?, 256) dtype=float32>]}. They will not be included in the serialized model (and thus will be missing at deserialization time).\n",
      "  '. They will not be included '\n"
     ]
    }
   ],
   "source": [
    "model.save('eng_fra_model.h5')"
   ]
  },
  {
   "cell_type": "code",
   "execution_count": 20,
   "metadata": {},
   "outputs": [
    {
     "data": {
      "text/plain": [
       "<matplotlib.legend.Legend at 0x20b628b3a20>"
      ]
     },
     "execution_count": 20,
     "metadata": {},
     "output_type": "execute_result"
    },
    {
     "data": {
      "image/png": "[encoded data removed]",
      "text/plain": [
       "<Figure size 432x288 with 1 Axes>"
      ]
     },
     "metadata": {},
     "output_type": "display_data"
    }
   ],
   "source": [
    "h = model.history.history\n",
    "plt.plot(h['loss'], 'b-')\n",
    "plt.plot(h['val_loss'], 'r-')\n",
    "plt.legend(['loss','val_loss'])"
   ]
  },
  {
   "cell_type": "markdown",
   "metadata": {},
   "source": [
    "### 번역 실행"
   ]
  },
  {
   "cell_type": "code",
   "execution_count": 22,
   "metadata": {},
   "outputs": [],
   "source": [
    "enc_model = Model(enc_input, enc_states)"
   ]
  },
  {
   "cell_type": "code",
   "execution_count": 23,
   "metadata": {},
   "outputs": [],
   "source": [
    "dec_input_h = Input(shape=(256,))\n",
    "dec_input_c = Input(shape=(256,))\n",
    "dec_states_input = [dec_input_h, dec_input_c]"
   ]
  },
  {
   "cell_type": "code",
   "execution_count": 24,
   "metadata": {},
   "outputs": [],
   "source": [
    "dec_outputs, dec_h, dec_c = dec_lstm(dec_input, initial_state=dec_states_input)\n",
    "dec_states = [dec_h, dec_c]\n",
    "\n",
    "dec_outputs2 = dec_dense(dec_outputs)\n",
    "\n",
    "dec_model = Model([dec_input] + dec_states_input, [dec_outputs2] + dec_states)"
   ]
  },
  {
   "cell_type": "markdown",
   "metadata": {},
   "source": [
    "### 출력 테스트"
   ]
  },
  {
   "cell_type": "code",
   "execution_count": 25,
   "metadata": {},
   "outputs": [],
   "source": [
    "def decode_sequence(seq):\n",
    "    states_value = enc_model.predict(seq)\n",
    "    \n",
    "    output_seq = np.zeros([1,1,93]) # 93 은 불어사전 문자수\n",
    "    output_seq[0,0,output_chars.index('\\t')] = 1 # 첫번째 입력문자를 '\\t' 로 설정\n",
    "    \n",
    "    stop = False\n",
    "    result = ''\n",
    "    \n",
    "    while not stop:\n",
    "        output_tokens, h, c = dec_model.predict([output_seq] + states_value)\n",
    "        result += output_chars[np.argmax(output_tokens[0,-1,:])]\n",
    "        \n",
    "        if (result[-1]=='\\n' or len(result)>=59): # 59는 불어 문장 최대 길이\n",
    "            stop = True\n",
    "            \n",
    "        output_seq = np.zeros([1,1,93]) # 93 은 불어사전 문자수\n",
    "        output_seq[0,0,np.argmax(output_tokens[0,-1])] = 1\n",
    "        states_value = [h,c]\n",
    "        \n",
    "    return result"
   ]
  },
  {
   "cell_type": "code",
   "execution_count": 26,
   "metadata": {},
   "outputs": [
    {
     "name": "stdout",
     "output_type": "stream",
     "text": [
      "################################\n",
      "He broke them.\n",
      "=>\n",
      "Il nous a laissés partir.\n",
      "\n",
      "################################\n",
      "He can't sing.\n",
      "=>\n",
      "Il ne sait pas nager.\n",
      "\n"
     ]
    }
   ],
   "source": [
    "for i in range(2):\n",
    "    seq = enc_in_data[5000+i:5000+i+1]\n",
    "    result = decode_sequence(seq)\n",
    "    \n",
    "    print('################################')\n",
    "    print(input_texts[5000+i])\n",
    "    print('=>')\n",
    "    print(result)"
   ]
  },
  {
   "cell_type": "code",
   "execution_count": 29,
   "metadata": {},
   "outputs": [
    {
     "name": "stdout",
     "output_type": "stream",
     "text": [
      "################################\n",
      "Take it.\n",
      "Prenez-le !\n",
      "=>\n",
      "[Prenez_les_miens.\n",
      "]\n",
      "################################\n",
      "Tell me.\n",
      "Dis-moi !\n",
      "=>\n",
      "[Dis-moi_!\n",
      "]\n"
     ]
    }
   ],
   "source": [
    "start = 200\n",
    "for i in range(2):\n",
    "    seq = enc_in_data[start+i:start+i+1]\n",
    "    result = decode_sequence(seq)\n",
    "    \n",
    "    print('################################')\n",
    "    print(input_texts[start+i])\n",
    "    print(output_texts[start+i][1:-1])\n",
    "    print('=>')\n",
    "    print('[%s]' % result.replace(' ','_'))"
   ]
  },
  {
   "cell_type": "markdown",
   "metadata": {},
   "source": [
    "### 새로운 문장으로 테스트"
   ]
  },
  {
   "cell_type": "code",
   "execution_count": 37,
   "metadata": {},
   "outputs": [
    {
     "data": {
      "text/plain": [
       "\"Don't attack me.\""
      ]
     },
     "metadata": {},
     "output_type": "display_data"
    },
    {
     "data": {
      "text/plain": [
       "\"Ne m'attaque pas !\""
      ]
     },
     "metadata": {},
     "output_type": "display_data"
    },
    {
     "data": {
      "text/plain": [
       "'Ne me tuit pas !'"
      ]
     },
     "metadata": {},
     "output_type": "display_data"
    }
   ],
   "source": [
    "s1, s2 = lines[10010].strip().split('\\t')\n",
    "v = [input_chars.index(c) for c in s1]\n",
    "\n",
    "a = np.zeros([1,16,70])\n",
    "for i in range(len(v)):\n",
    "    a[0,i,v[i]] = 1\n",
    "    \n",
    "r = decode_sequence(a)\n",
    "display(s1, s2, r[:-1])"
   ]
  }
 ],
 "metadata": {
  "kernelspec": {
   "display_name": "Python 3",
   "language": "python",
   "name": "python3"
  },
  "language_info": {
   "codemirror_mode": {
    "name": "ipython",
    "version": 3
   },
   "file_extension": ".py",
   "mimetype": "text/x-python",
   "name": "python",
   "nbconvert_exporter": "python",
   "pygments_lexer": "ipython3",
   "version": "3.6.5"
  }
 },
 "nbformat": 4,
 "nbformat_minor": 2
}
