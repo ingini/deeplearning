{
 "cells": [
  {
   "cell_type": "code",
   "execution_count": 1,
   "metadata": {},
   "outputs": [],
   "source": [
    "import urllib.request"
   ]
  },
  {
   "cell_type": "code",
   "execution_count": 2,
   "metadata": {},
   "outputs": [],
   "source": [
    "def request(url):\n",
    "    '''지정한 url의 웹문서를 요청하여, 본문을 반환한다.'''\n",
    "    response = urllib.request.urlopen(url)\n",
    "    byte_data = response.read()\n",
    "    text_data = byte_data.decode()\n",
    "    return text_data"
   ]
  },
  {
   "cell_type": "code",
   "execution_count": 3,
   "metadata": {},
   "outputs": [],
   "source": [
    "TOKEN = '835457959:AAHwJjXpyQMUFmSSi1v-M_j6gBM_6RagCO4'"
   ]
  },
  {
   "cell_type": "code",
   "execution_count": 6,
   "metadata": {},
   "outputs": [],
   "source": [
    "def build_url(method, query):\n",
    "    '''텔레그램 챗봇 웹 API에 요청을 보내기 위한 url을 만들어 반환한다.'''\n",
    "    return f'http://api.telegram.org/bot{TOKEN}/{method}?{query}'"
   ]
  },
  {
   "cell_type": "code",
   "execution_count": 4,
   "metadata": {},
   "outputs": [],
   "source": [
    "chat_id = 948995927"
   ]
  },
  {
   "cell_type": "code",
   "execution_count": 5,
   "metadata": {},
   "outputs": [],
   "source": [
    "import telepot\n",
    "import numpy as np"
   ]
  },
  {
   "cell_type": "code",
   "execution_count": 6,
   "metadata": {},
   "outputs": [],
   "source": [
    "bot = telepot.Bot('835457959:AAHwJjXpyQMUFmSSi1v-M_j6gBM_6RagCO4')"
   ]
  },
  {
   "cell_type": "code",
   "execution_count": 7,
   "metadata": {},
   "outputs": [
    {
     "data": {
      "text/plain": [
       "{'id': 835457959,\n",
       " 'is_bot': True,\n",
       " 'first_name': '대건봇',\n",
       " 'username': 'daegeonchatbot'}"
      ]
     },
     "execution_count": 7,
     "metadata": {},
     "output_type": "execute_result"
    }
   ],
   "source": [
    "bot.getMe()"
   ]
  },
  {
   "cell_type": "code",
   "execution_count": 8,
   "metadata": {},
   "outputs": [
    {
     "data": {
      "text/plain": [
       "{'message_id': 11,\n",
       " 'from': {'id': 835457959,\n",
       "  'is_bot': True,\n",
       "  'first_name': '대건봇',\n",
       "  'username': 'daegeonchatbot'},\n",
       " 'chat': {'id': 948995927,\n",
       "  'first_name': 'han',\n",
       "  'last_name': 'daegeon',\n",
       "  'type': 'private'},\n",
       " 'date': 1570837957,\n",
       " 'text': 'Hello~~'}"
      ]
     },
     "execution_count": 8,
     "metadata": {},
     "output_type": "execute_result"
    }
   ],
   "source": [
    "bot.sendMessage(chat_id, 'Hello~~')"
   ]
  },
  {
   "cell_type": "code",
   "execution_count": null,
   "metadata": {},
   "outputs": [],
   "source": [
    "text = []"
   ]
  },
  {
   "cell_type": "code",
   "execution_count": 8,
   "metadata": {},
   "outputs": [],
   "source": [
    "answers = ['안녕','잘가','또봐']\n",
    "\n",
    "def handle(msg):\n",
    "    content_type, chat_type, chat_id = telepot.glance(msg)\n",
    "    print(content_type, chat_type, chat_id)\n",
    "\n",
    "    if content_type == 'text':\n",
    "        bot.sendMessage(chat_id, \"daegeon_bot>> \" + msg['text'] + ' : ' + answers[np.random.randint(3)])\n",
    "        text.append(msg['text'])"
   ]
  },
  {
   "cell_type": "code",
   "execution_count": 9,
   "metadata": {},
   "outputs": [],
   "source": [
    "bot.message_loop(handle)\n",
    "\n",
    "#while 1:\n",
    "#    time.sleep(1000)"
   ]
  },
  {
   "cell_type": "code",
   "execution_count": 13,
   "metadata": {},
   "outputs": [
    {
     "data": {
      "text/plain": [
       "['안녕', '고마워']"
      ]
     },
     "execution_count": 13,
     "metadata": {},
     "output_type": "execute_result"
    }
   ],
   "source": [
    "text"
   ]
  },
  {
   "cell_type": "code",
   "execution_count": null,
   "metadata": {},
   "outputs": [],
   "source": []
  }
 ],
 "metadata": {
  "kernelspec": {
   "display_name": "Python 3",
   "language": "python",
   "name": "python3"
  },
  "language_info": {
   "codemirror_mode": {
    "name": "ipython",
    "version": 3
   },
   "file_extension": ".py",
   "mimetype": "text/x-python",
   "name": "python",
   "nbconvert_exporter": "python",
   "pygments_lexer": "ipython3",
   "version": "3.7.4"
  }
 },
 "nbformat": 4,
 "nbformat_minor": 2
}
