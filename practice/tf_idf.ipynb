{
 "cells": [
  {
   "cell_type": "code",
   "execution_count": 2,
   "metadata": {},
   "outputs": [],
   "source": [
    "import numpy as np\n",
    "import pandas as pd\n",
    "import matplotlib.pyplot as plt\n",
    "import os\n",
    "import re\n",
    "\n",
    "from konlpy.tag import Okt"
   ]
  },
  {
   "cell_type": "code",
   "execution_count": 3,
   "metadata": {},
   "outputs": [],
   "source": [
    "df1 = pd.read_csv('고민상담.csv', encoding ='utf-8')\n",
    "df2 = pd.read_csv('공황장애고민.csv', encoding ='utf-8')\n",
    "df3 = pd.read_csv('군입대고민.csv', encoding ='utf-8')\n",
    "df4 = pd.read_csv('다이어트고민.csv', encoding ='utf-8')\n",
    "df5 = pd.read_csv('대학생활고민.csv', encoding ='utf-8')\n",
    "df6 = pd.read_csv('몸매고민.csv', encoding ='utf-8')\n",
    "df7 = pd.read_csv('부부고민.csv', encoding ='utf-8')\n",
    "df8 = pd.read_csv('불안장애고민.csv', encoding ='utf-8')\n",
    "df9 = pd.read_csv('사랑고민.csv', encoding ='utf-8')\n",
    "df10 = pd.read_csv('심리상담.csv', encoding ='utf-8')\n",
    "df11 = pd.read_csv('연상고민.csv', encoding ='utf-8')\n",
    "df12 = pd.read_csv('연애고민.csv', encoding ='utf-8')\n",
    "df13 = pd.read_csv('연인관계고민.csv', encoding ='utf-8')\n",
    "df14 = pd.read_csv('연하고민.csv', encoding ='utf-8')\n",
    "df15 = pd.read_csv('외모고민.csv', encoding ='utf-8')\n",
    "df16 = pd.read_csv('우울증고민.csv', encoding ='utf-8')\n",
    "df17 = pd.read_csv('이별고민.csv', encoding ='utf-8')\n",
    "df18 = pd.read_csv('이혼고민.csv', encoding ='utf-8')\n",
    "df19 = pd.read_csv('입시고민.csv', encoding ='utf-8')\n",
    "df20 = pd.read_csv('직장고민.csv', encoding ='utf-8')\n",
    "df21 = pd.read_csv('직장생활고민.csv', encoding ='utf-8')\n",
    "df22 = pd.read_csv('진로고민.csv', encoding ='utf-8')\n",
    "df23 = pd.read_csv('취업고민.csv', encoding ='utf-8')\n",
    "df24 = pd.read_csv('친구관계고민.csv', encoding ='utf-8')\n",
    "df25 = pd.read_csv('퇴사고민.csv', encoding ='utf-8')\n",
    "df26 = pd.read_csv('피부고민.csv', encoding ='utf-8')\n",
    "df27 = pd.read_csv('학업고민.csv', encoding ='utf-8')"
   ]
  },
  {
   "cell_type": "code",
   "execution_count": 4,
   "metadata": {},
   "outputs": [
    {
     "data": {
      "text/html": [
       "<div>\n",
       "<style scoped>\n",
       "    .dataframe tbody tr th:only-of-type {\n",
       "        vertical-align: middle;\n",
       "    }\n",
       "\n",
       "    .dataframe tbody tr th {\n",
       "        vertical-align: top;\n",
       "    }\n",
       "\n",
       "    .dataframe thead th {\n",
       "        text-align: right;\n",
       "    }\n",
       "</style>\n",
       "<table border=\"1\" class=\"dataframe\">\n",
       "  <thead>\n",
       "    <tr style=\"text-align: right;\">\n",
       "      <th></th>\n",
       "      <th>Unnamed: 0</th>\n",
       "      <th>index</th>\n",
       "      <th>text</th>\n",
       "    </tr>\n",
       "  </thead>\n",
       "  <tbody>\n",
       "    <tr>\n",
       "      <th>0</th>\n",
       "      <td>0</td>\n",
       "      <td>0</td>\n",
       "      <td>저 직업고민상담쫌 해주세요ㅜㅜㅜㅜㅜ제발&gt;&gt;&gt;&gt;</td>\n",
       "    </tr>\n",
       "    <tr>\n",
       "      <th>1</th>\n",
       "      <td>1</td>\n",
       "      <td>1</td>\n",
       "      <td>실시간으로 고민 상담해주는 사이트좀 알려줘요&gt;&gt;&gt; &gt; &gt;실시간으로 고민 상담해주는 ...</td>\n",
       "    </tr>\n",
       "    <tr>\n",
       "      <th>2</th>\n",
       "      <td>2</td>\n",
       "      <td>2</td>\n",
       "      <td>고민상담전화 개인정보&gt;&gt;&gt; &gt;고민상담 전화 하려는데요&gt;친구 관계거든요 애들이랑 싸워...</td>\n",
       "    </tr>\n",
       "    <tr>\n",
       "      <th>3</th>\n",
       "      <td>4</td>\n",
       "      <td>4</td>\n",
       "      <td>입시생고민 상담&gt;&gt;&gt; &gt;안녕하세요 고 남학생인데요 이러는 시간이 없는거 알지만 들어...</td>\n",
       "    </tr>\n",
       "    <tr>\n",
       "      <th>4</th>\n",
       "      <td>5</td>\n",
       "      <td>5</td>\n",
       "      <td>고민상담은 삼촌&gt;&gt;&gt;            &gt;&gt;&gt;&gt;         &gt;&gt;&gt;&gt;&gt;     ...</td>\n",
       "    </tr>\n",
       "    <tr>\n",
       "      <th>5</th>\n",
       "      <td>6</td>\n",
       "      <td>6</td>\n",
       "      <td>고민 상담할 만한 곳&gt;&gt;&gt; &gt;저는 살 학생입니다 오늘따라 더 우울하고 슬프고 외로워...</td>\n",
       "    </tr>\n",
       "    <tr>\n",
       "      <th>6</th>\n",
       "      <td>7</td>\n",
       "      <td>7</td>\n",
       "      <td>고민상담좀 해주세요&gt;&gt;현재 공장 다니면서 하루 시간씩 일하고 교대 근무하면서 한달에...</td>\n",
       "    </tr>\n",
       "    <tr>\n",
       "      <th>7</th>\n",
       "      <td>8</td>\n",
       "      <td>8</td>\n",
       "      <td>진로진학 고민상담&gt;이제 고됐는데요 동아리며 봉사활동이며 다 진로와 연결돼야 유리하다...</td>\n",
       "    </tr>\n",
       "    <tr>\n",
       "      <th>8</th>\n",
       "      <td>9</td>\n",
       "      <td>9</td>\n",
       "      <td>학과 고민 상담&gt;&gt;&gt; &gt;저는 살 이고 현재 년제 대학교에서 호텔관광계열을 공부 하고...</td>\n",
       "    </tr>\n",
       "    <tr>\n",
       "      <th>9</th>\n",
       "      <td>10</td>\n",
       "      <td>10</td>\n",
       "      <td>고민상담사이트&gt;&gt;&gt; &gt;&gt;고민상담사이트 중에 친구한테 들었는데 빅 시스터즈 라는게 있...</td>\n",
       "    </tr>\n",
       "    <tr>\n",
       "      <th>10</th>\n",
       "      <td>11</td>\n",
       "      <td>11</td>\n",
       "      <td>고민 상담&gt;&gt;&gt; &gt;안녕하세요 학년 여고생인데요 제가 결정한 길에 대해서 고민이 많아...</td>\n",
       "    </tr>\n",
       "    <tr>\n",
       "      <th>11</th>\n",
       "      <td>12</td>\n",
       "      <td>12</td>\n",
       "      <td>고민상담이요&gt;저는 친구들과 잘 지내고 있는 평범한 중이에요 근데 제가 같이 다니는 ...</td>\n",
       "    </tr>\n",
       "    <tr>\n",
       "      <th>12</th>\n",
       "      <td>13</td>\n",
       "      <td>13</td>\n",
       "      <td>고민상담 해 주세요 &gt;&gt;안녕하세요 저는 동생 둘이 있는 초  학생입니다 &gt;둘째는 여...</td>\n",
       "    </tr>\n",
       "    <tr>\n",
       "      <th>13</th>\n",
       "      <td>14</td>\n",
       "      <td>14</td>\n",
       "      <td>고 고민상담이요 급합니다&gt;&gt;&gt; &gt;고등학생 고민 상담이요 제발 저 좀 도와주세요 급합...</td>\n",
       "    </tr>\n",
       "    <tr>\n",
       "      <th>14</th>\n",
       "      <td>15</td>\n",
       "      <td>15</td>\n",
       "      <td>고민상담&gt;&gt;&gt; &gt;제가 친구명이 약간 사이가 나빠져서 이럴때 고민상담을 누구한테받을지...</td>\n",
       "    </tr>\n",
       "    <tr>\n",
       "      <th>15</th>\n",
       "      <td>16</td>\n",
       "      <td>16</td>\n",
       "      <td>친구 고민상담&gt;&gt;&gt; &gt;친구들이 고민상담을 해올때 뭐라고 생각하고 답해줘야할까요 그친...</td>\n",
       "    </tr>\n",
       "    <tr>\n",
       "      <th>16</th>\n",
       "      <td>17</td>\n",
       "      <td>17</td>\n",
       "      <td>고민상담 해주세요&gt;&gt;&gt; &gt;&gt;&gt;자퇴경험 잇으시거나 인간관계  아무나 고민상담 진지하게...</td>\n",
       "    </tr>\n",
       "    <tr>\n",
       "      <th>17</th>\n",
       "      <td>18</td>\n",
       "      <td>18</td>\n",
       "      <td>친구관계 고민 상담&gt;&gt;&gt; &gt;일단 저는 고여학생이고 제 친구도 고이에요초등학생때부터 ...</td>\n",
       "    </tr>\n",
       "    <tr>\n",
       "      <th>18</th>\n",
       "      <td>19</td>\n",
       "      <td>19</td>\n",
       "      <td>연애 고민상담좀&gt;&gt;&gt; &gt;안녕하세요 고 여학생입니다&gt;제가 남친이랑 사귄지 일이 되었어...</td>\n",
       "    </tr>\n",
       "    <tr>\n",
       "      <th>19</th>\n",
       "      <td>20</td>\n",
       "      <td>20</td>\n",
       "      <td>코성형 고민상담의사분만 남겨주세요&gt;현재 코성형한지는 개월밖에 안되었는데요&gt;특별히 염...</td>\n",
       "    </tr>\n",
       "    <tr>\n",
       "      <th>20</th>\n",
       "      <td>21</td>\n",
       "      <td>21</td>\n",
       "      <td>심리고민상담 성향 성격 태도 등때문에 동생이 진짜 싫습니다&gt;동생과 저는 둘다 대입니...</td>\n",
       "    </tr>\n",
       "    <tr>\n",
       "      <th>21</th>\n",
       "      <td>22</td>\n",
       "      <td>22</td>\n",
       "      <td>고민상담 부탁드려요ㅠㅠ 저는 지금 고등학교를 졸업했고 남자친구는 고입니다 저랑 친한...</td>\n",
       "    </tr>\n",
       "    <tr>\n",
       "      <th>22</th>\n",
       "      <td>23</td>\n",
       "      <td>23</td>\n",
       "      <td>고민상담 좀 해주세요ㅠ&gt;학교폭력땜시 힘들어여ㅠ 원래 우리반 저와 같은 성별인 애들끼...</td>\n",
       "    </tr>\n",
       "    <tr>\n",
       "      <th>23</th>\n",
       "      <td>24</td>\n",
       "      <td>24</td>\n",
       "      <td>고등학교 자퇴 고민 상담&gt;안녕하세요 현재 학교에서 자퇴를 고민중인 학생입니다&gt;자퇴 ...</td>\n",
       "    </tr>\n",
       "    <tr>\n",
       "      <th>24</th>\n",
       "      <td>25</td>\n",
       "      <td>25</td>\n",
       "      <td>여러분들 제 고민상담 좀 해주세요&gt;전 중  여자아이구요 고등학교 진학을 앞뒀습니다 ...</td>\n",
       "    </tr>\n",
       "    <tr>\n",
       "      <th>25</th>\n",
       "      <td>27</td>\n",
       "      <td>27</td>\n",
       "      <td>친구 고민 상담 문제입니다&gt;&gt;&gt; &gt;저랑 제일 친한 친구가 있습니다&gt;그 친구랑 저는 ...</td>\n",
       "    </tr>\n",
       "    <tr>\n",
       "      <th>26</th>\n",
       "      <td>28</td>\n",
       "      <td>28</td>\n",
       "      <td>고졸  대학 졸업장 고민 상담 부탁드립니다내공 &gt;&gt;&gt; &gt;&gt;전문대 다니고 있는 살 남...</td>\n",
       "    </tr>\n",
       "    <tr>\n",
       "      <th>27</th>\n",
       "      <td>29</td>\n",
       "      <td>29</td>\n",
       "      <td>여잔데요 연애고민 상담할때 여자한테 하는게 낫나요 아님 남자한테 하는게 낫나요&gt;&gt;&gt;&gt;</td>\n",
       "    </tr>\n",
       "    <tr>\n",
       "      <th>28</th>\n",
       "      <td>30</td>\n",
       "      <td>30</td>\n",
       "      <td>고민상담 잘하는법좀 알려주세요ㅜㅜ&gt;&gt;&gt; &gt;안녕하세요 올해 고되는 남학생입니다 &gt;제가...</td>\n",
       "    </tr>\n",
       "    <tr>\n",
       "      <th>29</th>\n",
       "      <td>31</td>\n",
       "      <td>31</td>\n",
       "      <td>고민상담입니다&gt;제가 학교에서 짝사랑하는 귀여운 남자애가 있어요&gt;근데 제 단짝친구 비...</td>\n",
       "    </tr>\n",
       "    <tr>\n",
       "      <th>...</th>\n",
       "      <td>...</td>\n",
       "      <td>...</td>\n",
       "      <td>...</td>\n",
       "    </tr>\n",
       "    <tr>\n",
       "      <th>889</th>\n",
       "      <td>966</td>\n",
       "      <td>966</td>\n",
       "      <td>고민상담좀요&gt;&gt;&gt; &gt;&gt;저는 제주사는 살 입니다 저는 코에 점이 있어요 근데 그게 콤...</td>\n",
       "    </tr>\n",
       "    <tr>\n",
       "      <th>890</th>\n",
       "      <td>967</td>\n",
       "      <td>967</td>\n",
       "      <td>진로 고민 상담좀요&gt;&gt;&gt; &gt;&gt;살 대학생입니다&gt;&gt;이번에 반 학기 휴학하면서제 인생에 ...</td>\n",
       "    </tr>\n",
       "    <tr>\n",
       "      <th>891</th>\n",
       "      <td>968</td>\n",
       "      <td>968</td>\n",
       "      <td>고등학교 자퇴 고민 상담&gt;&gt;&gt; &gt;저는 학교폭력 피해자입니다 시작은 중 연말부터 시작...</td>\n",
       "    </tr>\n",
       "    <tr>\n",
       "      <th>892</th>\n",
       "      <td>971</td>\n",
       "      <td>971</td>\n",
       "      <td>진로고민 상담쪽&gt;&gt;&gt; &gt;&gt;&gt;&gt;&gt;안녕하세요&gt;&gt;&gt;&gt;&gt;사회초년생이예요&gt;&gt;&gt;&gt;&gt;현재 살 여...</td>\n",
       "    </tr>\n",
       "    <tr>\n",
       "      <th>893</th>\n",
       "      <td>972</td>\n",
       "      <td>972</td>\n",
       "      <td>고민상담&gt;안녕하세요 년생 여학생입니다&gt;제가 고민이 좀 많은데 몇가지좀 끄적끄적할려고...</td>\n",
       "    </tr>\n",
       "    <tr>\n",
       "      <th>894</th>\n",
       "      <td>973</td>\n",
       "      <td>973</td>\n",
       "      <td>중여잔데요정말 딱히 고민상담 할곳이 없어서 글 올려봅니다&gt;이제 고교 진학을 앞두고 ...</td>\n",
       "    </tr>\n",
       "    <tr>\n",
       "      <th>895</th>\n",
       "      <td>975</td>\n",
       "      <td>975</td>\n",
       "      <td>고민상담좀 해주세요&gt;&gt;&gt; &gt;안녕하세요 중 여자 입니다&gt;진짜진짜 년전으로 돌아가고 싶...</td>\n",
       "    </tr>\n",
       "    <tr>\n",
       "      <th>896</th>\n",
       "      <td>976</td>\n",
       "      <td>976</td>\n",
       "      <td>고민상담좀 해주십쇼&gt;&gt;&gt; &gt;제가 년동안 좋아했고 지금도 좋아하는중인 여자애가 있는데...</td>\n",
       "    </tr>\n",
       "    <tr>\n",
       "      <th>897</th>\n",
       "      <td>977</td>\n",
       "      <td>977</td>\n",
       "      <td>고민상담해주실분&gt;&gt;&gt;&gt;</td>\n",
       "    </tr>\n",
       "    <tr>\n",
       "      <th>898</th>\n",
       "      <td>978</td>\n",
       "      <td>978</td>\n",
       "      <td>고민 상담할 만한 곳&gt;&gt;&gt; &gt;저는 살 학생입니다 오늘따라 더 우울하고 슬프고 외로워...</td>\n",
       "    </tr>\n",
       "    <tr>\n",
       "      <th>899</th>\n",
       "      <td>979</td>\n",
       "      <td>979</td>\n",
       "      <td>고민상담을 하고 싶습니다 중여자구요&gt;톡이든 전화든 만남이든 상관 없어요&gt;조언을 안해...</td>\n",
       "    </tr>\n",
       "    <tr>\n",
       "      <th>900</th>\n",
       "      <td>980</td>\n",
       "      <td>980</td>\n",
       "      <td>고민상담좀 해주세요&gt;&gt;현재 공장 다니면서 하루 시간씩 일하고 교대 근무하면서 한달에...</td>\n",
       "    </tr>\n",
       "    <tr>\n",
       "      <th>901</th>\n",
       "      <td>981</td>\n",
       "      <td>981</td>\n",
       "      <td>학교폭력 고민 상담&gt;&gt;&gt; &gt;저희 특성화고가 하도 시골 똥통 학교라서 교사나 학생들이...</td>\n",
       "    </tr>\n",
       "    <tr>\n",
       "      <th>902</th>\n",
       "      <td>982</td>\n",
       "      <td>982</td>\n",
       "      <td>중학교 학년 고민상담&gt;&gt;&gt; &gt;&gt;안녕하세요 저는 현재 중학교 학년인 한 학생입니다 지...</td>\n",
       "    </tr>\n",
       "    <tr>\n",
       "      <th>903</th>\n",
       "      <td>983</td>\n",
       "      <td>983</td>\n",
       "      <td>고민상담해주세요&gt;&gt;&gt; &gt;진짜 진지하게 제 고민상담 해주실분 구해요 ㅠ&gt;대 얼굴보고 ...</td>\n",
       "    </tr>\n",
       "    <tr>\n",
       "      <th>904</th>\n",
       "      <td>984</td>\n",
       "      <td>984</td>\n",
       "      <td>고민 상담 해주세요&gt;&gt;&gt; &gt;저희 부모님은 제가 말도하지 못할정도로 어릴때 이혼하셨어...</td>\n",
       "    </tr>\n",
       "    <tr>\n",
       "      <th>905</th>\n",
       "      <td>985</td>\n",
       "      <td>985</td>\n",
       "      <td>비올리 가격 싼곳 및 고민상담&gt;&gt;&gt; &gt;&gt;가슴확대로 좋다는 비올리 가격 좀 알아보는데...</td>\n",
       "    </tr>\n",
       "    <tr>\n",
       "      <th>906</th>\n",
       "      <td>987</td>\n",
       "      <td>987</td>\n",
       "      <td>고학생 유학고민상담좀 해주세요ㅠㅠ &gt;지금고이고 일반고 재학중이에요 성적은 등급정도 ...</td>\n",
       "    </tr>\n",
       "    <tr>\n",
       "      <th>907</th>\n",
       "      <td>988</td>\n",
       "      <td>988</td>\n",
       "      <td>고민상담 &gt;&gt;왜자꾸 옛날 고구려나고려 이런시대때를생각하면왜자꾸아련하죠가슴이먹먹해요 ...</td>\n",
       "    </tr>\n",
       "    <tr>\n",
       "      <th>908</th>\n",
       "      <td>989</td>\n",
       "      <td>989</td>\n",
       "      <td>탈모 아닌가요고민상담&gt;&gt;&gt; &gt;고등학생입니다&gt;전 머리가 많이 빠지는 것 같아요&gt;이렇게...</td>\n",
       "    </tr>\n",
       "    <tr>\n",
       "      <th>909</th>\n",
       "      <td>990</td>\n",
       "      <td>990</td>\n",
       "      <td>고민 상담 해주세요&gt;&gt;&gt; &gt;안녕하세요&gt;바로 본론 들어가겠습니다 &gt;현재 중인 여학생입...</td>\n",
       "    </tr>\n",
       "    <tr>\n",
       "      <th>910</th>\n",
       "      <td>991</td>\n",
       "      <td>991</td>\n",
       "      <td>안녕하세요 제가 친구문제로 고민상담을좀 하려고 합니다제가 중 여자인데 학년때부터 친...</td>\n",
       "    </tr>\n",
       "    <tr>\n",
       "      <th>911</th>\n",
       "      <td>992</td>\n",
       "      <td>992</td>\n",
       "      <td>부부 고민상담&gt;&gt;&gt; &gt;안녕하세요 결혼년차 주부입니다 자녀는 아직없구요 제가너무 속상...</td>\n",
       "    </tr>\n",
       "    <tr>\n",
       "      <th>912</th>\n",
       "      <td>993</td>\n",
       "      <td>993</td>\n",
       "      <td>고민상담좀&gt;&gt;&gt; &gt;&gt;동생이 ㅇㅂ용어를 써요&gt;&gt;동생이 저보고 ㅇㅂ는 하지 않는데 친구...</td>\n",
       "    </tr>\n",
       "    <tr>\n",
       "      <th>913</th>\n",
       "      <td>994</td>\n",
       "      <td>994</td>\n",
       "      <td>고민상담좀&gt;&gt;&gt; &gt;제가 좋아하는남자애가 다른여자애좋아해요&gt;제가 걔한테 표현해도 걍씹...</td>\n",
       "    </tr>\n",
       "    <tr>\n",
       "      <th>914</th>\n",
       "      <td>995</td>\n",
       "      <td>995</td>\n",
       "      <td>고민상담&gt;&gt;&gt; &gt;&gt;제가요 중학생인데요&gt;&gt;제가 부쩍 중학생이 되니&gt;&gt;노는 얘들이 두렵...</td>\n",
       "    </tr>\n",
       "    <tr>\n",
       "      <th>915</th>\n",
       "      <td>996</td>\n",
       "      <td>996</td>\n",
       "      <td>안녕하세요고민상담입니다혹시 생리는 언제하나용저는 이제 학년이 되고 가슴이 나오는것은...</td>\n",
       "    </tr>\n",
       "    <tr>\n",
       "      <th>916</th>\n",
       "      <td>997</td>\n",
       "      <td>997</td>\n",
       "      <td>고학생 유학고민상담좀 해주세요ㅠㅠ &gt;지금고이고 일반고 재학중이에요 성적은 등급정도 ...</td>\n",
       "    </tr>\n",
       "    <tr>\n",
       "      <th>917</th>\n",
       "      <td>998</td>\n",
       "      <td>998</td>\n",
       "      <td>고민상담알바ㅜ 내공드릴게요&gt;&gt;&gt; &gt;고민상담전화같은알바어떻게하나요&gt;제가누구고민들어주고...</td>\n",
       "    </tr>\n",
       "    <tr>\n",
       "      <th>918</th>\n",
       "      <td>999</td>\n",
       "      <td>999</td>\n",
       "      <td>연애 고민 상담 부탁드립니다 &gt;&gt;&gt; &gt;안녕하세요 저는 살 여자 입니다 &gt;현재 신발 ...</td>\n",
       "    </tr>\n",
       "  </tbody>\n",
       "</table>\n",
       "<p>919 rows × 3 columns</p>\n",
       "</div>"
      ],
      "text/plain": [
       "     Unnamed: 0  index                                               text\n",
       "0             0      0                          저 직업고민상담쫌 해주세요ㅜㅜㅜㅜㅜ제발>>>>\n",
       "1             1      1  실시간으로 고민 상담해주는 사이트좀 알려줘요>>> > >실시간으로 고민 상담해주는 ...\n",
       "2             2      2  고민상담전화 개인정보>>> >고민상담 전화 하려는데요>친구 관계거든요 애들이랑 싸워...\n",
       "3             4      4  입시생고민 상담>>> >안녕하세요 고 남학생인데요 이러는 시간이 없는거 알지만 들어...\n",
       "4             5      5  고민상담은 삼촌>>>            >>>>         >>>>>     ...\n",
       "5             6      6  고민 상담할 만한 곳>>> >저는 살 학생입니다 오늘따라 더 우울하고 슬프고 외로워...\n",
       "6             7      7  고민상담좀 해주세요>>현재 공장 다니면서 하루 시간씩 일하고 교대 근무하면서 한달에...\n",
       "7             8      8  진로진학 고민상담>이제 고됐는데요 동아리며 봉사활동이며 다 진로와 연결돼야 유리하다...\n",
       "8             9      9  학과 고민 상담>>> >저는 살 이고 현재 년제 대학교에서 호텔관광계열을 공부 하고...\n",
       "9            10     10  고민상담사이트>>> >>고민상담사이트 중에 친구한테 들었는데 빅 시스터즈 라는게 있...\n",
       "10           11     11  고민 상담>>> >안녕하세요 학년 여고생인데요 제가 결정한 길에 대해서 고민이 많아...\n",
       "11           12     12  고민상담이요>저는 친구들과 잘 지내고 있는 평범한 중이에요 근데 제가 같이 다니는 ...\n",
       "12           13     13  고민상담 해 주세요 >>안녕하세요 저는 동생 둘이 있는 초  학생입니다 >둘째는 여...\n",
       "13           14     14  고 고민상담이요 급합니다>>> >고등학생 고민 상담이요 제발 저 좀 도와주세요 급합...\n",
       "14           15     15  고민상담>>> >제가 친구명이 약간 사이가 나빠져서 이럴때 고민상담을 누구한테받을지...\n",
       "15           16     16  친구 고민상담>>> >친구들이 고민상담을 해올때 뭐라고 생각하고 답해줘야할까요 그친...\n",
       "16           17     17  고민상담 해주세요>>> >>>자퇴경험 잇으시거나 인간관계  아무나 고민상담 진지하게...\n",
       "17           18     18  친구관계 고민 상담>>> >일단 저는 고여학생이고 제 친구도 고이에요초등학생때부터 ...\n",
       "18           19     19  연애 고민상담좀>>> >안녕하세요 고 여학생입니다>제가 남친이랑 사귄지 일이 되었어...\n",
       "19           20     20  코성형 고민상담의사분만 남겨주세요>현재 코성형한지는 개월밖에 안되었는데요>특별히 염...\n",
       "20           21     21  심리고민상담 성향 성격 태도 등때문에 동생이 진짜 싫습니다>동생과 저는 둘다 대입니...\n",
       "21           22     22  고민상담 부탁드려요ㅠㅠ 저는 지금 고등학교를 졸업했고 남자친구는 고입니다 저랑 친한...\n",
       "22           23     23  고민상담 좀 해주세요ㅠ>학교폭력땜시 힘들어여ㅠ 원래 우리반 저와 같은 성별인 애들끼...\n",
       "23           24     24  고등학교 자퇴 고민 상담>안녕하세요 현재 학교에서 자퇴를 고민중인 학생입니다>자퇴 ...\n",
       "24           25     25  여러분들 제 고민상담 좀 해주세요>전 중  여자아이구요 고등학교 진학을 앞뒀습니다 ...\n",
       "25           27     27  친구 고민 상담 문제입니다>>> >저랑 제일 친한 친구가 있습니다>그 친구랑 저는 ...\n",
       "26           28     28  고졸  대학 졸업장 고민 상담 부탁드립니다내공 >>> >>전문대 다니고 있는 살 남...\n",
       "27           29     29    여잔데요 연애고민 상담할때 여자한테 하는게 낫나요 아님 남자한테 하는게 낫나요>>>>\n",
       "28           30     30  고민상담 잘하는법좀 알려주세요ㅜㅜ>>> >안녕하세요 올해 고되는 남학생입니다 >제가...\n",
       "29           31     31  고민상담입니다>제가 학교에서 짝사랑하는 귀여운 남자애가 있어요>근데 제 단짝친구 비...\n",
       "..          ...    ...                                                ...\n",
       "889         966    966  고민상담좀요>>> >>저는 제주사는 살 입니다 저는 코에 점이 있어요 근데 그게 콤...\n",
       "890         967    967  진로 고민 상담좀요>>> >>살 대학생입니다>>이번에 반 학기 휴학하면서제 인생에 ...\n",
       "891         968    968  고등학교 자퇴 고민 상담>>> >저는 학교폭력 피해자입니다 시작은 중 연말부터 시작...\n",
       "892         971    971  진로고민 상담쪽>>> >>>>>안녕하세요>>>>>사회초년생이예요>>>>>현재 살 여...\n",
       "893         972    972  고민상담>안녕하세요 년생 여학생입니다>제가 고민이 좀 많은데 몇가지좀 끄적끄적할려고...\n",
       "894         973    973  중여잔데요정말 딱히 고민상담 할곳이 없어서 글 올려봅니다>이제 고교 진학을 앞두고 ...\n",
       "895         975    975  고민상담좀 해주세요>>> >안녕하세요 중 여자 입니다>진짜진짜 년전으로 돌아가고 싶...\n",
       "896         976    976  고민상담좀 해주십쇼>>> >제가 년동안 좋아했고 지금도 좋아하는중인 여자애가 있는데...\n",
       "897         977    977                                       고민상담해주실분>>>>\n",
       "898         978    978  고민 상담할 만한 곳>>> >저는 살 학생입니다 오늘따라 더 우울하고 슬프고 외로워...\n",
       "899         979    979  고민상담을 하고 싶습니다 중여자구요>톡이든 전화든 만남이든 상관 없어요>조언을 안해...\n",
       "900         980    980  고민상담좀 해주세요>>현재 공장 다니면서 하루 시간씩 일하고 교대 근무하면서 한달에...\n",
       "901         981    981  학교폭력 고민 상담>>> >저희 특성화고가 하도 시골 똥통 학교라서 교사나 학생들이...\n",
       "902         982    982  중학교 학년 고민상담>>> >>안녕하세요 저는 현재 중학교 학년인 한 학생입니다 지...\n",
       "903         983    983  고민상담해주세요>>> >진짜 진지하게 제 고민상담 해주실분 구해요 ㅠ>대 얼굴보고 ...\n",
       "904         984    984  고민 상담 해주세요>>> >저희 부모님은 제가 말도하지 못할정도로 어릴때 이혼하셨어...\n",
       "905         985    985  비올리 가격 싼곳 및 고민상담>>> >>가슴확대로 좋다는 비올리 가격 좀 알아보는데...\n",
       "906         987    987  고학생 유학고민상담좀 해주세요ㅠㅠ >지금고이고 일반고 재학중이에요 성적은 등급정도 ...\n",
       "907         988    988  고민상담 >>왜자꾸 옛날 고구려나고려 이런시대때를생각하면왜자꾸아련하죠가슴이먹먹해요 ...\n",
       "908         989    989  탈모 아닌가요고민상담>>> >고등학생입니다>전 머리가 많이 빠지는 것 같아요>이렇게...\n",
       "909         990    990  고민 상담 해주세요>>> >안녕하세요>바로 본론 들어가겠습니다 >현재 중인 여학생입...\n",
       "910         991    991  안녕하세요 제가 친구문제로 고민상담을좀 하려고 합니다제가 중 여자인데 학년때부터 친...\n",
       "911         992    992  부부 고민상담>>> >안녕하세요 결혼년차 주부입니다 자녀는 아직없구요 제가너무 속상...\n",
       "912         993    993  고민상담좀>>> >>동생이 ㅇㅂ용어를 써요>>동생이 저보고 ㅇㅂ는 하지 않는데 친구...\n",
       "913         994    994  고민상담좀>>> >제가 좋아하는남자애가 다른여자애좋아해요>제가 걔한테 표현해도 걍씹...\n",
       "914         995    995  고민상담>>> >>제가요 중학생인데요>>제가 부쩍 중학생이 되니>>노는 얘들이 두렵...\n",
       "915         996    996  안녕하세요고민상담입니다혹시 생리는 언제하나용저는 이제 학년이 되고 가슴이 나오는것은...\n",
       "916         997    997  고학생 유학고민상담좀 해주세요ㅠㅠ >지금고이고 일반고 재학중이에요 성적은 등급정도 ...\n",
       "917         998    998  고민상담알바ㅜ 내공드릴게요>>> >고민상담전화같은알바어떻게하나요>제가누구고민들어주고...\n",
       "918         999    999  연애 고민 상담 부탁드립니다 >>> >안녕하세요 저는 살 여자 입니다 >현재 신발 ...\n",
       "\n",
       "[919 rows x 3 columns]"
      ]
     },
     "execution_count": 4,
     "metadata": {},
     "output_type": "execute_result"
    }
   ],
   "source": [
    "df1"
   ]
  },
  {
   "cell_type": "code",
   "execution_count": 5,
   "metadata": {},
   "outputs": [],
   "source": [
    "def test(s):\n",
    "    hangul = re.compile('[^ ㄱ-ㅣ가-힣]+') # 한글과 띄어쓰기를 제외한 모든 글자\n",
    "    result = hangul.sub('', s) # 한글과 띄어쓰기를 제외한 모든 부분을 제거\n",
    "    return result"
   ]
  },
  {
   "cell_type": "code",
   "execution_count": 6,
   "metadata": {},
   "outputs": [],
   "source": [
    "def make_label(df):\n",
    "    df= df.drop(['Unnamed: 0','index'], axis =1)\n",
    "    df.columns = ['text']\n",
    "    df['label'] = 0\n",
    "    for i in range(len(df['text'])):\n",
    "        if df['text'][i] == '\\n':\n",
    "            df['label'][i-1] = 1\n",
    "            df = df.drop([i])\n",
    "            \n",
    "    df['text'] = df['text'].apply(lambda x : test(x))\n",
    "\n",
    "    return df"
   ]
  },
  {
   "cell_type": "code",
   "execution_count": 7,
   "metadata": {},
   "outputs": [],
   "source": [
    "df1 = make_label(df1)\n",
    "df2 = make_label(df2)\n",
    "df3 = make_label(df3)\n",
    "df4 = make_label(df4)\n",
    "df5 = make_label(df5)\n",
    "df6 = make_label(df6)\n",
    "df7 = make_label(df7)\n",
    "df8 = make_label(df8)\n",
    "df9 = make_label(df9)\n",
    "df10 = make_label(df10)\n",
    "df11 = make_label(df11)\n",
    "df12 = make_label(df12)\n",
    "df13 = make_label(df13)\n",
    "df14 = make_label(df14)\n",
    "df15 = make_label(df15)\n",
    "df16 = make_label(df16)\n",
    "df17 = make_label(df17)\n",
    "df18 = make_label(df18)\n",
    "df19 = make_label(df19)\n",
    "df20 = make_label(df20)\n",
    "df21 = make_label(df21)\n",
    "df22 = make_label(df22)\n",
    "df23 = make_label(df23)\n",
    "df24 = make_label(df24)\n",
    "df25 = make_label(df25)\n",
    "df26 = make_label(df26)\n",
    "df27 = make_label(df27)\n"
   ]
  },
  {
   "cell_type": "code",
   "execution_count": 8,
   "metadata": {},
   "outputs": [],
   "source": [
    "df1.label = 1\n",
    "df2.label = 2\n",
    "df3.label = 3\n",
    "df4.label = 4\n",
    "df5.label = 5\n",
    "df6.label = 6\n",
    "df7.label = 7\n",
    "df8.label = 8\n",
    "df9.label = 9\n",
    "df10.label = 10\n",
    "df11.label = 11\n",
    "df12.label = 12\n",
    "df13.label = 13\n",
    "df14.label = 14\n",
    "df15.label = 15\n",
    "df16.label = 16\n",
    "df17.label = 17\n",
    "df18.label = 18\n",
    "df19.label = 19\n",
    "df20.label = 20\n",
    "df21.label = 21\n",
    "df22.label = 22\n",
    "df23.label = 23\n",
    "df24.label = 24\n",
    "df25.label = 25\n",
    "df26.label = 26\n",
    "df27.label = 27"
   ]
  },
  {
   "cell_type": "code",
   "execution_count": 9,
   "metadata": {},
   "outputs": [],
   "source": [
    "f_df=pd.concat([df1,df2,df3,df4,df5,df6,df7,df8,df9,df10,df11,df12,df13,df14,df15,df16,df17,df18,df19,df20,\\\n",
    "          df21,df22,df23,df24,df25,df26,df27], axis=0)"
   ]
  },
  {
   "cell_type": "code",
   "execution_count": 10,
   "metadata": {},
   "outputs": [],
   "source": [
    "f_df.index = list(range(len(f_df)))"
   ]
  },
  {
   "cell_type": "code",
   "execution_count": 11,
   "metadata": {},
   "outputs": [],
   "source": [
    "from tqdm import tqdm_notebook\n",
    "from konlpy.tag import Okt\n",
    "\n",
    "RE_FILTER = re.compile(\"[.,!?\\\"':;~()]\")\n",
    "\n",
    "def pos_tag(sentences):\n",
    "    from tqdm import tqdm_notebook\n",
    "    # KoNLPy 형태소분석기 설정\n",
    "    tagger = Okt()\n",
    "    \n",
    "    # 문장 품사 변수 초기화\n",
    "    sentences_pos = []\n",
    "    \n",
    "    # 모든 문장 반복\n",
    "    for sentence in tqdm_notebook(sentences):\n",
    "        # 특수기호 제거\n",
    "        sentence = re.sub(RE_FILTER, \"\", sentence)\n",
    "        \n",
    "        # 배열인 형태소분석의 출력을 띄어쓰기로 구분하여 붙임\n",
    "        sentence = \" \".join(tagger.morphs(sentence))\n",
    "        sentences_pos.append(sentence)\n",
    "        \n",
    "    return sentences_pos"
   ]
  },
  {
   "cell_type": "code",
   "execution_count": null,
   "metadata": {
    "scrolled": true
   },
   "outputs": [
    {
     "name": "stderr",
     "output_type": "stream",
     "text": [
      "C:\\Users\\user\\Anaconda3\\lib\\site-packages\\jpype\\_core.py:210: UserWarning: \n",
      "-------------------------------------------------------------------------------\n",
      "Deprecated: convertStrings was not specified when starting the JVM. The default\n",
      "behavior in JPype will be False starting in JPype 0.8. The recommended setting\n",
      "for new code is convertStrings=False.  The legacy value of True was assumed for\n",
      "this session. If you are a user of an application that reported this warning,\n",
      "please file a ticket with the developer.\n",
      "-------------------------------------------------------------------------------\n",
      "\n",
      "  \"\"\")\n"
     ]
    },
    {
     "data": {
      "application/vnd.jupyter.widget-view+json": {
       "model_id": "b11d4fd5a2fc4e52a7bb57eda4f40469",
       "version_major": 2,
       "version_minor": 0
      },
      "text/plain": [
       "HBox(children=(IntProgress(value=0, max=24642), HTML(value='')))"
      ]
     },
     "metadata": {},
     "output_type": "display_data"
    }
   ],
   "source": [
    "data= pos_tag(f_df.text)"
   ]
  },
  {
   "cell_type": "code",
   "execution_count": null,
   "metadata": {},
   "outputs": [],
   "source": [
    "df = pd.DataFrame(data)\n",
    "df.columns= ['text']\n",
    "df['label']= f_df.label"
   ]
  },
  {
   "cell_type": "code",
   "execution_count": 27,
   "metadata": {},
   "outputs": [],
   "source": [
    "df.to_csv('고민분류용df.csv', encoding= 'utf-8')"
   ]
  },
  {
   "cell_type": "code",
   "execution_count": null,
   "metadata": {},
   "outputs": [],
   "source": []
  },
  {
   "cell_type": "code",
   "execution_count": 34,
   "metadata": {},
   "outputs": [
    {
     "data": {
      "text/plain": [
       "0        None\n",
       "1        None\n",
       "2        None\n",
       "3        None\n",
       "4        None\n",
       "         ... \n",
       "24637    None\n",
       "24638    None\n",
       "24639    None\n",
       "24640    None\n",
       "24641    None\n",
       "Name: text, Length: 24642, dtype: object"
      ]
     },
     "execution_count": 34,
     "metadata": {},
     "output_type": "execute_result"
    }
   ],
   "source": [
    "data = []\n",
    "df.text.apply(lambda x: data.append(x))"
   ]
  },
  {
   "cell_type": "code",
   "execution_count": 28,
   "metadata": {},
   "outputs": [],
   "source": [
    "from sklearn.feature_extraction.text import TfidfVectorizer"
   ]
  },
  {
   "cell_type": "code",
   "execution_count": 39,
   "metadata": {},
   "outputs": [],
   "source": [
    "tfidf = TfidfVectorizer(max_features= 3000)"
   ]
  },
  {
   "cell_type": "code",
   "execution_count": 40,
   "metadata": {},
   "outputs": [
    {
     "data": {
      "text/plain": [
       "TfidfVectorizer(analyzer='word', binary=False, decode_error='strict',\n",
       "                dtype=<class 'numpy.float64'>, encoding='utf-8',\n",
       "                input='content', lowercase=True, max_df=1.0, max_features=3000,\n",
       "                min_df=1, ngram_range=(1, 1), norm='l2', preprocessor=None,\n",
       "                smooth_idf=True, stop_words=None, strip_accents=None,\n",
       "                sublinear_tf=False, token_pattern='(?u)\\\\b\\\\w\\\\w+\\\\b',\n",
       "                tokenizer=None, use_idf=True, vocabulary=None)"
      ]
     },
     "execution_count": 40,
     "metadata": {},
     "output_type": "execute_result"
    }
   ],
   "source": [
    "tfidf.fit(data)"
   ]
  },
  {
   "cell_type": "code",
   "execution_count": 48,
   "metadata": {},
   "outputs": [],
   "source": [
    "data = tfidf.transform(data).toarray()"
   ]
  },
  {
   "cell_type": "code",
   "execution_count": 50,
   "metadata": {},
   "outputs": [
    {
     "data": {
      "text/plain": [
       "(24642, 3000)"
      ]
     },
     "execution_count": 50,
     "metadata": {},
     "output_type": "execute_result"
    }
   ],
   "source": [
    "data.shape"
   ]
  },
  {
   "cell_type": "code",
   "execution_count": 133,
   "metadata": {},
   "outputs": [],
   "source": [
    "from sklearn.model_selection import train_test_split\n",
    "\n",
    "x_train, x_test, y_train, y_test = train_test_split(data, df['label'], test_size = 0.2, random_state = 77)"
   ]
  },
  {
   "cell_type": "code",
   "execution_count": 134,
   "metadata": {},
   "outputs": [],
   "source": [
    "from keras.utils import to_categorical\n",
    "\n",
    "y_train = to_categorical(y_train)\n",
    "y_test = to_categorical(y_test)"
   ]
  },
  {
   "cell_type": "code",
   "execution_count": 135,
   "metadata": {},
   "outputs": [
    {
     "data": {
      "text/plain": [
       "(19713, 3000)"
      ]
     },
     "execution_count": 135,
     "metadata": {},
     "output_type": "execute_result"
    }
   ],
   "source": [
    "x_train.shape"
   ]
  },
  {
   "cell_type": "code",
   "execution_count": 136,
   "metadata": {},
   "outputs": [
    {
     "data": {
      "text/plain": [
       "(19713, 28)"
      ]
     },
     "execution_count": 136,
     "metadata": {},
     "output_type": "execute_result"
    }
   ],
   "source": [
    "y_train.shape"
   ]
  },
  {
   "cell_type": "code",
   "execution_count": 137,
   "metadata": {},
   "outputs": [],
   "source": [
    "from keras import models\n",
    "from keras import layers\n",
    "\n",
    "model = models.Sequential()\n",
    "model.add(layers.Dense(512, activation ='relu', input_shape=(3000,)))\n",
    "model.add(layers.Dense(256, activation= 'relu'))\n",
    "model.add(layers.Dense(256, activation= 'relu'))\n",
    "model.add(layers.Dense(64, activation= 'relu'))\n",
    "model.add(layers.Dense(28, activation='softmax'))"
   ]
  },
  {
   "cell_type": "code",
   "execution_count": 138,
   "metadata": {},
   "outputs": [],
   "source": [
    "model.compile(optimizer='adam',\\\n",
    "              loss='categorical_crossentropy',\\\n",
    "              metrics=['accuracy'])"
   ]
  },
  {
   "cell_type": "code",
   "execution_count": 139,
   "metadata": {},
   "outputs": [
    {
     "name": "stdout",
     "output_type": "stream",
     "text": [
      "Train on 15770 samples, validate on 3943 samples\n",
      "Epoch 1/5\n",
      "15770/15770 [==============================] - ETA: 1:04 - loss: 3.3307 - acc: 0.031 - ETA: 23s - loss: 3.3292 - acc: 0.062 - ETA: 15s - loss: 3.3267 - acc: 0.06 - ETA: 12s - loss: 3.3249 - acc: 0.06 - ETA: 11s - loss: 3.3225 - acc: 0.06 - ETA: 10s - loss: 3.3203 - acc: 0.06 - ETA: 9s - loss: 3.3158 - acc: 0.0668 - ETA: 8s - loss: 3.3075 - acc: 0.066 - ETA: 7s - loss: 3.2971 - acc: 0.067 - ETA: 7s - loss: 3.2877 - acc: 0.063 - ETA: 6s - loss: 3.2722 - acc: 0.070 - ETA: 6s - loss: 3.2519 - acc: 0.089 - ETA: 6s - loss: 3.2388 - acc: 0.099 - ETA: 5s - loss: 3.2127 - acc: 0.113 - ETA: 5s - loss: 3.1880 - acc: 0.125 - ETA: 5s - loss: 3.1540 - acc: 0.144 - ETA: 5s - loss: 3.1129 - acc: 0.161 - ETA: 4s - loss: 3.0681 - acc: 0.181 - ETA: 4s - loss: 3.0260 - acc: 0.195 - ETA: 4s - loss: 2.9858 - acc: 0.207 - ETA: 4s - loss: 2.9306 - acc: 0.225 - ETA: 4s - loss: 2.8797 - acc: 0.239 - ETA: 3s - loss: 2.8253 - acc: 0.255 - ETA: 3s - loss: 2.7768 - acc: 0.269 - ETA: 3s - loss: 2.7213 - acc: 0.284 - ETA: 3s - loss: 2.6684 - acc: 0.298 - ETA: 3s - loss: 2.6137 - acc: 0.315 - ETA: 3s - loss: 2.5590 - acc: 0.328 - ETA: 3s - loss: 2.5065 - acc: 0.342 - ETA: 2s - loss: 2.4603 - acc: 0.354 - ETA: 2s - loss: 2.4104 - acc: 0.367 - ETA: 2s - loss: 2.3642 - acc: 0.378 - ETA: 2s - loss: 2.3184 - acc: 0.390 - ETA: 2s - loss: 2.2797 - acc: 0.399 - ETA: 2s - loss: 2.2401 - acc: 0.409 - ETA: 2s - loss: 2.1997 - acc: 0.419 - ETA: 2s - loss: 2.1636 - acc: 0.429 - ETA: 2s - loss: 2.1279 - acc: 0.437 - ETA: 2s - loss: 2.0963 - acc: 0.445 - ETA: 1s - loss: 2.0625 - acc: 0.454 - ETA: 1s - loss: 2.0309 - acc: 0.461 - ETA: 1s - loss: 2.0042 - acc: 0.467 - ETA: 1s - loss: 1.9774 - acc: 0.474 - ETA: 1s - loss: 1.9524 - acc: 0.480 - ETA: 1s - loss: 1.9295 - acc: 0.487 - ETA: 1s - loss: 1.9036 - acc: 0.493 - ETA: 1s - loss: 1.8804 - acc: 0.499 - ETA: 1s - loss: 1.8557 - acc: 0.504 - ETA: 1s - loss: 1.8327 - acc: 0.510 - ETA: 1s - loss: 1.8090 - acc: 0.516 - ETA: 1s - loss: 1.7903 - acc: 0.520 - ETA: 0s - loss: 1.7716 - acc: 0.525 - ETA: 0s - loss: 1.7493 - acc: 0.531 - ETA: 0s - loss: 1.7329 - acc: 0.535 - ETA: 0s - loss: 1.7161 - acc: 0.540 - ETA: 0s - loss: 1.6987 - acc: 0.544 - ETA: 0s - loss: 1.6803 - acc: 0.548 - ETA: 0s - loss: 1.6641 - acc: 0.553 - ETA: 0s - loss: 1.6462 - acc: 0.558 - ETA: 0s - loss: 1.6302 - acc: 0.562 - ETA: 0s - loss: 1.6140 - acc: 0.566 - ETA: 0s - loss: 1.5977 - acc: 0.570 - ETA: 0s - loss: 1.5818 - acc: 0.574 - 5s 319us/step - loss: 1.5730 - acc: 0.5769 - val_loss: 0.6900 - val_acc: 0.7984\n",
      "Epoch 2/5\n",
      "15770/15770 [==============================] - ETA: 4s - loss: 0.5746 - acc: 0.812 - ETA: 4s - loss: 0.5071 - acc: 0.828 - ETA: 4s - loss: 0.4977 - acc: 0.842 - ETA: 4s - loss: 0.4819 - acc: 0.854 - ETA: 3s - loss: 0.4662 - acc: 0.858 - ETA: 3s - loss: 0.4571 - acc: 0.862 - ETA: 3s - loss: 0.4539 - acc: 0.864 - ETA: 3s - loss: 0.4482 - acc: 0.866 - ETA: 3s - loss: 0.4483 - acc: 0.867 - ETA: 3s - loss: 0.4461 - acc: 0.869 - ETA: 3s - loss: 0.4458 - acc: 0.870 - ETA: 3s - loss: 0.4513 - acc: 0.869 - ETA: 3s - loss: 0.4446 - acc: 0.872 - ETA: 3s - loss: 0.4369 - acc: 0.875 - ETA: 3s - loss: 0.4449 - acc: 0.875 - ETA: 3s - loss: 0.4397 - acc: 0.877 - ETA: 3s - loss: 0.4370 - acc: 0.877 - ETA: 3s - loss: 0.4382 - acc: 0.877 - ETA: 2s - loss: 0.4339 - acc: 0.878 - ETA: 2s - loss: 0.4297 - acc: 0.878 - ETA: 2s - loss: 0.4238 - acc: 0.880 - ETA: 2s - loss: 0.4202 - acc: 0.880 - ETA: 2s - loss: 0.4164 - acc: 0.881 - ETA: 2s - loss: 0.4202 - acc: 0.880 - ETA: 2s - loss: 0.4165 - acc: 0.881 - ETA: 2s - loss: 0.4125 - acc: 0.882 - ETA: 2s - loss: 0.4134 - acc: 0.883 - ETA: 2s - loss: 0.4128 - acc: 0.883 - ETA: 2s - loss: 0.4155 - acc: 0.882 - ETA: 2s - loss: 0.4156 - acc: 0.883 - ETA: 2s - loss: 0.4140 - acc: 0.883 - ETA: 2s - loss: 0.4136 - acc: 0.883 - ETA: 2s - loss: 0.4146 - acc: 0.883 - ETA: 1s - loss: 0.4131 - acc: 0.883 - ETA: 1s - loss: 0.4130 - acc: 0.882 - ETA: 1s - loss: 0.4153 - acc: 0.881 - ETA: 1s - loss: 0.4140 - acc: 0.882 - ETA: 1s - loss: 0.4130 - acc: 0.882 - ETA: 1s - loss: 0.4107 - acc: 0.883 - ETA: 1s - loss: 0.4105 - acc: 0.883 - ETA: 1s - loss: 0.4137 - acc: 0.882 - ETA: 1s - loss: 0.4143 - acc: 0.882 - ETA: 1s - loss: 0.4173 - acc: 0.881 - ETA: 1s - loss: 0.4155 - acc: 0.882 - ETA: 1s - loss: 0.4159 - acc: 0.881 - ETA: 1s - loss: 0.4136 - acc: 0.882 - ETA: 1s - loss: 0.4115 - acc: 0.883 - ETA: 0s - loss: 0.4104 - acc: 0.883 - ETA: 0s - loss: 0.4110 - acc: 0.883 - ETA: 0s - loss: 0.4107 - acc: 0.883 - ETA: 0s - loss: 0.4112 - acc: 0.883 - ETA: 0s - loss: 0.4120 - acc: 0.883 - ETA: 0s - loss: 0.4114 - acc: 0.883 - ETA: 0s - loss: 0.4113 - acc: 0.883 - ETA: 0s - loss: 0.4089 - acc: 0.884 - ETA: 0s - loss: 0.4080 - acc: 0.884 - ETA: 0s - loss: 0.4093 - acc: 0.884 - ETA: 0s - loss: 0.4098 - acc: 0.884 - ETA: 0s - loss: 0.4095 - acc: 0.884 - ETA: 0s - loss: 0.4094 - acc: 0.884 - ETA: 0s - loss: 0.4105 - acc: 0.884 - ETA: 0s - loss: 0.4103 - acc: 0.884 - 5s 290us/step - loss: 0.4100 - acc: 0.8841 - val_loss: 0.5652 - val_acc: 0.8448\n",
      "Epoch 3/5\n",
      "15770/15770 [==============================] - ETA: 4s - loss: 0.2565 - acc: 0.937 - ETA: 4s - loss: 0.2550 - acc: 0.940 - ETA: 4s - loss: 0.2394 - acc: 0.945 - ETA: 4s - loss: 0.2354 - acc: 0.945 - ETA: 4s - loss: 0.2209 - acc: 0.947 - ETA: 3s - loss: 0.2189 - acc: 0.946 - ETA: 3s - loss: 0.2168 - acc: 0.946 - ETA: 3s - loss: 0.2240 - acc: 0.942 - ETA: 3s - loss: 0.2185 - acc: 0.944 - ETA: 3s - loss: 0.2249 - acc: 0.942 - ETA: 3s - loss: 0.2281 - acc: 0.942 - ETA: 3s - loss: 0.2302 - acc: 0.942 - ETA: 3s - loss: 0.2279 - acc: 0.941 - ETA: 3s - loss: 0.2283 - acc: 0.940 - ETA: 3s - loss: 0.2282 - acc: 0.939 - ETA: 3s - loss: 0.2256 - acc: 0.940 - ETA: 3s - loss: 0.2215 - acc: 0.941 - ETA: 3s - loss: 0.2257 - acc: 0.940 - ETA: 3s - loss: 0.2268 - acc: 0.939 - ETA: 2s - loss: 0.2230 - acc: 0.940 - ETA: 2s - loss: 0.2252 - acc: 0.939 - ETA: 2s - loss: 0.2202 - acc: 0.941 - ETA: 2s - loss: 0.2204 - acc: 0.940 - ETA: 2s - loss: 0.2189 - acc: 0.941 - ETA: 2s - loss: 0.2191 - acc: 0.940 - ETA: 2s - loss: 0.2244 - acc: 0.939 - ETA: 2s - loss: 0.2248 - acc: 0.939 - ETA: 2s - loss: 0.2252 - acc: 0.939 - ETA: 2s - loss: 0.2251 - acc: 0.939 - ETA: 2s - loss: 0.2248 - acc: 0.940 - ETA: 2s - loss: 0.2257 - acc: 0.939 - ETA: 2s - loss: 0.2256 - acc: 0.939 - ETA: 2s - loss: 0.2243 - acc: 0.939 - ETA: 1s - loss: 0.2242 - acc: 0.939 - ETA: 1s - loss: 0.2239 - acc: 0.939 - ETA: 1s - loss: 0.2253 - acc: 0.938 - ETA: 1s - loss: 0.2266 - acc: 0.938 - ETA: 1s - loss: 0.2249 - acc: 0.939 - ETA: 1s - loss: 0.2254 - acc: 0.938 - ETA: 1s - loss: 0.2262 - acc: 0.939 - ETA: 1s - loss: 0.2254 - acc: 0.938 - ETA: 1s - loss: 0.2249 - acc: 0.938 - ETA: 1s - loss: 0.2250 - acc: 0.938 - ETA: 1s - loss: 0.2244 - acc: 0.939 - ETA: 1s - loss: 0.2237 - acc: 0.939 - ETA: 1s - loss: 0.2231 - acc: 0.939 - ETA: 1s - loss: 0.2245 - acc: 0.938 - ETA: 0s - loss: 0.2227 - acc: 0.939 - ETA: 0s - loss: 0.2239 - acc: 0.938 - ETA: 0s - loss: 0.2237 - acc: 0.939 - ETA: 0s - loss: 0.2240 - acc: 0.939 - ETA: 0s - loss: 0.2238 - acc: 0.938 - ETA: 0s - loss: 0.2231 - acc: 0.938 - ETA: 0s - loss: 0.2249 - acc: 0.938 - ETA: 0s - loss: 0.2258 - acc: 0.938 - ETA: 0s - loss: 0.2260 - acc: 0.937 - ETA: 0s - loss: 0.2253 - acc: 0.938 - ETA: 0s - loss: 0.2260 - acc: 0.937 - ETA: 0s - loss: 0.2276 - acc: 0.937 - ETA: 0s - loss: 0.2277 - acc: 0.937 - ETA: 0s - loss: 0.2284 - acc: 0.936 - ETA: 0s - loss: 0.2299 - acc: 0.935 - 5s 293us/step - loss: 0.2300 - acc: 0.9357 - val_loss: 0.5562 - val_acc: 0.8532\n",
      "Epoch 4/5\n",
      "15770/15770 [==============================] - ETA: 4s - loss: 0.2484 - acc: 0.937 - ETA: 4s - loss: 0.1872 - acc: 0.945 - ETA: 4s - loss: 0.1831 - acc: 0.943 - ETA: 4s - loss: 0.1936 - acc: 0.944 - ETA: 4s - loss: 0.1853 - acc: 0.944 - ETA: 4s - loss: 0.1798 - acc: 0.946 - ETA: 3s - loss: 0.1787 - acc: 0.948 - ETA: 3s - loss: 0.1823 - acc: 0.947 - ETA: 3s - loss: 0.1764 - acc: 0.949 - ETA: 3s - loss: 0.1733 - acc: 0.951 - ETA: 3s - loss: 0.1763 - acc: 0.950 - ETA: 3s - loss: 0.1751 - acc: 0.950 - ETA: 3s - loss: 0.1706 - acc: 0.951 - ETA: 3s - loss: 0.1671 - acc: 0.952 - ETA: 3s - loss: 0.1678 - acc: 0.952 - ETA: 3s - loss: 0.1669 - acc: 0.953 - ETA: 3s - loss: 0.1677 - acc: 0.953 - ETA: 3s - loss: 0.1675 - acc: 0.952 - ETA: 3s - loss: 0.1690 - acc: 0.952 - ETA: 3s - loss: 0.1683 - acc: 0.952 - ETA: 2s - loss: 0.1644 - acc: 0.954 - ETA: 2s - loss: 0.1654 - acc: 0.953 - ETA: 2s - loss: 0.1638 - acc: 0.954 - ETA: 2s - loss: 0.1663 - acc: 0.954 - ETA: 2s - loss: 0.1651 - acc: 0.955 - ETA: 2s - loss: 0.1701 - acc: 0.954 - ETA: 2s - loss: 0.1685 - acc: 0.954 - ETA: 2s - loss: 0.1701 - acc: 0.954 - ETA: 2s - loss: 0.1682 - acc: 0.955 - ETA: 2s - loss: 0.1675 - acc: 0.955 - ETA: 2s - loss: 0.1679 - acc: 0.955 - ETA: 2s - loss: 0.1687 - acc: 0.955 - ETA: 2s - loss: 0.1661 - acc: 0.956 - ETA: 2s - loss: 0.1642 - acc: 0.956 - ETA: 1s - loss: 0.1652 - acc: 0.956 - ETA: 1s - loss: 0.1657 - acc: 0.956 - ETA: 1s - loss: 0.1666 - acc: 0.955 - ETA: 1s - loss: 0.1657 - acc: 0.956 - ETA: 1s - loss: 0.1668 - acc: 0.955 - ETA: 1s - loss: 0.1670 - acc: 0.955 - ETA: 1s - loss: 0.1661 - acc: 0.955 - ETA: 1s - loss: 0.1664 - acc: 0.955 - ETA: 1s - loss: 0.1653 - acc: 0.955 - ETA: 1s - loss: 0.1663 - acc: 0.955 - ETA: 1s - loss: 0.1661 - acc: 0.955 - ETA: 1s - loss: 0.1647 - acc: 0.955 - ETA: 1s - loss: 0.1654 - acc: 0.955 - ETA: 1s - loss: 0.1655 - acc: 0.955 - ETA: 0s - loss: 0.1666 - acc: 0.954 - ETA: 0s - loss: 0.1660 - acc: 0.954 - ETA: 0s - loss: 0.1668 - acc: 0.954 - ETA: 0s - loss: 0.1669 - acc: 0.954 - ETA: 0s - loss: 0.1679 - acc: 0.953 - ETA: 0s - loss: 0.1681 - acc: 0.954 - ETA: 0s - loss: 0.1680 - acc: 0.954 - ETA: 0s - loss: 0.1693 - acc: 0.953 - ETA: 0s - loss: 0.1691 - acc: 0.953 - ETA: 0s - loss: 0.1688 - acc: 0.953 - ETA: 0s - loss: 0.1679 - acc: 0.954 - ETA: 0s - loss: 0.1683 - acc: 0.954 - ETA: 0s - loss: 0.1686 - acc: 0.954 - ETA: 0s - loss: 0.1687 - acc: 0.954 - 5s 291us/step - loss: 0.1679 - acc: 0.9544 - val_loss: 0.5923 - val_acc: 0.8519\n",
      "Epoch 5/5\n",
      "15770/15770 [==============================] - ETA: 4s - loss: 0.1380 - acc: 0.953 - ETA: 4s - loss: 0.1084 - acc: 0.966 - ETA: 3s - loss: 0.1386 - acc: 0.960 - ETA: 3s - loss: 0.1199 - acc: 0.966 - ETA: 3s - loss: 0.1134 - acc: 0.968 - ETA: 3s - loss: 0.1148 - acc: 0.968 - ETA: 3s - loss: 0.1120 - acc: 0.970 - ETA: 3s - loss: 0.1126 - acc: 0.968 - ETA: 3s - loss: 0.1060 - acc: 0.970 - ETA: 3s - loss: 0.1054 - acc: 0.969 - ETA: 3s - loss: 0.1059 - acc: 0.969 - ETA: 3s - loss: 0.1036 - acc: 0.970 - ETA: 3s - loss: 0.1064 - acc: 0.970 - ETA: 3s - loss: 0.1077 - acc: 0.969 - ETA: 3s - loss: 0.1096 - acc: 0.969 - ETA: 3s - loss: 0.1125 - acc: 0.968 - ETA: 3s - loss: 0.1108 - acc: 0.968 - ETA: 2s - loss: 0.1118 - acc: 0.967 - ETA: 2s - loss: 0.1127 - acc: 0.967 - ETA: 2s - loss: 0.1124 - acc: 0.967 - ETA: 2s - loss: 0.1136 - acc: 0.967 - ETA: 2s - loss: 0.1145 - acc: 0.967 - ETA: 2s - loss: 0.1155 - acc: 0.967 - ETA: 2s - loss: 0.1155 - acc: 0.967 - ETA: 2s - loss: 0.1158 - acc: 0.967 - ETA: 2s - loss: 0.1168 - acc: 0.967 - ETA: 2s - loss: 0.1187 - acc: 0.966 - ETA: 2s - loss: 0.1178 - acc: 0.967 - ETA: 2s - loss: 0.1195 - acc: 0.967 - ETA: 2s - loss: 0.1192 - acc: 0.967 - ETA: 2s - loss: 0.1214 - acc: 0.966 - ETA: 2s - loss: 0.1217 - acc: 0.966 - ETA: 1s - loss: 0.1221 - acc: 0.966 - ETA: 1s - loss: 0.1226 - acc: 0.966 - ETA: 1s - loss: 0.1282 - acc: 0.965 - ETA: 1s - loss: 0.1286 - acc: 0.965 - ETA: 1s - loss: 0.1291 - acc: 0.965 - ETA: 1s - loss: 0.1283 - acc: 0.965 - ETA: 1s - loss: 0.1297 - acc: 0.965 - ETA: 1s - loss: 0.1312 - acc: 0.965 - ETA: 1s - loss: 0.1321 - acc: 0.964 - ETA: 1s - loss: 0.1343 - acc: 0.964 - ETA: 1s - loss: 0.1343 - acc: 0.964 - ETA: 1s - loss: 0.1351 - acc: 0.964 - ETA: 1s - loss: 0.1357 - acc: 0.963 - ETA: 1s - loss: 0.1364 - acc: 0.963 - ETA: 1s - loss: 0.1376 - acc: 0.963 - ETA: 0s - loss: 0.1370 - acc: 0.963 - ETA: 0s - loss: 0.1364 - acc: 0.963 - ETA: 0s - loss: 0.1374 - acc: 0.962 - ETA: 0s - loss: 0.1374 - acc: 0.962 - ETA: 0s - loss: 0.1375 - acc: 0.962 - ETA: 0s - loss: 0.1382 - acc: 0.962 - ETA: 0s - loss: 0.1379 - acc: 0.962 - ETA: 0s - loss: 0.1370 - acc: 0.962 - ETA: 0s - loss: 0.1366 - acc: 0.962 - ETA: 0s - loss: 0.1369 - acc: 0.962 - ETA: 0s - loss: 0.1374 - acc: 0.962 - ETA: 0s - loss: 0.1366 - acc: 0.962 - ETA: 0s - loss: 0.1379 - acc: 0.962 - ETA: 0s - loss: 0.1371 - acc: 0.962 - ETA: 0s - loss: 0.1377 - acc: 0.962 - 4s 283us/step - loss: 0.1378 - acc: 0.9623 - val_loss: 0.6102 - val_acc: 0.8552\n"
     ]
    }
   ],
   "source": [
    "history = model.fit(x_train, y_train,\\\n",
    "                    epochs=5, batch_size = 128,validation_split=0.2)"
   ]
  },
  {
   "cell_type": "code",
   "execution_count": 140,
   "metadata": {},
   "outputs": [
    {
     "name": "stdout",
     "output_type": "stream",
     "text": [
      "4929/4929 [==============================] - ETA:  - ETA:  - ETA:  - ETA:  - ETA:  - ETA:  - ETA:  - ETA:  - ETA:  - ETA:  - 1s 106us/step\n"
     ]
    },
    {
     "data": {
      "text/plain": [
       "[0.63008880165388, 0.847839318320146]"
      ]
     },
     "execution_count": 140,
     "metadata": {},
     "output_type": "execute_result"
    }
   ],
   "source": [
    "model.evaluate(x_test,y_test)"
   ]
  },
  {
   "cell_type": "code",
   "execution_count": 145,
   "metadata": {},
   "outputs": [
    {
     "data": {
      "text/plain": [
       "array([[0., 0., 0., ..., 0., 0., 0.]])"
      ]
     },
     "execution_count": 145,
     "metadata": {},
     "output_type": "execute_result"
    }
   ],
   "source": [
    "sentence ='와이프가 저 몰래 연애를 합니다 '\n",
    "test_sen = tfidf.transform([sentence]).toarray()\n",
    "test_sen"
   ]
  },
  {
   "cell_type": "code",
   "execution_count": 146,
   "metadata": {},
   "outputs": [
    {
     "data": {
      "text/plain": [
       "array([1], dtype=int64)"
      ]
     },
     "execution_count": 146,
     "metadata": {},
     "output_type": "execute_result"
    }
   ],
   "source": [
    "model.predict_classes(test_sen)"
   ]
  },
  {
   "cell_type": "code",
   "execution_count": 88,
   "metadata": {},
   "outputs": [
    {
     "data": {
      "text/plain": [
       "array([3], dtype=int64)"
      ]
     },
     "execution_count": 88,
     "metadata": {},
     "output_type": "execute_result"
    }
   ],
   "source": [
    "sentence ='요새 뱃살이 너무나 쪄서 문제에요'\n",
    "\n",
    "test_sen = tfidf.transform([sentence]).toarray()\n",
    "model.predict_classes(test_sen)"
   ]
  },
  {
   "cell_type": "code",
   "execution_count": null,
   "metadata": {},
   "outputs": [],
   "source": []
  },
  {
   "cell_type": "code",
   "execution_count": null,
   "metadata": {},
   "outputs": [],
   "source": []
  },
  {
   "cell_type": "code",
   "execution_count": 89,
   "metadata": {},
   "outputs": [],
   "source": [
    "from sklearn.ensemble import AdaBoostClassifier\n",
    "clf = AdaBoostClassifier(n_estimators=100, random_state=0)"
   ]
  },
  {
   "cell_type": "code",
   "execution_count": 92,
   "metadata": {},
   "outputs": [
    {
     "data": {
      "text/plain": [
       "(19713, 3000)"
      ]
     },
     "execution_count": 92,
     "metadata": {},
     "output_type": "execute_result"
    }
   ],
   "source": [
    "x_train.shape"
   ]
  },
  {
   "cell_type": "code",
   "execution_count": 97,
   "metadata": {
    "collapsed": true
   },
   "outputs": [
    {
     "ename": "KeyboardInterrupt",
     "evalue": "",
     "output_type": "error",
     "traceback": [
      "\u001b[1;31m---------------------------------------------------------------------------\u001b[0m",
      "\u001b[1;31mKeyboardInterrupt\u001b[0m                         Traceback (most recent call last)",
      "\u001b[1;32m<ipython-input-97-5c93c534242c>\u001b[0m in \u001b[0;36m<module>\u001b[1;34m\u001b[0m\n\u001b[1;32m----> 1\u001b[1;33m \u001b[0mclf\u001b[0m\u001b[1;33m.\u001b[0m\u001b[0mfit\u001b[0m\u001b[1;33m(\u001b[0m\u001b[0mx_train\u001b[0m\u001b[1;33m,\u001b[0m \u001b[0my_train\u001b[0m\u001b[1;33m)\u001b[0m\u001b[1;33m\u001b[0m\u001b[1;33m\u001b[0m\u001b[0m\n\u001b[0m",
      "\u001b[1;32mC:\\Anaconda3\\lib\\site-packages\\sklearn\\ensemble\\weight_boosting.py\u001b[0m in \u001b[0;36mfit\u001b[1;34m(self, X, y, sample_weight)\u001b[0m\n\u001b[0;32m    425\u001b[0m \u001b[1;33m\u001b[0m\u001b[0m\n\u001b[0;32m    426\u001b[0m         \u001b[1;31m# Fit\u001b[0m\u001b[1;33m\u001b[0m\u001b[1;33m\u001b[0m\u001b[1;33m\u001b[0m\u001b[0m\n\u001b[1;32m--> 427\u001b[1;33m         \u001b[1;32mreturn\u001b[0m \u001b[0msuper\u001b[0m\u001b[1;33m(\u001b[0m\u001b[1;33m)\u001b[0m\u001b[1;33m.\u001b[0m\u001b[0mfit\u001b[0m\u001b[1;33m(\u001b[0m\u001b[0mX\u001b[0m\u001b[1;33m,\u001b[0m \u001b[0my\u001b[0m\u001b[1;33m,\u001b[0m \u001b[0msample_weight\u001b[0m\u001b[1;33m)\u001b[0m\u001b[1;33m\u001b[0m\u001b[1;33m\u001b[0m\u001b[0m\n\u001b[0m\u001b[0;32m    428\u001b[0m \u001b[1;33m\u001b[0m\u001b[0m\n\u001b[0;32m    429\u001b[0m     \u001b[1;32mdef\u001b[0m \u001b[0m_validate_estimator\u001b[0m\u001b[1;33m(\u001b[0m\u001b[0mself\u001b[0m\u001b[1;33m)\u001b[0m\u001b[1;33m:\u001b[0m\u001b[1;33m\u001b[0m\u001b[1;33m\u001b[0m\u001b[0m\n",
      "\u001b[1;32mC:\\Anaconda3\\lib\\site-packages\\sklearn\\ensemble\\weight_boosting.py\u001b[0m in \u001b[0;36mfit\u001b[1;34m(self, X, y, sample_weight)\u001b[0m\n\u001b[0;32m    148\u001b[0m                 \u001b[0mX\u001b[0m\u001b[1;33m,\u001b[0m \u001b[0my\u001b[0m\u001b[1;33m,\u001b[0m\u001b[1;33m\u001b[0m\u001b[1;33m\u001b[0m\u001b[0m\n\u001b[0;32m    149\u001b[0m                 \u001b[0msample_weight\u001b[0m\u001b[1;33m,\u001b[0m\u001b[1;33m\u001b[0m\u001b[1;33m\u001b[0m\u001b[0m\n\u001b[1;32m--> 150\u001b[1;33m                 random_state)\n\u001b[0m\u001b[0;32m    151\u001b[0m \u001b[1;33m\u001b[0m\u001b[0m\n\u001b[0;32m    152\u001b[0m             \u001b[1;31m# Early termination\u001b[0m\u001b[1;33m\u001b[0m\u001b[1;33m\u001b[0m\u001b[1;33m\u001b[0m\u001b[0m\n",
      "\u001b[1;32mC:\\Anaconda3\\lib\\site-packages\\sklearn\\ensemble\\weight_boosting.py\u001b[0m in \u001b[0;36m_boost\u001b[1;34m(self, iboost, X, y, sample_weight, random_state)\u001b[0m\n\u001b[0;32m    484\u001b[0m         \"\"\"\n\u001b[0;32m    485\u001b[0m         \u001b[1;32mif\u001b[0m \u001b[0mself\u001b[0m\u001b[1;33m.\u001b[0m\u001b[0malgorithm\u001b[0m \u001b[1;33m==\u001b[0m \u001b[1;34m'SAMME.R'\u001b[0m\u001b[1;33m:\u001b[0m\u001b[1;33m\u001b[0m\u001b[1;33m\u001b[0m\u001b[0m\n\u001b[1;32m--> 486\u001b[1;33m             \u001b[1;32mreturn\u001b[0m \u001b[0mself\u001b[0m\u001b[1;33m.\u001b[0m\u001b[0m_boost_real\u001b[0m\u001b[1;33m(\u001b[0m\u001b[0miboost\u001b[0m\u001b[1;33m,\u001b[0m \u001b[0mX\u001b[0m\u001b[1;33m,\u001b[0m \u001b[0my\u001b[0m\u001b[1;33m,\u001b[0m \u001b[0msample_weight\u001b[0m\u001b[1;33m,\u001b[0m \u001b[0mrandom_state\u001b[0m\u001b[1;33m)\u001b[0m\u001b[1;33m\u001b[0m\u001b[1;33m\u001b[0m\u001b[0m\n\u001b[0m\u001b[0;32m    487\u001b[0m \u001b[1;33m\u001b[0m\u001b[0m\n\u001b[0;32m    488\u001b[0m         \u001b[1;32melse\u001b[0m\u001b[1;33m:\u001b[0m  \u001b[1;31m# elif self.algorithm == \"SAMME\":\u001b[0m\u001b[1;33m\u001b[0m\u001b[1;33m\u001b[0m\u001b[0m\n",
      "\u001b[1;32mC:\\Anaconda3\\lib\\site-packages\\sklearn\\ensemble\\weight_boosting.py\u001b[0m in \u001b[0;36m_boost_real\u001b[1;34m(self, iboost, X, y, sample_weight, random_state)\u001b[0m\n\u001b[0;32m    494\u001b[0m         \u001b[0mestimator\u001b[0m \u001b[1;33m=\u001b[0m \u001b[0mself\u001b[0m\u001b[1;33m.\u001b[0m\u001b[0m_make_estimator\u001b[0m\u001b[1;33m(\u001b[0m\u001b[0mrandom_state\u001b[0m\u001b[1;33m=\u001b[0m\u001b[0mrandom_state\u001b[0m\u001b[1;33m)\u001b[0m\u001b[1;33m\u001b[0m\u001b[1;33m\u001b[0m\u001b[0m\n\u001b[0;32m    495\u001b[0m \u001b[1;33m\u001b[0m\u001b[0m\n\u001b[1;32m--> 496\u001b[1;33m         \u001b[0mestimator\u001b[0m\u001b[1;33m.\u001b[0m\u001b[0mfit\u001b[0m\u001b[1;33m(\u001b[0m\u001b[0mX\u001b[0m\u001b[1;33m,\u001b[0m \u001b[0my\u001b[0m\u001b[1;33m,\u001b[0m \u001b[0msample_weight\u001b[0m\u001b[1;33m=\u001b[0m\u001b[0msample_weight\u001b[0m\u001b[1;33m)\u001b[0m\u001b[1;33m\u001b[0m\u001b[1;33m\u001b[0m\u001b[0m\n\u001b[0m\u001b[0;32m    497\u001b[0m \u001b[1;33m\u001b[0m\u001b[0m\n\u001b[0;32m    498\u001b[0m         \u001b[0my_predict_proba\u001b[0m \u001b[1;33m=\u001b[0m \u001b[0mestimator\u001b[0m\u001b[1;33m.\u001b[0m\u001b[0mpredict_proba\u001b[0m\u001b[1;33m(\u001b[0m\u001b[0mX\u001b[0m\u001b[1;33m)\u001b[0m\u001b[1;33m\u001b[0m\u001b[1;33m\u001b[0m\u001b[0m\n",
      "\u001b[1;32mC:\\Anaconda3\\lib\\site-packages\\sklearn\\tree\\tree.py\u001b[0m in \u001b[0;36mfit\u001b[1;34m(self, X, y, sample_weight, check_input, X_idx_sorted)\u001b[0m\n\u001b[0;32m    814\u001b[0m             \u001b[0msample_weight\u001b[0m\u001b[1;33m=\u001b[0m\u001b[0msample_weight\u001b[0m\u001b[1;33m,\u001b[0m\u001b[1;33m\u001b[0m\u001b[1;33m\u001b[0m\u001b[0m\n\u001b[0;32m    815\u001b[0m             \u001b[0mcheck_input\u001b[0m\u001b[1;33m=\u001b[0m\u001b[0mcheck_input\u001b[0m\u001b[1;33m,\u001b[0m\u001b[1;33m\u001b[0m\u001b[1;33m\u001b[0m\u001b[0m\n\u001b[1;32m--> 816\u001b[1;33m             X_idx_sorted=X_idx_sorted)\n\u001b[0m\u001b[0;32m    817\u001b[0m         \u001b[1;32mreturn\u001b[0m \u001b[0mself\u001b[0m\u001b[1;33m\u001b[0m\u001b[1;33m\u001b[0m\u001b[0m\n\u001b[0;32m    818\u001b[0m \u001b[1;33m\u001b[0m\u001b[0m\n",
      "\u001b[1;32mC:\\Anaconda3\\lib\\site-packages\\sklearn\\tree\\tree.py\u001b[0m in \u001b[0;36mfit\u001b[1;34m(self, X, y, sample_weight, check_input, X_idx_sorted)\u001b[0m\n\u001b[0;32m    378\u001b[0m                                            min_impurity_split)\n\u001b[0;32m    379\u001b[0m \u001b[1;33m\u001b[0m\u001b[0m\n\u001b[1;32m--> 380\u001b[1;33m         \u001b[0mbuilder\u001b[0m\u001b[1;33m.\u001b[0m\u001b[0mbuild\u001b[0m\u001b[1;33m(\u001b[0m\u001b[0mself\u001b[0m\u001b[1;33m.\u001b[0m\u001b[0mtree_\u001b[0m\u001b[1;33m,\u001b[0m \u001b[0mX\u001b[0m\u001b[1;33m,\u001b[0m \u001b[0my\u001b[0m\u001b[1;33m,\u001b[0m \u001b[0msample_weight\u001b[0m\u001b[1;33m,\u001b[0m \u001b[0mX_idx_sorted\u001b[0m\u001b[1;33m)\u001b[0m\u001b[1;33m\u001b[0m\u001b[1;33m\u001b[0m\u001b[0m\n\u001b[0m\u001b[0;32m    381\u001b[0m \u001b[1;33m\u001b[0m\u001b[0m\n\u001b[0;32m    382\u001b[0m         \u001b[1;32mif\u001b[0m \u001b[0mself\u001b[0m\u001b[1;33m.\u001b[0m\u001b[0mn_outputs_\u001b[0m \u001b[1;33m==\u001b[0m \u001b[1;36m1\u001b[0m\u001b[1;33m:\u001b[0m\u001b[1;33m\u001b[0m\u001b[1;33m\u001b[0m\u001b[0m\n",
      "\u001b[1;31mKeyboardInterrupt\u001b[0m: "
     ]
    }
   ],
   "source": [
    "clf.fit(x_train, y_train)"
   ]
  },
  {
   "cell_type": "code",
   "execution_count": 103,
   "metadata": {},
   "outputs": [],
   "source": [
    "from sklearn.ensemble import RandomForestClassifier\n",
    "\n",
    "forest = RandomForestClassifier(n_estimators=100)\n"
   ]
  },
  {
   "cell_type": "code",
   "execution_count": 111,
   "metadata": {},
   "outputs": [
    {
     "data": {
      "text/plain": [
       "RandomForestClassifier(bootstrap=True, class_weight=None, criterion='gini',\n",
       "                       max_depth=None, max_features='auto', max_leaf_nodes=None,\n",
       "                       min_impurity_decrease=0.0, min_impurity_split=None,\n",
       "                       min_samples_leaf=1, min_samples_split=2,\n",
       "                       min_weight_fraction_leaf=0.0, n_estimators=100,\n",
       "                       n_jobs=None, oob_score=False, random_state=None,\n",
       "                       verbose=0, warm_start=False)"
      ]
     },
     "execution_count": 111,
     "metadata": {},
     "output_type": "execute_result"
    }
   ],
   "source": [
    "forest.fit(x_train, y_train)"
   ]
  },
  {
   "cell_type": "code",
   "execution_count": 108,
   "metadata": {},
   "outputs": [],
   "source": [
    "y_train= y_train.values"
   ]
  },
  {
   "cell_type": "code",
   "execution_count": 110,
   "metadata": {},
   "outputs": [
    {
     "data": {
      "text/plain": [
       "(19713,)"
      ]
     },
     "execution_count": 110,
     "metadata": {},
     "output_type": "execute_result"
    }
   ],
   "source": [
    "y_train.shape"
   ]
  },
  {
   "cell_type": "code",
   "execution_count": 112,
   "metadata": {},
   "outputs": [],
   "source": [
    "y_pred = forest.predict(x_test)"
   ]
  },
  {
   "cell_type": "code",
   "execution_count": 114,
   "metadata": {},
   "outputs": [],
   "source": [
    "from sklearn import metrics "
   ]
  },
  {
   "cell_type": "code",
   "execution_count": 115,
   "metadata": {},
   "outputs": [
    {
     "name": "stdout",
     "output_type": "stream",
     "text": [
      "정확도 : 0.8920673564617569\n"
     ]
    }
   ],
   "source": [
    "print('정확도 :', metrics.accuracy_score(y_test, y_pred))"
   ]
  },
  {
   "cell_type": "code",
   "execution_count": 130,
   "metadata": {},
   "outputs": [],
   "source": [
    "sentence ='요새 취업걱정 때문에 고민이에요'\n",
    "\n",
    "test_sen = tfidf.transform([sentence]).toarray()"
   ]
  },
  {
   "cell_type": "code",
   "execution_count": 131,
   "metadata": {},
   "outputs": [
    {
     "data": {
      "text/plain": [
       "array([21], dtype=int64)"
      ]
     },
     "execution_count": 131,
     "metadata": {},
     "output_type": "execute_result"
    }
   ],
   "source": [
    "forest.predict(test_sen)"
   ]
  },
  {
   "cell_type": "code",
   "execution_count": null,
   "metadata": {},
   "outputs": [],
   "source": []
  }
 ],
 "metadata": {
  "kernelspec": {
   "display_name": "Python 3",
   "language": "python",
   "name": "python3"
  },
  "language_info": {
   "codemirror_mode": {
    "name": "ipython",
    "version": 3
   },
   "file_extension": ".py",
   "mimetype": "text/x-python",
   "name": "python",
   "nbconvert_exporter": "python",
   "pygments_lexer": "ipython3",
   "version": "3.7.3"
  }
 },
 "nbformat": 4,
 "nbformat_minor": 2
}
