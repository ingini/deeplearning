{
 "cells": [
  {
   "cell_type": "markdown",
   "metadata": {},
   "source": [
    "# Telegram 챗봇\n",
    "- 봇 생성 : https://blog.naver.com/damtaja/221347508096\n",
    "- telepot : https://blog.naver.com/townpharm/220942138658"
   ]
  },
  {
   "cell_type": "markdown",
   "metadata": {},
   "source": [
    "- token : 914707496:AAHz-zWJksw3-Z9ngOFMdfMib-LiIwL_X-E\n",
    "- khohobot(username), HoHoBot(이름)\n",
    "- 내 아이디 : 960389738\n",
    "> - 메시지 받기 : https://api.telegram.org/bot914707496:AAHz-zWJksw3-Z9ngOFMdfMib-LiIwL_X-E/getUpdates\n",
    "> - 메시지 보내기 : https://api.telegram.org/bot914707496:AAHz-zWJksw3-Z9ngOFMdfMib-LiIwL_X-E/sendMessage?chat_id=960389738&text=kekeke"
   ]
  },
  {
   "cell_type": "code",
   "execution_count": 1,
   "metadata": {},
   "outputs": [],
   "source": [
    "import numpy as np\n",
    "import matplotlib.pyplot as plt"
   ]
  },
  {
   "cell_type": "code",
   "execution_count": 2,
   "metadata": {},
   "outputs": [],
   "source": [
    "import time\n",
    "import telepot"
   ]
  },
  {
   "cell_type": "code",
   "execution_count": 3,
   "metadata": {},
   "outputs": [],
   "source": [
    "bot = telepot.Bot('914707496:AAHz-zWJksw3-Z9ngOFMdfMib-LiIwL_X-E')"
   ]
  },
  {
   "cell_type": "code",
   "execution_count": 4,
   "metadata": {},
   "outputs": [
    {
     "data": {
      "text/plain": [
       "{'id': 914707496,\n",
       " 'is_bot': True,\n",
       " 'first_name': 'HoHoBot',\n",
       " 'username': 'khohobot'}"
      ]
     },
     "execution_count": 4,
     "metadata": {},
     "output_type": "execute_result"
    }
   ],
   "source": [
    "bot.getMe()"
   ]
  },
  {
   "cell_type": "code",
   "execution_count": 5,
   "metadata": {},
   "outputs": [
    {
     "data": {
      "text/plain": [
       "[]"
      ]
     },
     "execution_count": 5,
     "metadata": {},
     "output_type": "execute_result"
    }
   ],
   "source": [
    "bot.getUpdates()"
   ]
  },
  {
   "cell_type": "code",
   "execution_count": 6,
   "metadata": {},
   "outputs": [
    {
     "data": {
      "text/plain": [
       "{'message_id': 36,\n",
       " 'from': {'id': 914707496,\n",
       "  'is_bot': True,\n",
       "  'first_name': 'HoHoBot',\n",
       "  'username': 'khohobot'},\n",
       " 'chat': {'id': 960389738,\n",
       "  'first_name': '호',\n",
       "  'last_name': '호',\n",
       "  'type': 'private'},\n",
       " 'date': 1570760917,\n",
       " 'text': 'Hello~~'}"
      ]
     },
     "execution_count": 6,
     "metadata": {},
     "output_type": "execute_result"
    }
   ],
   "source": [
    "bot.sendMessage(960389738, 'Hello~~')"
   ]
  },
  {
   "cell_type": "markdown",
   "metadata": {},
   "source": [
    "### Echo 기능"
   ]
  },
  {
   "cell_type": "code",
   "execution_count": 7,
   "metadata": {},
   "outputs": [],
   "source": [
    "text = []\n",
    "answers = ['안녕','잘가','또봐']\n",
    "\n",
    "def handle(msg):\n",
    "    content_type, chat_type, chat_id = telepot.glance(msg)\n",
    "    print(content_type, chat_type, chat_id)\n",
    "\n",
    "    if content_type == 'text':\n",
    "        bot.sendMessage(chat_id, \"HoHOBot>> \" + msg['text'] + ' : ' + answers[np.random.randint(3)])\n",
    "        text.append(msg['text'])"
   ]
  },
  {
   "cell_type": "code",
   "execution_count": 8,
   "metadata": {},
   "outputs": [
    {
     "name": "stdout",
     "output_type": "stream",
     "text": [
      "text private 960389738\n",
      "text private 960389738\n",
      "text private 960389738\n",
      "text private 960389738\n"
     ]
    }
   ],
   "source": [
    "bot.message_loop(handle)\n",
    "\n",
    "#while 1:\n",
    "#    time.sleep(1000)"
   ]
  },
  {
   "cell_type": "code",
   "execution_count": 10,
   "metadata": {},
   "outputs": [
    {
     "data": {
      "text/plain": [
       "['kkkk', 'eiofjwfo', 'pwoefjwfj', '뭐라능겨?', 'zmzmzmzmz']"
      ]
     },
     "execution_count": 10,
     "metadata": {},
     "output_type": "execute_result"
    }
   ],
   "source": [
    "text"
   ]
  }
 ],
 "metadata": {
  "kernelspec": {
   "display_name": "Python 3",
   "language": "python",
   "name": "python3"
  },
  "language_info": {
   "codemirror_mode": {
    "name": "ipython",
    "version": 3
   },
   "file_extension": ".py",
   "mimetype": "text/x-python",
   "name": "python",
   "nbconvert_exporter": "python",
   "pygments_lexer": "ipython3",
   "version": "3.6.5"
  }
 },
 "nbformat": 4,
 "nbformat_minor": 2
}
