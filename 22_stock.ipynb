{
 "cells": [
  {
   "cell_type": "markdown",
   "metadata": {},
   "source": [
    "## 타임시리즈\n",
    "# 주가 분석 : batch normalization 적용(2)\n",
    "- https://finance.yahoo.com/quote/005930.KS/history?p=005930.KS (삼성전자)\n",
    "- https://finance.yahoo.com/quote/%5EKS11/history?p=%5EKS11 (KOSPI)\n",
    "- https://finance.yahoo.com/quote/035420.KS/history?p=035420.KS (Naver)\n",
    "\n",
    "- https://m.blog.naver.com/tkdlqm2/221575377059\n",
    "- https://medium.com/datadriveninvestor/multivariate-time-series-using-rnn-with-keras-7f78f4488679"
   ]
  },
  {
   "cell_type": "code",
   "execution_count": 1,
   "metadata": {},
   "outputs": [],
   "source": [
    "import numpy as np\n",
    "import matplotlib.pyplot as plt\n",
    "import pandas as pd"
   ]
  },
  {
   "cell_type": "code",
   "execution_count": 2,
   "metadata": {},
   "outputs": [
    {
     "data": {
      "text/html": [
       "<div>\n",
       "<style scoped>\n",
       "    .dataframe tbody tr th:only-of-type {\n",
       "        vertical-align: middle;\n",
       "    }\n",
       "\n",
       "    .dataframe tbody tr th {\n",
       "        vertical-align: top;\n",
       "    }\n",
       "\n",
       "    .dataframe thead th {\n",
       "        text-align: right;\n",
       "    }\n",
       "</style>\n",
       "<table border=\"1\" class=\"dataframe\">\n",
       "  <thead>\n",
       "    <tr style=\"text-align: right;\">\n",
       "      <th></th>\n",
       "      <th>Date</th>\n",
       "      <th>Open</th>\n",
       "      <th>High</th>\n",
       "      <th>Low</th>\n",
       "      <th>Close</th>\n",
       "      <th>Adj Close</th>\n",
       "      <th>Volume</th>\n",
       "    </tr>\n",
       "  </thead>\n",
       "  <tbody>\n",
       "    <tr>\n",
       "      <th>0</th>\n",
       "      <td>2014-08-25</td>\n",
       "      <td>24620.0</td>\n",
       "      <td>24620.0</td>\n",
       "      <td>24420.0</td>\n",
       "      <td>24560.0</td>\n",
       "      <td>66.414185</td>\n",
       "      <td>11577200.0</td>\n",
       "    </tr>\n",
       "    <tr>\n",
       "      <th>1</th>\n",
       "      <td>2014-08-26</td>\n",
       "      <td>24700.0</td>\n",
       "      <td>24700.0</td>\n",
       "      <td>24420.0</td>\n",
       "      <td>24440.0</td>\n",
       "      <td>66.089699</td>\n",
       "      <td>10719450.0</td>\n",
       "    </tr>\n",
       "    <tr>\n",
       "      <th>2</th>\n",
       "      <td>2014-08-27</td>\n",
       "      <td>24460.0</td>\n",
       "      <td>24740.0</td>\n",
       "      <td>24440.0</td>\n",
       "      <td>24600.0</td>\n",
       "      <td>66.522362</td>\n",
       "      <td>12171000.0</td>\n",
       "    </tr>\n",
       "    <tr>\n",
       "      <th>3</th>\n",
       "      <td>2014-08-28</td>\n",
       "      <td>25160.0</td>\n",
       "      <td>25160.0</td>\n",
       "      <td>24720.0</td>\n",
       "      <td>24840.0</td>\n",
       "      <td>67.171364</td>\n",
       "      <td>10311850.0</td>\n",
       "    </tr>\n",
       "    <tr>\n",
       "      <th>4</th>\n",
       "      <td>2014-08-29</td>\n",
       "      <td>24760.0</td>\n",
       "      <td>24760.0</td>\n",
       "      <td>24560.0</td>\n",
       "      <td>24680.0</td>\n",
       "      <td>66.738708</td>\n",
       "      <td>14558250.0</td>\n",
       "    </tr>\n",
       "  </tbody>\n",
       "</table>\n",
       "</div>"
      ],
      "text/plain": [
       "         Date     Open     High      Low    Close  Adj Close      Volume\n",
       "0  2014-08-25  24620.0  24620.0  24420.0  24560.0  66.414185  11577200.0\n",
       "1  2014-08-26  24700.0  24700.0  24420.0  24440.0  66.089699  10719450.0\n",
       "2  2014-08-27  24460.0  24740.0  24440.0  24600.0  66.522362  12171000.0\n",
       "3  2014-08-28  25160.0  25160.0  24720.0  24840.0  67.171364  10311850.0\n",
       "4  2014-08-29  24760.0  24760.0  24560.0  24680.0  66.738708  14558250.0"
      ]
     },
     "execution_count": 2,
     "metadata": {},
     "output_type": "execute_result"
    }
   ],
   "source": [
    "stock_df = pd.read_csv('samsung_005930.KS.csv')\n",
    "stock_df.head()"
   ]
  },
  {
   "cell_type": "code",
   "execution_count": 3,
   "metadata": {},
   "outputs": [
    {
     "data": {
      "text/html": [
       "<div>\n",
       "<style scoped>\n",
       "    .dataframe tbody tr th:only-of-type {\n",
       "        vertical-align: middle;\n",
       "    }\n",
       "\n",
       "    .dataframe tbody tr th {\n",
       "        vertical-align: top;\n",
       "    }\n",
       "\n",
       "    .dataframe thead th {\n",
       "        text-align: right;\n",
       "    }\n",
       "</style>\n",
       "<table border=\"1\" class=\"dataframe\">\n",
       "  <thead>\n",
       "    <tr style=\"text-align: right;\">\n",
       "      <th></th>\n",
       "      <th>Date</th>\n",
       "      <th>Open</th>\n",
       "      <th>High</th>\n",
       "      <th>Low</th>\n",
       "      <th>Close</th>\n",
       "      <th>Adj Close</th>\n",
       "      <th>Volume</th>\n",
       "    </tr>\n",
       "  </thead>\n",
       "  <tbody>\n",
       "    <tr>\n",
       "      <th>1220</th>\n",
       "      <td>2019-08-16</td>\n",
       "      <td>43800.0</td>\n",
       "      <td>43900.0</td>\n",
       "      <td>43300.0</td>\n",
       "      <td>43900.0</td>\n",
       "      <td>43900.0</td>\n",
       "      <td>9528115.0</td>\n",
       "    </tr>\n",
       "    <tr>\n",
       "      <th>1221</th>\n",
       "      <td>2019-08-19</td>\n",
       "      <td>44350.0</td>\n",
       "      <td>44350.0</td>\n",
       "      <td>43500.0</td>\n",
       "      <td>43600.0</td>\n",
       "      <td>43600.0</td>\n",
       "      <td>6014218.0</td>\n",
       "    </tr>\n",
       "    <tr>\n",
       "      <th>1222</th>\n",
       "      <td>2019-08-20</td>\n",
       "      <td>43950.0</td>\n",
       "      <td>44600.0</td>\n",
       "      <td>43550.0</td>\n",
       "      <td>44450.0</td>\n",
       "      <td>44450.0</td>\n",
       "      <td>8434205.0</td>\n",
       "    </tr>\n",
       "    <tr>\n",
       "      <th>1223</th>\n",
       "      <td>2019-08-21</td>\n",
       "      <td>44350.0</td>\n",
       "      <td>44800.0</td>\n",
       "      <td>44150.0</td>\n",
       "      <td>44500.0</td>\n",
       "      <td>44500.0</td>\n",
       "      <td>6571717.0</td>\n",
       "    </tr>\n",
       "    <tr>\n",
       "      <th>1224</th>\n",
       "      <td>2019-08-22</td>\n",
       "      <td>44500.0</td>\n",
       "      <td>44700.0</td>\n",
       "      <td>43850.0</td>\n",
       "      <td>44050.0</td>\n",
       "      <td>44050.0</td>\n",
       "      <td>8061177.0</td>\n",
       "    </tr>\n",
       "  </tbody>\n",
       "</table>\n",
       "</div>"
      ],
      "text/plain": [
       "            Date     Open     High      Low    Close  Adj Close     Volume\n",
       "1220  2019-08-16  43800.0  43900.0  43300.0  43900.0    43900.0  9528115.0\n",
       "1221  2019-08-19  44350.0  44350.0  43500.0  43600.0    43600.0  6014218.0\n",
       "1222  2019-08-20  43950.0  44600.0  43550.0  44450.0    44450.0  8434205.0\n",
       "1223  2019-08-21  44350.0  44800.0  44150.0  44500.0    44500.0  6571717.0\n",
       "1224  2019-08-22  44500.0  44700.0  43850.0  44050.0    44050.0  8061177.0"
      ]
     },
     "execution_count": 3,
     "metadata": {},
     "output_type": "execute_result"
    }
   ],
   "source": [
    "stock_df.tail()"
   ]
  },
  {
   "cell_type": "code",
   "execution_count": 4,
   "metadata": {},
   "outputs": [
    {
     "name": "stdout",
     "output_type": "stream",
     "text": [
      "<class 'pandas.core.frame.DataFrame'>\n",
      "RangeIndex: 1225 entries, 0 to 1224\n",
      "Data columns (total 7 columns):\n",
      "Date         1225 non-null object\n",
      "Open         1224 non-null float64\n",
      "High         1224 non-null float64\n",
      "Low          1224 non-null float64\n",
      "Close        1224 non-null float64\n",
      "Adj Close    1224 non-null float64\n",
      "Volume       1224 non-null float64\n",
      "dtypes: float64(6), object(1)\n",
      "memory usage: 67.1+ KB\n"
     ]
    }
   ],
   "source": [
    "stock_df.info()"
   ]
  },
  {
   "cell_type": "code",
   "execution_count": 5,
   "metadata": {},
   "outputs": [],
   "source": [
    "stock_df = stock_df.dropna() # 2019.8.2 데이터가 비어있음"
   ]
  },
  {
   "cell_type": "code",
   "execution_count": 6,
   "metadata": {},
   "outputs": [
    {
     "name": "stdout",
     "output_type": "stream",
     "text": [
      "<class 'pandas.core.frame.DataFrame'>\n",
      "Int64Index: 1224 entries, 0 to 1224\n",
      "Data columns (total 7 columns):\n",
      "Date         1224 non-null object\n",
      "Open         1224 non-null float64\n",
      "High         1224 non-null float64\n",
      "Low          1224 non-null float64\n",
      "Close        1224 non-null float64\n",
      "Adj Close    1224 non-null float64\n",
      "Volume       1224 non-null float64\n",
      "dtypes: float64(6), object(1)\n",
      "memory usage: 76.5+ KB\n"
     ]
    }
   ],
   "source": [
    "stock_df.info()"
   ]
  },
  {
   "cell_type": "code",
   "execution_count": 7,
   "metadata": {},
   "outputs": [],
   "source": [
    "stock_df['average'] = (stock_df['High'] + stock_df['Low'])/2"
   ]
  },
  {
   "cell_type": "code",
   "execution_count": 8,
   "metadata": {},
   "outputs": [
    {
     "data": {
      "text/html": [
       "<div>\n",
       "<style scoped>\n",
       "    .dataframe tbody tr th:only-of-type {\n",
       "        vertical-align: middle;\n",
       "    }\n",
       "\n",
       "    .dataframe tbody tr th {\n",
       "        vertical-align: top;\n",
       "    }\n",
       "\n",
       "    .dataframe thead th {\n",
       "        text-align: right;\n",
       "    }\n",
       "</style>\n",
       "<table border=\"1\" class=\"dataframe\">\n",
       "  <thead>\n",
       "    <tr style=\"text-align: right;\">\n",
       "      <th></th>\n",
       "      <th>Date</th>\n",
       "      <th>Open</th>\n",
       "      <th>High</th>\n",
       "      <th>Low</th>\n",
       "      <th>Close</th>\n",
       "      <th>Adj Close</th>\n",
       "      <th>Volume</th>\n",
       "      <th>average</th>\n",
       "    </tr>\n",
       "  </thead>\n",
       "  <tbody>\n",
       "    <tr>\n",
       "      <th>0</th>\n",
       "      <td>2014-08-25</td>\n",
       "      <td>24620.0</td>\n",
       "      <td>24620.0</td>\n",
       "      <td>24420.0</td>\n",
       "      <td>24560.0</td>\n",
       "      <td>66.414185</td>\n",
       "      <td>11577200.0</td>\n",
       "      <td>24520.0</td>\n",
       "    </tr>\n",
       "    <tr>\n",
       "      <th>1</th>\n",
       "      <td>2014-08-26</td>\n",
       "      <td>24700.0</td>\n",
       "      <td>24700.0</td>\n",
       "      <td>24420.0</td>\n",
       "      <td>24440.0</td>\n",
       "      <td>66.089699</td>\n",
       "      <td>10719450.0</td>\n",
       "      <td>24560.0</td>\n",
       "    </tr>\n",
       "  </tbody>\n",
       "</table>\n",
       "</div>"
      ],
      "text/plain": [
       "         Date     Open     High      Low    Close  Adj Close      Volume  \\\n",
       "0  2014-08-25  24620.0  24620.0  24420.0  24560.0  66.414185  11577200.0   \n",
       "1  2014-08-26  24700.0  24700.0  24420.0  24440.0  66.089699  10719450.0   \n",
       "\n",
       "   average  \n",
       "0  24520.0  \n",
       "1  24560.0  "
      ]
     },
     "execution_count": 8,
     "metadata": {},
     "output_type": "execute_result"
    }
   ],
   "source": [
    "stock_df.head(2)"
   ]
  },
  {
   "cell_type": "code",
   "execution_count": 9,
   "metadata": {},
   "outputs": [
    {
     "data": {
      "text/plain": [
       "[<matplotlib.lines.Line2D at 0x228ce5c5fd0>]"
      ]
     },
     "execution_count": 9,
     "metadata": {},
     "output_type": "execute_result"
    },
    {
     "data": {
      "image/png": "[encoded data removed]",
      "text/plain": [
       "<Figure size 432x288 with 1 Axes>"
      ]
     },
     "metadata": {},
     "output_type": "display_data"
    }
   ],
   "source": [
    "plt.plot(stock_df['Volume'])\n",
    "#plt.ylim(0,1000000)"
   ]
  },
  {
   "cell_type": "code",
   "execution_count": 10,
   "metadata": {},
   "outputs": [
    {
     "data": {
      "text/plain": [
       "[<matplotlib.lines.Line2D at 0x228ce6825c0>]"
      ]
     },
     "execution_count": 10,
     "metadata": {},
     "output_type": "execute_result"
    },
    {
     "data": {
      "image/png": "[encoded data removed]",
      "text/plain": [
       "<Figure size 432x288 with 1 Axes>"
      ]
     },
     "metadata": {},
     "output_type": "display_data"
    }
   ],
   "source": [
    "plt.plot(stock_df['average'])"
   ]
  },
  {
   "cell_type": "markdown",
   "metadata": {},
   "source": [
    "- 거래량과 일별평균주가로 데이터를 만든다"
   ]
  },
  {
   "cell_type": "code",
   "execution_count": 11,
   "metadata": {},
   "outputs": [
    {
     "data": {
      "text/plain": [
       "(1224, 2)"
      ]
     },
     "execution_count": 11,
     "metadata": {},
     "output_type": "execute_result"
    }
   ],
   "source": [
    "stock = stock_df[['Volume','average']].values\n",
    "stock.shape"
   ]
  },
  {
   "cell_type": "markdown",
   "metadata": {},
   "source": [
    "### 정규화 (속성별 평균 0, 표준편차 1)"
   ]
  },
  {
   "cell_type": "code",
   "execution_count": 13,
   "metadata": {},
   "outputs": [],
   "source": [
    "stock = (stock - stock.min(axis=0)) / (stock.max(axis=0) - stock.min(axis=0))"
   ]
  },
  {
   "cell_type": "code",
   "execution_count": 14,
   "metadata": {},
   "outputs": [
    {
     "data": {
      "text/plain": [
       "array([[0.17898836, 0.0913649 ],\n",
       "       [0.16572719, 0.09247911]])"
      ]
     },
     "execution_count": 14,
     "metadata": {},
     "output_type": "execute_result"
    }
   ],
   "source": [
    "stock[:2]"
   ]
  },
  {
   "cell_type": "markdown",
   "metadata": {},
   "source": [
    "### 학습용 데이터 생성"
   ]
  },
  {
   "cell_type": "code",
   "execution_count": 17,
   "metadata": {},
   "outputs": [
    {
     "data": {
      "text/plain": [
       "(1224, 2)"
      ]
     },
     "execution_count": 17,
     "metadata": {},
     "output_type": "execute_result"
    }
   ],
   "source": [
    "stock.shape"
   ]
  },
  {
   "cell_type": "code",
   "execution_count": 18,
   "metadata": {},
   "outputs": [],
   "source": [
    "lookback = 50 # 50일치 데이터로 시퀀스를 만든다"
   ]
  },
  {
   "cell_type": "code",
   "execution_count": 19,
   "metadata": {},
   "outputs": [],
   "source": [
    "X = []\n",
    "y = []\n",
    "\n",
    "for i in range(len(stock)-lookback):\n",
    "    X.append(stock[i:i+lookback])\n",
    "    y.append(stock[i+lookback,[1]])"
   ]
  },
  {
   "cell_type": "code",
   "execution_count": 20,
   "metadata": {},
   "outputs": [
    {
     "data": {
      "text/plain": [
       "((1174, 50, 2), (1174, 1))"
      ]
     },
     "execution_count": 20,
     "metadata": {},
     "output_type": "execute_result"
    }
   ],
   "source": [
    "X = np.array(X)\n",
    "y = np.array(y)\n",
    "\n",
    "X.shape, y.shape"
   ]
  },
  {
   "cell_type": "code",
   "execution_count": 21,
   "metadata": {},
   "outputs": [],
   "source": [
    "X_train = X[:-200-lookback]\n",
    "X_test = X[-200:]\n",
    "y_train = y[:-200-lookback]\n",
    "y_test = y[-200:]"
   ]
  },
  {
   "cell_type": "code",
   "execution_count": 22,
   "metadata": {},
   "outputs": [
    {
     "data": {
      "text/plain": [
       "((924, 50, 2), (200, 50, 2), (924, 1), (200, 1))"
      ]
     },
     "execution_count": 22,
     "metadata": {},
     "output_type": "execute_result"
    }
   ],
   "source": [
    "X_train.shape, X_test.shape, y_train.shape, y_test.shape"
   ]
  },
  {
   "cell_type": "markdown",
   "metadata": {},
   "source": [
    "### 모델 생성"
   ]
  },
  {
   "cell_type": "code",
   "execution_count": 23,
   "metadata": {},
   "outputs": [
    {
     "name": "stderr",
     "output_type": "stream",
     "text": [
      "C:\\Anaconda3\\envs\\py36\\lib\\site-packages\\h5py\\__init__.py:36: FutureWarning: Conversion of the second argument of issubdtype from `float` to `np.floating` is deprecated. In future, it will be treated as `np.float64 == np.dtype(float).type`.\n",
      "  from ._conv import register_converters as _register_converters\n",
      "Using TensorFlow backend.\n"
     ]
    }
   ],
   "source": [
    "from keras.models import Sequential\n",
    "from keras.layers import Dense, LSTM, BatchNormalization"
   ]
  },
  {
   "cell_type": "code",
   "execution_count": 24,
   "metadata": {},
   "outputs": [
    {
     "name": "stdout",
     "output_type": "stream",
     "text": [
      "_________________________________________________________________\n",
      "Layer (type)                 Output Shape              Param #   \n",
      "=================================================================\n",
      "batch_normalization_1 (Batch (None, 50, 2)             200       \n",
      "_________________________________________________________________\n",
      "lstm_1 (LSTM)                (None, 50, 32)            4480      \n",
      "_________________________________________________________________\n",
      "lstm_2 (LSTM)                (None, 50, 32)            8320      \n",
      "_________________________________________________________________\n",
      "lstm_3 (LSTM)                (None, 32)                8320      \n",
      "_________________________________________________________________\n",
      "dense_1 (Dense)              (None, 1)                 33        \n",
      "=================================================================\n",
      "Total params: 21,353\n",
      "Trainable params: 21,253\n",
      "Non-trainable params: 100\n",
      "_________________________________________________________________\n"
     ]
    }
   ],
   "source": [
    "model = Sequential()\n",
    "\n",
    "model.add(BatchNormalization(axis=1, input_shape=X_train.shape[1:]))\n",
    "    # 배치에 대해 거래량과 평균주가별로 정규화\n",
    "\n",
    "model.add(LSTM(32, return_sequences=True, activation='relu')) # ReLU 적용 (회귀)\n",
    "model.add(LSTM(32, return_sequences=True, activation='relu')) # ReLU 적용 (회귀)\n",
    "model.add(LSTM(32))\n",
    "\n",
    "model.add(Dense(1))\n",
    "\n",
    "model.summary()"
   ]
  },
  {
   "cell_type": "code",
   "execution_count": 25,
   "metadata": {},
   "outputs": [],
   "source": [
    "model.compile(loss='mse', optimizer='rmsprop', metrics=['acc'])"
   ]
  },
  {
   "cell_type": "code",
   "execution_count": 22,
   "metadata": {
    "scrolled": true
   },
   "outputs": [
    {
     "name": "stdout",
     "output_type": "stream",
     "text": [
      "Train on 924 samples, validate on 200 samples\n",
      "Epoch 1/200\n",
      "924/924 [==============================] - 18s 19ms/step - loss: 0.0414 - acc: 0.0022 - val_loss: 0.0064 - val_acc: 0.0000e+00\n",
      "Epoch 2/200\n",
      "924/924 [==============================] - 7s 7ms/step - loss: 0.0068 - acc: 0.0022 - val_loss: 0.0038 - val_acc: 0.0000e+00\n",
      "Epoch 3/200\n",
      "924/924 [==============================] - 7s 7ms/step - loss: 0.0083 - acc: 0.0022 - val_loss: 0.0307 - val_acc: 0.0000e+00\n",
      "Epoch 4/200\n",
      "924/924 [==============================] - 7s 7ms/step - loss: 0.0049 - acc: 0.0022 - val_loss: 0.0048 - val_acc: 0.0000e+00\n",
      "Epoch 5/200\n",
      "924/924 [==============================] - 7s 8ms/step - loss: 0.0040 - acc: 0.0022 - val_loss: 0.0045 - val_acc: 0.0000e+00\n",
      "Epoch 6/200\n",
      "924/924 [==============================] - 7s 7ms/step - loss: 0.0043 - acc: 0.0022 - val_loss: 0.0083 - val_acc: 0.0000e+00\n",
      "Epoch 7/200\n",
      "924/924 [==============================] - 7s 7ms/step - loss: 0.0041 - acc: 0.0022 - val_loss: 0.0053 - val_acc: 0.0000e+00\n",
      "Epoch 8/200\n",
      "924/924 [==============================] - 8s 8ms/step - loss: 0.0033 - acc: 0.0022 - val_loss: 0.0060 - val_acc: 0.0000e+00\n",
      "Epoch 9/200\n",
      "924/924 [==============================] - 7s 8ms/step - loss: 0.0031 - acc: 0.0022 - val_loss: 0.0047 - val_acc: 0.0000e+00\n",
      "Epoch 10/200\n",
      "924/924 [==============================] - 9s 9ms/step - loss: 0.0027 - acc: 0.0022 - val_loss: 0.0199 - val_acc: 0.0000e+00\n",
      "Epoch 11/200\n",
      "924/924 [==============================] - 7s 8ms/step - loss: 0.0038 - acc: 0.0022 - val_loss: 0.0057 - val_acc: 0.0000e+00\n",
      "Epoch 12/200\n",
      "924/924 [==============================] - 7s 8ms/step - loss: 0.0029 - acc: 0.0022 - val_loss: 0.0036 - val_acc: 0.0000e+00\n",
      "Epoch 13/200\n",
      "924/924 [==============================] - 7s 8ms/step - loss: 0.0026 - acc: 0.0022 - val_loss: 0.0033 - val_acc: 0.0000e+00\n",
      "Epoch 14/200\n",
      "924/924 [==============================] - 7s 8ms/step - loss: 0.0054 - acc: 0.0022 - val_loss: 0.0042 - val_acc: 0.0000e+00\n",
      "Epoch 15/200\n",
      "924/924 [==============================] - 8s 9ms/step - loss: 0.0029 - acc: 0.0022 - val_loss: 0.0083 - val_acc: 0.0000e+00\n",
      "Epoch 16/200\n",
      "924/924 [==============================] - 8s 8ms/step - loss: 0.0027 - acc: 0.0022 - val_loss: 0.0043 - val_acc: 0.0000e+00\n",
      "Epoch 17/200\n",
      "924/924 [==============================] - 8s 8ms/step - loss: 0.0025 - acc: 0.0022 - val_loss: 0.0038 - val_acc: 0.0000e+00\n",
      "Epoch 18/200\n",
      "924/924 [==============================] - 8s 8ms/step - loss: 0.0036 - acc: 0.0022 - val_loss: 0.0062 - val_acc: 0.0000e+00\n",
      "Epoch 19/200\n",
      "924/924 [==============================] - 8s 8ms/step - loss: 0.0032 - acc: 0.0022 - val_loss: 0.0081 - val_acc: 0.0000e+00\n",
      "Epoch 20/200\n",
      "924/924 [==============================] - 8s 9ms/step - loss: 0.0063 - acc: 0.0022 - val_loss: 0.0053 - val_acc: 0.0000e+00\n",
      "Epoch 21/200\n",
      "924/924 [==============================] - 8s 9ms/step - loss: 0.0022 - acc: 0.0022 - val_loss: 0.0035 - val_acc: 0.0000e+00\n",
      "Epoch 22/200\n",
      "924/924 [==============================] - 8s 9ms/step - loss: 0.0035 - acc: 0.0022 - val_loss: 0.0074 - val_acc: 0.0000e+00\n",
      "Epoch 23/200\n",
      "924/924 [==============================] - 7s 8ms/step - loss: 0.0022 - acc: 0.0022 - val_loss: 0.0029 - val_acc: 0.0000e+00\n",
      "Epoch 24/200\n",
      "924/924 [==============================] - 7s 8ms/step - loss: 0.0022 - acc: 0.0022 - val_loss: 0.0227 - val_acc: 0.0000e+00\n",
      "Epoch 25/200\n",
      "924/924 [==============================] - 7s 7ms/step - loss: 0.0029 - acc: 0.0022 - val_loss: 0.0033 - val_acc: 0.0000e+00\n",
      "Epoch 26/200\n",
      "924/924 [==============================] - 7s 7ms/step - loss: 0.0024 - acc: 0.0022 - val_loss: 0.0028 - val_acc: 0.0000e+00\n",
      "Epoch 27/200\n",
      "924/924 [==============================] - 7s 8ms/step - loss: 0.0023 - acc: 0.0022 - val_loss: 0.0026 - val_acc: 0.0000e+00\n",
      "Epoch 28/200\n",
      "924/924 [==============================] - 7s 8ms/step - loss: 0.0027 - acc: 0.0022 - val_loss: 0.0040 - val_acc: 0.0000e+00\n",
      "Epoch 29/200\n",
      "924/924 [==============================] - 7s 8ms/step - loss: 0.0021 - acc: 0.0022 - val_loss: 0.0089 - val_acc: 0.0000e+00\n",
      "Epoch 30/200\n",
      "924/924 [==============================] - 7s 8ms/step - loss: 0.0023 - acc: 0.0022 - val_loss: 0.0046 - val_acc: 0.0000e+00\n",
      "Epoch 31/200\n",
      "924/924 [==============================] - 7s 8ms/step - loss: 0.0023 - acc: 0.0022 - val_loss: 0.0030 - val_acc: 0.0000e+00\n",
      "Epoch 32/200\n",
      "924/924 [==============================] - 7s 8ms/step - loss: 0.0021 - acc: 0.0022 - val_loss: 0.0075 - val_acc: 0.0000e+00\n",
      "Epoch 33/200\n",
      "924/924 [==============================] - 7s 8ms/step - loss: 0.0019 - acc: 0.0022 - val_loss: 0.0056 - val_acc: 0.0000e+00\n",
      "Epoch 34/200\n",
      "924/924 [==============================] - 7s 8ms/step - loss: 0.0024 - acc: 0.0022 - val_loss: 0.0078 - val_acc: 0.0000e+00\n",
      "Epoch 35/200\n",
      "924/924 [==============================] - 7s 8ms/step - loss: 0.0022 - acc: 0.0022 - val_loss: 0.0025 - val_acc: 0.0000e+00\n",
      "Epoch 36/200\n",
      "924/924 [==============================] - 7s 8ms/step - loss: 0.0022 - acc: 0.0022 - val_loss: 0.0037 - val_acc: 0.0000e+00\n",
      "Epoch 37/200\n",
      "924/924 [==============================] - 7s 8ms/step - loss: 0.0025 - acc: 0.0022 - val_loss: 0.0048 - val_acc: 0.0000e+00\n",
      "Epoch 38/200\n",
      "924/924 [==============================] - 7s 8ms/step - loss: 0.0019 - acc: 0.0022 - val_loss: 0.0036 - val_acc: 0.0000e+00\n",
      "Epoch 39/200\n",
      "924/924 [==============================] - 7s 8ms/step - loss: 0.0017 - acc: 0.0022 - val_loss: 0.0109 - val_acc: 0.0000e+00\n",
      "Epoch 40/200\n",
      "924/924 [==============================] - 7s 8ms/step - loss: 0.0016 - acc: 0.0022 - val_loss: 0.0079 - val_acc: 0.0000e+00\n",
      "Epoch 41/200\n",
      "924/924 [==============================] - 7s 8ms/step - loss: 0.0018 - acc: 0.0022 - val_loss: 0.0026 - val_acc: 0.0000e+00\n",
      "Epoch 42/200\n",
      "924/924 [==============================] - 7s 8ms/step - loss: 0.0020 - acc: 0.0022 - val_loss: 0.0039 - val_acc: 0.0000e+00\n",
      "Epoch 43/200\n",
      "924/924 [==============================] - 7s 8ms/step - loss: 0.0019 - acc: 0.0022 - val_loss: 0.0037 - val_acc: 0.0000e+00\n",
      "Epoch 44/200\n",
      "924/924 [==============================] - 7s 8ms/step - loss: 0.0022 - acc: 0.0022 - val_loss: 0.0072 - val_acc: 0.0000e+00\n",
      "Epoch 45/200\n",
      "924/924 [==============================] - 7s 8ms/step - loss: 0.0020 - acc: 0.0022 - val_loss: 0.0068 - val_acc: 0.0000e+00\n",
      "Epoch 46/200\n",
      "924/924 [==============================] - 7s 8ms/step - loss: 0.0020 - acc: 0.0022 - val_loss: 0.0027 - val_acc: 0.0000e+00\n",
      "Epoch 47/200\n",
      "924/924 [==============================] - 7s 8ms/step - loss: 0.0016 - acc: 0.0022 - val_loss: 0.0027 - val_acc: 0.0000e+00\n",
      "Epoch 48/200\n",
      "924/924 [==============================] - 8s 8ms/step - loss: 0.0015 - acc: 0.0022 - val_loss: 0.0053 - val_acc: 0.0000e+00\n",
      "Epoch 49/200\n",
      "924/924 [==============================] - 7s 8ms/step - loss: 0.0018 - acc: 0.0022 - val_loss: 0.0052 - val_acc: 0.0000e+00\n",
      "Epoch 50/200\n",
      "924/924 [==============================] - 7s 8ms/step - loss: 0.0015 - acc: 0.0022 - val_loss: 0.0021 - val_acc: 0.0000e+00\n",
      "Epoch 51/200\n",
      "924/924 [==============================] - 7s 8ms/step - loss: 0.0020 - acc: 0.0022 - val_loss: 0.0031 - val_acc: 0.0000e+00\n",
      "Epoch 52/200\n",
      "924/924 [==============================] - 7s 8ms/step - loss: 0.0017 - acc: 0.0022 - val_loss: 0.0036 - val_acc: 0.0000e+00\n",
      "Epoch 53/200\n",
      "924/924 [==============================] - 7s 8ms/step - loss: 0.0020 - acc: 0.0022 - val_loss: 0.0025 - val_acc: 0.0000e+00\n",
      "Epoch 54/200\n",
      "924/924 [==============================] - 8s 8ms/step - loss: 0.0018 - acc: 0.0022 - val_loss: 0.0027 - val_acc: 0.0000e+00\n",
      "Epoch 55/200\n",
      "924/924 [==============================] - 7s 8ms/step - loss: 0.0016 - acc: 0.0022 - val_loss: 0.0044 - val_acc: 0.0000e+00\n",
      "Epoch 56/200\n",
      "924/924 [==============================] - 7s 8ms/step - loss: 0.0018 - acc: 0.0022 - val_loss: 0.0079 - val_acc: 0.0000e+00\n",
      "Epoch 57/200\n",
      "924/924 [==============================] - 7s 8ms/step - loss: 0.0015 - acc: 0.0022 - val_loss: 0.0030 - val_acc: 0.0000e+00\n",
      "Epoch 58/200\n",
      "924/924 [==============================] - 7s 8ms/step - loss: 0.0018 - acc: 0.0022 - val_loss: 0.0053 - val_acc: 0.0000e+00\n",
      "Epoch 59/200\n",
      "924/924 [==============================] - 7s 8ms/step - loss: 0.0020 - acc: 0.0022 - val_loss: 0.0056 - val_acc: 0.0000e+00\n",
      "Epoch 60/200\n"
     ]
    },
    {
     "name": "stdout",
     "output_type": "stream",
     "text": [
      "924/924 [==============================] - 7s 8ms/step - loss: 0.0018 - acc: 0.0022 - val_loss: 0.0028 - val_acc: 0.0000e+00\n",
      "Epoch 61/200\n",
      "924/924 [==============================] - 7s 7ms/step - loss: 0.0014 - acc: 0.0022 - val_loss: 0.0027 - val_acc: 0.0000e+00\n",
      "Epoch 62/200\n",
      "924/924 [==============================] - 7s 8ms/step - loss: 0.0017 - acc: 0.0022 - val_loss: 0.0042 - val_acc: 0.0000e+00\n",
      "Epoch 63/200\n",
      "924/924 [==============================] - 7s 7ms/step - loss: 0.0014 - acc: 0.0022 - val_loss: 0.0053 - val_acc: 0.0000e+00\n",
      "Epoch 64/200\n",
      "924/924 [==============================] - 7s 8ms/step - loss: 0.0015 - acc: 0.0022 - val_loss: 0.0190 - val_acc: 0.0000e+00\n",
      "Epoch 65/200\n",
      "924/924 [==============================] - 7s 7ms/step - loss: 0.0019 - acc: 0.0022 - val_loss: 0.0051 - val_acc: 0.0000e+00\n",
      "Epoch 66/200\n",
      "924/924 [==============================] - 7s 7ms/step - loss: 0.0022 - acc: 0.0022 - val_loss: 0.0035 - val_acc: 0.0000e+00\n",
      "Epoch 67/200\n",
      "924/924 [==============================] - 7s 7ms/step - loss: 0.0012 - acc: 0.0022 - val_loss: 0.0075 - val_acc: 0.0000e+00\n",
      "Epoch 68/200\n",
      "924/924 [==============================] - 7s 7ms/step - loss: 0.0015 - acc: 0.0022 - val_loss: 0.0189 - val_acc: 0.0000e+00\n",
      "Epoch 69/200\n",
      "924/924 [==============================] - 7s 7ms/step - loss: 0.0020 - acc: 0.0022 - val_loss: 0.0064 - val_acc: 0.0000e+00\n",
      "Epoch 70/200\n",
      "924/924 [==============================] - 7s 7ms/step - loss: 0.0013 - acc: 0.0022 - val_loss: 0.0031 - val_acc: 0.0000e+00\n",
      "Epoch 71/200\n",
      "924/924 [==============================] - 7s 8ms/step - loss: 0.0015 - acc: 0.0022 - val_loss: 0.0044 - val_acc: 0.0000e+00\n",
      "Epoch 72/200\n",
      "924/924 [==============================] - 7s 7ms/step - loss: 0.0014 - acc: 0.0022 - val_loss: 0.0034 - val_acc: 0.0000e+00\n",
      "Epoch 73/200\n",
      "924/924 [==============================] - 7s 7ms/step - loss: 0.0015 - acc: 0.0022 - val_loss: 0.0079 - val_acc: 0.0000e+00\n",
      "Epoch 74/200\n",
      "924/924 [==============================] - 7s 7ms/step - loss: 0.0014 - acc: 0.0022 - val_loss: 0.0038 - val_acc: 0.0000e+00\n",
      "Epoch 75/200\n",
      "924/924 [==============================] - 7s 8ms/step - loss: 0.0012 - acc: 0.0022 - val_loss: 0.0062 - val_acc: 0.0000e+00\n",
      "Epoch 76/200\n",
      "924/924 [==============================] - 8s 9ms/step - loss: 0.0012 - acc: 0.0022 - val_loss: 0.0038 - val_acc: 0.0000e+00\n",
      "Epoch 77/200\n",
      "924/924 [==============================] - 6s 7ms/step - loss: 0.0012 - acc: 0.0022 - val_loss: 0.0057 - val_acc: 0.0000e+00\n",
      "Epoch 78/200\n",
      "924/924 [==============================] - 8s 8ms/step - loss: 0.0017 - acc: 0.0022 - val_loss: 0.0067 - val_acc: 0.0000e+00\n",
      "Epoch 79/200\n",
      "924/924 [==============================] - 7s 8ms/step - loss: 0.0014 - acc: 0.0022 - val_loss: 0.0108 - val_acc: 0.0000e+00\n",
      "Epoch 80/200\n",
      "924/924 [==============================] - 7s 8ms/step - loss: 0.0012 - acc: 0.0022 - val_loss: 0.0025 - val_acc: 0.0000e+00\n",
      "Epoch 81/200\n",
      "924/924 [==============================] - 7s 7ms/step - loss: 0.0015 - acc: 0.0022 - val_loss: 0.0027 - val_acc: 0.0000e+00\n",
      "Epoch 82/200\n",
      "924/924 [==============================] - 7s 8ms/step - loss: 0.0012 - acc: 0.0022 - val_loss: 0.0039 - val_acc: 0.0000e+00\n",
      "Epoch 83/200\n",
      "924/924 [==============================] - 7s 8ms/step - loss: 0.0012 - acc: 0.0022 - val_loss: 0.0130 - val_acc: 0.0000e+00\n",
      "Epoch 84/200\n",
      "924/924 [==============================] - 7s 8ms/step - loss: 0.0013 - acc: 0.0022 - val_loss: 0.0045 - val_acc: 0.0000e+00\n",
      "Epoch 85/200\n",
      "924/924 [==============================] - 7s 8ms/step - loss: 0.0012 - acc: 0.0022 - val_loss: 0.0027 - val_acc: 0.0000e+00\n",
      "Epoch 86/200\n",
      "924/924 [==============================] - 7s 8ms/step - loss: 0.0016 - acc: 0.0022 - val_loss: 0.0035 - val_acc: 0.0000e+00\n",
      "Epoch 87/200\n",
      "924/924 [==============================] - 7s 8ms/step - loss: 0.0012 - acc: 0.0022 - val_loss: 0.0037 - val_acc: 0.0000e+00\n",
      "Epoch 88/200\n",
      "924/924 [==============================] - 7s 8ms/step - loss: 0.0012 - acc: 0.0022 - val_loss: 0.0072 - val_acc: 0.0000e+00\n",
      "Epoch 89/200\n",
      "924/924 [==============================] - 7s 7ms/step - loss: 0.0010 - acc: 0.0022 - val_loss: 0.0034 - val_acc: 0.0000e+00\n",
      "Epoch 90/200\n",
      "924/924 [==============================] - 7s 8ms/step - loss: 9.7062e-04 - acc: 0.0022 - val_loss: 0.0030 - val_acc: 0.0000e+00\n",
      "Epoch 91/200\n",
      "924/924 [==============================] - 7s 8ms/step - loss: 0.0018 - acc: 0.0022 - val_loss: 0.0028 - val_acc: 0.0000e+00\n",
      "Epoch 92/200\n",
      "924/924 [==============================] - 7s 8ms/step - loss: 0.0015 - acc: 0.0022 - val_loss: 0.0056 - val_acc: 0.0000e+00\n",
      "Epoch 93/200\n",
      "924/924 [==============================] - 7s 8ms/step - loss: 0.0012 - acc: 0.0022 - val_loss: 0.0059 - val_acc: 0.0000e+00\n",
      "Epoch 94/200\n",
      "924/924 [==============================] - 7s 8ms/step - loss: 0.0015 - acc: 0.0022 - val_loss: 0.0062 - val_acc: 0.0000e+00\n",
      "Epoch 95/200\n",
      "924/924 [==============================] - 7s 8ms/step - loss: 9.8088e-04 - acc: 0.0022 - val_loss: 0.0121 - val_acc: 0.0000e+00\n",
      "Epoch 96/200\n",
      "924/924 [==============================] - 7s 8ms/step - loss: 0.0015 - acc: 0.0022 - val_loss: 0.0060 - val_acc: 0.0000e+00\n",
      "Epoch 97/200\n",
      "924/924 [==============================] - 7s 8ms/step - loss: 0.0012 - acc: 0.0022 - val_loss: 0.0084 - val_acc: 0.0000e+00\n",
      "Epoch 98/200\n",
      "924/924 [==============================] - 7s 8ms/step - loss: 0.0010 - acc: 0.0022 - val_loss: 0.0058 - val_acc: 0.0000e+00\n",
      "Epoch 99/200\n",
      "924/924 [==============================] - 7s 8ms/step - loss: 0.0012 - acc: 0.0022 - val_loss: 0.0051 - val_acc: 0.0000e+00\n",
      "Epoch 100/200\n",
      "924/924 [==============================] - 7s 8ms/step - loss: 0.0011 - acc: 0.0022 - val_loss: 0.0051 - val_acc: 0.0000e+00\n",
      "Epoch 101/200\n",
      "924/924 [==============================] - 7s 8ms/step - loss: 0.0017 - acc: 0.0022 - val_loss: 0.0071 - val_acc: 0.0000e+00\n",
      "Epoch 102/200\n",
      "924/924 [==============================] - 7s 8ms/step - loss: 7.5963e-04 - acc: 0.0022 - val_loss: 0.0062 - val_acc: 0.0000e+00\n",
      "Epoch 103/200\n",
      "924/924 [==============================] - 7s 8ms/step - loss: 0.0011 - acc: 0.0022 - val_loss: 0.0073 - val_acc: 0.0000e+00\n",
      "Epoch 104/200\n",
      "924/924 [==============================] - 7s 8ms/step - loss: 9.9781e-04 - acc: 0.0022 - val_loss: 0.0065 - val_acc: 0.0000e+00\n",
      "Epoch 105/200\n",
      "924/924 [==============================] - 7s 8ms/step - loss: 0.0013 - acc: 0.0022 - val_loss: 0.0063 - val_acc: 0.0000e+00\n",
      "Epoch 106/200\n",
      "924/924 [==============================] - 7s 8ms/step - loss: 0.0011 - acc: 0.0022 - val_loss: 0.0189 - val_acc: 0.0000e+00\n",
      "Epoch 107/200\n",
      "924/924 [==============================] - 8s 9ms/step - loss: 9.3060e-04 - acc: 0.0022 - val_loss: 0.0049 - val_acc: 0.0000e+00\n",
      "Epoch 108/200\n",
      "924/924 [==============================] - 7s 8ms/step - loss: 9.3944e-04 - acc: 0.0022 - val_loss: 0.0034 - val_acc: 0.0000e+00\n",
      "Epoch 109/200\n",
      "924/924 [==============================] - 7s 8ms/step - loss: 0.0011 - acc: 0.0022 - val_loss: 0.0167 - val_acc: 0.0000e+00\n",
      "Epoch 110/200\n",
      "924/924 [==============================] - 7s 8ms/step - loss: 0.0010 - acc: 0.0022 - val_loss: 0.0044 - val_acc: 0.0000e+00\n",
      "Epoch 111/200\n",
      "924/924 [==============================] - 7s 8ms/step - loss: 0.0011 - acc: 0.0022 - val_loss: 0.0026 - val_acc: 0.0000e+00\n",
      "Epoch 112/200\n",
      "924/924 [==============================] - 8s 8ms/step - loss: 9.9944e-04 - acc: 0.0022 - val_loss: 0.0051 - val_acc: 0.0000e+00\n",
      "Epoch 113/200\n",
      "924/924 [==============================] - 8s 9ms/step - loss: 0.0010 - acc: 0.0022 - val_loss: 0.0032 - val_acc: 0.0000e+00\n",
      "Epoch 114/200\n",
      "924/924 [==============================] - 7s 8ms/step - loss: 0.0012 - acc: 0.0022 - val_loss: 0.0081 - val_acc: 0.0000e+00\n",
      "Epoch 115/200\n",
      "924/924 [==============================] - 8s 8ms/step - loss: 0.0010 - acc: 0.0022 - val_loss: 0.0087 - val_acc: 0.0000e+00\n",
      "Epoch 116/200\n",
      "924/924 [==============================] - 8s 9ms/step - loss: 0.0010 - acc: 0.0022 - val_loss: 0.0033 - val_acc: 0.0000e+00\n",
      "Epoch 117/200\n",
      "924/924 [==============================] - 8s 8ms/step - loss: 0.0011 - acc: 0.0022 - val_loss: 0.0027 - val_acc: 0.0000e+00\n",
      "Epoch 118/200\n",
      "924/924 [==============================] - 7s 8ms/step - loss: 0.0011 - acc: 0.0022 - val_loss: 0.0069 - val_acc: 0.0000e+00\n",
      "Epoch 119/200\n",
      "924/924 [==============================] - 7s 8ms/step - loss: 8.2944e-04 - acc: 0.0022 - val_loss: 0.0109 - val_acc: 0.0000e+00\n",
      "Epoch 120/200\n",
      "924/924 [==============================] - 7s 8ms/step - loss: 8.5951e-04 - acc: 0.0022 - val_loss: 0.0096 - val_acc: 0.0000e+00\n",
      "Epoch 121/200\n",
      "924/924 [==============================] - 7s 7ms/step - loss: 8.3897e-04 - acc: 0.0022 - val_loss: 0.0074 - val_acc: 0.0000e+00\n",
      "Epoch 122/200\n",
      "924/924 [==============================] - 7s 7ms/step - loss: 0.0010 - acc: 0.0022 - val_loss: 0.0030 - val_acc: 0.0000e+00\n",
      "Epoch 123/200\n",
      "924/924 [==============================] - 7s 7ms/step - loss: 0.0010 - acc: 0.0022 - val_loss: 0.0150 - val_acc: 0.0000e+00\n",
      "Epoch 124/200\n",
      "924/924 [==============================] - 7s 7ms/step - loss: 6.6849e-04 - acc: 0.0022 - val_loss: 0.0045 - val_acc: 0.0000e+00\n",
      "Epoch 125/200\n",
      "924/924 [==============================] - 7s 8ms/step - loss: 9.4713e-04 - acc: 0.0022 - val_loss: 0.0048 - val_acc: 0.0000e+00\n",
      "Epoch 126/200\n",
      "924/924 [==============================] - 7s 8ms/step - loss: 7.6150e-04 - acc: 0.0022 - val_loss: 0.0050 - val_acc: 0.0000e+00\n",
      "Epoch 127/200\n",
      "924/924 [==============================] - 7s 8ms/step - loss: 8.2652e-04 - acc: 0.0022 - val_loss: 0.0079 - val_acc: 0.0000e+00\n",
      "Epoch 128/200\n",
      "924/924 [==============================] - 8s 9ms/step - loss: 8.2639e-04 - acc: 0.0022 - val_loss: 0.0093 - val_acc: 0.0000e+00\n",
      "Epoch 129/200\n",
      "924/924 [==============================] - 8s 8ms/step - loss: 0.0012 - acc: 0.0022 - val_loss: 0.0050 - val_acc: 0.0000e+00\n",
      "Epoch 130/200\n",
      "924/924 [==============================] - 7s 8ms/step - loss: 0.0013 - acc: 0.0022 - val_loss: 0.0038 - val_acc: 0.0000e+00\n",
      "Epoch 131/200\n",
      "924/924 [==============================] - 8s 8ms/step - loss: 7.5804e-04 - acc: 0.0022 - val_loss: 0.0089 - val_acc: 0.0000e+00\n",
      "Epoch 132/200\n",
      "924/924 [==============================] - 7s 8ms/step - loss: 0.0012 - acc: 0.0022 - val_loss: 0.0033 - val_acc: 0.0000e+00\n",
      "Epoch 133/200\n",
      "924/924 [==============================] - 7s 8ms/step - loss: 8.0003e-04 - acc: 0.0022 - val_loss: 0.0031 - val_acc: 0.0000e+00\n",
      "Epoch 134/200\n",
      "924/924 [==============================] - 7s 8ms/step - loss: 8.9353e-04 - acc: 0.0022 - val_loss: 0.0080 - val_acc: 0.0000e+00\n",
      "Epoch 135/200\n",
      "924/924 [==============================] - 7s 8ms/step - loss: 9.7257e-04 - acc: 0.0022 - val_loss: 0.0077 - val_acc: 0.0000e+00\n",
      "Epoch 136/200\n",
      "924/924 [==============================] - 7s 8ms/step - loss: 9.0871e-04 - acc: 0.0022 - val_loss: 0.0052 - val_acc: 0.0000e+00\n",
      "Epoch 137/200\n",
      "924/924 [==============================] - 7s 8ms/step - loss: 9.2233e-04 - acc: 0.0022 - val_loss: 0.0066 - val_acc: 0.0000e+00\n",
      "Epoch 138/200\n",
      "924/924 [==============================] - 7s 8ms/step - loss: 0.0011 - acc: 0.0022 - val_loss: 0.0052 - val_acc: 0.0000e+00\n",
      "Epoch 139/200\n",
      "924/924 [==============================] - 7s 8ms/step - loss: 6.5616e-04 - acc: 0.0022 - val_loss: 0.0101 - val_acc: 0.0000e+00\n",
      "Epoch 140/200\n",
      "924/924 [==============================] - 7s 8ms/step - loss: 8.6220e-04 - acc: 0.0022 - val_loss: 0.0035 - val_acc: 0.0000e+00\n",
      "Epoch 141/200\n",
      "924/924 [==============================] - 7s 8ms/step - loss: 8.2127e-04 - acc: 0.0022 - val_loss: 0.0051 - val_acc: 0.0000e+00\n",
      "Epoch 142/200\n",
      "924/924 [==============================] - 8s 8ms/step - loss: 5.6153e-04 - acc: 0.0022 - val_loss: 0.0114 - val_acc: 0.0000e+00\n",
      "Epoch 143/200\n",
      "924/924 [==============================] - 7s 8ms/step - loss: 0.0011 - acc: 0.0022 - val_loss: 0.0054 - val_acc: 0.0000e+00\n",
      "Epoch 144/200\n",
      "924/924 [==============================] - 8s 8ms/step - loss: 7.8401e-04 - acc: 0.0022 - val_loss: 0.0050 - val_acc: 0.0000e+00\n",
      "Epoch 145/200\n",
      "924/924 [==============================] - 8s 8ms/step - loss: 7.3239e-04 - acc: 0.0022 - val_loss: 0.0060 - val_acc: 0.0000e+00\n",
      "Epoch 146/200\n",
      "924/924 [==============================] - 7s 8ms/step - loss: 7.8019e-04 - acc: 0.0022 - val_loss: 0.0044 - val_acc: 0.0000e+00\n",
      "Epoch 147/200\n",
      "924/924 [==============================] - 7s 8ms/step - loss: 8.0583e-04 - acc: 0.0022 - val_loss: 0.0074 - val_acc: 0.0000e+00\n",
      "Epoch 148/200\n",
      "924/924 [==============================] - 7s 8ms/step - loss: 9.2289e-04 - acc: 0.0022 - val_loss: 0.0096 - val_acc: 0.0000e+00\n",
      "Epoch 149/200\n",
      "924/924 [==============================] - 7s 8ms/step - loss: 6.2822e-04 - acc: 0.0022 - val_loss: 0.0101 - val_acc: 0.0000e+00\n",
      "Epoch 150/200\n",
      "924/924 [==============================] - 7s 8ms/step - loss: 8.2045e-04 - acc: 0.0022 - val_loss: 0.0044 - val_acc: 0.0000e+00\n",
      "Epoch 151/200\n",
      "924/924 [==============================] - 8s 8ms/step - loss: 8.2822e-04 - acc: 0.0022 - val_loss: 0.0058 - val_acc: 0.0000e+00\n",
      "Epoch 152/200\n",
      "924/924 [==============================] - 7s 8ms/step - loss: 9.1939e-04 - acc: 0.0022 - val_loss: 0.0118 - val_acc: 0.0000e+00\n",
      "Epoch 153/200\n",
      "924/924 [==============================] - 7s 8ms/step - loss: 8.5474e-04 - acc: 0.0022 - val_loss: 0.0118 - val_acc: 0.0000e+00\n",
      "Epoch 154/200\n",
      "924/924 [==============================] - 7s 8ms/step - loss: 8.7207e-04 - acc: 0.0022 - val_loss: 0.0034 - val_acc: 0.0000e+00\n",
      "Epoch 155/200\n",
      "924/924 [==============================] - 7s 8ms/step - loss: 8.5247e-04 - acc: 0.0022 - val_loss: 0.0130 - val_acc: 0.0000e+00\n",
      "Epoch 156/200\n",
      "924/924 [==============================] - 7s 8ms/step - loss: 7.4664e-04 - acc: 0.0022 - val_loss: 0.0060 - val_acc: 0.0000e+00\n",
      "Epoch 157/200\n",
      "924/924 [==============================] - 7s 8ms/step - loss: 9.7645e-04 - acc: 0.0022 - val_loss: 0.0090 - val_acc: 0.0000e+00\n",
      "Epoch 158/200\n",
      "924/924 [==============================] - 7s 8ms/step - loss: 7.4791e-04 - acc: 0.0022 - val_loss: 0.0091 - val_acc: 0.0000e+00\n",
      "Epoch 159/200\n",
      "924/924 [==============================] - 7s 8ms/step - loss: 9.1648e-04 - acc: 0.0022 - val_loss: 0.0105 - val_acc: 0.0000e+00\n",
      "Epoch 160/200\n",
      "924/924 [==============================] - 7s 8ms/step - loss: 7.0198e-04 - acc: 0.0022 - val_loss: 0.0101 - val_acc: 0.0000e+00\n",
      "Epoch 161/200\n",
      "924/924 [==============================] - 7s 8ms/step - loss: 6.9756e-04 - acc: 0.0022 - val_loss: 0.0051 - val_acc: 0.0000e+00\n",
      "Epoch 162/200\n",
      "924/924 [==============================] - 7s 8ms/step - loss: 5.4207e-04 - acc: 0.0022 - val_loss: 0.0211 - val_acc: 0.0000e+00\n",
      "Epoch 163/200\n",
      "924/924 [==============================] - 7s 8ms/step - loss: 8.5367e-04 - acc: 0.0022 - val_loss: 0.0049 - val_acc: 0.0000e+00\n",
      "Epoch 164/200\n",
      "924/924 [==============================] - 7s 8ms/step - loss: 7.7662e-04 - acc: 0.0022 - val_loss: 0.0111 - val_acc: 0.0000e+00\n",
      "Epoch 165/200\n",
      "924/924 [==============================] - 7s 8ms/step - loss: 7.3888e-04 - acc: 0.0022 - val_loss: 0.0051 - val_acc: 0.0000e+00\n",
      "Epoch 166/200\n",
      "924/924 [==============================] - 7s 8ms/step - loss: 7.9439e-04 - acc: 0.0022 - val_loss: 0.0039 - val_acc: 0.0000e+00\n",
      "Epoch 167/200\n",
      "924/924 [==============================] - 7s 8ms/step - loss: 7.5999e-04 - acc: 0.0022 - val_loss: 0.0067 - val_acc: 0.0000e+00\n",
      "Epoch 168/200\n",
      "924/924 [==============================] - 7s 8ms/step - loss: 8.1353e-04 - acc: 0.0022 - val_loss: 0.0049 - val_acc: 0.0000e+00\n",
      "Epoch 169/200\n",
      "924/924 [==============================] - 7s 8ms/step - loss: 7.6309e-04 - acc: 0.0022 - val_loss: 0.0143 - val_acc: 0.0000e+00\n",
      "Epoch 170/200\n",
      "924/924 [==============================] - 7s 8ms/step - loss: 8.4690e-04 - acc: 0.0022 - val_loss: 0.0069 - val_acc: 0.0000e+00\n",
      "Epoch 171/200\n",
      "924/924 [==============================] - 7s 8ms/step - loss: 8.1055e-04 - acc: 0.0022 - val_loss: 0.0116 - val_acc: 0.0000e+00\n",
      "Epoch 172/200\n",
      "924/924 [==============================] - 7s 8ms/step - loss: 5.8783e-04 - acc: 0.0022 - val_loss: 0.0126 - val_acc: 0.0000e+00\n",
      "Epoch 173/200\n",
      "924/924 [==============================] - 7s 8ms/step - loss: 8.0624e-04 - acc: 0.0022 - val_loss: 0.0075 - val_acc: 0.0000e+00\n",
      "Epoch 174/200\n",
      "924/924 [==============================] - 7s 8ms/step - loss: 8.1576e-04 - acc: 0.0022 - val_loss: 0.0078 - val_acc: 0.0000e+00\n",
      "Epoch 175/200\n",
      "924/924 [==============================] - 7s 8ms/step - loss: 7.8789e-04 - acc: 0.0022 - val_loss: 0.0139 - val_acc: 0.0000e+00\n",
      "Epoch 176/200\n"
     ]
    },
    {
     "name": "stdout",
     "output_type": "stream",
     "text": [
      "924/924 [==============================] - 7s 7ms/step - loss: 6.1376e-04 - acc: 0.0022 - val_loss: 0.0164 - val_acc: 0.0000e+00\n",
      "Epoch 177/200\n",
      "924/924 [==============================] - 7s 8ms/step - loss: 7.1869e-04 - acc: 0.0022 - val_loss: 0.0076 - val_acc: 0.0000e+00\n",
      "Epoch 178/200\n",
      "924/924 [==============================] - 7s 7ms/step - loss: 6.7941e-04 - acc: 0.0022 - val_loss: 0.0146 - val_acc: 0.0000e+00\n",
      "Epoch 179/200\n",
      "924/924 [==============================] - 7s 7ms/step - loss: 7.4013e-04 - acc: 0.0022 - val_loss: 0.0133 - val_acc: 0.0000e+00\n",
      "Epoch 180/200\n",
      "924/924 [==============================] - 7s 7ms/step - loss: 7.2098e-04 - acc: 0.0022 - val_loss: 0.0061 - val_acc: 0.0000e+00\n",
      "Epoch 181/200\n",
      "924/924 [==============================] - 7s 7ms/step - loss: 8.1084e-04 - acc: 0.0022 - val_loss: 0.0074 - val_acc: 0.0000e+00\n",
      "Epoch 182/200\n",
      "924/924 [==============================] - 7s 7ms/step - loss: 6.5635e-04 - acc: 0.0022 - val_loss: 0.0090 - val_acc: 0.0000e+00\n",
      "Epoch 183/200\n",
      "924/924 [==============================] - 7s 8ms/step - loss: 7.0141e-04 - acc: 0.0022 - val_loss: 0.0100 - val_acc: 0.0000e+00\n",
      "Epoch 184/200\n",
      "924/924 [==============================] - 7s 8ms/step - loss: 6.1382e-04 - acc: 0.0022 - val_loss: 0.0047 - val_acc: 0.0000e+00\n",
      "Epoch 185/200\n",
      "924/924 [==============================] - 7s 8ms/step - loss: 6.5528e-04 - acc: 0.0022 - val_loss: 0.0056 - val_acc: 0.0000e+00\n",
      "Epoch 186/200\n",
      "924/924 [==============================] - 7s 8ms/step - loss: 8.1785e-04 - acc: 0.0022 - val_loss: 0.0133 - val_acc: 0.0000e+00\n",
      "Epoch 187/200\n",
      "924/924 [==============================] - 7s 7ms/step - loss: 5.5473e-04 - acc: 0.0022 - val_loss: 0.0054 - val_acc: 0.0000e+00\n",
      "Epoch 188/200\n",
      "924/924 [==============================] - 7s 8ms/step - loss: 6.5511e-04 - acc: 0.0022 - val_loss: 0.0068 - val_acc: 0.0000e+00\n",
      "Epoch 189/200\n",
      "924/924 [==============================] - 7s 8ms/step - loss: 9.6691e-04 - acc: 0.0022 - val_loss: 0.0066 - val_acc: 0.0000e+00\n",
      "Epoch 190/200\n",
      "924/924 [==============================] - 7s 8ms/step - loss: 7.0407e-04 - acc: 0.0022 - val_loss: 0.0045 - val_acc: 0.0000e+00\n",
      "Epoch 191/200\n",
      "924/924 [==============================] - 8s 8ms/step - loss: 5.9551e-04 - acc: 0.0022 - val_loss: 0.0048 - val_acc: 0.0000e+00\n",
      "Epoch 192/200\n",
      "924/924 [==============================] - 8s 8ms/step - loss: 7.8739e-04 - acc: 0.0022 - val_loss: 0.0058 - val_acc: 0.0000e+00\n",
      "Epoch 193/200\n",
      "924/924 [==============================] - 8s 8ms/step - loss: 6.4512e-04 - acc: 0.0022 - val_loss: 0.0080 - val_acc: 0.0000e+00\n",
      "Epoch 194/200\n",
      "924/924 [==============================] - 7s 8ms/step - loss: 6.4349e-04 - acc: 0.0022 - val_loss: 0.0119 - val_acc: 0.0000e+00\n",
      "Epoch 195/200\n",
      "924/924 [==============================] - 7s 8ms/step - loss: 5.9223e-04 - acc: 0.0022 - val_loss: 0.0075 - val_acc: 0.0000e+00\n",
      "Epoch 196/200\n",
      "924/924 [==============================] - 7s 8ms/step - loss: 6.2417e-04 - acc: 0.0022 - val_loss: 0.0067 - val_acc: 0.0000e+00\n",
      "Epoch 197/200\n",
      "924/924 [==============================] - 8s 9ms/step - loss: 8.1419e-04 - acc: 0.0022 - val_loss: 0.0098 - val_acc: 0.0000e+00\n",
      "Epoch 198/200\n",
      "924/924 [==============================] - 8s 9ms/step - loss: 6.7595e-04 - acc: 0.0022 - val_loss: 0.0100 - val_acc: 0.0000e+00\n",
      "Epoch 199/200\n",
      "924/924 [==============================] - 7s 8ms/step - loss: 5.8017e-04 - acc: 0.0022 - val_loss: 0.0059 - val_acc: 0.0000e+00\n",
      "Epoch 200/200\n",
      "924/924 [==============================] - 8s 9ms/step - loss: 7.0668e-04 - acc: 0.0022 - val_loss: 0.0103 - val_acc: 0.0000e+00\n"
     ]
    }
   ],
   "source": [
    "h = model.fit(X_train, y_train, batch_size=32, epochs=200, validation_data=[X_test, y_test])"
   ]
  },
  {
   "cell_type": "markdown",
   "metadata": {},
   "source": [
    "### 평가"
   ]
  },
  {
   "cell_type": "code",
   "execution_count": 25,
   "metadata": {},
   "outputs": [
    {
     "data": {
      "text/plain": [
       "Text(0.5,1,'Samsung - Stock price')"
      ]
     },
     "execution_count": 25,
     "metadata": {},
     "output_type": "execute_result"
    },
    {
     "data": {
      "image/png": "[encoded data removed]",
      "text/plain": [
       "<Figure size 864x432 with 1 Axes>"
      ]
     },
     "metadata": {},
     "output_type": "display_data"
    }
   ],
   "source": [
    "pred_y = model.predict(X_test)\n",
    "\n",
    "plt.figure(figsize=[12,6])\n",
    "plt.plot(pred_y.ravel(), 'r-', label='pred_y')\n",
    "plt.plot(y_test.ravel(), 'b-', label='y_test')\n",
    "plt.plot((pred_y-y_test).ravel(), 'g-', label='diff*10')\n",
    "plt.legend()\n",
    "plt.title('Samsung - Stock price')"
   ]
  },
  {
   "cell_type": "code",
   "execution_count": 24,
   "metadata": {},
   "outputs": [
    {
     "data": {
      "text/plain": [
       "Text(0.5,1,'Loss')"
      ]
     },
     "execution_count": 24,
     "metadata": {},
     "output_type": "execute_result"
    },
    {
     "data": {
      "image/png": "[encoded data removed]",
      "text/plain": [
       "<Figure size 432x288 with 1 Axes>"
      ]
     },
     "metadata": {},
     "output_type": "display_data"
    }
   ],
   "source": [
    "plt.plot(h.history['loss'], label='loss')\n",
    "plt.plot(h.history['val_loss'], label='val_loss')\n",
    "plt.legend()\n",
    "plt.title('Loss')"
   ]
  }
 ],
 "metadata": {
  "kernelspec": {
   "display_name": "Python 3",
   "language": "python",
   "name": "python3"
  },
  "language_info": {
   "codemirror_mode": {
    "name": "ipython",
    "version": 3
   },
   "file_extension": ".py",
   "mimetype": "text/x-python",
   "name": "python",
   "nbconvert_exporter": "python",
   "pygments_lexer": "ipython3",
   "version": "3.6.5"
  }
 },
 "nbformat": 4,
 "nbformat_minor": 2
}
