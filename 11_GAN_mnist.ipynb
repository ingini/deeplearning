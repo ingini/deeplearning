{
 "cells": [
  {
   "cell_type": "markdown",
   "metadata": {},
   "source": [
    "## 빅데이터 활용 AI 설계\n",
    "# DCGAN : MNIST"
   ]
  },
  {
   "cell_type": "markdown",
   "metadata": {},
   "source": [
    "- GAN : Generative Adversarial Networks\n",
    "- DCGAN : Deep Convolutional GAN\n",
    "- Generator(생성자) / Discriminator(판별자)"
   ]
  },
  {
   "cell_type": "markdown",
   "metadata": {},
   "source": [
    "<img src='https://skymind.ai/images/wiki/GANs.png' />\n",
    "(출처 : https://skymind.ai/wiki/generative-adversarial-network-gan?fbclid=IwAR0V4kAn9b5GReI9F-OWSUtRPOUgKuWasqPJvuhgL-4ihot_OqYSNAeKd6Y)"
   ]
  },
  {
   "cell_type": "code",
   "execution_count": 1,
   "metadata": {},
   "outputs": [],
   "source": [
    "import numpy as np\n",
    "import matplotlib.pyplot as plt"
   ]
  },
  {
   "cell_type": "markdown",
   "metadata": {},
   "source": [
    "### MNIST 로딩"
   ]
  },
  {
   "cell_type": "code",
   "execution_count": 2,
   "metadata": {},
   "outputs": [
    {
     "name": "stderr",
     "output_type": "stream",
     "text": [
      "C:\\Anaconda3\\envs\\py36\\lib\\site-packages\\h5py\\__init__.py:36: FutureWarning: Conversion of the second argument of issubdtype from `float` to `np.floating` is deprecated. In future, it will be treated as `np.float64 == np.dtype(float).type`.\n",
      "  from ._conv import register_converters as _register_converters\n",
      "Using TensorFlow backend.\n"
     ]
    }
   ],
   "source": [
    "from keras.datasets import mnist"
   ]
  },
  {
   "cell_type": "code",
   "execution_count": 3,
   "metadata": {},
   "outputs": [],
   "source": [
    "(X_train, y_train), (X_test, y_test) = mnist.load_data()"
   ]
  },
  {
   "cell_type": "code",
   "execution_count": 4,
   "metadata": {},
   "outputs": [],
   "source": [
    "X_train = X_train/255\n",
    "X_test = X_test/255"
   ]
  },
  {
   "cell_type": "code",
   "execution_count": 5,
   "metadata": {},
   "outputs": [
    {
     "data": {
      "text/plain": [
       "<matplotlib.colorbar.Colorbar at 0x181fbe844a8>"
      ]
     },
     "execution_count": 5,
     "metadata": {},
     "output_type": "execute_result"
    },
    {
     "data": {
      "image/png": "[encoded data removed]",
      "text/plain": [
       "<Figure size 432x288 with 2 Axes>"
      ]
     },
     "metadata": {},
     "output_type": "display_data"
    }
   ],
   "source": [
    "plt.imshow(X_train[0], cmap='gray')\n",
    "plt.colorbar()"
   ]
  },
  {
   "cell_type": "code",
   "execution_count": 6,
   "metadata": {},
   "outputs": [],
   "source": [
    "X_train = X_train[:,:,:,np.newaxis] # X_train.reshape(-1,28,28,1)\n",
    "X_test = X_test[:,:,:,np.newaxis]"
   ]
  },
  {
   "cell_type": "code",
   "execution_count": 7,
   "metadata": {},
   "outputs": [
    {
     "data": {
      "text/plain": [
       "((60000, 28, 28, 1), dtype('float64'), 1.0, 0.0)"
      ]
     },
     "execution_count": 7,
     "metadata": {},
     "output_type": "execute_result"
    }
   ],
   "source": [
    "X_train.shape, X_train.dtype, X_train.max(), X_train.min()"
   ]
  },
  {
   "cell_type": "code",
   "execution_count": 8,
   "metadata": {},
   "outputs": [
    {
     "data": {
      "text/plain": [
       "(10000, 28, 28, 1)"
      ]
     },
     "execution_count": 8,
     "metadata": {},
     "output_type": "execute_result"
    }
   ],
   "source": [
    "X_test.shape"
   ]
  },
  {
   "cell_type": "markdown",
   "metadata": {},
   "source": [
    "### 판별자 정의"
   ]
  },
  {
   "cell_type": "code",
   "execution_count": 9,
   "metadata": {},
   "outputs": [],
   "source": [
    "from keras.models import Model\n",
    "from keras.layers import Input, Dense, Conv2D, Conv2DTranspose, \\\n",
    "    Flatten, Reshape, LeakyReLU, BatchNormalization, Activation\n",
    "from keras.optimizers import RMSprop"
   ]
  },
  {
   "cell_type": "code",
   "execution_count": 21,
   "metadata": {},
   "outputs": [
    {
     "name": "stdout",
     "output_type": "stream",
     "text": [
      "_________________________________________________________________\n",
      "Layer (type)                 Output Shape              Param #   \n",
      "=================================================================\n",
      "input_5 (InputLayer)         (None, 28, 28, 1)         0         \n",
      "_________________________________________________________________\n",
      "leaky_re_lu_5 (LeakyReLU)    (None, 28, 28, 1)         0         \n",
      "_________________________________________________________________\n",
      "conv2d_5 (Conv2D)            (None, 14, 14, 32)        832       \n",
      "_________________________________________________________________\n",
      "leaky_re_lu_6 (LeakyReLU)    (None, 14, 14, 32)        0         \n",
      "_________________________________________________________________\n",
      "conv2d_6 (Conv2D)            (None, 7, 7, 64)          51264     \n",
      "_________________________________________________________________\n",
      "leaky_re_lu_7 (LeakyReLU)    (None, 7, 7, 64)          0         \n",
      "_________________________________________________________________\n",
      "conv2d_7 (Conv2D)            (None, 4, 4, 128)         204928    \n",
      "_________________________________________________________________\n",
      "leaky_re_lu_8 (LeakyReLU)    (None, 4, 4, 128)         0         \n",
      "_________________________________________________________________\n",
      "conv2d_8 (Conv2D)            (None, 4, 4, 256)         819456    \n",
      "_________________________________________________________________\n",
      "flatten_2 (Flatten)          (None, 4096)              0         \n",
      "_________________________________________________________________\n",
      "dense_5 (Dense)              (None, 1)                 4097      \n",
      "=================================================================\n",
      "Total params: 1,080,577\n",
      "Trainable params: 1,080,577\n",
      "Non-trainable params: 0\n",
      "_________________________________________________________________\n"
     ]
    }
   ],
   "source": [
    "input = Input((28,28,1))\n",
    "x = LeakyReLU(alpha=0.2)(input)\n",
    "\n",
    "x = Conv2D(32, (5,5), strides=2, padding='same')(x)\n",
    "x = LeakyReLU(alpha=0.2)(x)\n",
    "\n",
    "x = Conv2D(64, (5,5), strides=2, padding='same')(x)\n",
    "x = LeakyReLU(alpha=0.2)(x)\n",
    "\n",
    "x = Conv2D(128, (5,5), strides=2, padding='same')(x)\n",
    "x = LeakyReLU(alpha=0.2)(x)\n",
    "\n",
    "x = Conv2D(256, (5,5), strides=1, padding='same')(x)\n",
    "\n",
    "x = Flatten()(x)\n",
    "x = Dense(1, activation='sigmoid')(x)\n",
    "\n",
    "discriminator = Model(input, x)\n",
    "discriminator.summary()"
   ]
  },
  {
   "cell_type": "markdown",
   "metadata": {},
   "source": [
    "<img src='https://www.researchgate.net/profile/Sepp_Hochreiter/publication/284579051/figure/fig1/AS:614057178578955@1523414048184/The-rectified-linear-unit-ReLU-the-leaky-ReLU-LReLU-a-01-the-shifted-ReLUs.png' />\n",
    "(출처: https://www.researchgate.net/figure/The-rectified-linear-unit-ReLU-the-leaky-ReLU-LReLU-a-01-the-shifted-ReLUs_fig1_284579051)"
   ]
  },
  {
   "cell_type": "code",
   "execution_count": 22,
   "metadata": {},
   "outputs": [],
   "source": [
    "discriminator.compile(loss='binary_crossentropy',\n",
    "                      optimizer=RMSprop(lr=2e-4, decay=6e-8), metrics=['acc'])\n",
    "    # decay 값이 클수록 새롭게(처음으로) 변경되는 가중치를 많이 변화시킨다 (디폴트:0)"
   ]
  },
  {
   "cell_type": "markdown",
   "metadata": {},
   "source": [
    "### 생성자 정의"
   ]
  },
  {
   "cell_type": "code",
   "execution_count": 23,
   "metadata": {},
   "outputs": [
    {
     "name": "stdout",
     "output_type": "stream",
     "text": [
      "_________________________________________________________________\n",
      "Layer (type)                 Output Shape              Param #   \n",
      "=================================================================\n",
      "input_6 (InputLayer)         (None, 100)               0         \n",
      "_________________________________________________________________\n",
      "dense_6 (Dense)              (None, 6272)              633472    \n",
      "_________________________________________________________________\n",
      "reshape_4 (Reshape)          (None, 7, 7, 128)         0         \n",
      "_________________________________________________________________\n",
      "batch_normalization_5 (Batch (None, 7, 7, 128)         512       \n",
      "_________________________________________________________________\n",
      "activation_6 (Activation)    (None, 7, 7, 128)         0         \n",
      "_________________________________________________________________\n",
      "conv2d_transpose_5 (Conv2DTr (None, 14, 14, 128)       409728    \n",
      "_________________________________________________________________\n",
      "batch_normalization_6 (Batch (None, 14, 14, 128)       512       \n",
      "_________________________________________________________________\n",
      "activation_7 (Activation)    (None, 14, 14, 128)       0         \n",
      "_________________________________________________________________\n",
      "conv2d_transpose_6 (Conv2DTr (None, 28, 28, 64)        204864    \n",
      "_________________________________________________________________\n",
      "batch_normalization_7 (Batch (None, 28, 28, 64)        256       \n",
      "_________________________________________________________________\n",
      "activation_8 (Activation)    (None, 28, 28, 64)        0         \n",
      "_________________________________________________________________\n",
      "conv2d_transpose_7 (Conv2DTr (None, 28, 28, 32)        51232     \n",
      "_________________________________________________________________\n",
      "batch_normalization_8 (Batch (None, 28, 28, 32)        128       \n",
      "_________________________________________________________________\n",
      "activation_9 (Activation)    (None, 28, 28, 32)        0         \n",
      "_________________________________________________________________\n",
      "conv2d_transpose_8 (Conv2DTr (None, 28, 28, 1)         801       \n",
      "_________________________________________________________________\n",
      "activation_10 (Activation)   (None, 28, 28, 1)         0         \n",
      "=================================================================\n",
      "Total params: 1,301,505\n",
      "Trainable params: 1,300,801\n",
      "Non-trainable params: 704\n",
      "_________________________________________________________________\n"
     ]
    }
   ],
   "source": [
    "input2 = Input((100,)) # 생성벡터는 100차원\n",
    "\n",
    "x2 = Dense(7*7*128)(input2) # 랜덤 이미지가 입력됨\n",
    "\n",
    "x2 = Reshape((7,7,128))(x2)\n",
    "\n",
    "x2 = BatchNormalization()(x2)\n",
    "x2 = Activation('relu')(x2)\n",
    "\n",
    "x2 = Conv2DTranspose(128, (5,5), strides=2, padding='same')(x2)\n",
    "x2 = BatchNormalization()(x2)\n",
    "x2 = Activation('relu')(x2)\n",
    "\n",
    "x2 = Conv2DTranspose(64, (5,5), strides=2, padding='same')(x2)\n",
    "x2 = BatchNormalization()(x2)\n",
    "x2 = Activation('relu')(x2)\n",
    "\n",
    "x2 = Conv2DTranspose(32, (5,5), strides=1, padding='same')(x2)\n",
    "x2 = BatchNormalization()(x2)\n",
    "x2 = Activation('relu')(x2)\n",
    "\n",
    "x2 = Conv2DTranspose(1, (5,5), strides=1, padding='same')(x2)\n",
    "x2 = Activation('sigmoid')(x2)\n",
    "\n",
    "generator = Model(input2, x2)\n",
    "generator.summary()"
   ]
  },
  {
   "cell_type": "markdown",
   "metadata": {},
   "source": [
    "### 적대망 정의\n",
    "- 생성자로 생성한 이미지가 판별자에 의해 '실제이미지' 로 판별되도록 생성자의 가중치를 조절한다"
   ]
  },
  {
   "cell_type": "code",
   "execution_count": 24,
   "metadata": {},
   "outputs": [
    {
     "name": "stdout",
     "output_type": "stream",
     "text": [
      "_________________________________________________________________\n",
      "Layer (type)                 Output Shape              Param #   \n",
      "=================================================================\n",
      "input_6 (InputLayer)         (None, 100)               0         \n",
      "_________________________________________________________________\n",
      "model_5 (Model)              (None, 28, 28, 1)         1301505   \n",
      "_________________________________________________________________\n",
      "model_4 (Model)              (None, 1)                 1080577   \n",
      "=================================================================\n",
      "Total params: 2,382,082\n",
      "Trainable params: 1,300,801\n",
      "Non-trainable params: 1,081,281\n",
      "_________________________________________________________________\n"
     ]
    }
   ],
   "source": [
    "discriminator.trainable = False # 모델들을 연결하여 새로운 모델을 만들 때만 적용된다\n",
    "\n",
    "adversarial = Model(input2, discriminator(generator(input2)))\n",
    "adversarial.summary()"
   ]
  },
  {
   "cell_type": "code",
   "execution_count": 25,
   "metadata": {},
   "outputs": [],
   "source": [
    "adversarial.compile(loss='binary_crossentropy',\n",
    "            optimizer=RMSprop(lr=2e-4*0.5, decay=6e-8*0.5), metrics=['acc'])"
   ]
  },
  {
   "cell_type": "markdown",
   "metadata": {},
   "source": [
    "### 훈련하기\n",
    "- fake images: 0, real images: 1\n",
    "- 1 step 에 10초 정도 소요됨\n",
    "- C:\\khh\\프로그래밍\\CNN\\gan_images 폴더에 'fake_9.png' 형태로 저장함\n",
    "- 생성자 모델을 'gan_mnist_generator_1000.h5' 로 저장함"
   ]
  },
  {
   "cell_type": "code",
   "execution_count": 26,
   "metadata": {},
   "outputs": [
    {
     "name": "stderr",
     "output_type": "stream",
     "text": [
      "C:\\Anaconda3\\envs\\py36\\lib\\site-packages\\keras\\engine\\training.py:490: UserWarning: Discrepancy between trainable weights and collected trainable weights, did you set `model.trainable` without calling `model.compile` after ?\n",
      "  'Discrepancy between trainable weights and collected trainable'\n"
     ]
    },
    {
     "name": "stdout",
     "output_type": "stream",
     "text": [
      "Step: 00001,  [0.69109976, 0.6796875, 1.7023078, 0.0]\n",
      "Step: 00002,  [0.60281146, 0.5, 1.3037097, 0.0]\n",
      "Step: 00003,  [0.4454613, 0.9921875, 2.6661963, 0.0]\n",
      "Step: 00004,  [0.32630822, 0.9375, 0.9605808, 0.0]\n",
      "Step: 00005,  [0.36893046, 1.0, 4.9451456, 0.0]\n",
      "Step: 00006,  [0.33226445, 0.8515625, 2.2364511, 0.0]\n",
      "Step: 00007,  [0.09914254, 0.9921875, 1.5909146, 0.0]\n",
      "Step: 00008,  [0.071872056, 1.0, 1.1053394, 0.0]\n",
      "Step: 00009,  [0.060655043, 1.0, 0.6886014, 0.546875]\n",
      "Step: 00010,  [0.04756265, 0.9921875, 0.46726352, 0.96875]\n",
      "Step: 00011,  [0.030303545, 1.0, 0.38212228, 0.984375]\n",
      "Step: 00012,  [0.033970498, 0.9921875, 0.17008108, 1.0]\n",
      "Step: 00013,  [0.030593866, 1.0, 0.25443292, 1.0]\n",
      "Step: 00014,  [0.036132023, 1.0, 0.08582097, 1.0]\n",
      "Step: 00015,  [0.040165752, 1.0, 0.13420378, 1.0]\n",
      "Step: 00016,  [0.02516922, 1.0, 0.0875537, 1.0]\n",
      "Step: 00017,  [0.023972522, 0.9921875, 0.0827646, 1.0]\n",
      "Step: 00018,  [0.026030982, 0.9921875, 0.06526874, 1.0]\n",
      "Step: 00019,  [0.02324659, 1.0, 0.13073212, 1.0]\n",
      "Step: 00020,  [0.025903888, 0.9921875, 0.042040955, 1.0]\n"
     ]
    }
   ],
   "source": [
    "from keras.preprocessing import image\n",
    "\n",
    "batch_size = 64\n",
    "logs = [] # d_loss,d_acc,a_loss,a_acc\n",
    "\n",
    "for step in range(20): # 400\n",
    "    indices = np.random.randint(0, len(X_train), size=batch_size)\n",
    "    real_images = X_train[indices]\n",
    "    \n",
    "    gen_vectors = np.random.uniform(-1, 1, size=[batch_size,100])\n",
    "    fake_images = generator.predict(gen_vectors)\n",
    "    \n",
    "    X = np.r_[real_images, fake_images] # [batch_size*2,32,32,1]\n",
    "    y = np.r_[np.ones([batch_size,1]), np.zeros([batch_size,1])] # [batch_size*2,1]\n",
    "        # fake: 0, real: 1\n",
    "        \n",
    "    ###########\n",
    "    d_loss, d_acc = discriminator.train_on_batch(X, y)\n",
    "    \n",
    "    gen_vectors_2 = np.random.uniform(-1, 1, size=[batch_size,100])\n",
    "    ###########\n",
    "    a_loss, a_acc = adversarial.train_on_batch(gen_vectors_2, np.ones([batch_size,1]))\n",
    "            # 타겟값을 모두 1로 놓는다\n",
    "    \n",
    "    logs.append([d_loss,d_acc,a_loss,a_acc])\n",
    "    print('Step: %05d, ' % (step+1), logs[-1])\n",
    "    \n",
    "    if (step+1)%10 == 0:\n",
    "        adversarial.save_weights('gan_mnist.h5')\n",
    "    \n",
    "        img = image.array_to_img(fake_images[0]*255., scale=False)\n",
    "        img.save('gan_images/fake_'+str(step)+'.png')"
   ]
  },
  {
   "cell_type": "code",
   "execution_count": 27,
   "metadata": {},
   "outputs": [],
   "source": [
    "generator.save('gan_mnist_generator_20.h5')"
   ]
  },
  {
   "cell_type": "markdown",
   "metadata": {},
   "source": [
    "- 총 1000번 배치 실행 (이전 400번 + 신규 600번)"
   ]
  },
  {
   "cell_type": "code",
   "execution_count": 38,
   "metadata": {},
   "outputs": [
    {
     "name": "stderr",
     "output_type": "stream",
     "text": [
      "C:\\Anaconda3\\envs\\py36\\lib\\site-packages\\keras\\engine\\training.py:490: UserWarning: Discrepancy between trainable weights and collected trainable weights, did you set `model.trainable` without calling `model.compile` after ?\n",
      "  'Discrepancy between trainable weights and collected trainable'\n"
     ]
    },
    {
     "name": "stdout",
     "output_type": "stream",
     "text": [
      "Step: 00401, [0.600, 0.719, 0.907, 0.188]\n",
      "Step: 00402, [0.611, 0.680, 0.673, 0.578]\n",
      "Step: 00403, [0.604, 0.633, 1.126, 0.078]\n",
      "Step: 00404, [0.623, 0.641, 0.531, 0.812]\n",
      "Step: 00405, [0.664, 0.547, 1.288, 0.016]\n",
      "Step: 00406, [0.709, 0.555, 0.490, 0.844]\n",
      "Step: 00407, [0.706, 0.508, 1.568, 0.000]\n",
      "Step: 00408, [0.698, 0.562, 0.541, 0.781]\n",
      "Step: 00409, [0.710, 0.516, 1.197, 0.031]\n",
      "Step: 00410, [0.608, 0.656, 0.728, 0.453]\n",
      "Step: 00411, [0.572, 0.719, 0.889, 0.141]\n",
      "Step: 00412, [0.610, 0.703, 0.822, 0.219]\n",
      "Step: 00413, [0.606, 0.664, 1.181, 0.047]\n",
      "Step: 00414, [0.633, 0.648, 0.626, 0.656]\n",
      "Step: 00415, [0.655, 0.570, 1.514, 0.016]\n",
      "Step: 00416, [0.708, 0.539, 0.560, 0.766]\n",
      "Step: 00417, [0.655, 0.547, 1.259, 0.016]\n",
      "Step: 00418, [0.698, 0.562, 0.544, 0.812]\n",
      "Step: 00419, [0.636, 0.578, 1.112, 0.062]\n",
      "Step: 00420, [0.619, 0.664, 0.724, 0.484]\n",
      "Step: 00421, [0.587, 0.672, 0.978, 0.188]\n",
      "Step: 00422, [0.589, 0.703, 0.775, 0.375]\n",
      "Step: 00423, [0.627, 0.609, 0.988, 0.094]\n",
      "Step: 00424, [0.632, 0.656, 0.781, 0.344]\n",
      "Step: 00425, [0.595, 0.734, 1.047, 0.047]\n",
      "Step: 00426, [0.598, 0.719, 0.595, 0.781]\n",
      "Step: 00427, [0.659, 0.555, 1.339, 0.016]\n",
      "Step: 00428, [0.636, 0.609, 0.492, 0.844]\n",
      "Step: 00429, [0.569, 0.711, 0.805, 0.344]\n",
      "Step: 00430, [0.612, 0.664, 0.522, 0.828]\n",
      "Step: 00431, [0.655, 0.594, 1.216, 0.031]\n",
      "Step: 00432, [0.686, 0.562, 0.442, 0.938]\n",
      "Step: 00433, [0.736, 0.500, 1.535, 0.000]\n",
      "Step: 00434, [0.758, 0.523, 0.536, 0.859]\n",
      "Step: 00435, [0.682, 0.500, 1.273, 0.031]\n",
      "Step: 00436, [0.655, 0.586, 0.695, 0.469]\n",
      "Step: 00437, [0.605, 0.664, 1.021, 0.047]\n",
      "Step: 00438, [0.627, 0.617, 0.716, 0.484]\n",
      "Step: 00439, [0.617, 0.656, 1.073, 0.062]\n",
      "Step: 00440, [0.620, 0.656, 0.666, 0.547]\n",
      "Step: 00441, [0.641, 0.609, 1.334, 0.016]\n",
      "Step: 00442, [0.660, 0.570, 0.526, 0.828]\n",
      "Step: 00443, [0.632, 0.539, 1.330, 0.031]\n",
      "Step: 00444, [0.658, 0.633, 0.531, 0.797]\n",
      "Step: 00445, [0.625, 0.602, 1.133, 0.062]\n",
      "Step: 00446, [0.604, 0.609, 0.618, 0.688]\n",
      "Step: 00447, [0.642, 0.602, 1.009, 0.062]\n",
      "Step: 00448, [0.605, 0.680, 0.647, 0.609]\n",
      "Step: 00449, [0.599, 0.703, 0.962, 0.125]\n",
      "Step: 00450, [0.626, 0.656, 0.661, 0.609]\n",
      "Step: 00451, [0.633, 0.578, 1.157, 0.047]\n",
      "Step: 00452, [0.611, 0.641, 0.609, 0.703]\n",
      "Step: 00453, [0.644, 0.562, 1.254, 0.000]\n",
      "Step: 00454, [0.662, 0.570, 0.536, 0.828]\n",
      "Step: 00455, [0.650, 0.570, 1.309, 0.016]\n",
      "Step: 00456, [0.703, 0.555, 0.638, 0.688]\n",
      "Step: 00457, [0.636, 0.641, 1.132, 0.016]\n",
      "Step: 00458, [0.637, 0.594, 0.665, 0.641]\n",
      "Step: 00459, [0.625, 0.633, 1.280, 0.016]\n",
      "Step: 00460, [0.638, 0.602, 0.602, 0.734]\n",
      "Step: 00461, [0.600, 0.617, 1.012, 0.094]\n",
      "Step: 00462, [0.607, 0.727, 0.596, 0.688]\n",
      "Step: 00463, [0.607, 0.633, 1.021, 0.125]\n",
      "Step: 00464, [0.660, 0.625, 0.601, 0.688]\n",
      "Step: 00465, [0.646, 0.633, 1.088, 0.016]\n",
      "Step: 00466, [0.585, 0.695, 0.634, 0.625]\n",
      "Step: 00467, [0.624, 0.633, 1.406, 0.031]\n",
      "Step: 00468, [0.663, 0.570, 0.518, 0.859]\n",
      "Step: 00469, [0.678, 0.555, 1.500, 0.016]\n",
      "Step: 00470, [0.669, 0.586, 0.597, 0.766]\n",
      "Step: 00471, [0.638, 0.586, 1.183, 0.000]\n",
      "Step: 00472, [0.629, 0.641, 0.560, 0.859]\n",
      "Step: 00473, [0.591, 0.664, 0.812, 0.312]\n",
      "Step: 00474, [0.605, 0.680, 0.798, 0.359]\n",
      "Step: 00475, [0.603, 0.695, 0.956, 0.109]\n",
      "Step: 00476, [0.595, 0.711, 0.764, 0.375]\n",
      "Step: 00477, [0.615, 0.750, 1.249, 0.000]\n",
      "Step: 00478, [0.607, 0.656, 0.599, 0.734]\n",
      "Step: 00479, [0.622, 0.602, 1.351, 0.016]\n",
      "Step: 00480, [0.643, 0.617, 0.528, 0.859]\n",
      "Step: 00481, [0.625, 0.602, 1.175, 0.078]\n",
      "Step: 00482, [0.630, 0.609, 0.511, 0.859]\n",
      "Step: 00483, [0.622, 0.617, 1.221, 0.031]\n",
      "Step: 00484, [0.619, 0.641, 0.606, 0.703]\n",
      "Step: 00485, [0.671, 0.539, 1.415, 0.016]\n",
      "Step: 00486, [0.714, 0.578, 0.614, 0.672]\n",
      "Step: 00487, [0.697, 0.555, 1.179, 0.062]\n",
      "Step: 00488, [0.629, 0.609, 0.633, 0.703]\n",
      "Step: 00489, [0.587, 0.672, 1.039, 0.156]\n",
      "Step: 00490, [0.581, 0.711, 0.688, 0.578]\n",
      "Step: 00491, [0.571, 0.727, 1.122, 0.031]\n",
      "Step: 00492, [0.599, 0.734, 0.522, 0.828]\n",
      "Step: 00493, [0.616, 0.633, 1.192, 0.047]\n",
      "Step: 00494, [0.626, 0.602, 0.545, 0.734]\n",
      "Step: 00495, [0.621, 0.602, 1.083, 0.031]\n",
      "Step: 00496, [0.563, 0.680, 0.540, 0.781]\n",
      "Step: 00497, [0.616, 0.609, 0.961, 0.172]\n",
      "Step: 00498, [0.590, 0.719, 0.610, 0.734]\n",
      "Step: 00499, [0.618, 0.602, 1.384, 0.000]\n",
      "Step: 00500, [0.621, 0.617, 0.756, 0.453]\n",
      "Step: 00501, [0.633, 0.672, 1.473, 0.016]\n",
      "Step: 00502, [0.536, 0.703, 0.903, 0.203]\n",
      "Step: 00503, [0.631, 0.609, 1.078, 0.125]\n",
      "Step: 00504, [0.600, 0.656, 0.858, 0.312]\n",
      "Step: 00505, [0.579, 0.719, 1.003, 0.125]\n",
      "Step: 00506, [0.603, 0.703, 0.691, 0.594]\n",
      "Step: 00507, [0.564, 0.688, 1.226, 0.031]\n",
      "Step: 00508, [0.602, 0.695, 0.514, 0.844]\n",
      "Step: 00509, [0.596, 0.664, 1.335, 0.078]\n",
      "Step: 00510, [0.670, 0.609, 0.506, 0.812]\n",
      "Step: 00511, [0.760, 0.523, 1.541, 0.000]\n",
      "Step: 00512, [0.698, 0.586, 0.532, 0.828]\n",
      "Step: 00513, [0.635, 0.586, 1.108, 0.062]\n",
      "Step: 00514, [0.585, 0.703, 0.650, 0.688]\n",
      "Step: 00515, [0.644, 0.594, 1.195, 0.062]\n",
      "Step: 00516, [0.611, 0.672, 0.764, 0.422]\n",
      "Step: 00517, [0.606, 0.641, 1.312, 0.016]\n",
      "Step: 00518, [0.590, 0.688, 0.724, 0.484]\n",
      "Step: 00519, [0.586, 0.688, 1.075, 0.141]\n",
      "Step: 00520, [0.626, 0.680, 0.769, 0.484]\n",
      "Step: 00521, [0.595, 0.695, 1.223, 0.016]\n",
      "Step: 00522, [0.614, 0.688, 0.679, 0.578]\n",
      "Step: 00523, [0.559, 0.695, 0.922, 0.141]\n",
      "Step: 00524, [0.510, 0.812, 0.591, 0.719]\n",
      "Step: 00525, [0.582, 0.695, 1.047, 0.141]\n",
      "Step: 00526, [0.610, 0.641, 0.369, 0.953]\n",
      "Step: 00527, [0.782, 0.547, 1.612, 0.000]\n",
      "Step: 00528, [0.657, 0.586, 0.653, 0.641]\n",
      "Step: 00529, [0.632, 0.594, 1.272, 0.016]\n",
      "Step: 00530, [0.607, 0.672, 0.777, 0.406]\n",
      "Step: 00531, [0.597, 0.680, 1.456, 0.016]\n",
      "Step: 00532, [0.580, 0.688, 0.768, 0.438]\n",
      "Step: 00533, [0.641, 0.594, 1.331, 0.031]\n",
      "Step: 00534, [0.598, 0.703, 0.714, 0.500]\n",
      "Step: 00535, [0.589, 0.695, 0.946, 0.203]\n",
      "Step: 00536, [0.581, 0.742, 0.810, 0.391]\n",
      "Step: 00537, [0.556, 0.773, 0.866, 0.266]\n",
      "Step: 00538, [0.598, 0.695, 1.068, 0.047]\n",
      "Step: 00539, [0.586, 0.688, 0.609, 0.656]\n",
      "Step: 00540, [0.581, 0.680, 1.410, 0.000]\n",
      "Step: 00541, [0.608, 0.602, 0.472, 0.891]\n",
      "Step: 00542, [0.674, 0.539, 1.602, 0.000]\n",
      "Step: 00543, [0.700, 0.555, 0.527, 0.891]\n",
      "Step: 00544, [0.664, 0.562, 1.472, 0.000]\n",
      "Step: 00545, [0.652, 0.578, 0.723, 0.484]\n",
      "Step: 00546, [0.623, 0.602, 1.129, 0.125]\n",
      "Step: 00547, [0.584, 0.680, 0.791, 0.375]\n",
      "Step: 00548, [0.599, 0.711, 1.084, 0.047]\n",
      "Step: 00549, [0.593, 0.711, 0.772, 0.328]\n",
      "Step: 00550, [0.595, 0.695, 1.006, 0.094]\n",
      "Step: 00551, [0.575, 0.750, 0.625, 0.672]\n",
      "Step: 00552, [0.604, 0.648, 1.250, 0.047]\n",
      "Step: 00553, [0.572, 0.703, 0.547, 0.812]\n",
      "Step: 00554, [0.601, 0.586, 1.439, 0.016]\n",
      "Step: 00555, [0.660, 0.586, 0.499, 0.875]\n",
      "Step: 00556, [0.700, 0.578, 1.542, 0.016]\n",
      "Step: 00557, [0.635, 0.617, 0.615, 0.688]\n",
      "Step: 00558, [0.596, 0.680, 1.096, 0.047]\n",
      "Step: 00559, [0.571, 0.664, 0.656, 0.641]\n",
      "Step: 00560, [0.637, 0.602, 1.282, 0.016]\n",
      "Step: 00561, [0.583, 0.680, 0.670, 0.531]\n",
      "Step: 00562, [0.621, 0.609, 1.407, 0.047]\n",
      "Step: 00563, [0.610, 0.633, 0.589, 0.656]\n",
      "Step: 00564, [0.561, 0.688, 1.327, 0.016]\n",
      "Step: 00565, [0.613, 0.633, 0.538, 0.812]\n",
      "Step: 00566, [0.582, 0.695, 0.975, 0.266]\n",
      "Step: 00567, [0.632, 0.633, 0.795, 0.406]\n",
      "Step: 00568, [0.573, 0.664, 1.077, 0.094]\n",
      "Step: 00569, [0.580, 0.727, 0.729, 0.469]\n",
      "Step: 00570, [0.606, 0.695, 1.363, 0.016]\n",
      "Step: 00571, [0.609, 0.594, 0.577, 0.703]\n",
      "Step: 00572, [0.688, 0.594, 1.683, 0.000]\n",
      "Step: 00573, [0.683, 0.594, 0.657, 0.625]\n",
      "Step: 00574, [0.601, 0.617, 1.423, 0.000]\n",
      "Step: 00575, [0.617, 0.602, 0.598, 0.703]\n",
      "Step: 00576, [0.560, 0.719, 1.006, 0.156]\n",
      "Step: 00577, [0.580, 0.688, 0.795, 0.328]\n",
      "Step: 00578, [0.585, 0.750, 1.000, 0.172]\n",
      "Step: 00579, [0.578, 0.727, 0.880, 0.297]\n",
      "Step: 00580, [0.574, 0.711, 1.035, 0.094]\n",
      "Step: 00581, [0.586, 0.680, 0.650, 0.547]\n",
      "Step: 00582, [0.563, 0.727, 1.163, 0.078]\n",
      "Step: 00583, [0.590, 0.617, 0.577, 0.719]\n",
      "Step: 00584, [0.644, 0.625, 1.886, 0.016]\n",
      "Step: 00585, [0.745, 0.578, 0.590, 0.734]\n",
      "Step: 00586, [0.597, 0.648, 1.328, 0.016]\n",
      "Step: 00587, [0.607, 0.633, 0.607, 0.688]\n",
      "Step: 00588, [0.601, 0.633, 1.447, 0.031]\n",
      "Step: 00589, [0.631, 0.617, 0.678, 0.562]\n",
      "Step: 00590, [0.600, 0.609, 1.349, 0.000]\n",
      "Step: 00591, [0.554, 0.719, 0.765, 0.422]\n",
      "Step: 00592, [0.606, 0.680, 1.055, 0.109]\n",
      "Step: 00593, [0.598, 0.648, 0.970, 0.156]\n",
      "Step: 00594, [0.609, 0.664, 1.080, 0.109]\n",
      "Step: 00595, [0.551, 0.781, 0.843, 0.406]\n",
      "Step: 00596, [0.568, 0.719, 1.259, 0.016]\n"
     ]
    },
    {
     "name": "stdout",
     "output_type": "stream",
     "text": [
      "Step: 00597, [0.581, 0.688, 0.560, 0.719]\n",
      "Step: 00598, [0.617, 0.594, 1.697, 0.016]\n",
      "Step: 00599, [0.676, 0.578, 0.450, 0.844]\n",
      "Step: 00600, [0.635, 0.578, 1.215, 0.094]\n",
      "Step: 00601, [0.608, 0.641, 0.909, 0.266]\n",
      "Step: 00602, [0.555, 0.703, 1.139, 0.047]\n",
      "Step: 00603, [0.565, 0.680, 0.823, 0.312]\n",
      "Step: 00604, [0.583, 0.727, 1.379, 0.047]\n",
      "Step: 00605, [0.609, 0.641, 0.637, 0.531]\n",
      "Step: 00606, [0.629, 0.594, 1.431, 0.047]\n",
      "Step: 00607, [0.602, 0.641, 0.537, 0.812]\n",
      "Step: 00608, [0.591, 0.656, 1.318, 0.047]\n",
      "Step: 00609, [0.604, 0.656, 0.612, 0.719]\n",
      "Step: 00610, [0.591, 0.617, 1.462, 0.016]\n",
      "Step: 00611, [0.653, 0.594, 0.601, 0.734]\n",
      "Step: 00612, [0.541, 0.695, 1.088, 0.156]\n",
      "Step: 00613, [0.561, 0.734, 0.605, 0.672]\n",
      "Step: 00614, [0.547, 0.727, 1.015, 0.203]\n",
      "Step: 00615, [0.569, 0.742, 0.833, 0.375]\n",
      "Step: 00616, [0.560, 0.750, 1.148, 0.078]\n",
      "Step: 00617, [0.527, 0.727, 0.742, 0.469]\n",
      "Step: 00618, [0.573, 0.695, 1.315, 0.062]\n",
      "Step: 00619, [0.559, 0.664, 0.548, 0.719]\n",
      "Step: 00620, [0.665, 0.562, 1.839, 0.000]\n",
      "Step: 00621, [0.691, 0.586, 0.545, 0.766]\n",
      "Step: 00622, [0.644, 0.609, 1.534, 0.031]\n",
      "Step: 00623, [0.645, 0.625, 0.597, 0.703]\n",
      "Step: 00624, [0.604, 0.633, 1.277, 0.047]\n",
      "Step: 00625, [0.609, 0.641, 0.742, 0.547]\n",
      "Step: 00626, [0.570, 0.711, 1.449, 0.016]\n",
      "Step: 00627, [0.577, 0.672, 0.721, 0.562]\n",
      "Step: 00628, [0.545, 0.719, 1.307, 0.062]\n",
      "Step: 00629, [0.599, 0.664, 0.710, 0.547]\n",
      "Step: 00630, [0.596, 0.672, 1.454, 0.016]\n",
      "Step: 00631, [0.562, 0.695, 0.664, 0.625]\n",
      "Step: 00632, [0.585, 0.648, 1.072, 0.125]\n",
      "Step: 00633, [0.552, 0.742, 0.898, 0.219]\n",
      "Step: 00634, [0.554, 0.773, 0.911, 0.406]\n",
      "Step: 00635, [0.528, 0.789, 1.198, 0.109]\n",
      "Step: 00636, [0.554, 0.758, 0.779, 0.375]\n",
      "Step: 00637, [0.590, 0.648, 1.193, 0.078]\n",
      "Step: 00638, [0.550, 0.680, 0.731, 0.453]\n",
      "Step: 00639, [0.581, 0.703, 1.416, 0.031]\n",
      "Step: 00640, [0.657, 0.586, 0.371, 0.906]\n",
      "Step: 00641, [0.745, 0.539, 1.810, 0.031]\n",
      "Step: 00642, [0.723, 0.602, 0.672, 0.656]\n",
      "Step: 00643, [0.566, 0.648, 1.202, 0.125]\n",
      "Step: 00644, [0.602, 0.648, 0.771, 0.422]\n",
      "Step: 00645, [0.593, 0.711, 1.158, 0.141]\n",
      "Step: 00646, [0.562, 0.766, 0.881, 0.219]\n",
      "Step: 00647, [0.506, 0.820, 1.253, 0.062]\n",
      "Step: 00648, [0.602, 0.703, 0.686, 0.547]\n",
      "Step: 00649, [0.571, 0.664, 1.467, 0.031]\n",
      "Step: 00650, [0.634, 0.641, 0.583, 0.719]\n",
      "Step: 00651, [0.604, 0.641, 1.142, 0.047]\n",
      "Step: 00652, [0.573, 0.680, 0.608, 0.688]\n",
      "Step: 00653, [0.549, 0.664, 1.207, 0.078]\n",
      "Step: 00654, [0.550, 0.727, 0.607, 0.672]\n",
      "Step: 00655, [0.544, 0.703, 1.539, 0.016]\n",
      "Step: 00656, [0.608, 0.672, 0.591, 0.734]\n",
      "Step: 00657, [0.680, 0.586, 1.685, 0.000]\n",
      "Step: 00658, [0.692, 0.586, 0.535, 0.750]\n",
      "Step: 00659, [0.635, 0.539, 1.638, 0.016]\n",
      "Step: 00660, [0.642, 0.617, 0.703, 0.516]\n",
      "Step: 00661, [0.565, 0.711, 1.141, 0.047]\n",
      "Step: 00662, [0.568, 0.695, 0.876, 0.281]\n",
      "Step: 00663, [0.522, 0.781, 1.230, 0.047]\n",
      "Step: 00664, [0.563, 0.758, 0.791, 0.375]\n",
      "Step: 00665, [0.560, 0.727, 1.227, 0.109]\n",
      "Step: 00666, [0.612, 0.664, 0.665, 0.625]\n",
      "Step: 00667, [0.596, 0.648, 1.466, 0.016]\n",
      "Step: 00668, [0.637, 0.609, 0.678, 0.547]\n",
      "Step: 00669, [0.621, 0.609, 1.256, 0.031]\n",
      "Step: 00670, [0.615, 0.641, 0.693, 0.562]\n",
      "Step: 00671, [0.528, 0.750, 1.249, 0.047]\n",
      "Step: 00672, [0.560, 0.703, 0.886, 0.266]\n",
      "Step: 00673, [0.540, 0.711, 0.932, 0.234]\n",
      "Step: 00674, [0.538, 0.789, 0.984, 0.203]\n",
      "Step: 00675, [0.578, 0.680, 1.034, 0.172]\n",
      "Step: 00676, [0.535, 0.742, 0.759, 0.469]\n",
      "Step: 00677, [0.520, 0.781, 1.417, 0.109]\n",
      "Step: 00678, [0.574, 0.703, 0.446, 0.906]\n",
      "Step: 00679, [0.703, 0.555, 2.089, 0.016]\n",
      "Step: 00680, [0.817, 0.570, 0.604, 0.688]\n",
      "Step: 00681, [0.664, 0.555, 1.378, 0.062]\n",
      "Step: 00682, [0.655, 0.602, 0.723, 0.531]\n",
      "Step: 00683, [0.620, 0.641, 1.178, 0.109]\n",
      "Step: 00684, [0.567, 0.672, 0.796, 0.406]\n",
      "Step: 00685, [0.618, 0.680, 1.345, 0.125]\n",
      "Step: 00686, [0.628, 0.641, 0.724, 0.469]\n",
      "Step: 00687, [0.598, 0.727, 1.154, 0.078]\n",
      "Step: 00688, [0.577, 0.703, 0.826, 0.375]\n",
      "Step: 00689, [0.575, 0.695, 1.361, 0.016]\n",
      "Step: 00690, [0.644, 0.648, 0.499, 0.844]\n",
      "Step: 00691, [0.637, 0.602, 1.341, 0.031]\n",
      "Step: 00692, [0.625, 0.633, 0.605, 0.641]\n",
      "Step: 00693, [0.596, 0.656, 1.486, 0.016]\n",
      "Step: 00694, [0.621, 0.609, 0.667, 0.531]\n",
      "Step: 00695, [0.629, 0.625, 1.407, 0.000]\n",
      "Step: 00696, [0.615, 0.617, 0.672, 0.625]\n",
      "Step: 00697, [0.604, 0.664, 1.316, 0.047]\n",
      "Step: 00698, [0.587, 0.688, 0.687, 0.500]\n",
      "Step: 00699, [0.539, 0.734, 1.193, 0.094]\n",
      "Step: 00700, [0.584, 0.688, 0.670, 0.547]\n",
      "Step: 00701, [0.554, 0.680, 1.412, 0.078]\n",
      "Step: 00702, [0.599, 0.656, 0.666, 0.609]\n",
      "Step: 00703, [0.603, 0.641, 1.387, 0.016]\n",
      "Step: 00704, [0.581, 0.695, 0.695, 0.547]\n",
      "Step: 00705, [0.580, 0.672, 1.236, 0.031]\n",
      "Step: 00706, [0.609, 0.656, 0.667, 0.578]\n",
      "Step: 00707, [0.592, 0.617, 1.419, 0.031]\n",
      "Step: 00708, [0.622, 0.602, 0.593, 0.641]\n",
      "Step: 00709, [0.631, 0.688, 1.333, 0.031]\n",
      "Step: 00710, [0.605, 0.664, 0.585, 0.750]\n",
      "Step: 00711, [0.666, 0.617, 1.459, 0.031]\n",
      "Step: 00712, [0.562, 0.648, 0.704, 0.516]\n",
      "Step: 00713, [0.563, 0.672, 1.152, 0.062]\n",
      "Step: 00714, [0.564, 0.695, 0.753, 0.453]\n",
      "Step: 00715, [0.564, 0.703, 1.071, 0.125]\n",
      "Step: 00716, [0.557, 0.719, 0.657, 0.562]\n",
      "Step: 00717, [0.584, 0.656, 1.584, 0.031]\n",
      "Step: 00718, [0.629, 0.586, 0.548, 0.750]\n",
      "Step: 00719, [0.643, 0.609, 1.559, 0.047]\n",
      "Step: 00720, [0.676, 0.547, 0.496, 0.812]\n",
      "Step: 00721, [0.640, 0.586, 1.329, 0.094]\n",
      "Step: 00722, [0.625, 0.617, 0.664, 0.594]\n",
      "Step: 00723, [0.570, 0.734, 1.300, 0.141]\n",
      "Step: 00724, [0.634, 0.578, 0.884, 0.297]\n",
      "Step: 00725, [0.587, 0.680, 0.953, 0.188]\n",
      "Step: 00726, [0.584, 0.711, 0.830, 0.438]\n",
      "Step: 00727, [0.580, 0.703, 0.921, 0.281]\n",
      "Step: 00728, [0.565, 0.773, 1.023, 0.219]\n",
      "Step: 00729, [0.596, 0.680, 0.752, 0.453]\n",
      "Step: 00730, [0.567, 0.703, 1.163, 0.094]\n",
      "Step: 00731, [0.548, 0.734, 0.654, 0.531]\n",
      "Step: 00732, [0.593, 0.688, 1.367, 0.000]\n",
      "Step: 00733, [0.629, 0.641, 0.553, 0.734]\n",
      "Step: 00734, [0.641, 0.633, 1.526, 0.016]\n",
      "Step: 00735, [0.625, 0.586, 0.629, 0.594]\n",
      "Step: 00736, [0.567, 0.680, 1.474, 0.031]\n",
      "Step: 00737, [0.633, 0.648, 0.589, 0.750]\n",
      "Step: 00738, [0.624, 0.617, 1.337, 0.031]\n",
      "Step: 00739, [0.615, 0.648, 0.689, 0.578]\n",
      "Step: 00740, [0.606, 0.656, 1.246, 0.078]\n",
      "Step: 00741, [0.571, 0.734, 0.704, 0.516]\n",
      "Step: 00742, [0.616, 0.664, 1.125, 0.078]\n",
      "Step: 00743, [0.574, 0.664, 0.740, 0.453]\n",
      "Step: 00744, [0.570, 0.672, 1.338, 0.047]\n",
      "Step: 00745, [0.604, 0.648, 0.589, 0.719]\n",
      "Step: 00746, [0.665, 0.609, 1.411, 0.000]\n",
      "Step: 00747, [0.687, 0.570, 0.589, 0.688]\n",
      "Step: 00748, [0.645, 0.586, 1.328, 0.047]\n",
      "Step: 00749, [0.611, 0.672, 0.765, 0.438]\n",
      "Step: 00750, [0.573, 0.688, 1.127, 0.078]\n",
      "Step: 00751, [0.589, 0.727, 0.742, 0.516]\n",
      "Step: 00752, [0.594, 0.664, 0.987, 0.234]\n",
      "Step: 00753, [0.584, 0.672, 0.815, 0.344]\n",
      "Step: 00754, [0.582, 0.727, 1.189, 0.078]\n",
      "Step: 00755, [0.626, 0.602, 0.493, 0.859]\n",
      "Step: 00756, [0.643, 0.578, 1.484, 0.062]\n",
      "Step: 00757, [0.655, 0.594, 0.604, 0.672]\n",
      "Step: 00758, [0.567, 0.648, 1.280, 0.094]\n",
      "Step: 00759, [0.585, 0.688, 0.724, 0.516]\n",
      "Step: 00760, [0.607, 0.680, 1.154, 0.047]\n",
      "Step: 00761, [0.562, 0.703, 0.651, 0.656]\n",
      "Step: 00762, [0.589, 0.641, 1.476, 0.047]\n",
      "Step: 00763, [0.586, 0.641, 0.678, 0.500]\n",
      "Step: 00764, [0.543, 0.719, 1.273, 0.094]\n",
      "Step: 00765, [0.612, 0.656, 0.567, 0.719]\n",
      "Step: 00766, [0.636, 0.617, 1.415, 0.062]\n",
      "Step: 00767, [0.707, 0.547, 0.471, 0.859]\n",
      "Step: 00768, [0.638, 0.586, 1.251, 0.016]\n",
      "Step: 00769, [0.590, 0.672, 0.824, 0.359]\n",
      "Step: 00770, [0.593, 0.680, 1.050, 0.219]\n",
      "Step: 00771, [0.630, 0.594, 0.731, 0.500]\n",
      "Step: 00772, [0.602, 0.656, 1.064, 0.141]\n",
      "Step: 00773, [0.566, 0.711, 0.852, 0.234]\n",
      "Step: 00774, [0.534, 0.773, 0.999, 0.281]\n",
      "Step: 00775, [0.577, 0.688, 0.723, 0.500]\n",
      "Step: 00776, [0.571, 0.734, 1.263, 0.078]\n",
      "Step: 00777, [0.628, 0.656, 0.638, 0.688]\n",
      "Step: 00778, [0.623, 0.594, 1.512, 0.016]\n",
      "Step: 00779, [0.629, 0.656, 0.683, 0.578]\n",
      "Step: 00780, [0.613, 0.664, 1.321, 0.062]\n",
      "Step: 00781, [0.634, 0.633, 0.648, 0.609]\n",
      "Step: 00782, [0.609, 0.672, 1.241, 0.047]\n",
      "Step: 00783, [0.630, 0.648, 0.634, 0.688]\n",
      "Step: 00784, [0.595, 0.633, 1.309, 0.031]\n",
      "Step: 00785, [0.633, 0.633, 0.675, 0.562]\n",
      "Step: 00786, [0.621, 0.648, 1.412, 0.031]\n",
      "Step: 00787, [0.683, 0.578, 0.647, 0.594]\n",
      "Step: 00788, [0.637, 0.594, 1.263, 0.062]\n",
      "Step: 00789, [0.590, 0.656, 0.785, 0.484]\n",
      "Step: 00790, [0.618, 0.672, 1.154, 0.109]\n",
      "Step: 00791, [0.551, 0.734, 0.656, 0.578]\n",
      "Step: 00792, [0.578, 0.742, 1.039, 0.172]\n"
     ]
    },
    {
     "name": "stdout",
     "output_type": "stream",
     "text": [
      "Step: 00793, [0.600, 0.664, 0.796, 0.391]\n",
      "Step: 00794, [0.547, 0.727, 1.374, 0.047]\n",
      "Step: 00795, [0.610, 0.625, 0.577, 0.719]\n",
      "Step: 00796, [0.688, 0.594, 1.511, 0.047]\n",
      "Step: 00797, [0.718, 0.555, 0.495, 0.828]\n",
      "Step: 00798, [0.674, 0.562, 1.445, 0.016]\n",
      "Step: 00799, [0.583, 0.680, 0.705, 0.516]\n",
      "Step: 00800, [0.609, 0.625, 1.259, 0.031]\n",
      "Step: 00801, [0.615, 0.656, 0.707, 0.594]\n",
      "Step: 00802, [0.700, 0.555, 1.177, 0.172]\n",
      "Step: 00803, [0.596, 0.719, 0.689, 0.484]\n",
      "Step: 00804, [0.611, 0.656, 1.259, 0.094]\n",
      "Step: 00805, [0.607, 0.656, 0.652, 0.578]\n",
      "Step: 00806, [0.622, 0.695, 1.423, 0.031]\n",
      "Step: 00807, [0.671, 0.617, 0.535, 0.734]\n",
      "Step: 00808, [0.667, 0.570, 1.305, 0.016]\n",
      "Step: 00809, [0.617, 0.656, 0.631, 0.656]\n",
      "Step: 00810, [0.662, 0.602, 1.076, 0.156]\n",
      "Step: 00811, [0.596, 0.703, 0.730, 0.453]\n",
      "Step: 00812, [0.590, 0.719, 1.033, 0.141]\n",
      "Step: 00813, [0.567, 0.758, 0.808, 0.391]\n",
      "Step: 00814, [0.615, 0.688, 0.794, 0.406]\n",
      "Step: 00815, [0.552, 0.766, 0.948, 0.188]\n",
      "Step: 00816, [0.569, 0.789, 0.789, 0.422]\n",
      "Step: 00817, [0.577, 0.656, 1.094, 0.141]\n",
      "Step: 00818, [0.586, 0.688, 0.747, 0.500]\n",
      "Step: 00819, [0.572, 0.688, 1.430, 0.078]\n",
      "Step: 00820, [0.631, 0.656, 0.610, 0.719]\n",
      "Step: 00821, [0.656, 0.578, 1.442, 0.031]\n",
      "Step: 00822, [0.624, 0.625, 0.569, 0.703]\n",
      "Step: 00823, [0.665, 0.578, 1.513, 0.016]\n",
      "Step: 00824, [0.665, 0.609, 0.727, 0.500]\n",
      "Step: 00825, [0.591, 0.727, 1.097, 0.141]\n",
      "Step: 00826, [0.581, 0.711, 0.808, 0.359]\n",
      "Step: 00827, [0.572, 0.734, 0.997, 0.219]\n",
      "Step: 00828, [0.603, 0.656, 0.772, 0.422]\n",
      "Step: 00829, [0.588, 0.695, 1.236, 0.094]\n",
      "Step: 00830, [0.602, 0.672, 0.669, 0.625]\n",
      "Step: 00831, [0.663, 0.594, 1.409, 0.047]\n",
      "Step: 00832, [0.620, 0.664, 0.480, 0.781]\n",
      "Step: 00833, [0.594, 0.617, 1.202, 0.109]\n",
      "Step: 00834, [0.624, 0.641, 0.782, 0.422]\n",
      "Step: 00835, [0.565, 0.719, 1.006, 0.234]\n",
      "Step: 00836, [0.567, 0.703, 0.771, 0.438]\n",
      "Step: 00837, [0.558, 0.734, 1.305, 0.062]\n",
      "Step: 00838, [0.613, 0.656, 0.439, 0.922]\n",
      "Step: 00839, [0.672, 0.539, 1.538, 0.094]\n",
      "Step: 00840, [0.718, 0.586, 0.554, 0.719]\n",
      "Step: 00841, [0.671, 0.562, 1.326, 0.062]\n",
      "Step: 00842, [0.639, 0.633, 0.637, 0.641]\n",
      "Step: 00843, [0.645, 0.570, 1.218, 0.078]\n",
      "Step: 00844, [0.548, 0.727, 0.790, 0.375]\n",
      "Step: 00845, [0.608, 0.695, 1.008, 0.188]\n",
      "Step: 00846, [0.576, 0.688, 0.788, 0.453]\n",
      "Step: 00847, [0.583, 0.695, 1.157, 0.141]\n",
      "Step: 00848, [0.585, 0.688, 0.856, 0.281]\n",
      "Step: 00849, [0.588, 0.680, 0.998, 0.203]\n",
      "Step: 00850, [0.596, 0.664, 0.870, 0.250]\n",
      "Step: 00851, [0.613, 0.625, 1.024, 0.156]\n",
      "Step: 00852, [0.588, 0.719, 0.722, 0.500]\n",
      "Step: 00853, [0.596, 0.703, 1.422, 0.047]\n",
      "Step: 00854, [0.712, 0.555, 0.493, 0.812]\n",
      "Step: 00855, [0.704, 0.555, 1.537, 0.016]\n",
      "Step: 00856, [0.650, 0.586, 0.614, 0.672]\n",
      "Step: 00857, [0.601, 0.625, 1.278, 0.047]\n",
      "Step: 00858, [0.592, 0.648, 0.729, 0.516]\n",
      "Step: 00859, [0.634, 0.625, 1.420, 0.062]\n",
      "Step: 00860, [0.625, 0.617, 0.671, 0.594]\n",
      "Step: 00861, [0.627, 0.641, 1.194, 0.109]\n",
      "Step: 00862, [0.586, 0.672, 0.662, 0.562]\n",
      "Step: 00863, [0.583, 0.688, 1.033, 0.188]\n",
      "Step: 00864, [0.580, 0.742, 0.719, 0.594]\n",
      "Step: 00865, [0.623, 0.641, 1.217, 0.109]\n",
      "Step: 00866, [0.580, 0.711, 0.601, 0.688]\n",
      "Step: 00867, [0.585, 0.695, 1.032, 0.219]\n",
      "Step: 00868, [0.639, 0.625, 0.754, 0.500]\n",
      "Step: 00869, [0.613, 0.664, 1.227, 0.031]\n",
      "Step: 00870, [0.642, 0.609, 0.539, 0.734]\n",
      "Step: 00871, [0.649, 0.586, 1.550, 0.031]\n",
      "Step: 00872, [0.648, 0.609, 0.595, 0.688]\n",
      "Step: 00873, [0.632, 0.570, 1.263, 0.031]\n",
      "Step: 00874, [0.629, 0.672, 0.693, 0.562]\n",
      "Step: 00875, [0.601, 0.641, 1.021, 0.141]\n",
      "Step: 00876, [0.591, 0.672, 0.754, 0.453]\n",
      "Step: 00877, [0.603, 0.633, 1.118, 0.094]\n",
      "Step: 00878, [0.642, 0.617, 0.643, 0.656]\n",
      "Step: 00879, [0.593, 0.680, 1.387, 0.062]\n",
      "Step: 00880, [0.643, 0.578, 0.659, 0.562]\n",
      "Step: 00881, [0.605, 0.648, 1.268, 0.094]\n",
      "Step: 00882, [0.652, 0.602, 0.727, 0.609]\n",
      "Step: 00883, [0.586, 0.672, 1.392, 0.062]\n",
      "Step: 00884, [0.594, 0.672, 0.622, 0.734]\n",
      "Step: 00885, [0.662, 0.586, 1.315, 0.031]\n",
      "Step: 00886, [0.656, 0.586, 0.705, 0.547]\n",
      "Step: 00887, [0.609, 0.625, 1.195, 0.031]\n",
      "Step: 00888, [0.645, 0.641, 0.667, 0.531]\n",
      "Step: 00889, [0.573, 0.711, 1.103, 0.109]\n",
      "Step: 00890, [0.566, 0.742, 0.844, 0.359]\n",
      "Step: 00891, [0.601, 0.688, 1.241, 0.000]\n",
      "Step: 00892, [0.609, 0.648, 0.600, 0.719]\n",
      "Step: 00893, [0.610, 0.672, 1.239, 0.062]\n",
      "Step: 00894, [0.594, 0.656, 0.721, 0.484]\n",
      "Step: 00895, [0.622, 0.617, 1.337, 0.047]\n",
      "Step: 00896, [0.667, 0.602, 0.640, 0.625]\n",
      "Step: 00897, [0.660, 0.594, 1.458, 0.016]\n",
      "Step: 00898, [0.676, 0.617, 0.594, 0.703]\n",
      "Step: 00899, [0.617, 0.609, 1.252, 0.062]\n",
      "Step: 00900, [0.607, 0.633, 0.633, 0.703]\n",
      "Step: 00901, [0.606, 0.648, 1.205, 0.047]\n",
      "Step: 00902, [0.547, 0.758, 0.712, 0.547]\n",
      "Step: 00903, [0.626, 0.625, 0.960, 0.250]\n",
      "Step: 00904, [0.611, 0.641, 0.701, 0.500]\n",
      "Step: 00905, [0.571, 0.766, 0.894, 0.203]\n",
      "Step: 00906, [0.574, 0.664, 0.905, 0.250]\n",
      "Step: 00907, [0.556, 0.773, 0.919, 0.297]\n",
      "Step: 00908, [0.579, 0.688, 0.821, 0.344]\n",
      "Step: 00909, [0.630, 0.680, 0.988, 0.156]\n",
      "Step: 00910, [0.603, 0.664, 1.048, 0.250]\n",
      "Step: 00911, [0.621, 0.617, 0.841, 0.375]\n",
      "Step: 00912, [0.584, 0.766, 1.031, 0.219]\n",
      "Step: 00913, [0.600, 0.672, 0.834, 0.375]\n",
      "Step: 00914, [0.573, 0.695, 1.081, 0.125]\n",
      "Step: 00915, [0.579, 0.664, 0.558, 0.750]\n",
      "Step: 00916, [0.615, 0.656, 1.927, 0.031]\n",
      "Step: 00917, [0.788, 0.555, 0.399, 0.891]\n",
      "Step: 00918, [0.686, 0.562, 1.332, 0.078]\n",
      "Step: 00919, [0.608, 0.641, 0.750, 0.500]\n",
      "Step: 00920, [0.648, 0.633, 1.288, 0.047]\n",
      "Step: 00921, [0.571, 0.680, 0.638, 0.562]\n",
      "Step: 00922, [0.650, 0.602, 1.295, 0.078]\n",
      "Step: 00923, [0.658, 0.578, 0.648, 0.609]\n",
      "Step: 00924, [0.656, 0.602, 1.290, 0.094]\n",
      "Step: 00925, [0.575, 0.734, 0.728, 0.484]\n",
      "Step: 00926, [0.623, 0.625, 1.207, 0.094]\n",
      "Step: 00927, [0.574, 0.719, 0.767, 0.453]\n",
      "Step: 00928, [0.641, 0.555, 1.294, 0.016]\n",
      "Step: 00929, [0.597, 0.625, 0.675, 0.578]\n",
      "Step: 00930, [0.589, 0.625, 1.207, 0.141]\n",
      "Step: 00931, [0.609, 0.656, 0.700, 0.531]\n",
      "Step: 00932, [0.568, 0.711, 1.096, 0.172]\n",
      "Step: 00933, [0.602, 0.680, 0.717, 0.578]\n",
      "Step: 00934, [0.624, 0.648, 1.291, 0.062]\n",
      "Step: 00935, [0.595, 0.695, 0.526, 0.859]\n",
      "Step: 00936, [0.630, 0.570, 1.355, 0.047]\n",
      "Step: 00937, [0.644, 0.609, 0.505, 0.812]\n",
      "Step: 00938, [0.767, 0.531, 1.362, 0.016]\n",
      "Step: 00939, [0.634, 0.641, 0.644, 0.625]\n",
      "Step: 00940, [0.606, 0.688, 1.130, 0.078]\n",
      "Step: 00941, [0.578, 0.742, 0.765, 0.375]\n",
      "Step: 00942, [0.601, 0.695, 1.202, 0.109]\n",
      "Step: 00943, [0.622, 0.625, 0.773, 0.453]\n",
      "Step: 00944, [0.603, 0.688, 1.121, 0.141]\n",
      "Step: 00945, [0.651, 0.625, 0.760, 0.500]\n",
      "Step: 00946, [0.603, 0.656, 1.258, 0.031]\n",
      "Step: 00947, [0.582, 0.727, 0.797, 0.359]\n",
      "Step: 00948, [0.547, 0.727, 1.056, 0.156]\n",
      "Step: 00949, [0.595, 0.688, 0.657, 0.609]\n",
      "Step: 00950, [0.660, 0.570, 1.374, 0.062]\n",
      "Step: 00951, [0.667, 0.586, 0.582, 0.750]\n",
      "Step: 00952, [0.639, 0.609, 1.237, 0.125]\n",
      "Step: 00953, [0.663, 0.625, 0.576, 0.703]\n",
      "Step: 00954, [0.705, 0.578, 1.176, 0.078]\n",
      "Step: 00955, [0.674, 0.602, 0.552, 0.828]\n",
      "Step: 00956, [0.655, 0.562, 1.294, 0.062]\n",
      "Step: 00957, [0.618, 0.633, 0.716, 0.547]\n",
      "Step: 00958, [0.623, 0.617, 1.103, 0.156]\n",
      "Step: 00959, [0.605, 0.672, 0.768, 0.406]\n",
      "Step: 00960, [0.603, 0.695, 1.105, 0.188]\n",
      "Step: 00961, [0.589, 0.695, 0.954, 0.219]\n",
      "Step: 00962, [0.609, 0.672, 0.857, 0.328]\n",
      "Step: 00963, [0.618, 0.703, 1.050, 0.156]\n",
      "Step: 00964, [0.585, 0.680, 0.729, 0.453]\n",
      "Step: 00965, [0.562, 0.711, 1.176, 0.156]\n",
      "Step: 00966, [0.603, 0.648, 0.588, 0.734]\n",
      "Step: 00967, [0.644, 0.602, 1.608, 0.031]\n",
      "Step: 00968, [0.673, 0.578, 0.603, 0.641]\n",
      "Step: 00969, [0.710, 0.547, 1.498, 0.031]\n",
      "Step: 00970, [0.634, 0.609, 0.652, 0.547]\n",
      "Step: 00971, [0.643, 0.633, 1.234, 0.094]\n",
      "Step: 00972, [0.611, 0.680, 0.744, 0.469]\n",
      "Step: 00973, [0.612, 0.688, 0.985, 0.219]\n",
      "Step: 00974, [0.568, 0.727, 0.965, 0.234]\n",
      "Step: 00975, [0.653, 0.641, 0.853, 0.266]\n",
      "Step: 00976, [0.617, 0.672, 0.977, 0.109]\n",
      "Step: 00977, [0.596, 0.719, 0.873, 0.375]\n",
      "Step: 00978, [0.530, 0.805, 0.939, 0.297]\n",
      "Step: 00979, [0.595, 0.680, 0.835, 0.312]\n",
      "Step: 00980, [0.590, 0.672, 1.147, 0.219]\n",
      "Step: 00981, [0.679, 0.586, 0.560, 0.719]\n",
      "Step: 00982, [0.674, 0.602, 1.475, 0.047]\n",
      "Step: 00983, [0.635, 0.609, 0.638, 0.672]\n",
      "Step: 00984, [0.625, 0.625, 1.196, 0.078]\n",
      "Step: 00985, [0.587, 0.688, 0.718, 0.484]\n",
      "Step: 00986, [0.604, 0.641, 1.192, 0.125]\n",
      "Step: 00987, [0.663, 0.594, 0.619, 0.641]\n",
      "Step: 00988, [0.613, 0.602, 1.484, 0.031]\n"
     ]
    },
    {
     "name": "stdout",
     "output_type": "stream",
     "text": [
      "Step: 00989, [0.605, 0.641, 0.642, 0.672]\n",
      "Step: 00990, [0.585, 0.648, 1.292, 0.078]\n",
      "Step: 00991, [0.607, 0.664, 0.738, 0.406]\n",
      "Step: 00992, [0.623, 0.656, 1.091, 0.156]\n",
      "Step: 00993, [0.536, 0.773, 0.912, 0.266]\n",
      "Step: 00994, [0.595, 0.680, 1.148, 0.109]\n",
      "Step: 00995, [0.614, 0.672, 0.686, 0.672]\n",
      "Step: 00996, [0.646, 0.602, 1.600, 0.016]\n",
      "Step: 00997, [0.707, 0.570, 0.710, 0.438]\n",
      "Step: 00998, [0.630, 0.609, 1.274, 0.047]\n",
      "Step: 00999, [0.638, 0.609, 0.569, 0.703]\n",
      "Step: 01000, [0.665, 0.555, 1.167, 0.094]\n"
     ]
    }
   ],
   "source": [
    "from keras.preprocessing import image\n",
    "\n",
    "batch_size = 64\n",
    "\n",
    "for step in range(400,1000): # 40000\n",
    "    idx = np.random.randint(0, len(X_train), size=batch_size)\n",
    "    real_images = X_train[idx]\n",
    "    \n",
    "    gen_vectors = np.random.uniform(-1, 1, size=[batch_size,100])\n",
    "    fake_images = generator.predict(gen_vectors)\n",
    "    \n",
    "    X = np.r_[real_images, fake_images] # [batch_size*2,32,32,1]\n",
    "    y = np.r_[np.ones([batch_size,1]), np.zeros([batch_size,1])] # [batch_size*2,1]\n",
    "        # fake: 0, real: 1\n",
    "        \n",
    "    ###########\n",
    "    d_loss, d_acc = discriminator.train_on_batch(X, y)\n",
    "    \n",
    "    gen_vectors_2 = np.random.uniform(-1, 1, size=[batch_size,100])\n",
    "    ###########\n",
    "    a_loss, a_acc = adversarial.train_on_batch(gen_vectors_2, np.ones([batch_size,1]))\n",
    "    \n",
    "    logs.append([d_loss,d_acc,a_loss,a_acc])\n",
    "    print('Step: %05d, [%.3f, %.3f, %.3f, %.3f]' % (step+1,d_loss,d_acc,a_loss,a_acc))\n",
    "    \n",
    "    if (step+1)%10 == 0:\n",
    "        adversarial.save_weights('gan_mnist.h5')\n",
    "    \n",
    "        img = image.array_to_img(fake_images[0]*255., scale=False)\n",
    "        img.save('gan_images/fake_'+str(step)+'.png')"
   ]
  },
  {
   "cell_type": "code",
   "execution_count": 40,
   "metadata": {},
   "outputs": [],
   "source": [
    "generator.save('gan_mnist_generator_1000.h5')"
   ]
  },
  {
   "cell_type": "code",
   "execution_count": 43,
   "metadata": {},
   "outputs": [],
   "source": [
    "np.save('gan_mnist_log.npy', logs)"
   ]
  },
  {
   "cell_type": "markdown",
   "metadata": {},
   "source": [
    "### 결과 분석"
   ]
  },
  {
   "cell_type": "code",
   "execution_count": 47,
   "metadata": {},
   "outputs": [
    {
     "data": {
      "text/plain": [
       "<matplotlib.legend.Legend at 0x190ee70e358>"
      ]
     },
     "execution_count": 47,
     "metadata": {},
     "output_type": "execute_result"
    },
    {
     "data": {
      "image/png": "[encoded data removed]",
      "text/plain": [
       "<Figure size 432x288 with 1 Axes>"
      ]
     },
     "metadata": {},
     "output_type": "display_data"
    }
   ],
   "source": [
    "plt.plot([i[0] for i in logs][::10], 'b-', label='d_loss')\n",
    "plt.plot([i[2] for i in logs][::10], 'r-', label='a_loss')\n",
    "plt.legend()"
   ]
  },
  {
   "cell_type": "code",
   "execution_count": 46,
   "metadata": {
    "scrolled": true
   },
   "outputs": [
    {
     "data": {
      "text/plain": [
       "<matplotlib.legend.Legend at 0x190ee797390>"
      ]
     },
     "execution_count": 46,
     "metadata": {},
     "output_type": "execute_result"
    },
    {
     "data": {
      "image/png": "[encoded data removed]",
      "text/plain": [
       "<Figure size 432x288 with 1 Axes>"
      ]
     },
     "metadata": {},
     "output_type": "display_data"
    }
   ],
   "source": [
    "plt.plot([i[1] for i in logs][::10], 'b-', label='d_acc')\n",
    "plt.plot([i[3] for i in logs][::10], 'r-', label='a_acc')\n",
    "plt.legend()"
   ]
  },
  {
   "cell_type": "markdown",
   "metadata": {},
   "source": [
    "- 결과 비교\n",
    "<img src='https://d33wubrfki0l68.cloudfront.net/1439d140302850f4652f4def43d264b7afa39e65/81f84/assets/images/gan-intro/mnistkeras_19_0.png' />\n",
    "(출처: https://www.wouterbulten.nl/blog/tech/getting-started-with-generative-adversarial-networks/)"
   ]
  },
  {
   "cell_type": "markdown",
   "metadata": {},
   "source": [
    "### 숫자 이미지 생성"
   ]
  },
  {
   "cell_type": "code",
   "execution_count": 29,
   "metadata": {},
   "outputs": [],
   "source": [
    "from keras.models import load_model\n",
    "\n",
    "#generator = load_model('gan_mnist_generator_1000.h5')"
   ]
  },
  {
   "cell_type": "code",
   "execution_count": 41,
   "metadata": {},
   "outputs": [
    {
     "data": {
      "image/png": "[encoded data removed]",
      "text/plain": [
       "<Figure size 720x720 with 100 Axes>"
      ]
     },
     "metadata": {},
     "output_type": "display_data"
    }
   ],
   "source": [
    "vectors = np.random.uniform(-1, 1, size=[100,100])\n",
    "images = generator.predict(vectors)\n",
    "\n",
    "plt.figure(figsize=[10,10])\n",
    "for i in range(100):\n",
    "    plt.subplot(10,10,i+1)\n",
    "    plt.imshow(images[i].reshape(28,28), cmap='gray')\n",
    "    plt.axis('off')"
   ]
  },
  {
   "cell_type": "markdown",
   "metadata": {},
   "source": [
    "### Fashion MNIST"
   ]
  },
  {
   "cell_type": "code",
   "execution_count": 30,
   "metadata": {},
   "outputs": [],
   "source": [
    "from keras.datasets.fashion_mnist import load_data"
   ]
  },
  {
   "cell_type": "code",
   "execution_count": 31,
   "metadata": {},
   "outputs": [
    {
     "name": "stdout",
     "output_type": "stream",
     "text": [
      "Downloading data from http://fashion-mnist.s3-website.eu-central-1.amazonaws.com/train-labels-idx1-ubyte.gz\n",
      "32768/29515 [=================================] - 0s 8us/step\n",
      "Downloading data from http://fashion-mnist.s3-website.eu-central-1.amazonaws.com/train-images-idx3-ubyte.gz\n",
      "26427392/26421880 [==============================] - 21s 1us/step\n",
      "Downloading data from http://fashion-mnist.s3-website.eu-central-1.amazonaws.com/t10k-labels-idx1-ubyte.gz\n",
      "8192/5148 [===============================================] - 0s 0us/step\n",
      "Downloading data from http://fashion-mnist.s3-website.eu-central-1.amazonaws.com/t10k-images-idx3-ubyte.gz\n",
      "4423680/4422102 [==============================] - 6s 1us/step\n"
     ]
    }
   ],
   "source": [
    "fmnist = load_data()"
   ]
  },
  {
   "cell_type": "code",
   "execution_count": 33,
   "metadata": {},
   "outputs": [
    {
     "data": {
      "text/plain": [
       "(10000, 28, 28)"
      ]
     },
     "execution_count": 33,
     "metadata": {},
     "output_type": "execute_result"
    }
   ],
   "source": [
    "fmnist[1][0].shape"
   ]
  },
  {
   "cell_type": "code",
   "execution_count": null,
   "metadata": {},
   "outputs": [],
   "source": []
  }
 ],
 "metadata": {
  "kernelspec": {
   "display_name": "Python 3",
   "language": "python",
   "name": "python3"
  },
  "language_info": {
   "codemirror_mode": {
    "name": "ipython",
    "version": 3
   },
   "file_extension": ".py",
   "mimetype": "text/x-python",
   "name": "python",
   "nbconvert_exporter": "python",
   "pygments_lexer": "ipython3",
   "version": "3.6.5"
  }
 },
 "nbformat": 4,
 "nbformat_minor": 2
}
