{
 "cells": [
  {
   "cell_type": "markdown",
   "metadata": {
    "colab_type": "text",
    "id": "DqCytZF3z_JD"
   },
   "source": [
    "## 빅데이터 활용 AI 설계\n",
    "# AutoEncoder : Cifar-10 적용"
   ]
  },
  {
   "cell_type": "code",
   "execution_count": 0,
   "metadata": {
    "colab": {},
    "colab_type": "code",
    "id": "OThttceiz_JK"
   },
   "outputs": [],
   "source": [
    "import numpy as np\n",
    "import matplotlib.pyplot as plt"
   ]
  },
  {
   "cell_type": "markdown",
   "metadata": {
    "colab_type": "text",
    "id": "S9s7V4aRz_JZ"
   },
   "source": [
    "### Cifar-10 로딩"
   ]
  },
  {
   "cell_type": "code",
   "execution_count": 2,
   "metadata": {
    "colab": {
     "base_uri": "https://localhost:8080/",
     "height": 71
    },
    "colab_type": "code",
    "executionInfo": {
     "elapsed": 18631,
     "status": "ok",
     "timestamp": 1567123097962,
     "user": {
      "displayName": "김현호",
      "photoUrl": "",
      "userId": "07006419333685471592"
     },
     "user_tz": -540
    },
    "id": "8Wf7t-qBz_Je",
    "outputId": "4fb0ac16-2925-4b2b-fa61-f2705a8b740e"
   },
   "outputs": [
    {
     "name": "stderr",
     "output_type": "stream",
     "text": [
      "Using TensorFlow backend.\n"
     ]
    },
    {
     "name": "stdout",
     "output_type": "stream",
     "text": [
      "Downloading data from https://www.cs.toronto.edu/~kriz/cifar-10-python.tar.gz\n",
      "170500096/170498071 [==============================] - 11s 0us/step\n"
     ]
    }
   ],
   "source": [
    "from keras.datasets import cifar10\n",
    "\n",
    "(X_train, y_train), (_, _) = cifar10.load_data()"
   ]
  },
  {
   "cell_type": "code",
   "execution_count": 3,
   "metadata": {
    "colab": {
     "base_uri": "https://localhost:8080/",
     "height": 35
    },
    "colab_type": "code",
    "executionInfo": {
     "elapsed": 18579,
     "status": "ok",
     "timestamp": 1567123097971,
     "user": {
      "displayName": "김현호",
      "photoUrl": "",
      "userId": "07006419333685471592"
     },
     "user_tz": -540
    },
    "id": "0bsZsBpVz_Jx",
    "outputId": "335f62f0-54f4-4006-a732-79a4b33f10a7"
   },
   "outputs": [
    {
     "data": {
      "text/plain": [
       "((50000, 32, 32, 3), dtype('uint8'), 255, 0)"
      ]
     },
     "execution_count": 3,
     "metadata": {
      "tags": []
     },
     "output_type": "execute_result"
    }
   ],
   "source": [
    "X_train.shape, X_train.dtype, X_train.max(), X_train.min()"
   ]
  },
  {
   "cell_type": "code",
   "execution_count": 4,
   "metadata": {
    "colab": {
     "base_uri": "https://localhost:8080/",
     "height": 215
    },
    "colab_type": "code",
    "executionInfo": {
     "elapsed": 18533,
     "status": "ok",
     "timestamp": 1567123097974,
     "user": {
      "displayName": "김현호",
      "photoUrl": "",
      "userId": "07006419333685471592"
     },
     "user_tz": -540
    },
    "id": "ycy9XUZMz_KC",
    "outputId": "7e33b97f-eb67-4972-ada0-2213817e9482"
   },
   "outputs": [
    {
     "data": {
      "text/plain": [
       "(50000, 1)"
      ]
     },
     "metadata": {
      "tags": []
     },
     "output_type": "display_data"
    },
    {
     "data": {
      "text/plain": [
       "array([[6],\n",
       "       [9],\n",
       "       [9],\n",
       "       [4],\n",
       "       [1],\n",
       "       [1],\n",
       "       [2],\n",
       "       [7],\n",
       "       [8],\n",
       "       [3]], dtype=uint8)"
      ]
     },
     "metadata": {
      "tags": []
     },
     "output_type": "display_data"
    }
   ],
   "source": [
    "display(y_train.shape, y_train[:10])"
   ]
  },
  {
   "cell_type": "code",
   "execution_count": 0,
   "metadata": {
    "colab": {},
    "colab_type": "code",
    "id": "swE_GHedz_KS"
   },
   "outputs": [],
   "source": [
    "X_train = X_train[y_train.ravel()==1]/255 # 자동차"
   ]
  },
  {
   "cell_type": "code",
   "execution_count": 6,
   "metadata": {
    "colab": {
     "base_uri": "https://localhost:8080/",
     "height": 35
    },
    "colab_type": "code",
    "executionInfo": {
     "elapsed": 18477,
     "status": "ok",
     "timestamp": 1567123097989,
     "user": {
      "displayName": "김현호",
      "photoUrl": "",
      "userId": "07006419333685471592"
     },
     "user_tz": -540
    },
    "id": "6Op7iS2Sz_Kg",
    "outputId": "7b5dc344-2664-4868-b44d-dea16014b971"
   },
   "outputs": [
    {
     "data": {
      "text/plain": [
       "((5000, 32, 32, 3), dtype('float64'), 1.0, 0.0)"
      ]
     },
     "execution_count": 6,
     "metadata": {
      "tags": []
     },
     "output_type": "execute_result"
    }
   ],
   "source": [
    "X_train.shape, X_train.dtype, X_train.max(), X_train.min()"
   ]
  },
  {
   "cell_type": "markdown",
   "metadata": {
    "colab_type": "text",
    "id": "APac_kuFz_Kw"
   },
   "source": [
    "### 흑백사진으로 변환"
   ]
  },
  {
   "cell_type": "code",
   "execution_count": 0,
   "metadata": {
    "colab": {},
    "colab_type": "code",
    "id": "aXai986Ez_K2"
   },
   "outputs": [],
   "source": [
    "X_train = X_train.mean(axis=-1)[:,:,:,np.newaxis]"
   ]
  },
  {
   "cell_type": "code",
   "execution_count": 8,
   "metadata": {
    "colab": {
     "base_uri": "https://localhost:8080/",
     "height": 35
    },
    "colab_type": "code",
    "executionInfo": {
     "elapsed": 18932,
     "status": "ok",
     "timestamp": 1567123098516,
     "user": {
      "displayName": "김현호",
      "photoUrl": "",
      "userId": "07006419333685471592"
     },
     "user_tz": -540
    },
    "id": "hQNkjKUBz_LE",
    "outputId": "4ba81299-9229-4a95-f523-928f835b4158"
   },
   "outputs": [
    {
     "data": {
      "text/plain": [
       "((5000, 32, 32, 1), dtype('float64'), 1.0, 0.0)"
      ]
     },
     "execution_count": 8,
     "metadata": {
      "tags": []
     },
     "output_type": "execute_result"
    }
   ],
   "source": [
    "X_train.shape, X_train.dtype, X_train.max(), X_train.min()"
   ]
  },
  {
   "cell_type": "code",
   "execution_count": 9,
   "metadata": {
    "colab": {
     "base_uri": "https://localhost:8080/",
     "height": 287
    },
    "colab_type": "code",
    "executionInfo": {
     "elapsed": 11555,
     "status": "ok",
     "timestamp": 1567123098521,
     "user": {
      "displayName": "김현호",
      "photoUrl": "",
      "userId": "07006419333685471592"
     },
     "user_tz": -540
    },
    "id": "jx-OdQyqz_LR",
    "outputId": "f2988485-bf5d-4894-f0d6-4684c90c74cf"
   },
   "outputs": [
    {
     "data": {
      "text/plain": [
       "<matplotlib.colorbar.Colorbar at 0x7f31ba1e3198>"
      ]
     },
     "execution_count": 9,
     "metadata": {
      "tags": []
     },
     "output_type": "execute_result"
    },
    {
     "data": {
      "image/png": "[encoded data removed]",
      "text/plain": [
       "<Figure size 432x288 with 2 Axes>"
      ]
     },
     "metadata": {
      "tags": []
     },
     "output_type": "display_data"
    }
   ],
   "source": [
    "plt.imshow(X_train[0,:,:,0], cmap='gray') # 32*32*1 이므로 채널값을 0으로 놓음\n",
    "plt.colorbar()"
   ]
  },
  {
   "cell_type": "markdown",
   "metadata": {
    "colab_type": "text",
    "id": "XV-Mxuy0z_Lf"
   },
   "source": [
    "### 인코더 생성"
   ]
  },
  {
   "cell_type": "code",
   "execution_count": 0,
   "metadata": {
    "colab": {},
    "colab_type": "code",
    "id": "DqzFWTijz_Lj"
   },
   "outputs": [],
   "source": [
    "from keras.models import Model\n",
    "from keras.layers import Input, Conv2D, Flatten, Dense, Reshape, Conv2DTranspose"
   ]
  },
  {
   "cell_type": "code",
   "execution_count": 11,
   "metadata": {
    "colab": {
     "base_uri": "https://localhost:8080/",
     "height": 163
    },
    "colab_type": "code",
    "executionInfo": {
     "elapsed": 2100,
     "status": "ok",
     "timestamp": 1567123105512,
     "user": {
      "displayName": "김현호",
      "photoUrl": "",
      "userId": "07006419333685471592"
     },
     "user_tz": -540
    },
    "id": "zow9-tnJz_Lw",
    "outputId": "36002aa3-b36a-478e-af6e-73e1d96f36ec"
   },
   "outputs": [
    {
     "name": "stderr",
     "output_type": "stream",
     "text": [
      "WARNING: Logging before flag parsing goes to stderr.\n",
      "W0829 23:58:23.800564 139853073024896 deprecation_wrapper.py:119] From /usr/local/lib/python3.6/dist-packages/keras/backend/tensorflow_backend.py:66: The name tf.get_default_graph is deprecated. Please use tf.compat.v1.get_default_graph instead.\n",
      "\n",
      "W0829 23:58:23.844767 139853073024896 deprecation_wrapper.py:119] From /usr/local/lib/python3.6/dist-packages/keras/backend/tensorflow_backend.py:541: The name tf.placeholder is deprecated. Please use tf.compat.v1.placeholder instead.\n",
      "\n",
      "W0829 23:58:23.854745 139853073024896 deprecation_wrapper.py:119] From /usr/local/lib/python3.6/dist-packages/keras/backend/tensorflow_backend.py:4432: The name tf.random_uniform is deprecated. Please use tf.random.uniform instead.\n",
      "\n"
     ]
    }
   ],
   "source": [
    "input = Input((32,32,1))\n",
    "\n",
    "x = Conv2D(32, (3,3), strides=2, padding='same', activation='relu')(input)\n",
    "x = Conv2D(64, (3,3), strides=2, padding='same', activation='relu')(x)\n",
    "x = Conv2D(128, (3,3), strides=2, padding='same', activation='relu')(x)\n",
    "\n",
    "x = Flatten()(x)\n",
    "latent = Dense(10)(x)"
   ]
  },
  {
   "cell_type": "markdown",
   "metadata": {
    "colab_type": "text",
    "id": "TuafdoL2z_L8"
   },
   "source": [
    "- 인코더의 출력은 10개의 벡터값이다.\n",
    "- 이 값을 잠재공간벡터(latent vector) 라고 한다.\n",
    "- 즉, 28\\*28\\*1 의 이미지를 10개의 숫자로 축약하였다."
   ]
  },
  {
   "cell_type": "code",
   "execution_count": 12,
   "metadata": {
    "colab": {
     "base_uri": "https://localhost:8080/",
     "height": 377
    },
    "colab_type": "code",
    "executionInfo": {
     "elapsed": 627,
     "status": "ok",
     "timestamp": 1567123105955,
     "user": {
      "displayName": "김현호",
      "photoUrl": "",
      "userId": "07006419333685471592"
     },
     "user_tz": -540
    },
    "id": "q9TYLBavz_MB",
    "outputId": "cc56bada-46e6-48d0-f6f1-495e90d49426"
   },
   "outputs": [
    {
     "name": "stdout",
     "output_type": "stream",
     "text": [
      "Model: \"model_1\"\n",
      "_________________________________________________________________\n",
      "Layer (type)                 Output Shape              Param #   \n",
      "=================================================================\n",
      "input_1 (InputLayer)         (None, 32, 32, 1)         0         \n",
      "_________________________________________________________________\n",
      "conv2d_1 (Conv2D)            (None, 16, 16, 32)        320       \n",
      "_________________________________________________________________\n",
      "conv2d_2 (Conv2D)            (None, 8, 8, 64)          18496     \n",
      "_________________________________________________________________\n",
      "conv2d_3 (Conv2D)            (None, 4, 4, 128)         73856     \n",
      "_________________________________________________________________\n",
      "flatten_1 (Flatten)          (None, 2048)              0         \n",
      "_________________________________________________________________\n",
      "dense_1 (Dense)              (None, 10)                20490     \n",
      "=================================================================\n",
      "Total params: 113,162\n",
      "Trainable params: 113,162\n",
      "Non-trainable params: 0\n",
      "_________________________________________________________________\n"
     ]
    }
   ],
   "source": [
    "encoder = Model(input, latent)\n",
    "\n",
    "encoder.summary()"
   ]
  },
  {
   "cell_type": "markdown",
   "metadata": {
    "colab_type": "text",
    "id": "WB-L2Yorz_MO"
   },
   "source": [
    "### 디코더 생성"
   ]
  },
  {
   "cell_type": "code",
   "execution_count": 0,
   "metadata": {
    "colab": {},
    "colab_type": "code",
    "id": "4P9im45Sz_MS"
   },
   "outputs": [],
   "source": [
    "input2 = Input((10,))\n",
    "\n",
    "x2 = Dense(4*4*128, activation='relu')(input2)\n",
    "x2 = Reshape((4,4,128))(x2)\n",
    "\n",
    "x2 = Conv2DTranspose(64, (3,3), strides=2, padding='same', activation='relu')(x2)\n",
    "x2 = Conv2DTranspose(32, (3,3), strides=2, padding='same', activation='relu')(x2)\n",
    "\n",
    "output = Conv2DTranspose(1, (3,3), strides=2, padding='same', activation='relu')(x2)"
   ]
  },
  {
   "cell_type": "code",
   "execution_count": 14,
   "metadata": {
    "colab": {
     "base_uri": "https://localhost:8080/",
     "height": 377
    },
    "colab_type": "code",
    "executionInfo": {
     "elapsed": 1044,
     "status": "ok",
     "timestamp": 1567123112462,
     "user": {
      "displayName": "김현호",
      "photoUrl": "",
      "userId": "07006419333685471592"
     },
     "user_tz": -540
    },
    "id": "RVVAJ5H_z_Mf",
    "outputId": "af8c7dbc-d603-4dd6-d0b9-355cff8ef3fc"
   },
   "outputs": [
    {
     "name": "stdout",
     "output_type": "stream",
     "text": [
      "Model: \"model_2\"\n",
      "_________________________________________________________________\n",
      "Layer (type)                 Output Shape              Param #   \n",
      "=================================================================\n",
      "input_2 (InputLayer)         (None, 10)                0         \n",
      "_________________________________________________________________\n",
      "dense_2 (Dense)              (None, 2048)              22528     \n",
      "_________________________________________________________________\n",
      "reshape_1 (Reshape)          (None, 4, 4, 128)         0         \n",
      "_________________________________________________________________\n",
      "conv2d_transpose_1 (Conv2DTr (None, 8, 8, 64)          73792     \n",
      "_________________________________________________________________\n",
      "conv2d_transpose_2 (Conv2DTr (None, 16, 16, 32)        18464     \n",
      "_________________________________________________________________\n",
      "conv2d_transpose_3 (Conv2DTr (None, 32, 32, 1)         289       \n",
      "=================================================================\n",
      "Total params: 115,073\n",
      "Trainable params: 115,073\n",
      "Non-trainable params: 0\n",
      "_________________________________________________________________\n"
     ]
    }
   ],
   "source": [
    "decoder = Model(input2, output)\n",
    "\n",
    "decoder.summary()"
   ]
  },
  {
   "cell_type": "markdown",
   "metadata": {
    "colab_type": "text",
    "id": "UKA03vDvz_Mt"
   },
   "source": [
    "### 오토인코더 구성"
   ]
  },
  {
   "cell_type": "code",
   "execution_count": 15,
   "metadata": {
    "colab": {
     "base_uri": "https://localhost:8080/",
     "height": 269
    },
    "colab_type": "code",
    "executionInfo": {
     "elapsed": 1563,
     "status": "ok",
     "timestamp": 1567123119432,
     "user": {
      "displayName": "김현호",
      "photoUrl": "",
      "userId": "07006419333685471592"
     },
     "user_tz": -540
    },
    "id": "wPnA1VZPz_Mx",
    "outputId": "a1612278-28e5-4d94-92e8-23ac2c5985a7"
   },
   "outputs": [
    {
     "name": "stdout",
     "output_type": "stream",
     "text": [
      "Model: \"model_3\"\n",
      "_________________________________________________________________\n",
      "Layer (type)                 Output Shape              Param #   \n",
      "=================================================================\n",
      "input_1 (InputLayer)         (None, 32, 32, 1)         0         \n",
      "_________________________________________________________________\n",
      "model_1 (Model)              (None, 10)                113162    \n",
      "_________________________________________________________________\n",
      "model_2 (Model)              (None, 32, 32, 1)         115073    \n",
      "=================================================================\n",
      "Total params: 228,235\n",
      "Trainable params: 228,235\n",
      "Non-trainable params: 0\n",
      "_________________________________________________________________\n"
     ]
    }
   ],
   "source": [
    "autoencoder = Model(input, decoder(encoder(input)))\n",
    "\n",
    "autoencoder.summary()"
   ]
  },
  {
   "cell_type": "code",
   "execution_count": 16,
   "metadata": {
    "colab": {
     "base_uri": "https://localhost:8080/",
     "height": 73
    },
    "colab_type": "code",
    "executionInfo": {
     "elapsed": 622,
     "status": "ok",
     "timestamp": 1567123119828,
     "user": {
      "displayName": "김현호",
      "photoUrl": "",
      "userId": "07006419333685471592"
     },
     "user_tz": -540
    },
    "id": "5uNu0_PEz_M_",
    "outputId": "07e22bc6-d601-466b-cace-53a38299da8d"
   },
   "outputs": [
    {
     "name": "stderr",
     "output_type": "stream",
     "text": [
      "W0829 23:58:39.205592 139853073024896 deprecation_wrapper.py:119] From /usr/local/lib/python3.6/dist-packages/keras/optimizers.py:793: The name tf.train.Optimizer is deprecated. Please use tf.compat.v1.train.Optimizer instead.\n",
      "\n"
     ]
    }
   ],
   "source": [
    "autoencoder.compile(loss='mse', optimizer='rmsprop', metrics=['acc'])"
   ]
  },
  {
   "cell_type": "code",
   "execution_count": 17,
   "metadata": {
    "colab": {
     "base_uri": "https://localhost:8080/",
     "height": 1000
    },
    "colab_type": "code",
    "executionInfo": {
     "elapsed": 148231,
     "status": "ok",
     "timestamp": 1567123277582,
     "user": {
      "displayName": "김현호",
      "photoUrl": "",
      "userId": "07006419333685471592"
     },
     "user_tz": -540
    },
    "id": "cASHllqiz_NM",
    "outputId": "69fb6ab8-e2a3-4111-ed86-c5dbeabf003d"
   },
   "outputs": [
    {
     "name": "stderr",
     "output_type": "stream",
     "text": [
      "W0829 23:58:49.606267 139853073024896 deprecation_wrapper.py:119] From /usr/local/lib/python3.6/dist-packages/keras/backend/tensorflow_backend.py:1033: The name tf.assign_add is deprecated. Please use tf.compat.v1.assign_add instead.\n",
      "\n",
      "W0829 23:58:49.613355 139853073024896 deprecation_wrapper.py:119] From /usr/local/lib/python3.6/dist-packages/keras/backend/tensorflow_backend.py:1020: The name tf.assign is deprecated. Please use tf.compat.v1.assign instead.\n",
      "\n"
     ]
    },
    {
     "name": "stdout",
     "output_type": "stream",
     "text": [
      "Train on 4500 samples, validate on 500 samples\n",
      "Epoch 1/100\n",
      "4500/4500 [==============================] - 8s 2ms/step - loss: 0.0880 - acc: 0.0106 - val_loss: 0.0776 - val_acc: 0.0059\n",
      "Epoch 2/100\n",
      "4500/4500 [==============================] - 1s 309us/step - loss: 0.0464 - acc: 0.0138 - val_loss: 0.0335 - val_acc: 0.0130\n",
      "Epoch 3/100\n",
      "4500/4500 [==============================] - 1s 311us/step - loss: 0.0362 - acc: 0.0150 - val_loss: 0.0361 - val_acc: 0.0128\n",
      "Epoch 4/100\n",
      "4500/4500 [==============================] - 1s 311us/step - loss: 0.0321 - acc: 0.0152 - val_loss: 0.0409 - val_acc: 0.0127\n",
      "Epoch 5/100\n",
      "4500/4500 [==============================] - 1s 313us/step - loss: 0.0285 - acc: 0.0153 - val_loss: 0.0325 - val_acc: 0.0131\n",
      "Epoch 6/100\n",
      "4500/4500 [==============================] - 1s 312us/step - loss: 0.0267 - acc: 0.0154 - val_loss: 0.0397 - val_acc: 0.0126\n",
      "Epoch 7/100\n",
      "4500/4500 [==============================] - 1s 311us/step - loss: 0.0256 - acc: 0.0154 - val_loss: 0.0287 - val_acc: 0.0131\n",
      "Epoch 8/100\n",
      "4500/4500 [==============================] - 1s 311us/step - loss: 0.0247 - acc: 0.0154 - val_loss: 0.0243 - val_acc: 0.0132\n",
      "Epoch 9/100\n",
      "4500/4500 [==============================] - 1s 312us/step - loss: 0.0240 - acc: 0.0154 - val_loss: 0.0249 - val_acc: 0.0132\n",
      "Epoch 10/100\n",
      "4500/4500 [==============================] - 1s 314us/step - loss: 0.0236 - acc: 0.0154 - val_loss: 0.0218 - val_acc: 0.0133\n",
      "Epoch 11/100\n",
      "4500/4500 [==============================] - 1s 311us/step - loss: 0.0232 - acc: 0.0154 - val_loss: 0.0235 - val_acc: 0.0133\n",
      "Epoch 12/100\n",
      "4500/4500 [==============================] - 1s 311us/step - loss: 0.0229 - acc: 0.0155 - val_loss: 0.0218 - val_acc: 0.0133\n",
      "Epoch 13/100\n",
      "4500/4500 [==============================] - 1s 314us/step - loss: 0.0226 - acc: 0.0155 - val_loss: 0.0233 - val_acc: 0.0133\n",
      "Epoch 14/100\n",
      "4500/4500 [==============================] - 1s 307us/step - loss: 0.0224 - acc: 0.0155 - val_loss: 0.0214 - val_acc: 0.0133\n",
      "Epoch 15/100\n",
      "4500/4500 [==============================] - 1s 309us/step - loss: 0.0222 - acc: 0.0155 - val_loss: 0.0252 - val_acc: 0.0133\n",
      "Epoch 16/100\n",
      "4500/4500 [==============================] - 1s 309us/step - loss: 0.0220 - acc: 0.0155 - val_loss: 0.0221 - val_acc: 0.0133\n",
      "Epoch 17/100\n",
      "4500/4500 [==============================] - 1s 308us/step - loss: 0.0218 - acc: 0.0155 - val_loss: 0.0211 - val_acc: 0.0133\n",
      "Epoch 18/100\n",
      "4500/4500 [==============================] - 1s 311us/step - loss: 0.0216 - acc: 0.0155 - val_loss: 0.0216 - val_acc: 0.0133\n",
      "Epoch 19/100\n",
      "4500/4500 [==============================] - 1s 310us/step - loss: 0.0215 - acc: 0.0155 - val_loss: 0.0224 - val_acc: 0.0132\n",
      "Epoch 20/100\n",
      "4500/4500 [==============================] - 1s 316us/step - loss: 0.0213 - acc: 0.0155 - val_loss: 0.0229 - val_acc: 0.0133\n",
      "Epoch 21/100\n",
      "4500/4500 [==============================] - 1s 307us/step - loss: 0.0212 - acc: 0.0155 - val_loss: 0.0233 - val_acc: 0.0133\n",
      "Epoch 22/100\n",
      "4500/4500 [==============================] - 1s 311us/step - loss: 0.0211 - acc: 0.0155 - val_loss: 0.0224 - val_acc: 0.0132\n",
      "Epoch 23/100\n",
      "4500/4500 [==============================] - 1s 313us/step - loss: 0.0209 - acc: 0.0155 - val_loss: 0.0236 - val_acc: 0.0132\n",
      "Epoch 24/100\n",
      "4500/4500 [==============================] - 1s 310us/step - loss: 0.0208 - acc: 0.0155 - val_loss: 0.0212 - val_acc: 0.0133\n",
      "Epoch 25/100\n",
      "4500/4500 [==============================] - 1s 312us/step - loss: 0.0207 - acc: 0.0155 - val_loss: 0.0209 - val_acc: 0.0133\n",
      "Epoch 26/100\n",
      "4500/4500 [==============================] - 1s 312us/step - loss: 0.0206 - acc: 0.0155 - val_loss: 0.0228 - val_acc: 0.0132\n",
      "Epoch 27/100\n",
      "4500/4500 [==============================] - 1s 310us/step - loss: 0.0205 - acc: 0.0155 - val_loss: 0.0230 - val_acc: 0.0133\n",
      "Epoch 28/100\n",
      "4500/4500 [==============================] - 1s 315us/step - loss: 0.0204 - acc: 0.0155 - val_loss: 0.0217 - val_acc: 0.0133\n",
      "Epoch 29/100\n",
      "4500/4500 [==============================] - 1s 309us/step - loss: 0.0203 - acc: 0.0155 - val_loss: 0.0222 - val_acc: 0.0133\n",
      "Epoch 30/100\n",
      "4500/4500 [==============================] - 1s 309us/step - loss: 0.0202 - acc: 0.0155 - val_loss: 0.0216 - val_acc: 0.0133\n",
      "Epoch 31/100\n",
      "4500/4500 [==============================] - 1s 311us/step - loss: 0.0201 - acc: 0.0155 - val_loss: 0.0232 - val_acc: 0.0132\n",
      "Epoch 32/100\n",
      "4500/4500 [==============================] - 1s 316us/step - loss: 0.0200 - acc: 0.0155 - val_loss: 0.0222 - val_acc: 0.0133\n",
      "Epoch 33/100\n",
      "4500/4500 [==============================] - 1s 326us/step - loss: 0.0199 - acc: 0.0155 - val_loss: 0.0215 - val_acc: 0.0133\n",
      "Epoch 34/100\n",
      "4500/4500 [==============================] - 1s 323us/step - loss: 0.0198 - acc: 0.0155 - val_loss: 0.0214 - val_acc: 0.0133\n",
      "Epoch 35/100\n",
      "4500/4500 [==============================] - 1s 327us/step - loss: 0.0198 - acc: 0.0155 - val_loss: 0.0228 - val_acc: 0.0133\n",
      "Epoch 36/100\n",
      "4500/4500 [==============================] - 1s 326us/step - loss: 0.0197 - acc: 0.0155 - val_loss: 0.0211 - val_acc: 0.0133\n",
      "Epoch 37/100\n",
      "4500/4500 [==============================] - 1s 324us/step - loss: 0.0196 - acc: 0.0155 - val_loss: 0.0227 - val_acc: 0.0133\n",
      "Epoch 38/100\n",
      "4500/4500 [==============================] - 1s 322us/step - loss: 0.0195 - acc: 0.0155 - val_loss: 0.0219 - val_acc: 0.0133\n",
      "Epoch 39/100\n",
      "4500/4500 [==============================] - 1s 314us/step - loss: 0.0194 - acc: 0.0155 - val_loss: 0.0239 - val_acc: 0.0132\n",
      "Epoch 40/100\n",
      "4500/4500 [==============================] - 1s 311us/step - loss: 0.0194 - acc: 0.0155 - val_loss: 0.0231 - val_acc: 0.0133\n",
      "Epoch 41/100\n",
      "4500/4500 [==============================] - 1s 312us/step - loss: 0.0193 - acc: 0.0155 - val_loss: 0.0219 - val_acc: 0.0133\n",
      "Epoch 42/100\n",
      "4500/4500 [==============================] - 1s 313us/step - loss: 0.0192 - acc: 0.0155 - val_loss: 0.0220 - val_acc: 0.0132\n",
      "Epoch 43/100\n",
      "4500/4500 [==============================] - 1s 308us/step - loss: 0.0191 - acc: 0.0155 - val_loss: 0.0219 - val_acc: 0.0133\n",
      "Epoch 44/100\n",
      "4500/4500 [==============================] - 1s 314us/step - loss: 0.0191 - acc: 0.0155 - val_loss: 0.0219 - val_acc: 0.0133\n",
      "Epoch 45/100\n",
      "4500/4500 [==============================] - 1s 309us/step - loss: 0.0190 - acc: 0.0155 - val_loss: 0.0211 - val_acc: 0.0133\n",
      "Epoch 46/100\n",
      "4500/4500 [==============================] - 1s 316us/step - loss: 0.0189 - acc: 0.0155 - val_loss: 0.0233 - val_acc: 0.0133\n",
      "Epoch 47/100\n",
      "4500/4500 [==============================] - 1s 312us/step - loss: 0.0188 - acc: 0.0155 - val_loss: 0.0221 - val_acc: 0.0133\n",
      "Epoch 48/100\n",
      "4500/4500 [==============================] - 1s 311us/step - loss: 0.0188 - acc: 0.0155 - val_loss: 0.0213 - val_acc: 0.0133\n",
      "Epoch 49/100\n",
      "4500/4500 [==============================] - 1s 309us/step - loss: 0.0187 - acc: 0.0155 - val_loss: 0.0214 - val_acc: 0.0133\n",
      "Epoch 50/100\n",
      "4500/4500 [==============================] - 1s 309us/step - loss: 0.0186 - acc: 0.0155 - val_loss: 0.0220 - val_acc: 0.0133\n",
      "Epoch 51/100\n",
      "4500/4500 [==============================] - 1s 308us/step - loss: 0.0186 - acc: 0.0155 - val_loss: 0.0221 - val_acc: 0.0133\n",
      "Epoch 52/100\n",
      "4500/4500 [==============================] - 1s 308us/step - loss: 0.0185 - acc: 0.0155 - val_loss: 0.0229 - val_acc: 0.0132\n",
      "Epoch 53/100\n",
      "4500/4500 [==============================] - 1s 310us/step - loss: 0.0184 - acc: 0.0155 - val_loss: 0.0216 - val_acc: 0.0133\n",
      "Epoch 54/100\n",
      "4500/4500 [==============================] - 1s 311us/step - loss: 0.0184 - acc: 0.0155 - val_loss: 0.0218 - val_acc: 0.0133\n",
      "Epoch 55/100\n",
      "4500/4500 [==============================] - 1s 311us/step - loss: 0.0183 - acc: 0.0155 - val_loss: 0.0234 - val_acc: 0.0133\n",
      "Epoch 56/100\n",
      "4500/4500 [==============================] - 1s 312us/step - loss: 0.0182 - acc: 0.0155 - val_loss: 0.0219 - val_acc: 0.0133\n",
      "Epoch 57/100\n",
      "4500/4500 [==============================] - 1s 315us/step - loss: 0.0182 - acc: 0.0155 - val_loss: 0.0216 - val_acc: 0.0133\n",
      "Epoch 58/100\n",
      "4500/4500 [==============================] - 1s 304us/step - loss: 0.0181 - acc: 0.0155 - val_loss: 0.0223 - val_acc: 0.0133\n",
      "Epoch 59/100\n",
      "4500/4500 [==============================] - 1s 308us/step - loss: 0.0180 - acc: 0.0155 - val_loss: 0.0229 - val_acc: 0.0133\n",
      "Epoch 60/100\n",
      "4500/4500 [==============================] - 1s 307us/step - loss: 0.0180 - acc: 0.0155 - val_loss: 0.0219 - val_acc: 0.0133\n",
      "Epoch 61/100\n",
      "4500/4500 [==============================] - 1s 314us/step - loss: 0.0179 - acc: 0.0155 - val_loss: 0.0218 - val_acc: 0.0133\n",
      "Epoch 62/100\n",
      "4500/4500 [==============================] - 1s 313us/step - loss: 0.0179 - acc: 0.0155 - val_loss: 0.0222 - val_acc: 0.0133\n",
      "Epoch 63/100\n",
      "4500/4500 [==============================] - 1s 307us/step - loss: 0.0178 - acc: 0.0155 - val_loss: 0.0220 - val_acc: 0.0133\n",
      "Epoch 64/100\n",
      "4500/4500 [==============================] - 1s 309us/step - loss: 0.0178 - acc: 0.0155 - val_loss: 0.0220 - val_acc: 0.0133\n",
      "Epoch 65/100\n",
      "4500/4500 [==============================] - 1s 319us/step - loss: 0.0177 - acc: 0.0155 - val_loss: 0.0222 - val_acc: 0.0133\n",
      "Epoch 66/100\n",
      "4500/4500 [==============================] - 1s 310us/step - loss: 0.0177 - acc: 0.0155 - val_loss: 0.0226 - val_acc: 0.0133\n",
      "Epoch 67/100\n",
      "4500/4500 [==============================] - 1s 313us/step - loss: 0.0176 - acc: 0.0155 - val_loss: 0.0223 - val_acc: 0.0133\n",
      "Epoch 68/100\n",
      "4500/4500 [==============================] - 1s 308us/step - loss: 0.0176 - acc: 0.0155 - val_loss: 0.0225 - val_acc: 0.0133\n",
      "Epoch 69/100\n",
      "4500/4500 [==============================] - 1s 307us/step - loss: 0.0176 - acc: 0.0155 - val_loss: 0.0224 - val_acc: 0.0133\n",
      "Epoch 70/100\n",
      "4500/4500 [==============================] - 1s 307us/step - loss: 0.0175 - acc: 0.0155 - val_loss: 0.0230 - val_acc: 0.0133\n",
      "Epoch 71/100\n",
      "4500/4500 [==============================] - 1s 312us/step - loss: 0.0175 - acc: 0.0155 - val_loss: 0.0223 - val_acc: 0.0133\n",
      "Epoch 72/100\n",
      "4500/4500 [==============================] - 1s 314us/step - loss: 0.0174 - acc: 0.0155 - val_loss: 0.0223 - val_acc: 0.0133\n",
      "Epoch 73/100\n",
      "4500/4500 [==============================] - 1s 314us/step - loss: 0.0173 - acc: 0.0155 - val_loss: 0.0221 - val_acc: 0.0133\n",
      "Epoch 74/100\n",
      "4500/4500 [==============================] - 1s 313us/step - loss: 0.0173 - acc: 0.0155 - val_loss: 0.0226 - val_acc: 0.0133\n",
      "Epoch 75/100\n",
      "4500/4500 [==============================] - 1s 310us/step - loss: 0.0172 - acc: 0.0155 - val_loss: 0.0226 - val_acc: 0.0133\n",
      "Epoch 76/100\n",
      "4500/4500 [==============================] - 1s 318us/step - loss: 0.0172 - acc: 0.0155 - val_loss: 0.0229 - val_acc: 0.0132\n",
      "Epoch 77/100\n",
      "4500/4500 [==============================] - 1s 311us/step - loss: 0.0172 - acc: 0.0155 - val_loss: 0.0224 - val_acc: 0.0133\n",
      "Epoch 78/100\n",
      "4500/4500 [==============================] - 1s 310us/step - loss: 0.0171 - acc: 0.0155 - val_loss: 0.0230 - val_acc: 0.0133\n",
      "Epoch 79/100\n",
      "4500/4500 [==============================] - 1s 313us/step - loss: 0.0171 - acc: 0.0155 - val_loss: 0.0225 - val_acc: 0.0133\n",
      "Epoch 80/100\n",
      "4500/4500 [==============================] - 1s 315us/step - loss: 0.0170 - acc: 0.0155 - val_loss: 0.0226 - val_acc: 0.0133\n",
      "Epoch 81/100\n",
      "4500/4500 [==============================] - 1s 313us/step - loss: 0.0170 - acc: 0.0155 - val_loss: 0.0232 - val_acc: 0.0133\n",
      "Epoch 82/100\n",
      "4500/4500 [==============================] - 1s 310us/step - loss: 0.0170 - acc: 0.0155 - val_loss: 0.0232 - val_acc: 0.0133\n",
      "Epoch 83/100\n",
      "4500/4500 [==============================] - 1s 309us/step - loss: 0.0169 - acc: 0.0155 - val_loss: 0.0233 - val_acc: 0.0132\n",
      "Epoch 84/100\n",
      "4500/4500 [==============================] - 1s 314us/step - loss: 0.0169 - acc: 0.0155 - val_loss: 0.0235 - val_acc: 0.0133\n",
      "Epoch 85/100\n",
      "4500/4500 [==============================] - 1s 319us/step - loss: 0.0168 - acc: 0.0155 - val_loss: 0.0230 - val_acc: 0.0133\n",
      "Epoch 86/100\n",
      "4500/4500 [==============================] - 1s 321us/step - loss: 0.0168 - acc: 0.0155 - val_loss: 0.0225 - val_acc: 0.0133\n",
      "Epoch 87/100\n",
      "4500/4500 [==============================] - 1s 322us/step - loss: 0.0168 - acc: 0.0155 - val_loss: 0.0236 - val_acc: 0.0132\n",
      "Epoch 88/100\n",
      "4500/4500 [==============================] - 1s 314us/step - loss: 0.0167 - acc: 0.0155 - val_loss: 0.0236 - val_acc: 0.0132\n",
      "Epoch 89/100\n",
      "4500/4500 [==============================] - 1s 311us/step - loss: 0.0167 - acc: 0.0155 - val_loss: 0.0228 - val_acc: 0.0133\n",
      "Epoch 90/100\n",
      "4500/4500 [==============================] - 1s 309us/step - loss: 0.0166 - acc: 0.0155 - val_loss: 0.0229 - val_acc: 0.0133\n",
      "Epoch 91/100\n",
      "4500/4500 [==============================] - 1s 309us/step - loss: 0.0166 - acc: 0.0155 - val_loss: 0.0239 - val_acc: 0.0133\n",
      "Epoch 92/100\n",
      "4500/4500 [==============================] - 1s 315us/step - loss: 0.0166 - acc: 0.0155 - val_loss: 0.0233 - val_acc: 0.0132\n",
      "Epoch 93/100\n",
      "4500/4500 [==============================] - 1s 308us/step - loss: 0.0165 - acc: 0.0155 - val_loss: 0.0237 - val_acc: 0.0133\n",
      "Epoch 94/100\n",
      "4500/4500 [==============================] - 1s 314us/step - loss: 0.0165 - acc: 0.0155 - val_loss: 0.0230 - val_acc: 0.0132\n",
      "Epoch 95/100\n",
      "4500/4500 [==============================] - 1s 311us/step - loss: 0.0165 - acc: 0.0155 - val_loss: 0.0231 - val_acc: 0.0133\n",
      "Epoch 96/100\n",
      "4500/4500 [==============================] - 1s 311us/step - loss: 0.0164 - acc: 0.0155 - val_loss: 0.0233 - val_acc: 0.0133\n",
      "Epoch 97/100\n",
      "4500/4500 [==============================] - 1s 313us/step - loss: 0.0164 - acc: 0.0155 - val_loss: 0.0230 - val_acc: 0.0133\n",
      "Epoch 98/100\n",
      "4500/4500 [==============================] - 1s 311us/step - loss: 0.0163 - acc: 0.0155 - val_loss: 0.0230 - val_acc: 0.0133\n",
      "Epoch 99/100\n",
      "4500/4500 [==============================] - 1s 310us/step - loss: 0.0163 - acc: 0.0155 - val_loss: 0.0232 - val_acc: 0.0133\n",
      "Epoch 100/100\n",
      "4500/4500 [==============================] - 1s 311us/step - loss: 0.0163 - acc: 0.0155 - val_loss: 0.0235 - val_acc: 0.0133\n"
     ]
    },
    {
     "data": {
      "text/plain": [
       "<keras.callbacks.History at 0x7f31b7946eb8>"
      ]
     },
     "execution_count": 17,
     "metadata": {
      "tags": []
     },
     "output_type": "execute_result"
    }
   ],
   "source": [
    "autoencoder.fit(X_train, X_train, batch_size=32, epochs=100, validation_split=0.1)"
   ]
  },
  {
   "cell_type": "code",
   "execution_count": 18,
   "metadata": {
    "colab": {
     "base_uri": "https://localhost:8080/",
     "height": 287
    },
    "colab_type": "code",
    "executionInfo": {
     "elapsed": 1621,
     "status": "ok",
     "timestamp": 1567123293119,
     "user": {
      "displayName": "김현호",
      "photoUrl": "",
      "userId": "07006419333685471592"
     },
     "user_tz": -540
    },
    "id": "GD1TTfs6z_NZ",
    "outputId": "1a054327-ad94-4a89-9c54-0475107a1b7b"
   },
   "outputs": [
    {
     "data": {
      "text/plain": [
       "<matplotlib.legend.Legend at 0x7f31b0404f60>"
      ]
     },
     "execution_count": 18,
     "metadata": {
      "tags": []
     },
     "output_type": "execute_result"
    },
    {
     "data": {
      "image/png": "[encoded data removed]",
      "text/plain": [
       "<Figure size 432x288 with 1 Axes>"
      ]
     },
     "metadata": {
      "tags": []
     },
     "output_type": "display_data"
    }
   ],
   "source": [
    "h = autoencoder.history.history\n",
    "\n",
    "plt.plot(h['loss'], 'b-')\n",
    "plt.plot(h['val_loss'], 'r-')\n",
    "plt.legend(['loss', 'val_loss'])"
   ]
  },
  {
   "cell_type": "code",
   "execution_count": 19,
   "metadata": {
    "colab": {
     "base_uri": "https://localhost:8080/",
     "height": 178
    },
    "colab_type": "code",
    "executionInfo": {
     "elapsed": 2224,
     "status": "ok",
     "timestamp": 1567123300626,
     "user": {
      "displayName": "김현호",
      "photoUrl": "",
      "userId": "07006419333685471592"
     },
     "user_tz": -540
    },
    "id": "myOTk-jSz_Ny",
    "outputId": "c9f868cf-869b-451d-cbe5-ae59c670dbba"
   },
   "outputs": [
    {
     "data": {
      "image/png": "[encoded data removed]",
      "text/plain": [
       "<Figure size 576x216 with 20 Axes>"
      ]
     },
     "metadata": {
      "tags": []
     },
     "output_type": "display_data"
    }
   ],
   "source": [
    "plt.figure(figsize=[8,3])\n",
    "\n",
    "for i in range(10):\n",
    "    r = autoencoder.predict(X_train[[i]])\n",
    "\n",
    "    plt.subplot(2,10,1+i)\n",
    "    plt.imshow(X_train[i,:,:,0], vmax=1, vmin=0, cmap='gray')\n",
    "    plt.axis('off')\n",
    "\n",
    "    plt.subplot(2,10,11+i)\n",
    "    plt.imshow(r[0,:,:,0], vmax=1, vmin=0, cmap='gray')\n",
    "    plt.axis('off')"
   ]
  }
 ],
 "metadata": {
  "accelerator": "GPU",
  "colab": {
   "name": "10_autoencoder_cifar10.ipynb",
   "provenance": [],
   "version": "0.3.2"
  },
  "kernelspec": {
   "display_name": "Python 3",
   "language": "python",
   "name": "python3"
  },
  "language_info": {
   "codemirror_mode": {
    "name": "ipython",
    "version": 3
   },
   "file_extension": ".py",
   "mimetype": "text/x-python",
   "name": "python",
   "nbconvert_exporter": "python",
   "pygments_lexer": "ipython3",
   "version": "3.6.5"
  }
 },
 "nbformat": 4,
 "nbformat_minor": 1
}
