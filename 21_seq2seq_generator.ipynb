{
 "cells": [
  {
   "cell_type": "markdown",
   "metadata": {},
   "source": [
    "## 빅데이터 활용 AI 설계\n",
    "# Seq2seq Eng-Fra Translater\n",
    "- 제너레이터 적용하여 전체 문장 로딩"
   ]
  },
  {
   "cell_type": "code",
   "execution_count": 1,
   "metadata": {},
   "outputs": [],
   "source": [
    "import numpy as np\n",
    "import matplotlib.pyplot as plt\n",
    "import pandas as pd\n",
    "\n",
    "import string\n",
    "from string import digits\n",
    "import re"
   ]
  },
  {
   "cell_type": "markdown",
   "metadata": {},
   "source": [
    "### 영어-불어 번역 파일 불러오기"
   ]
  },
  {
   "cell_type": "code",
   "execution_count": 34,
   "metadata": {},
   "outputs": [],
   "source": [
    "df= pd.read_csv('fra.txt', delimiter='\\t', names=['eng', 'fr'])"
   ]
  },
  {
   "cell_type": "code",
   "execution_count": 35,
   "metadata": {},
   "outputs": [
    {
     "data": {
      "text/html": [
       "<div>\n",
       "<style scoped>\n",
       "    .dataframe tbody tr th:only-of-type {\n",
       "        vertical-align: middle;\n",
       "    }\n",
       "\n",
       "    .dataframe tbody tr th {\n",
       "        vertical-align: top;\n",
       "    }\n",
       "\n",
       "    .dataframe thead th {\n",
       "        text-align: right;\n",
       "    }\n",
       "</style>\n",
       "<table border=\"1\" class=\"dataframe\">\n",
       "  <thead>\n",
       "    <tr style=\"text-align: right;\">\n",
       "      <th></th>\n",
       "      <th>eng</th>\n",
       "      <th>fr</th>\n",
       "    </tr>\n",
       "  </thead>\n",
       "  <tbody>\n",
       "    <tr>\n",
       "      <th>0</th>\n",
       "      <td>Go.</td>\n",
       "      <td>Va !</td>\n",
       "    </tr>\n",
       "    <tr>\n",
       "      <th>1</th>\n",
       "      <td>Run!</td>\n",
       "      <td>Cours !</td>\n",
       "    </tr>\n",
       "    <tr>\n",
       "      <th>2</th>\n",
       "      <td>Run!</td>\n",
       "      <td>Courez !</td>\n",
       "    </tr>\n",
       "    <tr>\n",
       "      <th>3</th>\n",
       "      <td>Wow!</td>\n",
       "      <td>Ça alors !</td>\n",
       "    </tr>\n",
       "    <tr>\n",
       "      <th>4</th>\n",
       "      <td>Fire!</td>\n",
       "      <td>Au feu !</td>\n",
       "    </tr>\n",
       "  </tbody>\n",
       "</table>\n",
       "</div>"
      ],
      "text/plain": [
       "     eng          fr\n",
       "0    Go.        Va !\n",
       "1   Run!     Cours !\n",
       "2   Run!    Courez !\n",
       "3   Wow!  Ça alors !\n",
       "4  Fire!    Au feu !"
      ]
     },
     "execution_count": 35,
     "metadata": {},
     "output_type": "execute_result"
    }
   ],
   "source": [
    "df.head()"
   ]
  },
  {
   "cell_type": "code",
   "execution_count": 36,
   "metadata": {},
   "outputs": [
    {
     "data": {
      "text/html": [
       "<div>\n",
       "<style scoped>\n",
       "    .dataframe tbody tr th:only-of-type {\n",
       "        vertical-align: middle;\n",
       "    }\n",
       "\n",
       "    .dataframe tbody tr th {\n",
       "        vertical-align: top;\n",
       "    }\n",
       "\n",
       "    .dataframe thead th {\n",
       "        text-align: right;\n",
       "    }\n",
       "</style>\n",
       "<table border=\"1\" class=\"dataframe\">\n",
       "  <thead>\n",
       "    <tr style=\"text-align: right;\">\n",
       "      <th></th>\n",
       "      <th>eng</th>\n",
       "      <th>fr</th>\n",
       "    </tr>\n",
       "  </thead>\n",
       "  <tbody>\n",
       "    <tr>\n",
       "      <th>149856</th>\n",
       "      <td>A carbon footprint is the amount of carbon dio...</td>\n",
       "      <td>Une empreinte carbone est la somme de pollutio...</td>\n",
       "    </tr>\n",
       "    <tr>\n",
       "      <th>149857</th>\n",
       "      <td>Death is something that we're often discourage...</td>\n",
       "      <td>La mort est une chose qu'on nous décourage sou...</td>\n",
       "    </tr>\n",
       "    <tr>\n",
       "      <th>149858</th>\n",
       "      <td>Since there are usually multiple websites on a...</td>\n",
       "      <td>Puisqu'il y a de multiples sites web sur chaqu...</td>\n",
       "    </tr>\n",
       "    <tr>\n",
       "      <th>149859</th>\n",
       "      <td>If someone who doesn't know your background sa...</td>\n",
       "      <td>Si quelqu'un qui ne connaît pas vos antécédent...</td>\n",
       "    </tr>\n",
       "    <tr>\n",
       "      <th>149860</th>\n",
       "      <td>It may be impossible to get a completely error...</td>\n",
       "      <td>Il est peut-être impossible d'obtenir un Corpu...</td>\n",
       "    </tr>\n",
       "  </tbody>\n",
       "</table>\n",
       "</div>"
      ],
      "text/plain": [
       "                                                      eng  \\\n",
       "149856  A carbon footprint is the amount of carbon dio...   \n",
       "149857  Death is something that we're often discourage...   \n",
       "149858  Since there are usually multiple websites on a...   \n",
       "149859  If someone who doesn't know your background sa...   \n",
       "149860  It may be impossible to get a completely error...   \n",
       "\n",
       "                                                       fr  \n",
       "149856  Une empreinte carbone est la somme de pollutio...  \n",
       "149857  La mort est une chose qu'on nous décourage sou...  \n",
       "149858  Puisqu'il y a de multiples sites web sur chaqu...  \n",
       "149859  Si quelqu'un qui ne connaît pas vos antécédent...  \n",
       "149860  Il est peut-être impossible d'obtenir un Corpu...  "
      ]
     },
     "execution_count": 36,
     "metadata": {},
     "output_type": "execute_result"
    }
   ],
   "source": [
    "df.tail()"
   ]
  },
  {
   "cell_type": "code",
   "execution_count": 37,
   "metadata": {},
   "outputs": [
    {
     "data": {
      "text/plain": [
       "(149861, 2)"
      ]
     },
     "execution_count": 37,
     "metadata": {},
     "output_type": "execute_result"
    }
   ],
   "source": [
    "df.shape"
   ]
  },
  {
   "cell_type": "markdown",
   "metadata": {},
   "source": [
    "### 전체 문장 사용"
   ]
  },
  {
   "cell_type": "code",
   "execution_count": 60,
   "metadata": {},
   "outputs": [
    {
     "data": {
      "text/plain": [
       "(149861, 2)"
      ]
     },
     "execution_count": 60,
     "metadata": {},
     "output_type": "execute_result"
    }
   ],
   "source": [
    "### 전체 문장 사용시 CPU 에러 발생!!! (내부 텐서 사용시 단어사전 차원이 커서 발생하는 듯)\n",
    "\n",
    "#lines = df[:10000].copy()\n",
    "lines = df.copy()\n",
    "lines.shape"
   ]
  },
  {
   "cell_type": "code",
   "execution_count": 61,
   "metadata": {},
   "outputs": [
    {
     "data": {
      "text/html": [
       "<div>\n",
       "<style scoped>\n",
       "    .dataframe tbody tr th:only-of-type {\n",
       "        vertical-align: middle;\n",
       "    }\n",
       "\n",
       "    .dataframe tbody tr th {\n",
       "        vertical-align: top;\n",
       "    }\n",
       "\n",
       "    .dataframe thead th {\n",
       "        text-align: right;\n",
       "    }\n",
       "</style>\n",
       "<table border=\"1\" class=\"dataframe\">\n",
       "  <thead>\n",
       "    <tr style=\"text-align: right;\">\n",
       "      <th></th>\n",
       "      <th>eng</th>\n",
       "      <th>fr</th>\n",
       "    </tr>\n",
       "  </thead>\n",
       "  <tbody>\n",
       "    <tr>\n",
       "      <th>149856</th>\n",
       "      <td>A carbon footprint is the amount of carbon dio...</td>\n",
       "      <td>Une empreinte carbone est la somme de pollutio...</td>\n",
       "    </tr>\n",
       "    <tr>\n",
       "      <th>149857</th>\n",
       "      <td>Death is something that we're often discourage...</td>\n",
       "      <td>La mort est une chose qu'on nous décourage sou...</td>\n",
       "    </tr>\n",
       "    <tr>\n",
       "      <th>149858</th>\n",
       "      <td>Since there are usually multiple websites on a...</td>\n",
       "      <td>Puisqu'il y a de multiples sites web sur chaqu...</td>\n",
       "    </tr>\n",
       "    <tr>\n",
       "      <th>149859</th>\n",
       "      <td>If someone who doesn't know your background sa...</td>\n",
       "      <td>Si quelqu'un qui ne connaît pas vos antécédent...</td>\n",
       "    </tr>\n",
       "    <tr>\n",
       "      <th>149860</th>\n",
       "      <td>It may be impossible to get a completely error...</td>\n",
       "      <td>Il est peut-être impossible d'obtenir un Corpu...</td>\n",
       "    </tr>\n",
       "  </tbody>\n",
       "</table>\n",
       "</div>"
      ],
      "text/plain": [
       "                                                      eng  \\\n",
       "149856  A carbon footprint is the amount of carbon dio...   \n",
       "149857  Death is something that we're often discourage...   \n",
       "149858  Since there are usually multiple websites on a...   \n",
       "149859  If someone who doesn't know your background sa...   \n",
       "149860  It may be impossible to get a completely error...   \n",
       "\n",
       "                                                       fr  \n",
       "149856  Une empreinte carbone est la somme de pollutio...  \n",
       "149857  La mort est une chose qu'on nous décourage sou...  \n",
       "149858  Puisqu'il y a de multiples sites web sur chaqu...  \n",
       "149859  Si quelqu'un qui ne connaît pas vos antécédent...  \n",
       "149860  Il est peut-être impossible d'obtenir un Corpu...  "
      ]
     },
     "execution_count": 61,
     "metadata": {},
     "output_type": "execute_result"
    }
   ],
   "source": [
    "lines.tail()"
   ]
  },
  {
   "cell_type": "markdown",
   "metadata": {},
   "source": [
    "### 데이터 정리"
   ]
  },
  {
   "cell_type": "code",
   "execution_count": 62,
   "metadata": {},
   "outputs": [],
   "source": [
    "lines.eng=lines.eng.apply(lambda x: x.lower())\n",
    "lines.fr=lines.fr.apply(lambda x: x.lower())\n",
    "\n",
    "lines.eng=lines.eng.apply(lambda x: re.sub(\"'\", '', x)).apply(lambda x: re.sub(\",\", ' COMMA', x))\n",
    "lines.fr=lines.fr.apply(lambda x: re.sub(\"'\", '', x)).apply(lambda x: re.sub(\",\", ' COMMA', x))\n",
    "\n",
    "exclude = set(string.punctuation) # '!\"#$%&\\'()*+,-./:;<=>?@[\\\\]^_`{|}~'\n",
    "lines.eng=lines.eng.apply(lambda x: ''.join(ch for ch in x if ch not in exclude))\n",
    "lines.fr=lines.fr.apply(lambda x: ''.join(ch for ch in x if ch not in exclude))\n",
    "\n",
    "# 숫자를 지운다\n",
    "remove_digits = str.maketrans('', '', digits)\n",
    "lines.eng=lines.eng.apply(lambda x: x.translate(remove_digits))\n",
    "lines.fr=lines.fr.apply(lambda x: x.translate(remove_digits))"
   ]
  },
  {
   "cell_type": "markdown",
   "metadata": {},
   "source": [
    "### 불어 문장에 태그 달기\n",
    "- START_ 와 _END"
   ]
  },
  {
   "cell_type": "code",
   "execution_count": 63,
   "metadata": {},
   "outputs": [],
   "source": [
    "lines.fr = lines.fr.apply(lambda x : 'START_ '+ x + ' _END')"
   ]
  },
  {
   "cell_type": "code",
   "execution_count": 64,
   "metadata": {},
   "outputs": [
    {
     "data": {
      "text/html": [
       "<div>\n",
       "<style scoped>\n",
       "    .dataframe tbody tr th:only-of-type {\n",
       "        vertical-align: middle;\n",
       "    }\n",
       "\n",
       "    .dataframe tbody tr th {\n",
       "        vertical-align: top;\n",
       "    }\n",
       "\n",
       "    .dataframe thead th {\n",
       "        text-align: right;\n",
       "    }\n",
       "</style>\n",
       "<table border=\"1\" class=\"dataframe\">\n",
       "  <thead>\n",
       "    <tr style=\"text-align: right;\">\n",
       "      <th></th>\n",
       "      <th>eng</th>\n",
       "      <th>fr</th>\n",
       "    </tr>\n",
       "  </thead>\n",
       "  <tbody>\n",
       "    <tr>\n",
       "      <th>0</th>\n",
       "      <td>go</td>\n",
       "      <td>START_ va  _END</td>\n",
       "    </tr>\n",
       "    <tr>\n",
       "      <th>1</th>\n",
       "      <td>run</td>\n",
       "      <td>START_ cours  _END</td>\n",
       "    </tr>\n",
       "    <tr>\n",
       "      <th>2</th>\n",
       "      <td>run</td>\n",
       "      <td>START_ courez  _END</td>\n",
       "    </tr>\n",
       "    <tr>\n",
       "      <th>3</th>\n",
       "      <td>wow</td>\n",
       "      <td>START_ ça alors  _END</td>\n",
       "    </tr>\n",
       "    <tr>\n",
       "      <th>4</th>\n",
       "      <td>fire</td>\n",
       "      <td>START_ au feu  _END</td>\n",
       "    </tr>\n",
       "  </tbody>\n",
       "</table>\n",
       "</div>"
      ],
      "text/plain": [
       "    eng                     fr\n",
       "0    go        START_ va  _END\n",
       "1   run     START_ cours  _END\n",
       "2   run    START_ courez  _END\n",
       "3   wow  START_ ça alors  _END\n",
       "4  fire    START_ au feu  _END"
      ]
     },
     "execution_count": 64,
     "metadata": {},
     "output_type": "execute_result"
    }
   ],
   "source": [
    "lines.head()"
   ]
  },
  {
   "cell_type": "markdown",
   "metadata": {},
   "source": [
    "### 단어 목록 만들기"
   ]
  },
  {
   "cell_type": "code",
   "execution_count": 65,
   "metadata": {},
   "outputs": [],
   "source": [
    "eng_words=set()\n",
    "for eng in lines.eng:\n",
    "    for word in eng.split():\n",
    "        eng_words.add(word)\n",
    "    \n",
    "fra_words=set()\n",
    "for fr in lines.fr:\n",
    "    for word in fr.split():\n",
    "        fra_words.add(word)"
   ]
  },
  {
   "cell_type": "code",
   "execution_count": 66,
   "metadata": {},
   "outputs": [
    {
     "data": {
      "text/plain": [
       "(13799, 27980)"
      ]
     },
     "execution_count": 66,
     "metadata": {},
     "output_type": "execute_result"
    }
   ],
   "source": [
    "eng_words = sorted(list(eng_words))\n",
    "fra_words = sorted(list(fra_words))\n",
    "\n",
    "len(eng_words), len(fra_words)"
   ]
  },
  {
   "cell_type": "code",
   "execution_count": 67,
   "metadata": {},
   "outputs": [
    {
     "data": {
      "text/plain": [
       "['COMMA',\n",
       " 'a',\n",
       " 'aback',\n",
       " 'abacus',\n",
       " 'abandon',\n",
       " 'abandoned',\n",
       " 'abandoning',\n",
       " 'abated',\n",
       " 'abdominal',\n",
       " 'abducted']"
      ]
     },
     "metadata": {},
     "output_type": "display_data"
    },
    {
     "data": {
      "text/plain": [
       "['COMMA',\n",
       " 'COMMAenfila',\n",
       " 'START_',\n",
       " '_END',\n",
       " 'a',\n",
       " 'abaissa',\n",
       " 'abaisse',\n",
       " 'abaisser',\n",
       " 'abaissez',\n",
       " 'abaissé']"
      ]
     },
     "metadata": {},
     "output_type": "display_data"
    }
   ],
   "source": [
    "display(eng_words[:10], fra_words[:10])"
   ]
  },
  {
   "cell_type": "markdown",
   "metadata": {},
   "source": [
    "### 단어 사전 만들기"
   ]
  },
  {
   "cell_type": "code",
   "execution_count": 68,
   "metadata": {},
   "outputs": [],
   "source": [
    "eng_w2i = { word: i for i, word in enumerate(eng_words) }\n",
    "fra_w2i = { word: i for i, word in enumerate(fra_words) }\n",
    "\n",
    "eng_i2w = { i: word for word, i in eng_w2i.items() }\n",
    "fra_i2w = { i: word for word, i in fra_w2i.items() }"
   ]
  },
  {
   "cell_type": "code",
   "execution_count": 69,
   "metadata": {},
   "outputs": [
    {
     "data": {
      "text/plain": [
       "(13799, 27980)"
      ]
     },
     "execution_count": 69,
     "metadata": {},
     "output_type": "execute_result"
    }
   ],
   "source": [
    "len(eng_i2w), len(fra_i2w)"
   ]
  },
  {
   "cell_type": "markdown",
   "metadata": {},
   "source": [
    "### 최대 문장 길이"
   ]
  },
  {
   "cell_type": "code",
   "execution_count": 70,
   "metadata": {},
   "outputs": [
    {
     "data": {
      "text/plain": [
       "(49, 58)"
      ]
     },
     "execution_count": 70,
     "metadata": {},
     "output_type": "execute_result"
    }
   ],
   "source": [
    "eng_sen_max = max([len(sen.split()) for sen in lines.eng])\n",
    "fra_sen_max = max([len(sen.split()) for sen in lines.fr])\n",
    "\n",
    "eng_sen_max, fra_sen_max"
   ]
  },
  {
   "cell_type": "code",
   "execution_count": null,
   "metadata": {},
   "outputs": [],
   "source": []
  },
  {
   "cell_type": "markdown",
   "metadata": {},
   "source": [
    "### 인코더  생성"
   ]
  },
  {
   "cell_type": "code",
   "execution_count": 71,
   "metadata": {},
   "outputs": [],
   "source": [
    "from keras.models import Model\n",
    "from keras.layers import Input, Embedding, LSTM, Dense"
   ]
  },
  {
   "cell_type": "code",
   "execution_count": 72,
   "metadata": {},
   "outputs": [],
   "source": [
    "embedding_size = 50\n",
    "\n",
    "enc_inputs = Input((eng_sen_max,))\n",
    "enc_embed = Embedding(len(eng_words),embedding_size)(enc_inputs)\n",
    "\n",
    "enc_lstm = LSTM(50, return_state=True)\n",
    "enc_output, state_h, state_c = enc_lstm(enc_embed)\n",
    "\n",
    "enc_states = [state_h, state_c]"
   ]
  },
  {
   "cell_type": "markdown",
   "metadata": {},
   "source": [
    "### 디코더 생성"
   ]
  },
  {
   "cell_type": "code",
   "execution_count": 73,
   "metadata": {},
   "outputs": [],
   "source": [
    "dec_inputs = Input((fra_sen_max,))\n",
    "dec_embed = Embedding(len(fra_words), embedding_size)(dec_inputs)\n",
    "\n",
    "dec_lstm = LSTM(50, return_sequences=True)\n",
    "dec_outputs = dec_lstm(dec_embed, initial_state=enc_states)\n",
    "\n",
    "dec_outputs = Dense(len(fra_words), activation='softmax')(dec_outputs)"
   ]
  },
  {
   "cell_type": "code",
   "execution_count": 74,
   "metadata": {},
   "outputs": [],
   "source": [
    "model = Model([enc_inputs, dec_inputs], dec_outputs)"
   ]
  },
  {
   "cell_type": "code",
   "execution_count": 75,
   "metadata": {},
   "outputs": [],
   "source": [
    "model.compile(loss='categorical_crossentropy', optimizer='rmsprop', metrics=['acc'])"
   ]
  },
  {
   "cell_type": "code",
   "execution_count": 76,
   "metadata": {},
   "outputs": [
    {
     "name": "stdout",
     "output_type": "stream",
     "text": [
      "__________________________________________________________________________________________________\n",
      "Layer (type)                    Output Shape         Param #     Connected to                     \n",
      "==================================================================================================\n",
      "input_5 (InputLayer)            (None, 49)           0                                            \n",
      "__________________________________________________________________________________________________\n",
      "input_6 (InputLayer)            (None, 58)           0                                            \n",
      "__________________________________________________________________________________________________\n",
      "embedding_5 (Embedding)         (None, 49, 50)       689950      input_5[0][0]                    \n",
      "__________________________________________________________________________________________________\n",
      "embedding_6 (Embedding)         (None, 58, 50)       1399000     input_6[0][0]                    \n",
      "__________________________________________________________________________________________________\n",
      "lstm_5 (LSTM)                   [(None, 50), (None,  20200       embedding_5[0][0]                \n",
      "__________________________________________________________________________________________________\n",
      "lstm_6 (LSTM)                   (None, 58, 50)       20200       embedding_6[0][0]                \n",
      "                                                                 lstm_5[0][1]                     \n",
      "                                                                 lstm_5[0][2]                     \n",
      "__________________________________________________________________________________________________\n",
      "dense_3 (Dense)                 (None, 58, 27980)    1426980     lstm_6[0][0]                     \n",
      "==================================================================================================\n",
      "Total params: 3,556,330\n",
      "Trainable params: 3,556,330\n",
      "Non-trainable params: 0\n",
      "__________________________________________________________________________________________________\n"
     ]
    }
   ],
   "source": [
    "model.summary()"
   ]
  },
  {
   "cell_type": "markdown",
   "metadata": {},
   "source": [
    "### 입출력 제너레이터"
   ]
  },
  {
   "cell_type": "code",
   "execution_count": 55,
   "metadata": {},
   "outputs": [
    {
     "data": {
      "text/plain": [
       "'encoder_input_data = np.zeros([len(lines), eng_sen_max])\\ndecoder_input_data = np.zeros([len(lines), fra_sen_max])\\ndecoder_output_data = np.zeros([len(lines), fra_sen_max, len(fra_words)])'"
      ]
     },
     "execution_count": 55,
     "metadata": {},
     "output_type": "execute_result"
    }
   ],
   "source": [
    "'''encoder_input_data = np.zeros([len(lines), eng_sen_max])\n",
    "decoder_input_data = np.zeros([len(lines), fra_sen_max])\n",
    "decoder_output_data = np.zeros([len(lines), fra_sen_max, len(fra_words)])'''"
   ]
  },
  {
   "cell_type": "code",
   "execution_count": 56,
   "metadata": {},
   "outputs": [
    {
     "data": {
      "text/plain": [
       "'for line, (eng,fra) in enumerate(zip(lines.eng, lines.fr)):\\n    for t, word in enumerate(eng.split()):\\n        encoder_input_data[line,t] = eng_w2i[word]\\n        \\n    for t, word in enumerate(fra.split()):\\n        decoder_input_data[line,t] = fra_w2i[word]\\n        if t>0:\\n            decoder_output_data[line,t-1,fra_w2i[word]] = 1 # START_ 가 빠지고 하나씩 당겨짐'"
      ]
     },
     "execution_count": 56,
     "metadata": {},
     "output_type": "execute_result"
    }
   ],
   "source": [
    "'''for line, (eng,fra) in enumerate(zip(lines.eng, lines.fr)):\n",
    "    for t, word in enumerate(eng.split()):\n",
    "        encoder_input_data[line,t] = eng_w2i[word]\n",
    "        \n",
    "    for t, word in enumerate(fra.split()):\n",
    "        decoder_input_data[line,t] = fra_w2i[word]\n",
    "        if t>0:\n",
    "            decoder_output_data[line,t-1,fra_w2i[word]] = 1 # START_ 가 빠지고 하나씩 당겨짐'''"
   ]
  },
  {
   "cell_type": "code",
   "execution_count": 57,
   "metadata": {},
   "outputs": [],
   "source": [
    "def generate_batch(X = lines.eng, y = lines.fr, batch_size = 128):\n",
    "    while True:\n",
    "        for j in range(0, len(X), batch_size):\n",
    "            \n",
    "            encoder_input_data = np.zeros((batch_size, eng_sen_max),dtype='float32') # (128,34)\n",
    "            decoder_input_data = np.zeros((batch_size, fra_sen_max),dtype='float32') # (128,37)\n",
    "            decoder_output_data = np.zeros((batch_size, fra_sen_max, len(fra_words)),dtype='float32')\n",
    "            \n",
    "            for i, (eng, fra) in enumerate(zip(X[j:j+batch_size], y[j:j+batch_size])):\n",
    "                for t, word in enumerate(eng.split()):\n",
    "                    encoder_input_data[i, t] = eng_w2i[word]\n",
    "                    \n",
    "                for t, word in enumerate(fra.split()):\n",
    "                    decoder_input_data[i, t] = fra_w2i[word]\n",
    "                    if t>0: # 앞부분 'START_' 제외\n",
    "                        decoder_output_data[i, t - 1, fra_w2i[word]] = 1\n",
    "                        \n",
    "            yield([encoder_input_data, decoder_input_data], decoder_output_data)"
   ]
  },
  {
   "cell_type": "markdown",
   "metadata": {},
   "source": [
    "### 학습 시키기"
   ]
  },
  {
   "cell_type": "code",
   "execution_count": 58,
   "metadata": {},
   "outputs": [
    {
     "data": {
      "text/plain": [
       "'h = model.fit([encoder_input_data, decoder_input_data], decoder_output_data,\\n              batch_size=128, epochs=10, validation_split=0.1)'"
      ]
     },
     "execution_count": 58,
     "metadata": {},
     "output_type": "execute_result"
    }
   ],
   "source": [
    "'''h = model.fit([encoder_input_data, decoder_input_data], decoder_output_data,\n",
    "              batch_size=128, epochs=10, validation_split=0.1)'''"
   ]
  },
  {
   "cell_type": "code",
   "execution_count": 77,
   "metadata": {},
   "outputs": [
    {
     "name": "stdout",
     "output_type": "stream",
     "text": [
      "Epoch 1/1\n"
     ]
    },
    {
     "ename": "ResourceExhaustedError",
     "evalue": "OOM when allocating tensor with shape[7424,27980] and type float on /job:localhost/replica:0/task:0/device:CPU:0 by allocator cpu\n\t [[{{node dense_3/MatMul}} = MatMul[T=DT_FLOAT, _class=[\"loc:@training_2/RMSprop/gradients/dense_3/MatMul_grad/MatMul\"], transpose_a=false, transpose_b=false, _device=\"/job:localhost/replica:0/task:0/device:CPU:0\"](dense_3/Reshape, dense_3/kernel/read)]]\nHint: If you want to see a list of allocated tensors when OOM happens, add report_tensor_allocations_upon_oom to RunOptions for current allocation info.\n",
     "output_type": "error",
     "traceback": [
      "\u001b[1;31m----------------------------------------------------------------------\u001b[0m",
      "\u001b[1;31mResourceExhaustedError\u001b[0m               Traceback (most recent call last)",
      "\u001b[1;32m<ipython-input-77-8d7e1e353a7d>\u001b[0m in \u001b[0;36m<module>\u001b[1;34m()\u001b[0m\n\u001b[0;32m      1\u001b[0m model.fit_generator(generator = generate_batch(lines.eng, lines.fr, batch_size = 128),\n\u001b[0;32m      2\u001b[0m                     \u001b[0msteps_per_epoch\u001b[0m \u001b[1;33m=\u001b[0m \u001b[0mlen\u001b[0m\u001b[1;33m(\u001b[0m\u001b[0mlines\u001b[0m\u001b[1;33m)\u001b[0m\u001b[1;33m//\u001b[0m\u001b[1;36m128\u001b[0m\u001b[1;33m,\u001b[0m\u001b[1;33m\u001b[0m\u001b[0m\n\u001b[1;32m----> 3\u001b[1;33m                     epochs=1)\n\u001b[0m",
      "\u001b[1;32mC:\\Anaconda3\\envs\\py36\\lib\\site-packages\\keras\\legacy\\interfaces.py\u001b[0m in \u001b[0;36mwrapper\u001b[1;34m(*args, **kwargs)\u001b[0m\n\u001b[0;32m     89\u001b[0m                 warnings.warn('Update your `' + object_name + '` call to the ' +\n\u001b[0;32m     90\u001b[0m                               'Keras 2 API: ' + signature, stacklevel=2)\n\u001b[1;32m---> 91\u001b[1;33m             \u001b[1;32mreturn\u001b[0m \u001b[0mfunc\u001b[0m\u001b[1;33m(\u001b[0m\u001b[1;33m*\u001b[0m\u001b[0margs\u001b[0m\u001b[1;33m,\u001b[0m \u001b[1;33m**\u001b[0m\u001b[0mkwargs\u001b[0m\u001b[1;33m)\u001b[0m\u001b[1;33m\u001b[0m\u001b[0m\n\u001b[0m\u001b[0;32m     92\u001b[0m         \u001b[0mwrapper\u001b[0m\u001b[1;33m.\u001b[0m\u001b[0m_original_function\u001b[0m \u001b[1;33m=\u001b[0m \u001b[0mfunc\u001b[0m\u001b[1;33m\u001b[0m\u001b[0m\n\u001b[0;32m     93\u001b[0m         \u001b[1;32mreturn\u001b[0m \u001b[0mwrapper\u001b[0m\u001b[1;33m\u001b[0m\u001b[0m\n",
      "\u001b[1;32mC:\\Anaconda3\\envs\\py36\\lib\\site-packages\\keras\\engine\\training.py\u001b[0m in \u001b[0;36mfit_generator\u001b[1;34m(self, generator, steps_per_epoch, epochs, verbose, callbacks, validation_data, validation_steps, class_weight, max_queue_size, workers, use_multiprocessing, shuffle, initial_epoch)\u001b[0m\n\u001b[0;32m   1416\u001b[0m             \u001b[0muse_multiprocessing\u001b[0m\u001b[1;33m=\u001b[0m\u001b[0muse_multiprocessing\u001b[0m\u001b[1;33m,\u001b[0m\u001b[1;33m\u001b[0m\u001b[0m\n\u001b[0;32m   1417\u001b[0m             \u001b[0mshuffle\u001b[0m\u001b[1;33m=\u001b[0m\u001b[0mshuffle\u001b[0m\u001b[1;33m,\u001b[0m\u001b[1;33m\u001b[0m\u001b[0m\n\u001b[1;32m-> 1418\u001b[1;33m             initial_epoch=initial_epoch)\n\u001b[0m\u001b[0;32m   1419\u001b[0m \u001b[1;33m\u001b[0m\u001b[0m\n\u001b[0;32m   1420\u001b[0m     \u001b[1;33m@\u001b[0m\u001b[0minterfaces\u001b[0m\u001b[1;33m.\u001b[0m\u001b[0mlegacy_generator_methods_support\u001b[0m\u001b[1;33m\u001b[0m\u001b[0m\n",
      "\u001b[1;32mC:\\Anaconda3\\envs\\py36\\lib\\site-packages\\keras\\engine\\training_generator.py\u001b[0m in \u001b[0;36mfit_generator\u001b[1;34m(model, generator, steps_per_epoch, epochs, verbose, callbacks, validation_data, validation_steps, class_weight, max_queue_size, workers, use_multiprocessing, shuffle, initial_epoch)\u001b[0m\n\u001b[0;32m    215\u001b[0m                 outs = model.train_on_batch(x, y,\n\u001b[0;32m    216\u001b[0m                                             \u001b[0msample_weight\u001b[0m\u001b[1;33m=\u001b[0m\u001b[0msample_weight\u001b[0m\u001b[1;33m,\u001b[0m\u001b[1;33m\u001b[0m\u001b[0m\n\u001b[1;32m--> 217\u001b[1;33m                                             class_weight=class_weight)\n\u001b[0m\u001b[0;32m    218\u001b[0m \u001b[1;33m\u001b[0m\u001b[0m\n\u001b[0;32m    219\u001b[0m                 \u001b[0mouts\u001b[0m \u001b[1;33m=\u001b[0m \u001b[0mto_list\u001b[0m\u001b[1;33m(\u001b[0m\u001b[0mouts\u001b[0m\u001b[1;33m)\u001b[0m\u001b[1;33m\u001b[0m\u001b[0m\n",
      "\u001b[1;32mC:\\Anaconda3\\envs\\py36\\lib\\site-packages\\keras\\engine\\training.py\u001b[0m in \u001b[0;36mtrain_on_batch\u001b[1;34m(self, x, y, sample_weight, class_weight)\u001b[0m\n\u001b[0;32m   1215\u001b[0m             \u001b[0mins\u001b[0m \u001b[1;33m=\u001b[0m \u001b[0mx\u001b[0m \u001b[1;33m+\u001b[0m \u001b[0my\u001b[0m \u001b[1;33m+\u001b[0m \u001b[0msample_weights\u001b[0m\u001b[1;33m\u001b[0m\u001b[0m\n\u001b[0;32m   1216\u001b[0m         \u001b[0mself\u001b[0m\u001b[1;33m.\u001b[0m\u001b[0m_make_train_function\u001b[0m\u001b[1;33m(\u001b[0m\u001b[1;33m)\u001b[0m\u001b[1;33m\u001b[0m\u001b[0m\n\u001b[1;32m-> 1217\u001b[1;33m         \u001b[0moutputs\u001b[0m \u001b[1;33m=\u001b[0m \u001b[0mself\u001b[0m\u001b[1;33m.\u001b[0m\u001b[0mtrain_function\u001b[0m\u001b[1;33m(\u001b[0m\u001b[0mins\u001b[0m\u001b[1;33m)\u001b[0m\u001b[1;33m\u001b[0m\u001b[0m\n\u001b[0m\u001b[0;32m   1218\u001b[0m         \u001b[1;32mreturn\u001b[0m \u001b[0munpack_singleton\u001b[0m\u001b[1;33m(\u001b[0m\u001b[0moutputs\u001b[0m\u001b[1;33m)\u001b[0m\u001b[1;33m\u001b[0m\u001b[0m\n\u001b[0;32m   1219\u001b[0m \u001b[1;33m\u001b[0m\u001b[0m\n",
      "\u001b[1;32mC:\\Anaconda3\\envs\\py36\\lib\\site-packages\\keras\\backend\\tensorflow_backend.py\u001b[0m in \u001b[0;36m__call__\u001b[1;34m(self, inputs)\u001b[0m\n\u001b[0;32m   2713\u001b[0m                 \u001b[1;32mreturn\u001b[0m \u001b[0mself\u001b[0m\u001b[1;33m.\u001b[0m\u001b[0m_legacy_call\u001b[0m\u001b[1;33m(\u001b[0m\u001b[0minputs\u001b[0m\u001b[1;33m)\u001b[0m\u001b[1;33m\u001b[0m\u001b[0m\n\u001b[0;32m   2714\u001b[0m \u001b[1;33m\u001b[0m\u001b[0m\n\u001b[1;32m-> 2715\u001b[1;33m             \u001b[1;32mreturn\u001b[0m \u001b[0mself\u001b[0m\u001b[1;33m.\u001b[0m\u001b[0m_call\u001b[0m\u001b[1;33m(\u001b[0m\u001b[0minputs\u001b[0m\u001b[1;33m)\u001b[0m\u001b[1;33m\u001b[0m\u001b[0m\n\u001b[0m\u001b[0;32m   2716\u001b[0m         \u001b[1;32melse\u001b[0m\u001b[1;33m:\u001b[0m\u001b[1;33m\u001b[0m\u001b[0m\n\u001b[0;32m   2717\u001b[0m             \u001b[1;32mif\u001b[0m \u001b[0mpy_any\u001b[0m\u001b[1;33m(\u001b[0m\u001b[0mis_tensor\u001b[0m\u001b[1;33m(\u001b[0m\u001b[0mx\u001b[0m\u001b[1;33m)\u001b[0m \u001b[1;32mfor\u001b[0m \u001b[0mx\u001b[0m \u001b[1;32min\u001b[0m \u001b[0minputs\u001b[0m\u001b[1;33m)\u001b[0m\u001b[1;33m:\u001b[0m\u001b[1;33m\u001b[0m\u001b[0m\n",
      "\u001b[1;32mC:\\Anaconda3\\envs\\py36\\lib\\site-packages\\keras\\backend\\tensorflow_backend.py\u001b[0m in \u001b[0;36m_call\u001b[1;34m(self, inputs)\u001b[0m\n\u001b[0;32m   2673\u001b[0m             \u001b[0mfetched\u001b[0m \u001b[1;33m=\u001b[0m \u001b[0mself\u001b[0m\u001b[1;33m.\u001b[0m\u001b[0m_callable_fn\u001b[0m\u001b[1;33m(\u001b[0m\u001b[1;33m*\u001b[0m\u001b[0marray_vals\u001b[0m\u001b[1;33m,\u001b[0m \u001b[0mrun_metadata\u001b[0m\u001b[1;33m=\u001b[0m\u001b[0mself\u001b[0m\u001b[1;33m.\u001b[0m\u001b[0mrun_metadata\u001b[0m\u001b[1;33m)\u001b[0m\u001b[1;33m\u001b[0m\u001b[0m\n\u001b[0;32m   2674\u001b[0m         \u001b[1;32melse\u001b[0m\u001b[1;33m:\u001b[0m\u001b[1;33m\u001b[0m\u001b[0m\n\u001b[1;32m-> 2675\u001b[1;33m             \u001b[0mfetched\u001b[0m \u001b[1;33m=\u001b[0m \u001b[0mself\u001b[0m\u001b[1;33m.\u001b[0m\u001b[0m_callable_fn\u001b[0m\u001b[1;33m(\u001b[0m\u001b[1;33m*\u001b[0m\u001b[0marray_vals\u001b[0m\u001b[1;33m)\u001b[0m\u001b[1;33m\u001b[0m\u001b[0m\n\u001b[0m\u001b[0;32m   2676\u001b[0m         \u001b[1;32mreturn\u001b[0m \u001b[0mfetched\u001b[0m\u001b[1;33m[\u001b[0m\u001b[1;33m:\u001b[0m\u001b[0mlen\u001b[0m\u001b[1;33m(\u001b[0m\u001b[0mself\u001b[0m\u001b[1;33m.\u001b[0m\u001b[0moutputs\u001b[0m\u001b[1;33m)\u001b[0m\u001b[1;33m]\u001b[0m\u001b[1;33m\u001b[0m\u001b[0m\n\u001b[0;32m   2677\u001b[0m \u001b[1;33m\u001b[0m\u001b[0m\n",
      "\u001b[1;32mC:\\Anaconda3\\envs\\py36\\lib\\site-packages\\tensorflow\\python\\client\\session.py\u001b[0m in \u001b[0;36m__call__\u001b[1;34m(self, *args, **kwargs)\u001b[0m\n\u001b[0;32m   1437\u001b[0m           ret = tf_session.TF_SessionRunCallable(\n\u001b[0;32m   1438\u001b[0m               \u001b[0mself\u001b[0m\u001b[1;33m.\u001b[0m\u001b[0m_session\u001b[0m\u001b[1;33m.\u001b[0m\u001b[0m_session\u001b[0m\u001b[1;33m,\u001b[0m \u001b[0mself\u001b[0m\u001b[1;33m.\u001b[0m\u001b[0m_handle\u001b[0m\u001b[1;33m,\u001b[0m \u001b[0margs\u001b[0m\u001b[1;33m,\u001b[0m \u001b[0mstatus\u001b[0m\u001b[1;33m,\u001b[0m\u001b[1;33m\u001b[0m\u001b[0m\n\u001b[1;32m-> 1439\u001b[1;33m               run_metadata_ptr)\n\u001b[0m\u001b[0;32m   1440\u001b[0m         \u001b[1;32mif\u001b[0m \u001b[0mrun_metadata\u001b[0m\u001b[1;33m:\u001b[0m\u001b[1;33m\u001b[0m\u001b[0m\n\u001b[0;32m   1441\u001b[0m           \u001b[0mproto_data\u001b[0m \u001b[1;33m=\u001b[0m \u001b[0mtf_session\u001b[0m\u001b[1;33m.\u001b[0m\u001b[0mTF_GetBuffer\u001b[0m\u001b[1;33m(\u001b[0m\u001b[0mrun_metadata_ptr\u001b[0m\u001b[1;33m)\u001b[0m\u001b[1;33m\u001b[0m\u001b[0m\n",
      "\u001b[1;32mC:\\Anaconda3\\envs\\py36\\lib\\site-packages\\tensorflow\\python\\framework\\errors_impl.py\u001b[0m in \u001b[0;36m__exit__\u001b[1;34m(self, type_arg, value_arg, traceback_arg)\u001b[0m\n\u001b[0;32m    526\u001b[0m             \u001b[1;32mNone\u001b[0m\u001b[1;33m,\u001b[0m \u001b[1;32mNone\u001b[0m\u001b[1;33m,\u001b[0m\u001b[1;33m\u001b[0m\u001b[0m\n\u001b[0;32m    527\u001b[0m             \u001b[0mcompat\u001b[0m\u001b[1;33m.\u001b[0m\u001b[0mas_text\u001b[0m\u001b[1;33m(\u001b[0m\u001b[0mc_api\u001b[0m\u001b[1;33m.\u001b[0m\u001b[0mTF_Message\u001b[0m\u001b[1;33m(\u001b[0m\u001b[0mself\u001b[0m\u001b[1;33m.\u001b[0m\u001b[0mstatus\u001b[0m\u001b[1;33m.\u001b[0m\u001b[0mstatus\u001b[0m\u001b[1;33m)\u001b[0m\u001b[1;33m)\u001b[0m\u001b[1;33m,\u001b[0m\u001b[1;33m\u001b[0m\u001b[0m\n\u001b[1;32m--> 528\u001b[1;33m             c_api.TF_GetCode(self.status.status))\n\u001b[0m\u001b[0;32m    529\u001b[0m     \u001b[1;31m# Delete the underlying status object from memory otherwise it stays alive\u001b[0m\u001b[1;33m\u001b[0m\u001b[1;33m\u001b[0m\u001b[0m\n\u001b[0;32m    530\u001b[0m     \u001b[1;31m# as there is a reference to status from this from the traceback due to\u001b[0m\u001b[1;33m\u001b[0m\u001b[1;33m\u001b[0m\u001b[0m\n",
      "\u001b[1;31mResourceExhaustedError\u001b[0m: OOM when allocating tensor with shape[7424,27980] and type float on /job:localhost/replica:0/task:0/device:CPU:0 by allocator cpu\n\t [[{{node dense_3/MatMul}} = MatMul[T=DT_FLOAT, _class=[\"loc:@training_2/RMSprop/gradients/dense_3/MatMul_grad/MatMul\"], transpose_a=false, transpose_b=false, _device=\"/job:localhost/replica:0/task:0/device:CPU:0\"](dense_3/Reshape, dense_3/kernel/read)]]\nHint: If you want to see a list of allocated tensors when OOM happens, add report_tensor_allocations_upon_oom to RunOptions for current allocation info.\n"
     ]
    }
   ],
   "source": [
    "model.fit_generator(generator = generate_batch(lines.eng, lines.fr, batch_size = 128),\n",
    "                    steps_per_epoch = len(lines)//128,\n",
    "                    epochs=1)"
   ]
  },
  {
   "cell_type": "code",
   "execution_count": 150,
   "metadata": {},
   "outputs": [
    {
     "data": {
      "text/plain": [
       "<matplotlib.legend.Legend at 0x2aa783ccc18>"
      ]
     },
     "execution_count": 150,
     "metadata": {},
     "output_type": "execute_result"
    },
    {
     "data": {
      "image/png": "[encoded data removed]",
      "text/plain": [
       "<Figure size 432x288 with 1 Axes>"
      ]
     },
     "metadata": {},
     "output_type": "display_data"
    }
   ],
   "source": [
    "plt.plot(h.history['loss'], 'b-')\n",
    "plt.plot(h.history['val_loss'], 'r-')\n",
    "plt.ylim(0,3)\n",
    "plt.legend(['loss', 'val_loss'])"
   ]
  },
  {
   "cell_type": "code",
   "execution_count": 151,
   "metadata": {},
   "outputs": [
    {
     "name": "stdout",
     "output_type": "stream",
     "text": [
      "Train on 9000 samples, validate on 1000 samples\n",
      "Epoch 1/120\n",
      "9000/9000 [==============================] - 191s 21ms/step - loss: 1.2554 - acc: 0.1240 - val_loss: 1.8178 - val_acc: 0.1112\n",
      "Epoch 2/120\n",
      "9000/9000 [==============================] - 152s 17ms/step - loss: 1.2295 - acc: 0.1268 - val_loss: 1.8049 - val_acc: 0.1108\n",
      "Epoch 3/120\n",
      "9000/9000 [==============================] - 159s 18ms/step - loss: 1.2050 - acc: 0.1295 - val_loss: 1.7932 - val_acc: 0.1116\n",
      "Epoch 4/120\n",
      "9000/9000 [==============================] - 150s 17ms/step - loss: 1.1811 - acc: 0.1321 - val_loss: 1.7891 - val_acc: 0.1135\n",
      "Epoch 5/120\n",
      "9000/9000 [==============================] - 154s 17ms/step - loss: 1.1580 - acc: 0.1353 - val_loss: 1.7669 - val_acc: 0.1174\n",
      "Epoch 6/120\n",
      "9000/9000 [==============================] - 162s 18ms/step - loss: 1.1362 - acc: 0.1376 - val_loss: 1.7494 - val_acc: 0.1208\n",
      "Epoch 7/120\n",
      "9000/9000 [==============================] - 156s 17ms/step - loss: 1.1156 - acc: 0.1418 - val_loss: 1.7430 - val_acc: 0.1232\n",
      "Epoch 8/120\n",
      "9000/9000 [==============================] - 150s 17ms/step - loss: 1.0956 - acc: 0.1438 - val_loss: 1.7237 - val_acc: 0.1247\n",
      "Epoch 9/120\n",
      "9000/9000 [==============================] - 148s 16ms/step - loss: 1.0767 - acc: 0.1468 - val_loss: 1.7128 - val_acc: 0.1268\n",
      "Epoch 10/120\n",
      "9000/9000 [==============================] - 155s 17ms/step - loss: 1.0582 - acc: 0.1490 - val_loss: 1.7148 - val_acc: 0.1274\n",
      "Epoch 11/120\n",
      "9000/9000 [==============================] - 149s 17ms/step - loss: 1.0402 - acc: 0.1514 - val_loss: 1.6960 - val_acc: 0.1298\n",
      "Epoch 12/120\n",
      "9000/9000 [==============================] - 152s 17ms/step - loss: 1.0233 - acc: 0.1539 - val_loss: 1.6876 - val_acc: 0.1311\n",
      "Epoch 13/120\n",
      "9000/9000 [==============================] - 152s 17ms/step - loss: 1.0069 - acc: 0.1561 - val_loss: 1.6788 - val_acc: 0.1325\n",
      "Epoch 14/120\n",
      "9000/9000 [==============================] - 155s 17ms/step - loss: 0.9914 - acc: 0.1574 - val_loss: 1.6795 - val_acc: 0.1345\n",
      "Epoch 15/120\n",
      "9000/9000 [==============================] - 149s 17ms/step - loss: 0.9767 - acc: 0.1595 - val_loss: 1.6792 - val_acc: 0.1348\n",
      "Epoch 16/120\n",
      "9000/9000 [==============================] - 150s 17ms/step - loss: 0.9622 - acc: 0.1613 - val_loss: 1.6641 - val_acc: 0.1366\n",
      "Epoch 17/120\n",
      "9000/9000 [==============================] - 150s 17ms/step - loss: 0.9486 - acc: 0.1628 - val_loss: 1.6545 - val_acc: 0.1384\n",
      "Epoch 18/120\n",
      "9000/9000 [==============================] - 150s 17ms/step - loss: 0.9355 - acc: 0.1645 - val_loss: 1.6520 - val_acc: 0.1376\n",
      "Epoch 19/120\n",
      "9000/9000 [==============================] - 151s 17ms/step - loss: 0.9229 - acc: 0.1664 - val_loss: 1.6516 - val_acc: 0.1378\n",
      "Epoch 20/120\n",
      "9000/9000 [==============================] - 149s 17ms/step - loss: 0.9108 - acc: 0.1680 - val_loss: 1.6491 - val_acc: 0.1387\n",
      "Epoch 21/120\n",
      "9000/9000 [==============================] - 149s 17ms/step - loss: 0.8991 - acc: 0.1694 - val_loss: 1.6420 - val_acc: 0.1400\n",
      "Epoch 22/120\n",
      "9000/9000 [==============================] - 151s 17ms/step - loss: 0.8873 - acc: 0.1712 - val_loss: 1.6461 - val_acc: 0.1394\n",
      "Epoch 23/120\n",
      "9000/9000 [==============================] - 149s 17ms/step - loss: 0.8758 - acc: 0.1728 - val_loss: 1.6404 - val_acc: 0.1417\n",
      "Epoch 24/120\n",
      "9000/9000 [==============================] - 149s 17ms/step - loss: 0.8642 - acc: 0.1739 - val_loss: 1.6435 - val_acc: 0.1417\n",
      "Epoch 25/120\n",
      "9000/9000 [==============================] - 150s 17ms/step - loss: 0.8522 - acc: 0.1749 - val_loss: 1.6361 - val_acc: 0.1399\n",
      "Epoch 26/120\n",
      "9000/9000 [==============================] - 152s 17ms/step - loss: 0.8406 - acc: 0.1762 - val_loss: 1.6367 - val_acc: 0.1428\n",
      "Epoch 27/120\n",
      "9000/9000 [==============================] - 155s 17ms/step - loss: 0.8292 - acc: 0.1775 - val_loss: 1.6392 - val_acc: 0.1402\n",
      "Epoch 28/120\n",
      "9000/9000 [==============================] - 150s 17ms/step - loss: 0.8188 - acc: 0.1786 - val_loss: 1.6361 - val_acc: 0.1418\n",
      "Epoch 29/120\n",
      "9000/9000 [==============================] - 152s 17ms/step - loss: 0.8089 - acc: 0.1795 - val_loss: 1.6336 - val_acc: 0.1421\n",
      "Epoch 30/120\n",
      "9000/9000 [==============================] - 151s 17ms/step - loss: 0.7992 - acc: 0.1807 - val_loss: 1.6339 - val_acc: 0.1429\n",
      "Epoch 31/120\n",
      "9000/9000 [==============================] - 150s 17ms/step - loss: 0.7900 - acc: 0.1818 - val_loss: 1.6321 - val_acc: 0.1413\n",
      "Epoch 32/120\n",
      "9000/9000 [==============================] - 151s 17ms/step - loss: 0.7812 - acc: 0.1828 - val_loss: 1.6298 - val_acc: 0.1430\n",
      "Epoch 33/120\n",
      "9000/9000 [==============================] - 148s 16ms/step - loss: 0.7725 - acc: 0.1839 - val_loss: 1.6319 - val_acc: 0.1424\n",
      "Epoch 34/120\n",
      "9000/9000 [==============================] - 158s 18ms/step - loss: 0.7642 - acc: 0.1845 - val_loss: 1.6347 - val_acc: 0.1437\n",
      "Epoch 35/120\n",
      "9000/9000 [==============================] - 148s 16ms/step - loss: 0.7563 - acc: 0.1859 - val_loss: 1.6334 - val_acc: 0.1426\n",
      "Epoch 36/120\n",
      "9000/9000 [==============================] - 152s 17ms/step - loss: 0.7483 - acc: 0.1864 - val_loss: 1.6311 - val_acc: 0.1428\n",
      "Epoch 37/120\n",
      "9000/9000 [==============================] - 150s 17ms/step - loss: 0.7403 - acc: 0.1876 - val_loss: 1.6347 - val_acc: 0.1420\n",
      "Epoch 38/120\n",
      "9000/9000 [==============================] - 153s 17ms/step - loss: 0.7333 - acc: 0.1889 - val_loss: 1.6336 - val_acc: 0.1438\n",
      "Epoch 39/120\n",
      "9000/9000 [==============================] - 147s 16ms/step - loss: 0.7263 - acc: 0.1896 - val_loss: 1.6357 - val_acc: 0.1419\n",
      "Epoch 40/120\n",
      "9000/9000 [==============================] - 147s 16ms/step - loss: 0.7189 - acc: 0.1906 - val_loss: 1.6396 - val_acc: 0.1402\n",
      "Epoch 41/120\n",
      "9000/9000 [==============================] - 149s 17ms/step - loss: 0.7123 - acc: 0.1915 - val_loss: 1.6335 - val_acc: 0.1430\n",
      "Epoch 42/120\n",
      "9000/9000 [==============================] - 150s 17ms/step - loss: 0.7053 - acc: 0.1926 - val_loss: 1.6379 - val_acc: 0.1425\n",
      "Epoch 43/120\n",
      "9000/9000 [==============================] - 147s 16ms/step - loss: 0.6993 - acc: 0.1929 - val_loss: 1.6358 - val_acc: 0.1438\n",
      "Epoch 44/120\n",
      "9000/9000 [==============================] - 148s 16ms/step - loss: 0.6930 - acc: 0.1941 - val_loss: 1.6382 - val_acc: 0.1431\n",
      "Epoch 45/120\n",
      "9000/9000 [==============================] - 147s 16ms/step - loss: 0.6864 - acc: 0.1948 - val_loss: 1.6412 - val_acc: 0.1445\n",
      "Epoch 46/120\n",
      "9000/9000 [==============================] - 148s 16ms/step - loss: 0.6800 - acc: 0.1958 - val_loss: 1.6411 - val_acc: 0.1432\n",
      "Epoch 47/120\n",
      "9000/9000 [==============================] - 148s 16ms/step - loss: 0.6742 - acc: 0.1965 - val_loss: 1.6500 - val_acc: 0.1429\n",
      "Epoch 48/120\n",
      "9000/9000 [==============================] - 148s 16ms/step - loss: 0.6681 - acc: 0.1969 - val_loss: 1.6493 - val_acc: 0.1428\n",
      "Epoch 49/120\n",
      "9000/9000 [==============================] - 149s 17ms/step - loss: 0.6623 - acc: 0.1981 - val_loss: 1.6589 - val_acc: 0.1395\n",
      "Epoch 50/120\n",
      "9000/9000 [==============================] - 150s 17ms/step - loss: 0.6568 - acc: 0.1985 - val_loss: 1.6557 - val_acc: 0.1432\n",
      "Epoch 51/120\n",
      "9000/9000 [==============================] - 148s 16ms/step - loss: 0.6514 - acc: 0.1993 - val_loss: 1.6524 - val_acc: 0.1415\n",
      "Epoch 52/120\n",
      "9000/9000 [==============================] - 149s 17ms/step - loss: 0.6455 - acc: 0.2004 - val_loss: 1.6577 - val_acc: 0.1408\n",
      "Epoch 53/120\n",
      "9000/9000 [==============================] - 148s 16ms/step - loss: 0.6405 - acc: 0.2010 - val_loss: 1.6593 - val_acc: 0.1410\n",
      "Epoch 54/120\n",
      "9000/9000 [==============================] - 148s 16ms/step - loss: 0.6355 - acc: 0.2015 - val_loss: 1.6617 - val_acc: 0.1409\n",
      "Epoch 55/120\n",
      "9000/9000 [==============================] - 149s 17ms/step - loss: 0.6297 - acc: 0.2027 - val_loss: 1.6639 - val_acc: 0.1419\n",
      "Epoch 56/120\n",
      "9000/9000 [==============================] - 148s 16ms/step - loss: 0.6247 - acc: 0.2031 - val_loss: 1.6764 - val_acc: 0.1408\n",
      "Epoch 57/120\n",
      "9000/9000 [==============================] - 148s 16ms/step - loss: 0.6198 - acc: 0.2040 - val_loss: 1.6695 - val_acc: 0.1403\n",
      "Epoch 58/120\n",
      "9000/9000 [==============================] - 146s 16ms/step - loss: 0.6145 - acc: 0.2046 - val_loss: 1.6776 - val_acc: 0.1402\n",
      "Epoch 59/120\n",
      "9000/9000 [==============================] - 153s 17ms/step - loss: 0.6097 - acc: 0.2050 - val_loss: 1.6850 - val_acc: 0.1386\n",
      "Epoch 60/120\n",
      "9000/9000 [==============================] - 146s 16ms/step - loss: 0.6046 - acc: 0.2058 - val_loss: 1.6840 - val_acc: 0.1402\n",
      "Epoch 61/120\n",
      "9000/9000 [==============================] - 146s 16ms/step - loss: 0.5997 - acc: 0.2066 - val_loss: 1.6742 - val_acc: 0.1421\n",
      "Epoch 62/120\n",
      "9000/9000 [==============================] - 146s 16ms/step - loss: 0.5946 - acc: 0.2073 - val_loss: 1.6827 - val_acc: 0.1400\n",
      "Epoch 63/120\n",
      "9000/9000 [==============================] - 148s 16ms/step - loss: 0.5898 - acc: 0.2081 - val_loss: 1.6907 - val_acc: 0.1387\n",
      "Epoch 64/120\n",
      "9000/9000 [==============================] - 148s 16ms/step - loss: 0.5847 - acc: 0.2090 - val_loss: 1.6919 - val_acc: 0.1395\n",
      "Epoch 65/120\n",
      "9000/9000 [==============================] - 152s 17ms/step - loss: 0.5802 - acc: 0.2099 - val_loss: 1.6904 - val_acc: 0.1392\n",
      "Epoch 66/120\n",
      "9000/9000 [==============================] - 147s 16ms/step - loss: 0.5755 - acc: 0.2105 - val_loss: 1.6889 - val_acc: 0.1411\n",
      "Epoch 67/120\n",
      "9000/9000 [==============================] - 149s 17ms/step - loss: 0.5709 - acc: 0.2110 - val_loss: 1.6931 - val_acc: 0.1396\n",
      "Epoch 68/120\n",
      "9000/9000 [==============================] - 146s 16ms/step - loss: 0.5664 - acc: 0.2122 - val_loss: 1.7031 - val_acc: 0.1375\n",
      "Epoch 69/120\n",
      "9000/9000 [==============================] - 149s 17ms/step - loss: 0.5620 - acc: 0.2129 - val_loss: 1.6968 - val_acc: 0.1396\n",
      "Epoch 70/120\n",
      "9000/9000 [==============================] - 147s 16ms/step - loss: 0.5580 - acc: 0.2132 - val_loss: 1.7026 - val_acc: 0.1401\n",
      "Epoch 71/120\n",
      "9000/9000 [==============================] - 149s 17ms/step - loss: 0.5535 - acc: 0.2139 - val_loss: 1.7059 - val_acc: 0.1410\n",
      "Epoch 72/120\n",
      "9000/9000 [==============================] - 148s 16ms/step - loss: 0.5490 - acc: 0.2147 - val_loss: 1.7058 - val_acc: 0.1378\n",
      "Epoch 73/120\n",
      "9000/9000 [==============================] - 153s 17ms/step - loss: 0.5449 - acc: 0.2155 - val_loss: 1.7115 - val_acc: 0.1392\n",
      "Epoch 74/120\n",
      "9000/9000 [==============================] - 149s 17ms/step - loss: 0.5405 - acc: 0.2162 - val_loss: 1.7248 - val_acc: 0.1380\n",
      "Epoch 75/120\n",
      "9000/9000 [==============================] - 148s 16ms/step - loss: 0.5363 - acc: 0.2167 - val_loss: 1.7093 - val_acc: 0.1385\n",
      "Epoch 76/120\n",
      "9000/9000 [==============================] - 150s 17ms/step - loss: 0.5323 - acc: 0.2174 - val_loss: 1.7186 - val_acc: 0.1382\n",
      "Epoch 77/120\n",
      "9000/9000 [==============================] - 148s 16ms/step - loss: 0.5281 - acc: 0.2182 - val_loss: 1.7249 - val_acc: 0.1388\n",
      "Epoch 78/120\n",
      "9000/9000 [==============================] - 146s 16ms/step - loss: 0.5241 - acc: 0.2188 - val_loss: 1.7220 - val_acc: 0.1381\n",
      "Epoch 79/120\n",
      "9000/9000 [==============================] - 147s 16ms/step - loss: 0.5203 - acc: 0.2191 - val_loss: 1.7212 - val_acc: 0.1376\n",
      "Epoch 80/120\n",
      "9000/9000 [==============================] - 148s 16ms/step - loss: 0.5166 - acc: 0.2201 - val_loss: 1.7290 - val_acc: 0.1378\n",
      "Epoch 81/120\n",
      "9000/9000 [==============================] - 148s 16ms/step - loss: 0.5129 - acc: 0.2208 - val_loss: 1.7284 - val_acc: 0.1368\n",
      "Epoch 82/120\n",
      "9000/9000 [==============================] - 147s 16ms/step - loss: 0.5092 - acc: 0.2211 - val_loss: 1.7230 - val_acc: 0.1376\n",
      "Epoch 83/120\n",
      "9000/9000 [==============================] - 155s 17ms/step - loss: 0.5057 - acc: 0.2220 - val_loss: 1.7300 - val_acc: 0.1377\n",
      "Epoch 84/120\n",
      "9000/9000 [==============================] - 148s 16ms/step - loss: 0.5021 - acc: 0.2226 - val_loss: 1.7411 - val_acc: 0.1368\n",
      "Epoch 85/120\n",
      "9000/9000 [==============================] - 148s 16ms/step - loss: 0.4991 - acc: 0.2230 - val_loss: 1.7256 - val_acc: 0.1391\n",
      "Epoch 86/120\n",
      "9000/9000 [==============================] - 148s 16ms/step - loss: 0.4955 - acc: 0.2239 - val_loss: 1.7350 - val_acc: 0.1359\n",
      "Epoch 87/120\n",
      "9000/9000 [==============================] - 149s 17ms/step - loss: 0.4919 - acc: 0.2243 - val_loss: 1.7328 - val_acc: 0.1368\n",
      "Epoch 88/120\n",
      "9000/9000 [==============================] - 148s 16ms/step - loss: 0.4888 - acc: 0.2251 - val_loss: 1.7246 - val_acc: 0.1385\n",
      "Epoch 89/120\n",
      "9000/9000 [==============================] - 150s 17ms/step - loss: 0.4857 - acc: 0.2251 - val_loss: 1.7303 - val_acc: 0.1368\n",
      "Epoch 90/120\n",
      "9000/9000 [==============================] - 147s 16ms/step - loss: 0.4825 - acc: 0.2258 - val_loss: 1.7388 - val_acc: 0.1377\n",
      "Epoch 91/120\n",
      "9000/9000 [==============================] - 147s 16ms/step - loss: 0.4791 - acc: 0.2269 - val_loss: 1.7286 - val_acc: 0.1404\n",
      "Epoch 92/120\n",
      "9000/9000 [==============================] - 147s 16ms/step - loss: 0.4761 - acc: 0.2270 - val_loss: 1.7435 - val_acc: 0.1367\n",
      "Epoch 93/120\n",
      "9000/9000 [==============================] - 149s 17ms/step - loss: 0.4727 - acc: 0.2277 - val_loss: 1.7277 - val_acc: 0.1401\n",
      "Epoch 94/120\n",
      "9000/9000 [==============================] - 148s 16ms/step - loss: 0.4702 - acc: 0.2282 - val_loss: 1.7397 - val_acc: 0.1383\n",
      "Epoch 95/120\n",
      "9000/9000 [==============================] - 149s 17ms/step - loss: 0.4672 - acc: 0.2289 - val_loss: 1.7424 - val_acc: 0.1363\n",
      "Epoch 96/120\n",
      "9000/9000 [==============================] - 147s 16ms/step - loss: 0.4644 - acc: 0.2292 - val_loss: 1.7483 - val_acc: 0.1363\n",
      "Epoch 97/120\n",
      "9000/9000 [==============================] - 150s 17ms/step - loss: 0.4616 - acc: 0.2303 - val_loss: 1.7479 - val_acc: 0.1368\n",
      "Epoch 98/120\n",
      "9000/9000 [==============================] - 149s 17ms/step - loss: 0.4585 - acc: 0.2305 - val_loss: 1.7519 - val_acc: 0.1378\n",
      "Epoch 99/120\n",
      "9000/9000 [==============================] - 147s 16ms/step - loss: 0.4559 - acc: 0.2308 - val_loss: 1.7618 - val_acc: 0.1362\n",
      "Epoch 100/120\n",
      "9000/9000 [==============================] - 149s 17ms/step - loss: 0.4533 - acc: 0.2316 - val_loss: 1.7501 - val_acc: 0.1378\n",
      "Epoch 101/120\n",
      "9000/9000 [==============================] - 153s 17ms/step - loss: 0.4505 - acc: 0.2319 - val_loss: 1.7594 - val_acc: 0.1379\n",
      "Epoch 102/120\n",
      "9000/9000 [==============================] - 153s 17ms/step - loss: 0.4482 - acc: 0.2320 - val_loss: 1.7588 - val_acc: 0.1360\n",
      "Epoch 103/120\n",
      "9000/9000 [==============================] - 152s 17ms/step - loss: 0.4448 - acc: 0.2329 - val_loss: 1.7517 - val_acc: 0.1388\n",
      "Epoch 104/120\n",
      "9000/9000 [==============================] - 151s 17ms/step - loss: 0.4422 - acc: 0.2335 - val_loss: 1.7598 - val_acc: 0.1362\n",
      "Epoch 105/120\n",
      "9000/9000 [==============================] - 151s 17ms/step - loss: 0.4393 - acc: 0.2336 - val_loss: 1.7618 - val_acc: 0.1382\n",
      "Epoch 106/120\n",
      "9000/9000 [==============================] - 152s 17ms/step - loss: 0.4371 - acc: 0.2344 - val_loss: 1.7736 - val_acc: 0.1349\n",
      "Epoch 107/120\n",
      "9000/9000 [==============================] - 158s 18ms/step - loss: 0.4345 - acc: 0.2347 - val_loss: 1.7685 - val_acc: 0.1380\n",
      "Epoch 108/120\n",
      "9000/9000 [==============================] - 156s 17ms/step - loss: 0.4319 - acc: 0.2350 - val_loss: 1.7687 - val_acc: 0.1351\n",
      "Epoch 109/120\n",
      "9000/9000 [==============================] - 156s 17ms/step - loss: 0.4293 - acc: 0.2353 - val_loss: 1.7748 - val_acc: 0.1375\n",
      "Epoch 110/120\n",
      "9000/9000 [==============================] - 147s 16ms/step - loss: 0.4268 - acc: 0.2360 - val_loss: 1.7755 - val_acc: 0.1359\n",
      "Epoch 111/120\n",
      "9000/9000 [==============================] - 152s 17ms/step - loss: 0.4242 - acc: 0.2367 - val_loss: 1.7707 - val_acc: 0.1373\n",
      "Epoch 112/120\n",
      "9000/9000 [==============================] - 147s 16ms/step - loss: 0.4215 - acc: 0.2367 - val_loss: 1.7819 - val_acc: 0.1358\n",
      "Epoch 113/120\n",
      "9000/9000 [==============================] - 149s 17ms/step - loss: 0.4191 - acc: 0.2374 - val_loss: 1.7795 - val_acc: 0.1355\n",
      "Epoch 114/120\n",
      "9000/9000 [==============================] - 146s 16ms/step - loss: 0.4169 - acc: 0.2380 - val_loss: 1.7833 - val_acc: 0.1369\n",
      "Epoch 115/120\n",
      "9000/9000 [==============================] - 147s 16ms/step - loss: 0.4141 - acc: 0.2380 - val_loss: 1.7870 - val_acc: 0.1357\n",
      "Epoch 116/120\n",
      "9000/9000 [==============================] - 148s 16ms/step - loss: 0.4121 - acc: 0.2389 - val_loss: 1.7867 - val_acc: 0.1355\n",
      "Epoch 117/120\n",
      "9000/9000 [==============================] - 147s 16ms/step - loss: 0.4091 - acc: 0.2393 - val_loss: 1.7787 - val_acc: 0.1368\n"
     ]
    },
    {
     "name": "stdout",
     "output_type": "stream",
     "text": [
      "Epoch 118/120\n",
      "9000/9000 [==============================] - 148s 16ms/step - loss: 0.4068 - acc: 0.2398 - val_loss: 1.7885 - val_acc: 0.1358\n",
      "Epoch 119/120\n",
      "9000/9000 [==============================] - 149s 17ms/step - loss: 0.4047 - acc: 0.2400 - val_loss: 1.8014 - val_acc: 0.1353\n",
      "Epoch 120/120\n",
      "9000/9000 [==============================] - 148s 16ms/step - loss: 0.4024 - acc: 0.2402 - val_loss: 1.7896 - val_acc: 0.1352\n"
     ]
    }
   ],
   "source": [
    "h2 = model.fit([encoder_input_data, decoder_input_data], decoder_output_data,\n",
    "              batch_size=128, epochs=120, validation_split=0.1)"
   ]
  },
  {
   "cell_type": "code",
   "execution_count": 153,
   "metadata": {},
   "outputs": [
    {
     "data": {
      "text/plain": [
       "<matplotlib.legend.Legend at 0x2aa78492cf8>"
      ]
     },
     "execution_count": 153,
     "metadata": {},
     "output_type": "execute_result"
    },
    {
     "data": {
      "image/png": "[encoded data removed]",
      "text/plain": [
       "<Figure size 432x288 with 1 Axes>"
      ]
     },
     "metadata": {},
     "output_type": "display_data"
    }
   ],
   "source": [
    "plt.plot(h2.history['loss'], 'b-')\n",
    "plt.plot(h2.history['val_loss'], 'r-')\n",
    "#plt.ylim(0,3)\n",
    "plt.legend(['loss', 'val_loss'])"
   ]
  },
  {
   "cell_type": "code",
   "execution_count": 154,
   "metadata": {},
   "outputs": [
    {
     "name": "stderr",
     "output_type": "stream",
     "text": [
      "C:\\Anaconda3\\envs\\py36\\lib\\site-packages\\keras\\engine\\network.py:877: UserWarning: Layer lstm_6 was passed non-serializable keyword arguments: {'initial_state': [<tf.Tensor 'lstm_5/while/Exit_3:0' shape=(?, 50) dtype=float32>, <tf.Tensor 'lstm_5/while/Exit_4:0' shape=(?, 50) dtype=float32>]}. They will not be included in the serialized model (and thus will be missing at deserialization time).\n",
      "  '. They will not be included '\n"
     ]
    }
   ],
   "source": [
    "model.save('eng_fra_word_model.h5')\n",
    "model.save_weights('eng_fra_word_weights.h5')\n",
    "np.savez('eng_fra_word_history.npz', [h.history, h2.history])"
   ]
  },
  {
   "cell_type": "markdown",
   "metadata": {},
   "source": [
    "### 번역하기"
   ]
  },
  {
   "cell_type": "code",
   "execution_count": 3,
   "metadata": {},
   "outputs": [
    {
     "ename": "NameError",
     "evalue": "name 'eng_words' is not defined",
     "output_type": "error",
     "traceback": [
      "\u001b[1;31m----------------------------------------------------------------------\u001b[0m",
      "\u001b[1;31mNameError\u001b[0m                            Traceback (most recent call last)",
      "\u001b[1;32m<ipython-input-3-39321b9c2854>\u001b[0m in \u001b[0;36m<module>\u001b[1;34m()\u001b[0m\n\u001b[0;32m      1\u001b[0m \u001b[0ms\u001b[0m \u001b[1;33m=\u001b[0m \u001b[1;34m'I love you'\u001b[0m\u001b[1;33m\u001b[0m\u001b[0m\n\u001b[0;32m      2\u001b[0m \u001b[0ml\u001b[0m \u001b[1;33m=\u001b[0m \u001b[0ms\u001b[0m\u001b[1;33m.\u001b[0m\u001b[0mlower\u001b[0m\u001b[1;33m(\u001b[0m\u001b[1;33m)\u001b[0m\u001b[1;33m.\u001b[0m\u001b[0msplit\u001b[0m\u001b[1;33m(\u001b[0m\u001b[1;33m)\u001b[0m\u001b[1;33m\u001b[0m\u001b[0m\n\u001b[1;32m----> 3\u001b[1;33m \u001b[0ml\u001b[0m \u001b[1;33m=\u001b[0m \u001b[1;33m[\u001b[0m\u001b[0mword\u001b[0m \u001b[1;32mfor\u001b[0m \u001b[0mword\u001b[0m \u001b[1;32min\u001b[0m \u001b[0ml\u001b[0m \u001b[1;32mif\u001b[0m \u001b[0mword\u001b[0m \u001b[1;32min\u001b[0m \u001b[0meng_words\u001b[0m\u001b[1;33m]\u001b[0m\u001b[1;33m[\u001b[0m\u001b[1;33m:\u001b[0m\u001b[0meng_sen_max\u001b[0m\u001b[1;33m]\u001b[0m\u001b[1;33m\u001b[0m\u001b[0m\n\u001b[0m\u001b[0;32m      4\u001b[0m \u001b[1;33m\u001b[0m\u001b[0m\n\u001b[0;32m      5\u001b[0m \u001b[1;31m### 영어 입력\u001b[0m\u001b[1;33m\u001b[0m\u001b[1;33m\u001b[0m\u001b[0m\n",
      "\u001b[1;32m<ipython-input-3-39321b9c2854>\u001b[0m in \u001b[0;36m<listcomp>\u001b[1;34m(.0)\u001b[0m\n\u001b[0;32m      1\u001b[0m \u001b[0ms\u001b[0m \u001b[1;33m=\u001b[0m \u001b[1;34m'I love you'\u001b[0m\u001b[1;33m\u001b[0m\u001b[0m\n\u001b[0;32m      2\u001b[0m \u001b[0ml\u001b[0m \u001b[1;33m=\u001b[0m \u001b[0ms\u001b[0m\u001b[1;33m.\u001b[0m\u001b[0mlower\u001b[0m\u001b[1;33m(\u001b[0m\u001b[1;33m)\u001b[0m\u001b[1;33m.\u001b[0m\u001b[0msplit\u001b[0m\u001b[1;33m(\u001b[0m\u001b[1;33m)\u001b[0m\u001b[1;33m\u001b[0m\u001b[0m\n\u001b[1;32m----> 3\u001b[1;33m \u001b[0ml\u001b[0m \u001b[1;33m=\u001b[0m \u001b[1;33m[\u001b[0m\u001b[0mword\u001b[0m \u001b[1;32mfor\u001b[0m \u001b[0mword\u001b[0m \u001b[1;32min\u001b[0m \u001b[0ml\u001b[0m \u001b[1;32mif\u001b[0m \u001b[0mword\u001b[0m \u001b[1;32min\u001b[0m \u001b[0meng_words\u001b[0m\u001b[1;33m]\u001b[0m\u001b[1;33m[\u001b[0m\u001b[1;33m:\u001b[0m\u001b[0meng_sen_max\u001b[0m\u001b[1;33m]\u001b[0m\u001b[1;33m\u001b[0m\u001b[0m\n\u001b[0m\u001b[0;32m      4\u001b[0m \u001b[1;33m\u001b[0m\u001b[0m\n\u001b[0;32m      5\u001b[0m \u001b[1;31m### 영어 입력\u001b[0m\u001b[1;33m\u001b[0m\u001b[1;33m\u001b[0m\u001b[0m\n",
      "\u001b[1;31mNameError\u001b[0m: name 'eng_words' is not defined"
     ]
    }
   ],
   "source": [
    "s = 'I love you'\n",
    "l = s.lower().split()\n",
    "l = [word for word in l if word in eng_words][:eng_sen_max]\n",
    "\n",
    "### 영어 입력\n",
    "eng_text = np.zeros([1,eng_sen_max])\n",
    "for t,word in enumerate(l):\n",
    "    eng_text[0,t] = eng_w2i[word]\n",
    "\n",
    "### 불어 입력\n",
    "fra_text = np.zeros([1,fra_sen_max])\n",
    "fra_text[0,0] = fra_w2i['START_']\n",
    "result = []\n",
    "\n",
    "for i in range(fra_sen_max):\n",
    "    pred_y = model.predict([eng_text,fra_text])[0,i]\n",
    "    \n",
    "    idx = np.argmax(pred_y)\n",
    "    word = fra_i2w[idx]\n",
    "    result.append(word)\n",
    "    \n",
    "    if word=='_END' or i==(fra_sen_max-1): break\n",
    "        \n",
    "    fra_text[0,i+1] = idx\n",
    "    \n",
    "display(s,l,' '.join(result))"
   ]
  },
  {
   "cell_type": "code",
   "execution_count": null,
   "metadata": {},
   "outputs": [],
   "source": []
  }
 ],
 "metadata": {
  "kernelspec": {
   "display_name": "Python 3",
   "language": "python",
   "name": "python3"
  },
  "language_info": {
   "codemirror_mode": {
    "name": "ipython",
    "version": 3
   },
   "file_extension": ".py",
   "mimetype": "text/x-python",
   "name": "python",
   "nbconvert_exporter": "python",
   "pygments_lexer": "ipython3",
   "version": "3.6.5"
  }
 },
 "nbformat": 4,
 "nbformat_minor": 2
}
